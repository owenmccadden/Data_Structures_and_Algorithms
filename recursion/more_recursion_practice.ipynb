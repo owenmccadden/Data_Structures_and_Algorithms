{
 "cells": [
  {
   "cell_type": "code",
   "execution_count": 2,
   "metadata": {},
   "outputs": [],
   "source": [
    "def power(a, b):\n",
    "    if b == 0:\n",
    "        return 1\n",
    "    else:\n",
    "        return a * power(a, b-1)"
   ]
  },
  {
   "cell_type": "code",
   "execution_count": 3,
   "metadata": {},
   "outputs": [
    {
     "data": {
      "text/plain": [
       "1024"
      ]
     },
     "execution_count": 3,
     "metadata": {},
     "output_type": "execute_result"
    }
   ],
   "source": [
    "power(2, 10)"
   ]
  },
  {
   "cell_type": "code",
   "execution_count": 4,
   "metadata": {},
   "outputs": [],
   "source": [
    "def factorial(n):\n",
    "    if n < 2:\n",
    "        return 1\n",
    "    else:\n",
    "        return n * factorial(n-1)"
   ]
  },
  {
   "cell_type": "code",
   "execution_count": 8,
   "metadata": {},
   "outputs": [
    {
     "data": {
      "text/plain": [
       "120"
      ]
     },
     "execution_count": 8,
     "metadata": {},
     "output_type": "execute_result"
    }
   ],
   "source": [
    "factorial(5)"
   ]
  },
  {
   "cell_type": "code",
   "execution_count": 9,
   "metadata": {},
   "outputs": [],
   "source": [
    "def product_of_array(arr):\n",
    "    if len(arr) == 0:\n",
    "        return 1\n",
    "    else:\n",
    "        return arr[len(arr)-1] * product_of_array(arr[:-1])"
   ]
  },
  {
   "cell_type": "code",
   "execution_count": 14,
   "metadata": {},
   "outputs": [
    {
     "data": {
      "text/plain": [
       "4000"
      ]
     },
     "execution_count": 14,
     "metadata": {},
     "output_type": "execute_result"
    }
   ],
   "source": [
    "product_of_array([10,20,4,5])"
   ]
  },
  {
   "cell_type": "code",
   "execution_count": 15,
   "metadata": {},
   "outputs": [],
   "source": [
    "def recursive_range(n):\n",
    "    if n == 0:\n",
    "        return 0\n",
    "    else:\n",
    "        return n + recursive_range(n-1)"
   ]
  },
  {
   "cell_type": "code",
   "execution_count": 17,
   "metadata": {},
   "outputs": [
    {
     "data": {
      "text/plain": [
       "6"
      ]
     },
     "execution_count": 17,
     "metadata": {},
     "output_type": "execute_result"
    }
   ],
   "source": [
    "recursive_range(3)"
   ]
  },
  {
   "cell_type": "code",
   "execution_count": 18,
   "metadata": {},
   "outputs": [],
   "source": [
    "def fibonacci(n):\n",
    "    if n == 0:\n",
    "        return 0\n",
    "    elif n == 1:\n",
    "        return 1\n",
    "    else:\n",
    "        return fibonacci(n-1) + fibonacci(n-2)"
   ]
  },
  {
   "cell_type": "code",
   "execution_count": 28,
   "metadata": {},
   "outputs": [
    {
     "data": {
      "text/plain": [
       "55"
      ]
     },
     "execution_count": 28,
     "metadata": {},
     "output_type": "execute_result"
    }
   ],
   "source": [
    "fibonacci(10)"
   ]
  },
  {
   "cell_type": "code",
   "execution_count": 29,
   "metadata": {},
   "outputs": [],
   "source": [
    "def reverse_iterative(strng):\n",
    "    stack = []\n",
    "    for i in strng:\n",
    "        stack.append(i)\n",
    "    reverse = ''\n",
    "    while len(stack) > 0:\n",
    "        reverse += stack.pop()\n",
    "    return reverse"
   ]
  },
  {
   "cell_type": "code",
   "execution_count": 31,
   "metadata": {},
   "outputs": [
    {
     "data": {
      "text/plain": [
       "'.sdrawkcab won si gnirts siht !olleH'"
      ]
     },
     "execution_count": 31,
     "metadata": {},
     "output_type": "execute_result"
    }
   ],
   "source": [
    "reverse_iterative(\"Hello! this string is now backwards.\")"
   ]
  },
  {
   "cell_type": "code",
   "execution_count": 32,
   "metadata": {},
   "outputs": [],
   "source": [
    "def reverse_recursive(strng):\n",
    "    if len(strng) == 0:\n",
    "        return \"\"\n",
    "    else:\n",
    "        return strng[len(strng)-1] + reverse_recursive(strng[:-1])\n",
    "        "
   ]
  },
  {
   "cell_type": "code",
   "execution_count": 33,
   "metadata": {},
   "outputs": [
    {
     "data": {
      "text/plain": [
       "'.sdrawkcab won si gnirts siht !olleH'"
      ]
     },
     "execution_count": 33,
     "metadata": {},
     "output_type": "execute_result"
    }
   ],
   "source": [
    "reverse_recursive(\"Hello! this string is now backwards.\")"
   ]
  },
  {
   "cell_type": "code",
   "execution_count": 34,
   "metadata": {},
   "outputs": [],
   "source": [
    "def is_palindrome_iterative(strng):\n",
    "    a = 0\n",
    "    b = len(strng)-1\n",
    "    while(a < b):\n",
    "        if strng[a] == strng[b]:\n",
    "            a +=1\n",
    "            b -=1\n",
    "        else:\n",
    "            return False\n",
    "    return True"
   ]
  },
  {
   "cell_type": "code",
   "execution_count": 45,
   "metadata": {},
   "outputs": [
    {
     "data": {
      "text/plain": [
       "False"
      ]
     },
     "execution_count": 45,
     "metadata": {},
     "output_type": "execute_result"
    }
   ],
   "source": [
    "is_palindrome_iterative(\"roger roger\")"
   ]
  },
  {
   "cell_type": "code",
   "execution_count": 41,
   "metadata": {},
   "outputs": [],
   "source": [
    "def is_palindrome_recursive(strng):\n",
    "    if len(strng) == 0:\n",
    "        return True\n",
    "    elif strng[0] != strng[len(strng)-1]:\n",
    "        return False\n",
    "    else:\n",
    "        return is_palindrome_recursive(strng[1:-1])"
   ]
  },
  {
   "cell_type": "code",
   "execution_count": 44,
   "metadata": {},
   "outputs": [
    {
     "data": {
      "text/plain": [
       "True"
      ]
     },
     "execution_count": 44,
     "metadata": {},
     "output_type": "execute_result"
    }
   ],
   "source": [
    "is_palindrome_recursive(\"racecar\")"
   ]
  },
  {
   "cell_type": "code",
   "execution_count": 49,
   "metadata": {},
   "outputs": [],
   "source": [
    "def isOdd(num):\n",
    "    if num%2==0:\n",
    "        return False\n",
    "    else:\n",
    "        return True\n",
    "    \n",
    "def some_recursive(arr, cb):\n",
    "    if len(arr) == 0:\n",
    "        return False\n",
    "    elif cb(arr[len(arr)-1]) == True:\n",
    "        return True\n",
    "    else:\n",
    "        return some_recursive(arr[:-1], cb)"
   ]
  },
  {
   "cell_type": "code",
   "execution_count": 51,
   "metadata": {},
   "outputs": [
    {
     "data": {
      "text/plain": [
       "False"
      ]
     },
     "execution_count": 51,
     "metadata": {},
     "output_type": "execute_result"
    }
   ],
   "source": [
    "some_recursive([2,4], isOdd)"
   ]
  },
  {
   "cell_type": "code",
   "execution_count": 35,
   "metadata": {},
   "outputs": [],
   "source": [
    "def flatten(arr):\n",
    "    output = []\n",
    "    def flatten_recursive(arr):\n",
    "        for i in arr:\n",
    "            if type(i) == int:\n",
    "                output.append(i)\n",
    "            else:\n",
    "                flatten_recursive(i)\n",
    "    \n",
    "    flatten_recursive(arr)\n",
    "    return output\n",
    "        \n",
    "        "
   ]
  },
  {
   "cell_type": "code",
   "execution_count": 36,
   "metadata": {},
   "outputs": [
    {
     "name": "stdout",
     "output_type": "stream",
     "text": [
      "[1, 2, 3, 4, 5, 6, 7, 8]\n"
     ]
    }
   ],
   "source": [
    "print(flatten([1,2,3,[4,5],6,[[7],8]]))"
   ]
  },
  {
   "cell_type": "code",
   "execution_count": 62,
   "metadata": {},
   "outputs": [],
   "source": [
    "def capitalize_first(arr):\n",
    "    output = []\n",
    "    def capitalize_first_recursive(array):\n",
    "        if len(array) == 0:\n",
    "            return output\n",
    "        else:\n",
    "            output.append(array[0].capitalize())\n",
    "            return capitalize_first_recursive(array[1:])\n",
    "    capitalize_first_recursive(arr)\n",
    "    return output\n",
    "\n",
    "# def capitalizeFirst(arr):\n",
    "#     result = []\n",
    "#     if len(arr) == 0:\n",
    "#         return result\n",
    "#     result.append(arr[0][0].upper() + arr[0][1:])\n",
    "#     return result + capitalizeFirst(arr[1:])"
   ]
  },
  {
   "cell_type": "code",
   "execution_count": 63,
   "metadata": {},
   "outputs": [
    {
     "name": "stdout",
     "output_type": "stream",
     "text": [
      "['Car', 'Taco', 'Banana']\n"
     ]
    }
   ],
   "source": [
    "print(capitalize_first(['car','taco','banana']))"
   ]
  },
  {
   "cell_type": "code",
   "execution_count": 56,
   "metadata": {},
   "outputs": [],
   "source": [
    "def capitalize_first_iterative(arr):\n",
    "    for i in range(0, len(arr)):\n",
    "        arr[i] = arr[i].capitalize()\n",
    "    return arr"
   ]
  },
  {
   "cell_type": "code",
   "execution_count": 57,
   "metadata": {},
   "outputs": [
    {
     "data": {
      "text/plain": [
       "['Car', 'Taco', 'Banana']"
      ]
     },
     "execution_count": 57,
     "metadata": {},
     "output_type": "execute_result"
    }
   ],
   "source": [
    "capitalize_first_iterative(['car','taco','banana'])"
   ]
  },
  {
   "cell_type": "code",
   "execution_count": 110,
   "metadata": {},
   "outputs": [],
   "source": [
    "def nestedEvenSum(obj, sum=0):\n",
    "    for key in obj:\n",
    "        if type(obj[key]) is dict:\n",
    "            sum += nestedEvenSum(obj[key])\n",
    "        elif type(obj[key]) is int and obj[key]%2==0:\n",
    "            sum+=obj[key]\n",
    "    return sum"
   ]
  },
  {
   "cell_type": "code",
   "execution_count": 205,
   "metadata": {},
   "outputs": [],
   "source": [
    "def nested_even_sum_recursive(obj, sum=0):\n",
    "    for i in obj:\n",
    "        if type(obj[i]) == str or type(obj[i]) == bool:\n",
    "            continue\n",
    "        elif type(obj[i]) == int:\n",
    "            if obj[i] % 2 == 0:\n",
    "                sum += obj[i]\n",
    "        else:\n",
    "            sum += nested_even_sum_recursive(obj[i])\n",
    "    return sum\n",
    "    "
   ]
  },
  {
   "cell_type": "code",
   "execution_count": 262,
   "metadata": {},
   "outputs": [
    {
     "name": "stdout",
     "output_type": "stream",
     "text": [
      "{'a': 2, 'b': {'b': 2, 'bb': {'b': 3, 'bb': {'b': 2}}}, 'c': {'c': {'c': 2}, 'cc': 'ball', 'ccc': 5}, 'd': 1, 'e': {'e': {'e': 2}, 'ee': 'car'}}\n"
     ]
    }
   ],
   "source": [
    "obj1 = {\n",
    "  \"a\": 2,\n",
    "  \"b\": {\"b\": 2, \"bb\": {\"b\": 3, \"bb\": {\"b\": 2}}},\n",
    "  \"c\": {\"c\": {\"c\": 2}, \"cc\": 'ball', \"ccc\": 5},\n",
    "  \"d\": 1,\n",
    "  \"e\": {\"e\": {\"e\": 2}, \"ee\": 'car'}\n",
    "}\n",
    "# for i in obj2:\n",
    "#     if type(obj2[i] == int):\n",
    "#         print(obj2[i])\n",
    "#     else:\n",
    "#         for j in obj2[i]:\n",
    "#             if type(obj2[i][j] == int):\n",
    "#                 print(obj2[i][j])\n",
    "#             else:\n",
    "#                 for k in obj2[i][j]:\n",
    "# #                     print(k)\n",
    "# for i in obj:\n",
    "#     print(obj[i])\n",
    "#     if type(obj[i]) == int:\n",
    "#         print(obj[i])\n",
    "#     else:\n",
    "#         for j in obj[i]:\n",
    "#             print(j)\n",
    "\n",
    "# print(obj[\"b\"]['bb']['bb']['b'])\n",
    "# print(type(obj))\n",
    "# if type(obj) == dict:\n",
    "#     print(\"obj is a dict.\")\n",
    "\n",
    "# obj2[\"a\"] = str(obj2['a'])\n",
    "print(obj1)"
   ]
  },
  {
   "cell_type": "code",
   "execution_count": 207,
   "metadata": {},
   "outputs": [
    {
     "data": {
      "text/plain": [
       "10"
      ]
     },
     "execution_count": 207,
     "metadata": {},
     "output_type": "execute_result"
    }
   ],
   "source": [
    "nested_even_sum(obj2)"
   ]
  },
  {
   "cell_type": "code",
   "execution_count": 279,
   "metadata": {},
   "outputs": [],
   "source": [
    "def capitalize_words_recursive(arr):\n",
    "    output = []\n",
    "    def recur(array):\n",
    "        if len(array) == 0:\n",
    "            return output\n",
    "        else:\n",
    "            output.append(array[0].upper())\n",
    "            return recur(array[1:])\n",
    "    recur(arr)\n",
    "    return output\n",
    "\n",
    "# rather than defining an additional inner function, can concatenate result arrays recursively like\n",
    "# in final return statement of capitalizeWords solution"
   ]
  },
  {
   "cell_type": "code",
   "execution_count": 224,
   "metadata": {},
   "outputs": [],
   "source": [
    "def capitalize_words_iterative(arr):\n",
    "    for i in range(len(arr)):\n",
    "        arr[i] = arr[i].upper()\n",
    "    return arr"
   ]
  },
  {
   "cell_type": "code",
   "execution_count": null,
   "metadata": {},
   "outputs": [],
   "source": [
    "def capitalizeWords(arr):\n",
    "    result = []\n",
    "    if len(arr) == 0:\n",
    "        return result\n",
    "    result.append(arr[0].upper())\n",
    "    return result + capitalizeWords(arr[1:])"
   ]
  },
  {
   "cell_type": "code",
   "execution_count": 225,
   "metadata": {},
   "outputs": [
    {
     "data": {
      "text/plain": [
       "['ONE', 'TWO', 'THREE']"
      ]
     },
     "execution_count": 225,
     "metadata": {},
     "output_type": "execute_result"
    }
   ],
   "source": [
    "capitalize_words_iterative([\"one\",'two','three'])"
   ]
  },
  {
   "cell_type": "code",
   "execution_count": 226,
   "metadata": {},
   "outputs": [
    {
     "data": {
      "text/plain": [
       "['ONE', 'TWO', 'THREE']"
      ]
     },
     "execution_count": 226,
     "metadata": {},
     "output_type": "execute_result"
    }
   ],
   "source": [
    "capitalize_words_recursive([\"one\",'two','three'])"
   ]
  },
  {
   "cell_type": "code",
   "execution_count": null,
   "metadata": {},
   "outputs": [],
   "source": [
    "def stringifyNumbers(obj):\n",
    "    newObj = obj\n",
    "    for key in newObj:\n",
    "        if type(newObj[key]) is int:\n",
    "            newObj[key] = str(newObj[key])\n",
    "        if type(newObj[key]) is dict:\n",
    "            newObj[key] = stringifyNumbers(newObj[key])\n",
    "    return newObj"
   ]
  },
  {
   "cell_type": "code",
   "execution_count": 277,
   "metadata": {},
   "outputs": [],
   "source": [
    "def stringify_numbers_recursive(obj):\n",
    "    newObj = obj\n",
    "    for i in newObj:\n",
    "        if type(newObj[i]) == int or type(newObj[i]) == float:\n",
    "            newObj[i] = str(newObj[i])\n",
    "        if type(newObj[i]) == dict:\n",
    "            newObj[i] = stringify_numbers_recursive(newObj[i])\n",
    "    return newObj\n",
    "            \n",
    "    \n",
    "#     Issue with my solution is that I didn't create a newObj to store the changes"
   ]
  },
  {
   "cell_type": "code",
   "execution_count": 278,
   "metadata": {},
   "outputs": [
    {
     "name": "stdout",
     "output_type": "stream",
     "text": [
      "{'a': '2', 'b': {'b': '2', 'bb': {'b': '3', 'bb': {'b': '2'}}}, 'c': {'c': {'c': '2'}, 'cc': 'ball', 'ccc': '5'}, 'd': '1', 'e': {'e': {'e': '2'}, 'ee': 'car'}}\n"
     ]
    }
   ],
   "source": [
    "stringify_numbers_recursive(obj1)\n",
    "print(obj1)"
   ]
  },
  {
   "cell_type": "code",
   "execution_count": 253,
   "metadata": {},
   "outputs": [
    {
     "name": "stdout",
     "output_type": "stream",
     "text": [
      "2\n",
      "{'b': 2, 'bb': {'b': 3, 'bb': {'b': 2}}}\n",
      "{'c': {'c': 2}, 'cc': 'ball', 'ccc': 5}\n",
      "1\n",
      "{'e': {'e': 2}, 'ee': 'car'}\n",
      "{'a': '2', 'b': \"{'b': 2, 'bb': {'b': 3, 'bb': {'b': 2}}}\", 'c': \"{'c': {'c': 2}, 'cc': 'ball', 'ccc': 5}\", 'd': '1', 'e': \"{'e': {'e': 2}, 'ee': 'car'}\"}\n"
     ]
    }
   ],
   "source": [
    "obj3 = obj1\n",
    "for i in obj3:\n",
    "    obj3[i] = str(obj3[i])\n",
    "    print(obj3[i])"
   ]
  },
  {
   "cell_type": "code",
   "execution_count": 310,
   "metadata": {},
   "outputs": [],
   "source": [
    "def collect_strings_recursive(obj):\n",
    "    output = []\n",
    "    for i in obj:\n",
    "        if type(obj[i]) == str:\n",
    "            output.append(obj[i])\n",
    "        if type(obj[i] == dict):\n",
    "            output += collect_strings_recursive(obj[i])\n",
    "    return output\n"
   ]
  },
  {
   "cell_type": "code",
   "execution_count": 311,
   "metadata": {},
   "outputs": [
    {
     "ename": "TypeError",
     "evalue": "string indices must be integers",
     "output_type": "error",
     "traceback": [
      "\u001b[0;31m---------------------------------------------------------------------------\u001b[0m",
      "\u001b[0;31mTypeError\u001b[0m                                 Traceback (most recent call last)",
      "\u001b[0;32m<ipython-input-311-f03e502e4962>\u001b[0m in \u001b[0;36m<module>\u001b[0;34m\u001b[0m\n\u001b[0;32m----> 1\u001b[0;31m \u001b[0mcollect_strings_recursive\u001b[0m\u001b[0;34m(\u001b[0m\u001b[0mobj1\u001b[0m\u001b[0;34m)\u001b[0m\u001b[0;34m\u001b[0m\u001b[0;34m\u001b[0m\u001b[0m\n\u001b[0m",
      "\u001b[0;32m<ipython-input-310-85a541d8ecc0>\u001b[0m in \u001b[0;36mcollect_strings_recursive\u001b[0;34m(obj)\u001b[0m\n\u001b[1;32m      5\u001b[0m             \u001b[0moutput\u001b[0m\u001b[0;34m.\u001b[0m\u001b[0mappend\u001b[0m\u001b[0;34m(\u001b[0m\u001b[0mobj\u001b[0m\u001b[0;34m[\u001b[0m\u001b[0mi\u001b[0m\u001b[0;34m]\u001b[0m\u001b[0;34m)\u001b[0m\u001b[0;34m\u001b[0m\u001b[0;34m\u001b[0m\u001b[0m\n\u001b[1;32m      6\u001b[0m         \u001b[0;32mif\u001b[0m \u001b[0mtype\u001b[0m\u001b[0;34m(\u001b[0m\u001b[0mobj\u001b[0m\u001b[0;34m[\u001b[0m\u001b[0mi\u001b[0m\u001b[0;34m]\u001b[0m \u001b[0;32mis\u001b[0m \u001b[0mdict\u001b[0m\u001b[0;34m)\u001b[0m\u001b[0;34m:\u001b[0m\u001b[0;34m\u001b[0m\u001b[0;34m\u001b[0m\u001b[0m\n\u001b[0;32m----> 7\u001b[0;31m             \u001b[0moutput\u001b[0m \u001b[0;34m+=\u001b[0m \u001b[0mcollect_strings_recursive\u001b[0m\u001b[0;34m(\u001b[0m\u001b[0mobj\u001b[0m\u001b[0;34m[\u001b[0m\u001b[0mi\u001b[0m\u001b[0;34m]\u001b[0m\u001b[0;34m)\u001b[0m\u001b[0;34m\u001b[0m\u001b[0;34m\u001b[0m\u001b[0m\n\u001b[0m\u001b[1;32m      8\u001b[0m     \u001b[0;32mreturn\u001b[0m \u001b[0moutput\u001b[0m\u001b[0;34m\u001b[0m\u001b[0;34m\u001b[0m\u001b[0m\n",
      "\u001b[0;32m<ipython-input-310-85a541d8ecc0>\u001b[0m in \u001b[0;36mcollect_strings_recursive\u001b[0;34m(obj)\u001b[0m\n\u001b[1;32m      2\u001b[0m     \u001b[0moutput\u001b[0m \u001b[0;34m=\u001b[0m \u001b[0;34m[\u001b[0m\u001b[0;34m]\u001b[0m\u001b[0;34m\u001b[0m\u001b[0;34m\u001b[0m\u001b[0m\n\u001b[1;32m      3\u001b[0m     \u001b[0;32mfor\u001b[0m \u001b[0mi\u001b[0m \u001b[0;32min\u001b[0m \u001b[0mobj\u001b[0m\u001b[0;34m:\u001b[0m\u001b[0;34m\u001b[0m\u001b[0;34m\u001b[0m\u001b[0m\n\u001b[0;32m----> 4\u001b[0;31m         \u001b[0;32mif\u001b[0m \u001b[0mtype\u001b[0m\u001b[0;34m(\u001b[0m\u001b[0mobj\u001b[0m\u001b[0;34m[\u001b[0m\u001b[0mi\u001b[0m\u001b[0;34m]\u001b[0m\u001b[0;34m)\u001b[0m \u001b[0;32mis\u001b[0m \u001b[0mstr\u001b[0m\u001b[0;34m:\u001b[0m\u001b[0;34m\u001b[0m\u001b[0;34m\u001b[0m\u001b[0m\n\u001b[0m\u001b[1;32m      5\u001b[0m             \u001b[0moutput\u001b[0m\u001b[0;34m.\u001b[0m\u001b[0mappend\u001b[0m\u001b[0;34m(\u001b[0m\u001b[0mobj\u001b[0m\u001b[0;34m[\u001b[0m\u001b[0mi\u001b[0m\u001b[0;34m]\u001b[0m\u001b[0;34m)\u001b[0m\u001b[0;34m\u001b[0m\u001b[0;34m\u001b[0m\u001b[0m\n\u001b[1;32m      6\u001b[0m         \u001b[0;32mif\u001b[0m \u001b[0mtype\u001b[0m\u001b[0;34m(\u001b[0m\u001b[0mobj\u001b[0m\u001b[0;34m[\u001b[0m\u001b[0mi\u001b[0m\u001b[0;34m]\u001b[0m \u001b[0;32mis\u001b[0m \u001b[0mdict\u001b[0m\u001b[0;34m)\u001b[0m\u001b[0;34m:\u001b[0m\u001b[0;34m\u001b[0m\u001b[0;34m\u001b[0m\u001b[0m\n",
      "\u001b[0;31mTypeError\u001b[0m: string indices must be integers"
     ]
    }
   ],
   "source": [
    "collect_strings_recursive(obj1)"
   ]
  },
  {
   "cell_type": "code",
   "execution_count": 303,
   "metadata": {},
   "outputs": [
    {
     "data": {
      "text/plain": [
       "{'a': '2',\n",
       " 'b': {'b': '2', 'bb': {'b': '3', 'bb': {'b': '2'}}},\n",
       " 'c': {'c': {'c': '2'}, 'cc': 'ball', 'ccc': '5'},\n",
       " 'd': '1',\n",
       " 'e': {'e': {'e': '2'}, 'ee': 'car'}}"
      ]
     },
     "execution_count": 303,
     "metadata": {},
     "output_type": "execute_result"
    }
   ],
   "source": [
    "obj1"
   ]
  },
  {
   "cell_type": "code",
   "execution_count": 313,
   "metadata": {},
   "outputs": [
    {
     "name": "stdout",
     "output_type": "stream",
     "text": [
      "a: 229, b: 587\n",
      "a: 129, b: 229\n",
      "a: 100, b: 129\n",
      "a: 29, b: 100\n",
      "a: 13, b: 29\n",
      "a: 3, b: 13\n",
      "a: 1, b: 3\n",
      "a: 0, b: 1\n"
     ]
    },
    {
     "data": {
      "text/plain": [
       "1"
      ]
     },
     "execution_count": 313,
     "metadata": {},
     "output_type": "execute_result"
    }
   ],
   "source": [
    "# euclidian algorithm:\n",
    "\n",
    "def gcd(a, b):\n",
    "    print('a: {}, b: {}'.format(a, b))\n",
    "    if a == 0:\n",
    "        return b\n",
    "    else:\n",
    "        return gcd(b%a, a)\n",
    "    \n",
    "gcd(229, 587)"
   ]
  },
  {
   "cell_type": "code",
   "execution_count": 322,
   "metadata": {},
   "outputs": [
    {
     "name": "stdout",
     "output_type": "stream",
     "text": [
      "5\n",
      "14\n",
      "23\n",
      "32\n",
      "41\n",
      "50\n",
      "59\n",
      "68\n",
      "77\n",
      "86\n",
      "95\n"
     ]
    }
   ],
   "source": [
    "def find_divisible_by_9(n):\n",
    "    for i in range(n):\n",
    "        if (4*i + 7) % 9 == 0:\n",
    "            print(i)\n",
    "            \n",
    "find_divisible_by_9(100)"
   ]
  },
  {
   "cell_type": "code",
   "execution_count": 324,
   "metadata": {},
   "outputs": [
    {
     "name": "stdout",
     "output_type": "stream",
     "text": [
      "5\n",
      "14\n",
      "23\n",
      "32\n",
      "41\n",
      "50\n",
      "59\n",
      "68\n",
      "77\n",
      "86\n",
      "95\n"
     ]
    }
   ],
   "source": [
    "for i in range(11):\n",
    "    print(5 + 9*i)\n",
    "#     print(4*(5 + 9*i) + 7)\n",
    "    "
   ]
  },
  {
   "cell_type": "code",
   "execution_count": 333,
   "metadata": {},
   "outputs": [],
   "source": [
    "def z_7x_11y(n):\n",
    "    for i in range(n):\n",
    "        for j in range(-n, n):\n",
    "            for k in range(-n, n):\n",
    "                if i == (7*j + 11*k):\n",
    "                    print('z = {}, x = {}, y = {}'.format(i, j, k))\n",
    "                    break"
   ]
  },
  {
   "cell_type": "code",
   "execution_count": 335,
   "metadata": {},
   "outputs": [
    {
     "name": "stdout",
     "output_type": "stream",
     "text": [
      "z = 0, x = 0, y = 0\n",
      "z = 1, x = -3, y = 2\n",
      "z = 1, x = 8, y = -5\n",
      "z = 2, x = -6, y = 4\n",
      "z = 2, x = 5, y = -3\n",
      "z = 3, x = -9, y = 6\n",
      "z = 3, x = 2, y = -1\n",
      "z = 4, x = -1, y = 1\n",
      "z = 5, x = -4, y = 3\n",
      "z = 5, x = 7, y = -4\n",
      "z = 6, x = -7, y = 5\n",
      "z = 6, x = 4, y = -2\n",
      "z = 7, x = -10, y = 7\n",
      "z = 7, x = 1, y = 0\n",
      "z = 8, x = -2, y = 2\n",
      "z = 8, x = 9, y = -5\n",
      "z = 9, x = -5, y = 4\n",
      "z = 9, x = 6, y = -3\n"
     ]
    }
   ],
   "source": [
    "z_7x_11y(10)"
   ]
  },
  {
   "cell_type": "code",
   "execution_count": 330,
   "metadata": {},
   "outputs": [
    {
     "data": {
      "text/plain": [
       "1"
      ]
     },
     "execution_count": 330,
     "metadata": {},
     "output_type": "execute_result"
    }
   ],
   "source": [
    "1 % 11"
   ]
  },
  {
   "cell_type": "code",
   "execution_count": null,
   "metadata": {},
   "outputs": [],
   "source": []
  }
 ],
 "metadata": {
  "kernelspec": {
   "display_name": "Python 3",
   "language": "python",
   "name": "python3"
  },
  "language_info": {
   "codemirror_mode": {
    "name": "ipython",
    "version": 3
   },
   "file_extension": ".py",
   "mimetype": "text/x-python",
   "name": "python",
   "nbconvert_exporter": "python",
   "pygments_lexer": "ipython3",
   "version": "3.7.6"
  }
 },
 "nbformat": 4,
 "nbformat_minor": 4
}
