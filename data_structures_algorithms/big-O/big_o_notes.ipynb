{
 "cells": [
  {
   "cell_type": "markdown",
   "metadata": {},
   "source": [
    "## Big-O and Time Complexity"
   ]
  },
  {
   "cell_type": "markdown",
   "metadata": {},
   "source": [
    " - time-complexity is used to describe how the runtime of an algorithm / function / method scales with input size\n",
    " - big-O is the notation used to describe time complexity\n",
    " - common time complexities include constant, linear, quadratic, exponential, factorial, etc.\n",
    " - We want to minimize time complexity to improve the runtime of our programs\n",
    " - sometimes with large data poorly written functions would take years to run\n",
    " - when developing an expression for runtime, always shed constants and non dominant terms\n",
    "     - we want to express the runtime complexity in terms of the most dominant function"
   ]
  },
  {
   "cell_type": "markdown",
   "metadata": {},
   "source": [
    "big-O\n",
    "    - describes less than or equal to worst case time complexity\n",
    "big-Ω\n",
    "    - describes greater than or equal to the best case time complexity\n",
    "big-Θ\n",
    "    - describes time complexity bound between big-Ω and big-O"
   ]
  },
  {
   "cell_type": "markdown",
   "metadata": {},
   "source": [
    "## Examples:"
   ]
  },
  {
   "cell_type": "markdown",
   "metadata": {},
   "source": [
    "#### Constant\n",
    "- accessing an element from an array is an example of a constant time operation\n",
    "- other examples include Mathematical operations, pushing an element to an array, retrieving a value from a map/dict, etc... any operations that does not requiring iterating through 1 or more lists\n",
    "- such operations have O(1) time complexity"
   ]
  },
  {
   "cell_type": "code",
   "execution_count": 4,
   "metadata": {},
   "outputs": [
    {
     "data": {
      "text/plain": [
       "1"
      ]
     },
     "execution_count": 4,
     "metadata": {},
     "output_type": "execute_result"
    }
   ],
   "source": [
    "def constant_time_complexity():\n",
    "    arr = [1,2,3,5]\n",
    "    return arr[0]\n",
    "\n",
    "constant_time_complexity()"
   ]
  },
  {
   "cell_type": "markdown",
   "metadata": {},
   "source": [
    "#### Linear\n",
    " - methods that involve looping though a list of elements are typically have linear time complexity\n",
    " - the time complexity can be expressed as O(n), where n is the length of the list that is being iterated through"
   ]
  },
  {
   "cell_type": "code",
   "execution_count": 6,
   "metadata": {},
   "outputs": [
    {
     "name": "stdout",
     "output_type": "stream",
     "text": [
      "0\n",
      "1\n",
      "2\n",
      "3\n",
      "4\n"
     ]
    }
   ],
   "source": [
    "def linear_time_complexity(n):\n",
    "    for i in range(n):\n",
    "        print(i)\n",
    "\n",
    "linear_time_complexity(5)"
   ]
  },
  {
   "cell_type": "markdown",
   "metadata": {},
   "source": [
    "#### Logarithmic\n",
    "- methods that involve binary trees or BSTs typically end up being logarthimic\n",
    "- the time complexity can be expressed as O(log(n)), where log is base 2\n",
    "- binary search is a common algorithm with logarithmic time complexity"
   ]
  },
  {
   "cell_type": "code",
   "execution_count": 23,
   "metadata": {},
   "outputs": [
    {
     "data": {
      "text/plain": [
       "7"
      ]
     },
     "execution_count": 23,
     "metadata": {},
     "output_type": "execute_result"
    }
   ],
   "source": [
    "def logarithmic_time_complexity(arr, low, high, n):\n",
    "    if high >= low:\n",
    "        mid = int((high + low) / 2)\n",
    "        if n > arr[mid]:\n",
    "            return logarithmic_time_complexity(arr, mid+1, high, n)\n",
    "        elif n < arr[mid]:\n",
    "            return logarithmic_time_complexity(arr, low, mid-1, n)\n",
    "        else:\n",
    "            return mid\n",
    "    else:\n",
    "        return -1\n",
    "logarithmic_time_complexity([1,2,5,6,8,9,11,24], 0, 7, 24)"
   ]
  },
  {
   "cell_type": "markdown",
   "metadata": {},
   "source": [
    "#### Quadratic\n",
    "- quadratic time complexity typically results from nested loops\n",
    "- iterating through each cell in a grid or matrix, and similar such operations typically have quadratic time complexity\n",
    "- in this case, O(n^2), where n = 3, the width and height of the 3x3 matrix"
   ]
  },
  {
   "cell_type": "code",
   "execution_count": 26,
   "metadata": {},
   "outputs": [
    {
     "name": "stdout",
     "output_type": "stream",
     "text": [
      "1\n",
      "2\n",
      "3\n",
      "4\n",
      "5\n",
      "6\n",
      "7\n",
      "8\n",
      "9\n"
     ]
    }
   ],
   "source": [
    "def quadratic_time_complexity(arr):\n",
    "    for i in arr:\n",
    "        for j in i:\n",
    "            print(j)\n",
    "\n",
    "quadratic_time_complexity([[1,2,3],[4,5,6],[7,8,9]])"
   ]
  },
  {
   "cell_type": "markdown",
   "metadata": {},
   "source": [
    "#### Exponential\n",
    "- exponential time complexity can emerge from recursive functions\n",
    "- for instance this implementation of the fibannoci sequence results in a O(2^n) time complexity\n",
    "- running this method with a number as small as 40 as an input takes many seconds \n",
    "- with larger numbers, the method cannot run in a feasible amount of time"
   ]
  },
  {
   "cell_type": "code",
   "execution_count": 50,
   "metadata": {},
   "outputs": [
    {
     "data": {
      "text/plain": [
       "832040"
      ]
     },
     "execution_count": 50,
     "metadata": {},
     "output_type": "execute_result"
    }
   ],
   "source": [
    "def exponential_time_complexity(n):\n",
    "    if n <= 1:\n",
    "        return n\n",
    "    else:\n",
    "        return exponential_time_complexity(n-1) + exponential_time_complexity(n-2)\n",
    "exponential_time_complexity(30)"
   ]
  },
  {
   "cell_type": "markdown",
   "metadata": {},
   "source": [
    "#### O(n(2^n))\n",
    "- this example is a combination of linear and exponential time complexity"
   ]
  },
  {
   "cell_type": "code",
   "execution_count": 52,
   "metadata": {},
   "outputs": [
    {
     "name": "stdout",
     "output_type": "stream",
     "text": [
      "0\n",
      "1\n",
      "1\n",
      "2\n",
      "3\n",
      "5\n",
      "8\n",
      "13\n",
      "21\n",
      "34\n",
      "55\n",
      "89\n",
      "144\n",
      "233\n",
      "377\n"
     ]
    }
   ],
   "source": [
    "def linear_exponential_time_complexity(n):\n",
    "    for i in range(n):\n",
    "        print(exponential_time_complexity(i))\n",
    "\n",
    "linear_exponential_time_complexity(15)"
   ]
  },
  {
   "cell_type": "markdown",
   "metadata": {},
   "source": [
    "## Measuring Time Complexity of Recursive Functions:"
   ]
  },
  {
   "cell_type": "markdown",
   "metadata": {},
   "source": [
    "#### Recursive function with linear time complexity\n",
    "- in this example, the number of recursive calls is a function of the length of the input array\n",
    "- as a result the time complexity is linear, O(n)\n",
    "- in general, look how the number of recursive calls scales with input... that will help determine "
   ]
  },
  {
   "cell_type": "code",
   "execution_count": 66,
   "metadata": {},
   "outputs": [],
   "source": [
    "def find_max_recursive(arr):\n",
    "    if len(arr) == 1:\n",
    "        return arr[0]\n",
    "    else:\n",
    "        return max(arr[len(arr)-1], find_max_recursive(arr[:-1]))"
   ]
  },
  {
   "cell_type": "code",
   "execution_count": 70,
   "metadata": {},
   "outputs": [
    {
     "data": {
      "text/plain": [
       "48"
      ]
     },
     "execution_count": 70,
     "metadata": {},
     "output_type": "execute_result"
    }
   ],
   "source": [
    "find_max_recursive([5,6,48,33,5,6,7])"
   ]
  },
  {
   "cell_type": "markdown",
   "metadata": {},
   "source": [
    "#### Recursive function with Multiple Calls\n",
    "- this example includes a recursive function that makes two recursive calls per call\n",
    "- this function returns the sum of all numbers up to n and 2 * the previous number\n",
    "- the time complexity is O(2^n)\n",
    "- like for all recursive functions, the idea is to determine how the number of recursive calls scale with input... in this case, every recursive call generates two more --> 2^n\n",
    "- exponential time complexity is common with recursive functions and part of the reason why they are dangerous to use and time/space inefficient\n"
   ]
  },
  {
   "cell_type": "code",
   "execution_count": 78,
   "metadata": {},
   "outputs": [
    {
     "data": {
      "text/plain": [
       "512"
      ]
     },
     "execution_count": 78,
     "metadata": {},
     "output_type": "execute_result"
    }
   ],
   "source": [
    "def f(n):\n",
    "    if n <= 1:\n",
    "        return 1\n",
    "    else:\n",
    "        return f(n-1) + f(n-1)\n",
    "f(10)"
   ]
  },
  {
   "cell_type": "markdown",
   "metadata": {},
   "source": [
    "## Space Complexity\n",
    "\n",
    "- amount of memory an algorithm needs to run in the worst case\n",
    "- same big-O notation as time complexity\n",
    "- there is often a trade off between time and space complexity, in that designs/operations that require less time might require more space and vice versa\n",
    "- space complexity of recursive functions depends on number of recursive calls made as imput scales"
   ]
  },
  {
   "cell_type": "markdown",
   "metadata": {},
   "source": [
    "### Examples"
   ]
  },
  {
   "cell_type": "markdown",
   "metadata": {},
   "source": [
    "#### Constant Space O(1)\n",
    "- this function simply returns the sum of two numbers"
   ]
  },
  {
   "cell_type": "code",
   "execution_count": 58,
   "metadata": {},
   "outputs": [],
   "source": [
    "def constant_space(a,b):\n",
    "    return a + b"
   ]
  },
  {
   "cell_type": "markdown",
   "metadata": {},
   "source": [
    "#### Iterative functionwith linear space complexity\n",
    "- this function iterates from 0 to n and sums the pairs of numbers from 0 to n-1\n",
    "- since this function calls a constant space operation n times, the result is linear space complexity O(n)\n",
    "- interestingly enough this happens to return (i+1)^2..."
   ]
  },
  {
   "cell_type": "code",
   "execution_count": 65,
   "metadata": {},
   "outputs": [
    {
     "data": {
      "text/plain": [
       "100"
      ]
     },
     "execution_count": 65,
     "metadata": {},
     "output_type": "execute_result"
    }
   ],
   "source": [
    "def linear_space_iterative(n):\n",
    "    sum = 0\n",
    "    for i in range(n+1):\n",
    "        sum += constant_space(i, i+1)\n",
    "    return sum\n",
    "\n",
    "linear_space_iterative(9)"
   ]
  },
  {
   "cell_type": "markdown",
   "metadata": {},
   "source": [
    "#### Recursive function with linear space complexity O(n)\n",
    "- this function sums the numbers from 0 to n using recursion\n",
    "- requires a new frame in the call stack for each 0 < i < n --> linear time"
   ]
  },
  {
   "cell_type": "code",
   "execution_count": 59,
   "metadata": {},
   "outputs": [
    {
     "data": {
      "text/plain": [
       "55"
      ]
     },
     "execution_count": 59,
     "metadata": {},
     "output_type": "execute_result"
    }
   ],
   "source": [
    "def linear_space_recursive(n):\n",
    "    if n == 0:\n",
    "        return n\n",
    "    else:\n",
    "        return n + linear_space_recursive(n-1)\n",
    "\n",
    "linear_space_recursive(10)"
   ]
  },
  {
   "cell_type": "code",
   "execution_count": null,
   "metadata": {},
   "outputs": [],
   "source": []
  }
 ],
 "metadata": {
  "kernelspec": {
   "display_name": "Python 3",
   "language": "python",
   "name": "python3"
  },
  "language_info": {
   "codemirror_mode": {
    "name": "ipython",
    "version": 3
   },
   "file_extension": ".py",
   "mimetype": "text/x-python",
   "name": "python",
   "nbconvert_exporter": "python",
   "pygments_lexer": "ipython3",
   "version": "3.7.6"
  }
 },
 "nbformat": 4,
 "nbformat_minor": 4
}
