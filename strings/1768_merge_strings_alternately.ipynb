{
 "cells": [
  {
   "cell_type": "markdown",
   "metadata": {},
   "source": [
    "https://leetcode.com/problems/merge-strings-alternately/"
   ]
  },
  {
   "cell_type": "code",
   "execution_count": 27,
   "metadata": {},
   "outputs": [],
   "source": [
    "class Solution:\n",
    "    def mergeAlternately(self, word1: str, word2: str) -> str:\n",
    "        output = []\n",
    "        if len(word1) == len(word2):\n",
    "            for i in zip(word1, word2):\n",
    "                output.append(i[0])\n",
    "                output.append(i[1])\n",
    "        elif len(word1) > len(word2):\n",
    "            for i in zip(word1[:len(word2)], word2):\n",
    "                output.append(i[0])\n",
    "                output.append(i[1])\n",
    "            output += [char for char in word1[len(word2):]]\n",
    "        else:\n",
    "            for i in zip(word1, word2[:len(word1)]):\n",
    "                output.append(i[0])\n",
    "                output.append(i[1])\n",
    "            output += [char for char in word2[len(word1):]]\n",
    "            \n",
    "        return ''.join(output)"
   ]
  },
  {
   "cell_type": "code",
   "execution_count": 28,
   "metadata": {},
   "outputs": [
    {
     "data": {
      "text/plain": [
       "'apbqcrf'"
      ]
     },
     "execution_count": 28,
     "metadata": {},
     "output_type": "execute_result"
    }
   ],
   "source": [
    "word1 = \"abc\"\n",
    "word2 = \"pqrf\"\n",
    "\n",
    "# expected = 'apbqcrf'\n",
    "\n",
    "s = Solution()\n",
    "\n",
    "s.mergeAlternately(word1, word2)"
   ]
  },
  {
   "cell_type": "code",
   "execution_count": 29,
   "metadata": {},
   "outputs": [
    {
     "data": {
      "text/plain": [
       "'apbqcd'"
      ]
     },
     "execution_count": 29,
     "metadata": {},
     "output_type": "execute_result"
    }
   ],
   "source": [
    "\n",
    "word1 = \"abcd\"\n",
    "word2 = \"pq\"\n",
    "\n",
    "s = Solution()\n",
    "s.mergeAlternately(word1, word2)"
   ]
  },
  {
   "cell_type": "code",
   "execution_count": null,
   "metadata": {},
   "outputs": [],
   "source": []
  }
 ],
 "metadata": {
  "kernelspec": {
   "display_name": "Python 3",
   "language": "python",
   "name": "python3"
  },
  "language_info": {
   "codemirror_mode": {
    "name": "ipython",
    "version": 3
   },
   "file_extension": ".py",
   "mimetype": "text/x-python",
   "name": "python",
   "nbconvert_exporter": "python",
   "pygments_lexer": "ipython3",
   "version": "3.7.6"
  }
 },
 "nbformat": 4,
 "nbformat_minor": 4
}
