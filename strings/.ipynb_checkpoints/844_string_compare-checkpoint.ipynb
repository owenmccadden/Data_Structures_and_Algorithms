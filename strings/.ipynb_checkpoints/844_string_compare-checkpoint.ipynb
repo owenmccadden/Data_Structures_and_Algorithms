{
 "cells": [
  {
   "cell_type": "markdown",
   "metadata": {},
   "source": [
    "# 844 String Compare\n",
    "- given two strings s and t, return a boolean to indicate whether they are equal\n",
    "- a# represents a backspace"
   ]
  },
  {
   "cell_type": "code",
   "execution_count": 63,
   "metadata": {},
   "outputs": [],
   "source": [
    "def backspace_compare(s, t):\n",
    "    s_pointer = len(s)-1\n",
    "    t_pointer = len(t)-1\n",
    "    \n",
    "    s_skips = 0\n",
    "    t_skips = 0\n",
    "    \n",
    "    while s_pointer >=0 or t_pointer >= 0:\n",
    "        while s_pointer >= 0:\n",
    "            if s[s_pointer] == '#':\n",
    "                s_skips += 1\n",
    "                s_pointer -= 1\n",
    "            elif s_skips > 0:\n",
    "                s_pointer -= 1\n",
    "                s_skips -= 1\n",
    "            else:\n",
    "                break\n",
    "        \n",
    "        while t_pointer >= 0:\n",
    "            if t[t_pointer] == '#':\n",
    "                t_skips += 1\n",
    "                t_pointer -= 1\n",
    "            elif t_skips > 0:\n",
    "                t_pointer -= 1\n",
    "                t_skips -= 1\n",
    "            else:\n",
    "                break\n",
    "        \n",
    "        if s_pointer >= 0 and t_pointer >= 0 and s[s_pointer] != t[t_pointer]:\n",
    "            return False\n",
    "        \n",
    "        if (s_pointer >= 0) != (t_pointer >= 0):\n",
    "            return False\n",
    "        \n",
    "        s_pointer -= 1\n",
    "        t_pointer -= 1\n",
    "    \n",
    "    return True\n",
    "                "
   ]
  },
  {
   "cell_type": "code",
   "execution_count": 22,
   "metadata": {},
   "outputs": [],
   "source": [
    "a = [1,2,3]"
   ]
  },
  {
   "cell_type": "code",
   "execution_count": 23,
   "metadata": {},
   "outputs": [
    {
     "data": {
      "text/plain": [
       "[1]"
      ]
     },
     "execution_count": 23,
     "metadata": {},
     "output_type": "execute_result"
    }
   ],
   "source": [
    "a[:1]"
   ]
  },
  {
   "cell_type": "code",
   "execution_count": 62,
   "metadata": {
    "scrolled": true
   },
   "outputs": [
    {
     "data": {
      "text/plain": [
       "True"
      ]
     },
     "execution_count": 62,
     "metadata": {},
     "output_type": "execute_result"
    }
   ],
   "source": [
    "backspace_compare('#a#c', 'a##c')"
   ]
  },
  {
   "cell_type": "code",
   "execution_count": 16,
   "metadata": {},
   "outputs": [
    {
     "data": {
      "text/plain": [
       "[]"
      ]
     },
     "execution_count": 16,
     "metadata": {},
     "output_type": "execute_result"
    }
   ],
   "source": [
    "b = []\n",
    "b[:0]"
   ]
  },
  {
   "cell_type": "code",
   "execution_count": null,
   "metadata": {},
   "outputs": [],
   "source": []
  }
 ],
 "metadata": {
  "kernelspec": {
   "display_name": "Python 3",
   "language": "python",
   "name": "python3"
  },
  "language_info": {
   "codemirror_mode": {
    "name": "ipython",
    "version": 3
   },
   "file_extension": ".py",
   "mimetype": "text/x-python",
   "name": "python",
   "nbconvert_exporter": "python",
   "pygments_lexer": "ipython3",
   "version": "3.7.6"
  }
 },
 "nbformat": 4,
 "nbformat_minor": 4
}
