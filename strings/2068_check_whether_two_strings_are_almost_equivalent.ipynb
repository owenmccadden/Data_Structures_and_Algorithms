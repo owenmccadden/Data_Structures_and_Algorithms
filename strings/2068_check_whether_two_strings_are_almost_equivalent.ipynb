{
 "cells": [
  {
   "cell_type": "markdown",
   "metadata": {},
   "source": [
    "https://leetcode.com/problems/check-whether-two-strings-are-almost-equivalent/"
   ]
  },
  {
   "cell_type": "code",
   "execution_count": 11,
   "metadata": {},
   "outputs": [],
   "source": [
    "class Solution:\n",
    "    def checkAlmostEquivalent(self, word1: str, word2: str) -> bool:\n",
    "        word1_counts = {chr(i): 0 for i in range(97, 123)}\n",
    "        word2_counts = {chr(i): 0 for i in range(97, 123)}\n",
    "        \n",
    "        for char in word1:\n",
    "            word1_counts[char] += 1\n",
    "            \n",
    "        for char in word2:\n",
    "            word2_counts[char] += 1\n",
    "        \n",
    "        for i in range(97,  123):\n",
    "            if abs(word1_counts[chr(i)] - word2_counts[chr(i)]) > 3:\n",
    "                return False\n",
    "        \n",
    "        return True"
   ]
  },
  {
   "cell_type": "code",
   "execution_count": 12,
   "metadata": {},
   "outputs": [
    {
     "data": {
      "text/plain": [
       "False"
      ]
     },
     "execution_count": 12,
     "metadata": {},
     "output_type": "execute_result"
    }
   ],
   "source": [
    "word1 = \"aaaa\"\n",
    "word2 = \"bccb\"\n",
    "\n",
    "s = Solution()\n",
    "\n",
    "s.checkAlmostEquivalent(word1, word2)"
   ]
  },
  {
   "cell_type": "code",
   "execution_count": 13,
   "metadata": {},
   "outputs": [],
   "source": [
    "from collections import Counter\n",
    "class Solution:\n",
    "    def checkAlmostEquivalent(self, word1: str, word2: str) -> bool:\n",
    "        c1 = Counter(word1)\n",
    "        c2 = Counter(word2)\n",
    "        for i in set(word1+word2):\n",
    "            if abs(c1[i]-c2[i]) > 3:\n",
    "                return False\n",
    "        return True      \n",
    "        # return all([abs(Counter(word1)[i] - Counter(word2)[i])<=3 for i in set(word1+word2)])"
   ]
  },
  {
   "cell_type": "code",
   "execution_count": 17,
   "metadata": {},
   "outputs": [],
   "source": [
    "c = Counter(word2)"
   ]
  },
  {
   "cell_type": "code",
   "execution_count": 20,
   "metadata": {},
   "outputs": [
    {
     "data": {
      "text/plain": [
       "'Open'"
      ]
     },
     "execution_count": 20,
     "metadata": {},
     "output_type": "execute_result"
    }
   ],
   "source": [
    "'OPEN'.capitalize()"
   ]
  },
  {
   "cell_type": "code",
   "execution_count": null,
   "metadata": {},
   "outputs": [],
   "source": []
  }
 ],
 "metadata": {
  "kernelspec": {
   "display_name": "Python 3",
   "language": "python",
   "name": "python3"
  },
  "language_info": {
   "codemirror_mode": {
    "name": "ipython",
    "version": 3
   },
   "file_extension": ".py",
   "mimetype": "text/x-python",
   "name": "python",
   "nbconvert_exporter": "python",
   "pygments_lexer": "ipython3",
   "version": "3.7.6"
  }
 },
 "nbformat": 4,
 "nbformat_minor": 4
}
