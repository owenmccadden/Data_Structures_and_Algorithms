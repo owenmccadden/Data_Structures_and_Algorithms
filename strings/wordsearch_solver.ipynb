{
 "cells": [
  {
   "cell_type": "code",
   "execution_count": 111,
   "metadata": {},
   "outputs": [],
   "source": [
    "import numpy as np\n",
    "from collections import defaultdict"
   ]
  },
  {
   "cell_type": "code",
   "execution_count": 173,
   "metadata": {},
   "outputs": [
    {
     "ename": "SyntaxError",
     "evalue": "unexpected EOF while parsing (<ipython-input-173-3e1bbe319659>, line 37)",
     "output_type": "error",
     "traceback": [
      "\u001b[0;36m  File \u001b[0;32m\"<ipython-input-173-3e1bbe319659>\"\u001b[0;36m, line \u001b[0;32m37\u001b[0m\n\u001b[0;31m    \u001b[0m\n\u001b[0m    ^\u001b[0m\n\u001b[0;31mSyntaxError\u001b[0m\u001b[0;31m:\u001b[0m unexpected EOF while parsing\n"
     ]
    }
   ],
   "source": [
    "class Wordsearch:\n",
    "    def __init__(self, grid, words):\n",
    "        self.grid = grid\n",
    "        self.cols = defaultdict(list)\n",
    "        self.letter_bank = defaultdict(int)\n",
    "        self.possible_letter_indices = []\n",
    "        self.words = words\n",
    "        \n",
    "    def randomize_grid(self, n, m):\n",
    "        self.grid = []\n",
    "        for i in range(m):\n",
    "            self.grid.append([])\n",
    "            for j in range(n):\n",
    "                letter = chr(np.random.randint(26) + 97)\n",
    "                self.grid[i].append(letter)\n",
    "                self.letter_bank[letter] += 1\n",
    "        \n",
    "        self.possible_letter_indices = list([ord(char) for char in self.letter_bank])\n",
    "        \n",
    "        for row in self.grid:\n",
    "            for i in range(len(row)):\n",
    "                self.cols[i].append(row[i])\n",
    "                \n",
    "    def randomize_words(self, n, min_length, max_length):\n",
    "        self.words = []\n",
    "        for i in range(n):\n",
    "            word_length = np.random.randint(min_length, max_length)\n",
    "            word = ''.join([chr(self.possible_letter_indices[np.random.randint(len(self.possible_letter_indices))]) for i in range(word_length)])\n",
    "            self.words.append(word)\n",
    "    \n",
    "    def search(self):\n",
    "        for row in self.grid:\n",
    "            continue\n",
    "#             check rows\n",
    "\n",
    "        for col in self.cols:\n",
    "            continue\n",
    "#             check cols\n",
    "\n",
    "        \n",
    "\n",
    "        \n",
    "            \n",
    "            "
   ]
  },
  {
   "cell_type": "code",
   "execution_count": null,
   "metadata": {},
   "outputs": [],
   "source": []
  },
  {
   "cell_type": "code",
   "execution_count": 165,
   "metadata": {},
   "outputs": [
    {
     "data": {
      "text/plain": [
       "[['k', 'i', 't', 'g', 'c', 'd', 'x', 'k', 'f', 'y'],\n",
       " ['e', 'm', 'a', 'y', 'v', 's', 'n', 'g', 'l', 'y'],\n",
       " ['z', 'b', 'o', 'p', 'b', 'q', 'f', 'm', 'n', 'y'],\n",
       " ['d', 'b', 'i', 'i', 't', 's', 'y', 'v', 's', 'b'],\n",
       " ['r', 'v', 'b', 'm', 'e', 'x', 'w', 'b', 'z', 'q'],\n",
       " ['p', 'f', 'j', 'n', 'u', 's', 'o', 'l', 'r', 'f'],\n",
       " ['f', 'g', 'q', 't', 'p', 'm', 's', 'f', 'j', 'u'],\n",
       " ['q', 'f', 'n', 'j', 'j', 'f', 'b', 'v', 'x', 'd'],\n",
       " ['l', 'x', 't', 'p', 'o', 'x', 'e', 'l', 'v', 'u'],\n",
       " ['a', 'u', 's', 'b', 'f', 'y', 'g', 'x', 'y', 'd']]"
      ]
     },
     "execution_count": 165,
     "metadata": {},
     "output_type": "execute_result"
    }
   ],
   "source": [
    "w = Wordsearch([], [])\n",
    "w.randomize_grid(10, 10)\n",
    "w.grid"
   ]
  },
  {
   "cell_type": "code",
   "execution_count": 166,
   "metadata": {},
   "outputs": [
    {
     "data": {
      "text/plain": [
       "['jsk', 'rspo', 'dw', 'jmr', 'oj', 'drn', 'sxu', 'owy', 'lusq', 'ptl']"
      ]
     },
     "execution_count": 166,
     "metadata": {},
     "output_type": "execute_result"
    }
   ],
   "source": [
    "w.randomize_words(10, 2, 5)\n",
    "w.words"
   ]
  },
  {
   "cell_type": "code",
   "execution_count": 167,
   "metadata": {},
   "outputs": [
    {
     "name": "stdout",
     "output_type": "stream",
     "text": [
      "['k', 'i', 't', 'g', 'c', 'd', 'x', 'k', 'f', 'y']\n"
     ]
    },
    {
     "ename": "IndexError",
     "evalue": "string index out of range",
     "output_type": "error",
     "traceback": [
      "\u001b[0;31m---------------------------------------------------------------------------\u001b[0m",
      "\u001b[0;31mIndexError\u001b[0m                                Traceback (most recent call last)",
      "\u001b[0;32m<ipython-input-167-ff25f2d8cf99>\u001b[0m in \u001b[0;36m<module>\u001b[0;34m\u001b[0m\n\u001b[0;32m----> 1\u001b[0;31m \u001b[0mw\u001b[0m\u001b[0;34m.\u001b[0m\u001b[0msearch\u001b[0m\u001b[0;34m(\u001b[0m\u001b[0;34m)\u001b[0m\u001b[0;34m\u001b[0m\u001b[0;34m\u001b[0m\u001b[0m\n\u001b[0m",
      "\u001b[0;32m<ipython-input-164-4c1071b8b212>\u001b[0m in \u001b[0;36msearch\u001b[0;34m(self)\u001b[0m\n\u001b[1;32m     32\u001b[0m             \u001b[0mtemp\u001b[0m \u001b[0;34m=\u001b[0m \u001b[0;34m[\u001b[0m\u001b[0;34m]\u001b[0m\u001b[0;34m\u001b[0m\u001b[0;34m\u001b[0m\u001b[0m\n\u001b[1;32m     33\u001b[0m             \u001b[0;32mfor\u001b[0m \u001b[0mcol\u001b[0m \u001b[0;32min\u001b[0m \u001b[0mrow\u001b[0m\u001b[0;34m:\u001b[0m\u001b[0;34m\u001b[0m\u001b[0;34m\u001b[0m\u001b[0m\n\u001b[0;32m---> 34\u001b[0;31m                 \u001b[0mtemp\u001b[0m\u001b[0;34m.\u001b[0m\u001b[0mappend\u001b[0m\u001b[0;34m(\u001b[0m\u001b[0mcol\u001b[0m\u001b[0;34m[\u001b[0m\u001b[0mi\u001b[0m\u001b[0;34m]\u001b[0m\u001b[0;34m)\u001b[0m\u001b[0;34m\u001b[0m\u001b[0;34m\u001b[0m\u001b[0m\n\u001b[0m\u001b[1;32m     35\u001b[0m             \u001b[0mprint\u001b[0m\u001b[0;34m(\u001b[0m\u001b[0mtemp\u001b[0m\u001b[0;34m)\u001b[0m\u001b[0;34m\u001b[0m\u001b[0;34m\u001b[0m\u001b[0m\n\u001b[1;32m     36\u001b[0m \u001b[0;34m\u001b[0m\u001b[0m\n",
      "\u001b[0;31mIndexError\u001b[0m: string index out of range"
     ]
    }
   ],
   "source": [
    "w.search()"
   ]
  },
  {
   "cell_type": "code",
   "execution_count": 168,
   "metadata": {},
   "outputs": [],
   "source": [
    "grid = [['k', 'i', 't', 'g', 'c', 'd', 'x', 'k', 'f', 'y'],\n",
    " ['e', 'm', 'a', 'y', 'v', 's', 'n', 'g', 'l', 'y'],\n",
    " ['z', 'b', 'o', 'p', 'b', 'q', 'f', 'm', 'n', 'y'],\n",
    " ['d', 'b', 'i', 'i', 't', 's', 'y', 'v', 's', 'b'],\n",
    " ['r', 'v', 'b', 'm', 'e', 'x', 'w', 'b', 'z', 'q'],\n",
    " ['p', 'f', 'j', 'n', 'u', 's', 'o', 'l', 'r', 'f'],\n",
    " ['f', 'g', 'q', 't', 'p', 'm', 's', 'f', 'j', 'u'],\n",
    " ['q', 'f', 'n', 'j', 'j', 'f', 'b', 'v', 'x', 'd'],\n",
    " ['l', 'x', 't', 'p', 'o', 'x', 'e', 'l', 'v', 'u'],\n",
    " ['a', 'u', 's', 'b', 'f', 'y', 'g', 'x', 'y', 'd']]"
   ]
  },
  {
   "cell_type": "code",
   "execution_count": 172,
   "metadata": {},
   "outputs": [
    {
     "data": {
      "text/plain": [
       "defaultdict(list,\n",
       "            {0: ['k', 'e', 'z', 'd', 'r', 'p', 'f', 'q', 'l', 'a'],\n",
       "             1: ['i', 'm', 'b', 'b', 'v', 'f', 'g', 'f', 'x', 'u'],\n",
       "             2: ['t', 'a', 'o', 'i', 'b', 'j', 'q', 'n', 't', 's'],\n",
       "             3: ['g', 'y', 'p', 'i', 'm', 'n', 't', 'j', 'p', 'b'],\n",
       "             4: ['c', 'v', 'b', 't', 'e', 'u', 'p', 'j', 'o', 'f'],\n",
       "             5: ['d', 's', 'q', 's', 'x', 's', 'm', 'f', 'x', 'y'],\n",
       "             6: ['x', 'n', 'f', 'y', 'w', 'o', 's', 'b', 'e', 'g'],\n",
       "             7: ['k', 'g', 'm', 'v', 'b', 'l', 'f', 'v', 'l', 'x'],\n",
       "             8: ['f', 'l', 'n', 's', 'z', 'r', 'j', 'x', 'v', 'y'],\n",
       "             9: ['y', 'y', 'y', 'b', 'q', 'f', 'u', 'd', 'u', 'd']})"
      ]
     },
     "execution_count": 172,
     "metadata": {},
     "output_type": "execute_result"
    }
   ],
   "source": [
    "cols = defaultdict(list)\n",
    "\n",
    "for row in grid:\n",
    "    for i in range(len(row)):\n",
    "        cols[i].append(row[i])\n",
    "        \n",
    "cols"
   ]
  },
  {
   "cell_type": "code",
   "execution_count": 179,
   "metadata": {},
   "outputs": [
    {
     "data": {
      "text/plain": [
       "[['k', 'i', 't', 'g', 'c', 'd', 'x', 'k', 'f', 'y'],\n",
       " ['e', 'm', 'a', 'y', 'v', 's', 'n', 'g', 'l', 'y'],\n",
       " ['z', 'b', 'o', 'p', 'b', 'q', 'f', 'm', 'n', 'y'],\n",
       " ['d', 'b', 'i', 'i', 't', 's', 'y', 'v', 's', 'b'],\n",
       " ['r', 'v', 'b', 'm', 'e', 'x', 'w', 'b', 'z', 'q'],\n",
       " ['p', 'f', 'j', 'n', 'u', 's', 'o', 'l', 'r', 'f'],\n",
       " ['f', 'g', 'q', 't', 'p', 'm', 's', 'f', 'j', 'u'],\n",
       " ['q', 'f', 'n', 'j', 'j', 'f', 'b', 'v', 'x', 'd'],\n",
       " ['l', 'x', 't', 'p', 'o', 'x', 'e', 'l', 'v', 'u'],\n",
       " ['a', 'u', 's', 'b', 'f', 'y', 'g', 'x', 'y', 'd']]"
      ]
     },
     "execution_count": 179,
     "metadata": {},
     "output_type": "execute_result"
    }
   ],
   "source": [
    "grid"
   ]
  },
  {
   "cell_type": "code",
   "execution_count": 184,
   "metadata": {},
   "outputs": [
    {
     "data": {
      "text/plain": [
       "[['k', 'm', 'o', 'i', 'e', 's', 's', 'v', 'v', 'd'],\n",
       " ['e', 'b', 'i', 'm', 'u', 'm', 'b', 'l', 'y'],\n",
       " ['z', 'b', 'b', 'n', 'p', 'f', 'e', 'x'],\n",
       " ['d', 'v', 'j', 't', 'j', 'x', 'g'],\n",
       " ['r', 'f', 'q', 'j', 'o', 'y'],\n",
       " ['p', 'g', 'n', 'p', 'f'],\n",
       " ['f', 'f', 't', 'b'],\n",
       " ['q', 'x', 's'],\n",
       " ['l', 'u'],\n",
       " ['a'],\n",
       " ['k', 'm', 'o', 'i', 'e', 's', 's', 'v', 'v', 'd'],\n",
       " ['i', 'a', 'p', 't', 'x', 'o', 'f', 'x', 'u'],\n",
       " ['t', 'y', 'b', 's', 'w', 'l', 'j', 'd'],\n",
       " ['g', 'v', 'q', 'y', 'b', 'r', 'u'],\n",
       " ['c', 's', 'f', 'v', 'z', 'f'],\n",
       " ['d', 'n', 'm', 's', 'q'],\n",
       " ['x', 'g', 'n', 'b'],\n",
       " ['k', 'l', 'y'],\n",
       " ['f', 'y'],\n",
       " ['y']]"
      ]
     },
     "execution_count": 184,
     "metadata": {},
     "output_type": "execute_result"
    }
   ],
   "source": [
    "diag_words = []\n",
    "for i in range(len(grid[0])):\n",
    "    j = 0\n",
    "    word = []\n",
    "    while i < len(grid[0]) and j < len(grid):\n",
    "        word.append(grid[i][j])\n",
    "        i += 1\n",
    "        j += 1\n",
    "    diag_words.append(word)\n",
    "    \n",
    "for i in range(len(grid[0])):\n",
    "    j = 0\n",
    "    word = []\n",
    "    while i < len(grid[0]) and j < len(grid):\n",
    "        word.append(grid[j][i])\n",
    "        i += 1\n",
    "        j += 1\n",
    "    diag_words.append(word)\n",
    "    \n",
    "    \n",
    "diag_words\n",
    "    "
   ]
  },
  {
   "cell_type": "code",
   "execution_count": null,
   "metadata": {},
   "outputs": [],
   "source": []
  }
 ],
 "metadata": {
  "kernelspec": {
   "display_name": "Python 3",
   "language": "python",
   "name": "python3"
  },
  "language_info": {
   "codemirror_mode": {
    "name": "ipython",
    "version": 3
   },
   "file_extension": ".py",
   "mimetype": "text/x-python",
   "name": "python",
   "nbconvert_exporter": "python",
   "pygments_lexer": "ipython3",
   "version": "3.7.6"
  }
 },
 "nbformat": 4,
 "nbformat_minor": 4
}
