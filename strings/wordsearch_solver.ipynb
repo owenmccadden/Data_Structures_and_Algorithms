{
 "cells": [
  {
   "cell_type": "code",
   "execution_count": 1,
   "metadata": {},
   "outputs": [],
   "source": [
    "import numpy as np\n",
    "from collections import defaultdict"
   ]
  },
  {
   "cell_type": "code",
   "execution_count": 98,
   "metadata": {},
   "outputs": [],
   "source": [
    "class Wordsearch:\n",
    "    def __init__(self, grid, words):\n",
    "        self.grid = grid\n",
    "        self.cols = defaultdict(list)\n",
    "        self.letter_bank = defaultdict(int)\n",
    "        self.possible_letter_indices = []\n",
    "        self.search_space = []\n",
    "        self.words = words\n",
    "        \n",
    "    def randomize_grid(self, n, m):\n",
    "        self.grid = []\n",
    "        for i in range(m):\n",
    "            self.grid.append([])\n",
    "            for j in range(n):\n",
    "                letter = chr(np.random.randint(26) + 97)\n",
    "                self.grid[i].append(letter)\n",
    "                self.letter_bank[letter] += 1\n",
    "        \n",
    "        self.possible_letter_indices = list([ord(char) for char in self.letter_bank])\n",
    "        \n",
    "        for row in self.grid:\n",
    "            for i in range(len(row)):\n",
    "                self.cols[i].append(row[i])\n",
    "                \n",
    "    def randomize_words(self, n, min_length, max_length):\n",
    "        self.words = []\n",
    "        for i in range(n):\n",
    "            word_length = np.random.randint(min_length, max_length)\n",
    "            word = ''.join([chr(self.possible_letter_indices[np.random.randint(len(self.possible_letter_indices))]) for i in range(word_length)])\n",
    "            self.words.append(word)\n",
    "    \n",
    "    def build_searchspace(self):\n",
    "        for row in self.grid:\n",
    "            self.search_space.append(''.join(row))\n",
    "\n",
    "        cols = defaultdict(list)\n",
    "\n",
    "        for row in self.grid:\n",
    "            for i in range(len(row)):\n",
    "                cols[i].append(row[i])\n",
    "                \n",
    "        for col in cols:\n",
    "            self.search_space.append(''.join(cols[col]))\n",
    "            \n",
    "        for i in range(len(self.grid[0])):\n",
    "            j = 0\n",
    "            word = []\n",
    "            while i < len(self.grid[0]) and j < len(self.grid):\n",
    "                word.append(self.grid[i][j])\n",
    "                i += 1\n",
    "                j += 1\n",
    "            self.search_space.append(''.join(word))\n",
    "\n",
    "        for i in range(len(self.grid[0])):\n",
    "            j = 0\n",
    "            word = []\n",
    "            while i < len(self.grid[0]) and j < len(self.grid):\n",
    "                word.append(self.grid[j][i])\n",
    "                i += 1\n",
    "                j += 1\n",
    "            self.search_space.append(''.join(word))\n",
    "        \n",
    "        for i in range(len(self.grid[0])):\n",
    "            j = len(self.grid[0]) - 1\n",
    "            word = []\n",
    "            while i < len(self.grid[0]) and j >= 0:\n",
    "                word.append(self.grid[i][j])\n",
    "                i += 1\n",
    "                j -= 1\n",
    "            self.search_space.append(''.join(word))\n",
    "\n",
    "\n",
    "        for i in range(len(self.grid[0])-1, -1, -1):\n",
    "            j = 0\n",
    "            word = []\n",
    "            while i >= 0 and j < len(self.grid[0]):\n",
    "                word.append(self.grid[j][i])\n",
    "                i -= 1\n",
    "                j += 1\n",
    "            self.search_space.append(''.join(word))\n",
    "            \n",
    "    def search(self):\n",
    "        for word in self.words:\n",
    "            for row in self.search_space:\n",
    "                if word in row:\n",
    "                    index = row.find(word)\n",
    "                    print(word, row, index, index + len(word))\n",
    "                elif word[::-1] in row:\n",
    "                    index = row.find(word)\n",
    "                    print(word, row, index, index - len(word))\n",
    "\n",
    "\n",
    "            "
   ]
  },
  {
   "cell_type": "code",
   "execution_count": 103,
   "metadata": {},
   "outputs": [
    {
     "data": {
      "text/plain": [
       "[['p', 'k', 'r', 's', 'w', 'l', 'x', 'a', 'z', 'd'],\n",
       " ['t', 't', 'b', 'u', 'i', 'z', 'h', 'z', 'y', 'd'],\n",
       " ['x', 'n', 'k', 'l', 'h', 'y', 'g', 's', 'i', 'a'],\n",
       " ['u', 's', 'r', 'l', 'o', 'y', 'q', 'u', 'v', 'x'],\n",
       " ['d', 'c', 'q', 'q', 'v', 'z', 'o', 'g', 'w', 'c'],\n",
       " ['y', 'j', 'w', 'v', 'r', 'v', 'z', 'a', 'g', 'y'],\n",
       " ['a', 's', 's', 'h', 't', 'q', 'v', 'k', 'b', 'c'],\n",
       " ['w', 'o', 'i', 'j', 'x', 'm', 'x', 'l', 'b', 'q'],\n",
       " ['s', 'u', 'f', 'b', 'u', 'i', 'n', 'u', 'q', 'h'],\n",
       " ['m', 't', 'w', 'm', 'n', 'd', 'y', 'q', 't', 't']]"
      ]
     },
     "execution_count": 103,
     "metadata": {},
     "output_type": "execute_result"
    }
   ],
   "source": [
    "w = Wordsearch([], [])\n",
    "w.randomize_grid(10, 10)\n",
    "w.grid"
   ]
  },
  {
   "cell_type": "code",
   "execution_count": 104,
   "metadata": {},
   "outputs": [
    {
     "data": {
      "text/plain": [
       "['the', 'of', 'and', 'to', 'is', 'you', 'this', 'that']"
      ]
     },
     "execution_count": 104,
     "metadata": {},
     "output_type": "execute_result"
    }
   ],
   "source": [
    "# w.randomize_words(1000, 3, 5)\n",
    "w.words = [\n",
    "    'the',\n",
    "    'of',\n",
    "    'and',\n",
    "    'to',\n",
    "    'is',\n",
    "    'you',\n",
    "    'this',\n",
    "    'that'\n",
    "]\n",
    "w.words"
   ]
  },
  {
   "cell_type": "code",
   "execution_count": 105,
   "metadata": {},
   "outputs": [
    {
     "data": {
      "text/plain": [
       "['pkrswlxazd',\n",
       " 'ttbuizhzyd',\n",
       " 'xnklhygsia',\n",
       " 'usrloyquvx',\n",
       " 'dcqqvzogwc',\n",
       " 'yjwvrvzagy',\n",
       " 'asshtqvkbc',\n",
       " 'woijxmxlbq',\n",
       " 'sufbuinuqh',\n",
       " 'mtwmndyqtt',\n",
       " 'ptxudyawsm',\n",
       " 'ktnscjsout',\n",
       " 'rbkrqwsifw',\n",
       " 'sullqvhjbm',\n",
       " 'wihovrtxun',\n",
       " 'lzyyzvqmid',\n",
       " 'xhgqozvxny',\n",
       " 'azsugakluq',\n",
       " 'zyivwgbbqt',\n",
       " 'ddaxcycqht',\n",
       " 'ptklvvvlqt',\n",
       " 'tnrqrqxut',\n",
       " 'xsqvtmnq',\n",
       " 'ucwhxiy',\n",
       " 'djsjud',\n",
       " 'ysibn',\n",
       " 'aofm',\n",
       " 'wuw',\n",
       " 'st',\n",
       " 'm',\n",
       " 'ptklvvvlqt',\n",
       " 'kblozzkbh',\n",
       " 'ruhyoabq',\n",
       " 'siyqggc',\n",
       " 'wzguwy',\n",
       " 'lhsvc',\n",
       " 'xzix',\n",
       " 'aya',\n",
       " 'zd',\n",
       " 'd',\n",
       " 'dysqzrhium',\n",
       " 'diuovtjft',\n",
       " 'avgzqxbw',\n",
       " 'xwavmum',\n",
       " 'cgkxin',\n",
       " 'yblnd',\n",
       " 'cbuy',\n",
       " 'qqq',\n",
       " 'ht',\n",
       " 't',\n",
       " 'dysqzrhium',\n",
       " 'zzgyvvsos',\n",
       " 'ahyoqwsw',\n",
       " 'xzhlqja',\n",
       " 'lilrcy',\n",
       " 'wuksd',\n",
       " 'sbnu',\n",
       " 'rtx',\n",
       " 'kt',\n",
       " 'p']"
      ]
     },
     "execution_count": 105,
     "metadata": {},
     "output_type": "execute_result"
    }
   ],
   "source": [
    "w.build_searchspace()\n",
    "w.search_space\n",
    "# w.search()\n"
   ]
  },
  {
   "cell_type": "code",
   "execution_count": 106,
   "metadata": {},
   "outputs": [
    {
     "name": "stdout",
     "output_type": "stream",
     "text": [
      "of aofm 1 3\n",
      "is xnklhygsia -1 -3\n",
      "is rbkrqwsifw -1 -3\n",
      "is ysibn -1 -3\n",
      "is siyqggc -1 -3\n"
     ]
    }
   ],
   "source": [
    "w.search()"
   ]
  },
  {
   "cell_type": "code",
   "execution_count": null,
   "metadata": {},
   "outputs": [],
   "source": []
  }
 ],
 "metadata": {
  "kernelspec": {
   "display_name": "Python 3",
   "language": "python",
   "name": "python3"
  },
  "language_info": {
   "codemirror_mode": {
    "name": "ipython",
    "version": 3
   },
   "file_extension": ".py",
   "mimetype": "text/x-python",
   "name": "python",
   "nbconvert_exporter": "python",
   "pygments_lexer": "ipython3",
   "version": "3.7.6"
  }
 },
 "nbformat": 4,
 "nbformat_minor": 4
}
