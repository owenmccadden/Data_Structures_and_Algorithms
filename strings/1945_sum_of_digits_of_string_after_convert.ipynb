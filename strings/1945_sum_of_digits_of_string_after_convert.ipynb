{
 "cells": [
  {
   "cell_type": "markdown",
   "metadata": {},
   "source": [
    "https://leetcode.com/problems/sum-of-digits-of-string-after-convert/"
   ]
  },
  {
   "cell_type": "code",
   "execution_count": 16,
   "metadata": {},
   "outputs": [],
   "source": [
    "import string\n",
    "\n",
    "class Solution:\n",
    "    def getLucky(self, s: str, k: int) -> int:\n",
    "        temp_str = self.convert(s) \n",
    "        for i in range(k):\n",
    "            temp_str = self.transform(temp_str)\n",
    "        return int(temp_str)\n",
    "    \n",
    "    def convert(self, s):\n",
    "        return ''.join([str(string.ascii_lowercase.index(char) + 1) for char in s])\n",
    "        \n",
    "    def transform(self, s):\n",
    "        return str(sum([int(digit) for digit in s]))\n",
    "    \n",
    "    "
   ]
  },
  {
   "cell_type": "code",
   "execution_count": 15,
   "metadata": {},
   "outputs": [
    {
     "data": {
      "text/plain": [
       "6"
      ]
     },
     "execution_count": 15,
     "metadata": {},
     "output_type": "execute_result"
    }
   ],
   "source": [
    "s = Solution()\n",
    "\n",
    "s.getLucky('leetcode', 2)"
   ]
  },
  {
   "cell_type": "code",
   "execution_count": null,
   "metadata": {},
   "outputs": [],
   "source": []
  }
 ],
 "metadata": {
  "kernelspec": {
   "display_name": "Python 3",
   "language": "python",
   "name": "python3"
  },
  "language_info": {
   "codemirror_mode": {
    "name": "ipython",
    "version": 3
   },
   "file_extension": ".py",
   "mimetype": "text/x-python",
   "name": "python",
   "nbconvert_exporter": "python",
   "pygments_lexer": "ipython3",
   "version": "3.7.6"
  }
 },
 "nbformat": 4,
 "nbformat_minor": 4
}
