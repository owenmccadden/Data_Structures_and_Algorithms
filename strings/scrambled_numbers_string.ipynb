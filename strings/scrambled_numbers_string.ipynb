{
 "cells": [
  {
   "cell_type": "markdown",
   "metadata": {},
   "source": [
    "## Summary"
   ]
  },
  {
   "cell_type": "markdown",
   "metadata": {},
   "source": [
    "Given a string that is made up of the scrambled characters of the words for the digits 0 through 9, return the digits contained within the scrambled string in sorted order"
   ]
  },
  {
   "cell_type": "markdown",
   "metadata": {},
   "source": [
    "## Example\n",
    "s = 'ofneornunei'\n",
    "\n",
    "returns '149'"
   ]
  },
  {
   "cell_type": "code",
   "execution_count": 29,
   "metadata": {},
   "outputs": [],
   "source": [
    "def count_remaining_chars(char_map):\n",
    "    count = 0\n",
    "    for key, value in char_map.items():\n",
    "        count += value\n",
    "    return count"
   ]
  },
  {
   "cell_type": "code",
   "execution_count": 38,
   "metadata": {},
   "outputs": [],
   "source": [
    "def to_string(arr):\n",
    "    arr.sort()\n",
    "    result = ''\n",
    "    for num in arr:\n",
    "        result += str(num)\n",
    "    return result"
   ]
  },
  {
   "cell_type": "code",
   "execution_count": 50,
   "metadata": {},
   "outputs": [],
   "source": [
    "def unscramble(s):\n",
    "    num_map = {\n",
    "        'zero': 0,\n",
    "        'one': 1,\n",
    "        'two': 2,\n",
    "        'three': 3,\n",
    "        'four': 4,\n",
    "        'five': 5,\n",
    "        'six': 6,\n",
    "        'seven': 7,\n",
    "        'eight': 8,\n",
    "        'nine': 9\n",
    "    }\n",
    "    \n",
    "    char_map = {}\n",
    "    for char in s:\n",
    "        if char not in char_map:\n",
    "            char_map[char] = 1\n",
    "        else:\n",
    "            char_map[char] += 1\n",
    "            \n",
    "    temp = []\n",
    "    while count_remaining_chars(char_map) > 0:\n",
    "        for num in num_map:\n",
    "            has_num = True\n",
    "            visited = []\n",
    "            for char in num:\n",
    "                if char in char_map and char_map[char] > 0:\n",
    "                    visited.append(char)\n",
    "                    char_map[char] = char_map[char] - 1\n",
    "                else:\n",
    "                    for ch in visited:\n",
    "                        char_map[ch] = char_map[ch] + 1\n",
    "                    has_num = False\n",
    "                    break\n",
    "            if has_num:\n",
    "                temp.append(num_map[num])\n",
    "    \n",
    "    return to_string(temp)"
   ]
  },
  {
   "cell_type": "code",
   "execution_count": 55,
   "metadata": {},
   "outputs": [],
   "source": [
    "test = 'ofsneoveneuinnternwionneoetthwreoe'"
   ]
  },
  {
   "cell_type": "code",
   "execution_count": 56,
   "metadata": {},
   "outputs": [
    {
     "data": {
      "text/plain": [
       "'112234799'"
      ]
     },
     "execution_count": 56,
     "metadata": {},
     "output_type": "execute_result"
    }
   ],
   "source": [
    "unscramble(test)"
   ]
  },
  {
   "cell_type": "code",
   "execution_count": null,
   "metadata": {},
   "outputs": [],
   "source": []
  }
 ],
 "metadata": {
  "kernelspec": {
   "display_name": "Python 3",
   "language": "python",
   "name": "python3"
  },
  "language_info": {
   "codemirror_mode": {
    "name": "ipython",
    "version": 3
   },
   "file_extension": ".py",
   "mimetype": "text/x-python",
   "name": "python",
   "nbconvert_exporter": "python",
   "pygments_lexer": "ipython3",
   "version": "3.7.6"
  }
 },
 "nbformat": 4,
 "nbformat_minor": 4
}
