{
 "cells": [
  {
   "cell_type": "markdown",
   "metadata": {},
   "source": [
    "# Linked List Practice Problems"
   ]
  },
  {
   "cell_type": "markdown",
   "metadata": {},
   "source": [
    "## Singly Linked List Implementation\n",
    "- simple singly linked list implementation to use for practice problems"
   ]
  },
  {
   "cell_type": "code",
   "execution_count": 129,
   "metadata": {},
   "outputs": [],
   "source": [
    "from random import randint\n",
    "\n",
    "class Node:\n",
    "    def __init__(self, value=None, next=None):\n",
    "        self.value = value\n",
    "        self.next = None\n",
    "\n",
    "    def __str__(self):\n",
    "        return str(self.value)\n",
    "\n",
    "class SLL:\n",
    "    def __init__(self, values = None):\n",
    "        self.head = None\n",
    "        self.tail = None\n",
    "\n",
    "    def __iter__(self):\n",
    "        curNode = self.head\n",
    "        while curNode:\n",
    "            yield curNode\n",
    "            curNode = curNode.next\n",
    "\n",
    "    def __str__(self):\n",
    "        values = [str(x.value) for x in self]\n",
    "        return ' -> '.join(values)\n",
    "\n",
    "    def __len__(self):\n",
    "        result = 0\n",
    "        node = self.head\n",
    "        while node:\n",
    "            result += 1\n",
    "            node = node.next\n",
    "        return result\n",
    "    \n",
    "    def add_left(self, value):\n",
    "        node = Node(value)\n",
    "        if self.head == None:\n",
    "            self.head = node\n",
    "            self.tail = node\n",
    "        else:\n",
    "            node.next = self.head\n",
    "            self.head = node\n",
    "\n",
    "    def add(self, value):\n",
    "        if self.head is None:\n",
    "            newNode = Node(value)\n",
    "            self.head = newNode\n",
    "            self.tail = newNode\n",
    "        else:\n",
    "            node = Node(value)\n",
    "            self.tail.next = node\n",
    "            self.tail = self.tail.next\n",
    "        return self.tail\n",
    "\n",
    "    def generate(self, n, min_value, max_value):\n",
    "        self.head = None\n",
    "        self.tail = None\n",
    "        for i in range(n):\n",
    "            self.add(randint(min_value,max_value))\n",
    "        return self"
   ]
  },
  {
   "cell_type": "markdown",
   "metadata": {},
   "source": [
    "## Doubly Linked List Implementation\n",
    "- simple doubly linked list implementation to use for practice problems"
   ]
  },
  {
   "cell_type": "code",
   "execution_count": 33,
   "metadata": {},
   "outputs": [],
   "source": [
    "from random import randint\n",
    "\n",
    "class Node:\n",
    "    def __init__(self, value=None):\n",
    "        self.value = value\n",
    "        self.next = None\n",
    "        self.prev = None\n",
    "\n",
    "    def __str__(self):\n",
    "        return str(self.value)\n",
    "\n",
    "class DLL:\n",
    "    def __init__(self, values = None):\n",
    "        self.head = None\n",
    "        self.tail = None\n",
    "\n",
    "    def __iter__(self):\n",
    "        curNode = self.head\n",
    "        while curNode:\n",
    "            yield curNode\n",
    "            curNode = curNode.next\n",
    "\n",
    "    def __str__(self):\n",
    "        values = [str(x.value) for x in self]\n",
    "        return ' -> '.join(values)\n",
    "\n",
    "    def __len__(self):\n",
    "        result = 0\n",
    "        node = self.head\n",
    "        while node:\n",
    "            result += 1\n",
    "            node = node.next\n",
    "        return result\n",
    "\n",
    "    def add(self, value):\n",
    "        if self.head is None:\n",
    "            newNode = Node(value)\n",
    "            self.head = newNode\n",
    "            self.tail = newNode\n",
    "        else:\n",
    "            node = Node(value)\n",
    "            self.tail.next = node\n",
    "            node.prev = self.tail\n",
    "            self.tail = self.tail.next\n",
    "        return self.tail\n",
    "\n",
    "    def generate(self, n, min_value, max_value):\n",
    "        self.head = None\n",
    "        self.tail = None\n",
    "        for i in range(n):\n",
    "            self.add(randint(min_value,max_value))\n",
    "        return self"
   ]
  },
  {
   "cell_type": "markdown",
   "metadata": {},
   "source": [
    "## Question 1:\n",
    "- Remove duplicates from an unsorted linked list"
   ]
  },
  {
   "cell_type": "code",
   "execution_count": 34,
   "metadata": {},
   "outputs": [],
   "source": [
    "def remove_duplicates(a):\n",
    "    items = set()\n",
    "    node = a.head\n",
    "    while node != None:\n",
    "        if node.value in items:\n",
    "            if node.prev == None:\n",
    "                node.next.prev = None\n",
    "            elif node.next == None:\n",
    "                node.prev.next = None\n",
    "            else:\n",
    "                node.prev.next = node.next\n",
    "                node.next.prev = node.prev\n",
    "        else:\n",
    "            items.add(node.value)\n",
    "        node = node.next\n",
    "    return a"
   ]
  },
  {
   "cell_type": "code",
   "execution_count": 35,
   "metadata": {},
   "outputs": [
    {
     "name": "stdout",
     "output_type": "stream",
     "text": [
      "6 -> 7 -> 7 -> 0 -> 7 -> 2 -> 3 -> 9 -> 10 -> 5 -> 3 -> 5 -> 1 -> 4 -> 1 -> 1 -> 6 -> 5 -> 0 -> 3 -> 4 -> 0 -> 10 -> 4 -> 6 -> 7 -> 4 -> 6 -> 4 -> 7 -> 4 -> 4 -> 0 -> 10 -> 7 -> 10 -> 7 -> 8 -> 8 -> 7 -> 7 -> 3 -> 7 -> 2 -> 8 -> 10 -> 2 -> 0 -> 8 -> 0 -> 8 -> 1 -> 3 -> 7 -> 9 -> 8 -> 0 -> 6 -> 9 -> 2 -> 8 -> 9 -> 9 -> 5 -> 4 -> 6 -> 10 -> 7 -> 1 -> 10 -> 1 -> 5 -> 0 -> 10 -> 2 -> 6 -> 8 -> 10 -> 6 -> 4 -> 10 -> 3 -> 9 -> 8 -> 10 -> 4 -> 3 -> 3 -> 1 -> 6 -> 9 -> 6 -> 1 -> 9 -> 2 -> 10 -> 2 -> 8 -> 4 -> 2\n",
      "\n",
      "6 -> 7 -> 0 -> 2 -> 3 -> 9 -> 10 -> 5 -> 1 -> 4 -> 8\n"
     ]
    }
   ],
   "source": [
    "a = DLL()\n",
    "a.generate(100, 0, 10)\n",
    "print(a)\n",
    "remove_duplicates(a)\n",
    "print('')\n",
    "print(a)"
   ]
  },
  {
   "cell_type": "markdown",
   "metadata": {},
   "source": [
    "#### alternative implementation:\n",
    "- does not maintain chain of prev links in DLL"
   ]
  },
  {
   "cell_type": "code",
   "execution_count": 25,
   "metadata": {},
   "outputs": [],
   "source": [
    "def remove_duplicates_2(a):\n",
    "    curr = a.head\n",
    "    visited = set(curr.value)\n",
    "    while curr.next:\n",
    "        if curr.next.value in visited:\n",
    "            curr.next = curr.next.next\n",
    "        else:\n",
    "            visited.add(curr.next.value)\n",
    "            curr = curr.next\n",
    "    return a"
   ]
  },
  {
   "cell_type": "code",
   "execution_count": 36,
   "metadata": {},
   "outputs": [
    {
     "name": "stdout",
     "output_type": "stream",
     "text": [
      "9 -> 3 -> 8 -> 3 -> 5 -> 7 -> 4 -> 5 -> 4 -> 7 -> 9 -> 3 -> 6 -> 8 -> 1 -> 3 -> 1 -> 10 -> 6 -> 7 -> 5 -> 3 -> 8 -> 3 -> 4 -> 3 -> 1 -> 1 -> 0 -> 9 -> 1 -> 6 -> 8 -> 6 -> 7 -> 3 -> 2 -> 7 -> 1 -> 1 -> 10 -> 0 -> 6 -> 1 -> 8 -> 10 -> 0 -> 6 -> 8 -> 5 -> 0 -> 10 -> 7 -> 7 -> 0 -> 10 -> 10 -> 3 -> 5 -> 0 -> 8 -> 9 -> 0 -> 6 -> 7 -> 4 -> 0 -> 3 -> 0 -> 3 -> 4 -> 1 -> 5 -> 9 -> 7 -> 5 -> 2 -> 0 -> 5 -> 5 -> 1 -> 5 -> 3 -> 1 -> 8 -> 5 -> 1 -> 7 -> 0 -> 2 -> 1 -> 0 -> 0 -> 6 -> 7 -> 0 -> 3 -> 4 -> 8 -> 8\n",
      "\n",
      "9 -> 3 -> 8 -> 5 -> 7 -> 4 -> 6 -> 1 -> 10 -> 0 -> 2\n"
     ]
    }
   ],
   "source": [
    "a = DLL()\n",
    "a.generate(100, 0, 10)\n",
    "print(a)\n",
    "remove_duplicates(a)\n",
    "print('')\n",
    "print(a)"
   ]
  },
  {
   "cell_type": "markdown",
   "metadata": {},
   "source": [
    "## Question 2:\n",
    "- return the Nth to last element of a singly linked list"
   ]
  },
  {
   "cell_type": "code",
   "execution_count": 41,
   "metadata": {},
   "outputs": [],
   "source": [
    "def return_nth_to_last(ll, n):\n",
    "    temp = ll.head\n",
    "    count = 0\n",
    "    while temp != None:\n",
    "        temp = temp.next\n",
    "        count += 1\n",
    "    \n",
    "    temp = ll.head\n",
    "    index = 0\n",
    "    while temp != None:\n",
    "        if (count - index) == n:\n",
    "            return temp.value\n",
    "        temp = temp.next\n",
    "        index += 1\n",
    "    "
   ]
  },
  {
   "cell_type": "code",
   "execution_count": 47,
   "metadata": {},
   "outputs": [],
   "source": [
    "def return_nth_to_last_2(ll, n):\n",
    "    ll_copy = []\n",
    "    temp = ll.head\n",
    "    while temp != None:\n",
    "        ll_copy.append(temp.value)\n",
    "        temp = temp.next\n",
    "    return ll_copy[-n]"
   ]
  },
  {
   "cell_type": "code",
   "execution_count": 48,
   "metadata": {},
   "outputs": [
    {
     "name": "stdout",
     "output_type": "stream",
     "text": [
      "7 -> 7 -> 6 -> 1 -> 5 -> 2 -> 8 -> 1 -> 6 -> 7\n",
      "6\n",
      "6\n"
     ]
    }
   ],
   "source": [
    "a = SLL()\n",
    "a.generate(10, 0, 10)\n",
    "print(a)\n",
    "print(return_nth_to_last(a, 2))\n",
    "print(return_nth_to_last_2(a, 2))"
   ]
  },
  {
   "cell_type": "markdown",
   "metadata": {},
   "source": [
    "## Question 3:\n",
    "- partion a linked list around a value x such that all nodes less than x come before x and all nodes greater than x come after x\n",
    "- assumes x is in the original linked list exactly one time"
   ]
  },
  {
   "cell_type": "code",
   "execution_count": 54,
   "metadata": {},
   "outputs": [],
   "source": [
    "def partition(ll, x):\n",
    "    ll_copy = SLL()\n",
    "    ll_copy.add(Node(x))\n",
    "    temp = ll.head\n",
    "    while temp != None:\n",
    "        if temp.value < x:\n",
    "            ll_copy.add_left(temp)\n",
    "        elif temp.value > x:\n",
    "            ll_copy.add(temp)\n",
    "        temp = temp.next\n",
    "    return ll_copy\n",
    "    "
   ]
  },
  {
   "cell_type": "code",
   "execution_count": 57,
   "metadata": {},
   "outputs": [
    {
     "name": "stdout",
     "output_type": "stream",
     "text": [
      "7 -> 2 -> 8 -> 9 -> 10 -> 5 -> 3 -> 10 -> 1 -> 6\n",
      "1 -> 3 -> 2 -> 5 -> 7 -> 8 -> 9 -> 10 -> 10 -> 6\n"
     ]
    }
   ],
   "source": [
    "a = SLL()\n",
    "a.generate(10, 0, 10)\n",
    "print(a)\n",
    "b = partition(a, 5)\n",
    "print(b)"
   ]
  },
  {
   "cell_type": "markdown",
   "metadata": {},
   "source": [
    "## Question 4:\n",
    "- given two numbers represented as linked lists in reverse order, where each digit of the number is represented by a single node in the linked list, return the sum of the two numbers as a linked list in normal order"
   ]
  },
  {
   "cell_type": "code",
   "execution_count": 75,
   "metadata": {},
   "outputs": [],
   "source": [
    "def sum_lists(a, b):\n",
    "    string_a = ''\n",
    "    temp = a.head\n",
    "    while temp != None:\n",
    "        string_a += str(temp.value)\n",
    "        temp = temp.next\n",
    "    \n",
    "    string_b = ''\n",
    "    temp = b.head\n",
    "    while temp != None:\n",
    "        string_b += str(temp.value)\n",
    "        temp = temp.next\n",
    "        \n",
    "    string_a = string_a[::-1]\n",
    "    string_b = string_b[::-1]\n",
    "        \n",
    "    list_sum = int(string_a) + int(string_b)\n",
    "    output = SLL()\n",
    "    for i in str(list_sum)[::-1]:\n",
    "        output.add(i)\n",
    "    return output"
   ]
  },
  {
   "cell_type": "code",
   "execution_count": 76,
   "metadata": {},
   "outputs": [
    {
     "name": "stdout",
     "output_type": "stream",
     "text": [
      "9 -> 8 -> 4\n",
      "6 -> 0 -> 5\n",
      "5 -> 9 -> 9\n"
     ]
    }
   ],
   "source": [
    "a = SLL()\n",
    "a.generate(3, 0, 10)\n",
    "print(a)\n",
    "\n",
    "b = SLL()\n",
    "b.generate(3, 0, 10)\n",
    "print(b)\n",
    "\n",
    "c = sum_lists(a, b)\n",
    "print(c)"
   ]
  },
  {
   "cell_type": "code",
   "execution_count": 77,
   "metadata": {},
   "outputs": [
    {
     "data": {
      "text/plain": [
       "995"
      ]
     },
     "execution_count": 77,
     "metadata": {},
     "output_type": "execute_result"
    }
   ],
   "source": [
    "489 + 506"
   ]
  },
  {
   "cell_type": "code",
   "execution_count": 111,
   "metadata": {},
   "outputs": [],
   "source": [
    "def sum_lists_2(a, b):\n",
    "    temp_a = a.head\n",
    "    temp_b = b.head\n",
    "    carry = 0\n",
    "    output = SLL()\n",
    "    \n",
    "    while temp_a or temp_b or carry > 1:\n",
    "        result = carry\n",
    "        if temp_a:\n",
    "            result += temp_a.value\n",
    "            temp_a = temp_a.next\n",
    "        if temp_b:\n",
    "            result += temp_b.value\n",
    "            temp_b = temp_b.next\n",
    "        output.add(int(result % 10))\n",
    "        carry = result / 10\n",
    "    \n",
    "    return output\n",
    "        "
   ]
  },
  {
   "cell_type": "code",
   "execution_count": 112,
   "metadata": {},
   "outputs": [
    {
     "name": "stdout",
     "output_type": "stream",
     "text": [
      "8 -> 5 -> 8\n",
      "5 -> 5 -> 9\n",
      "3 -> 1 -> 8 -> 1\n"
     ]
    }
   ],
   "source": [
    "a = SLL()\n",
    "a.generate(3, 5, 9)\n",
    "print(a)\n",
    "\n",
    "b = SLL()\n",
    "b.generate(3, 5, 9)\n",
    "print(b)\n",
    "\n",
    "c = sum_lists_2(a, b)\n",
    "print(c)"
   ]
  },
  {
   "cell_type": "code",
   "execution_count": 113,
   "metadata": {},
   "outputs": [
    {
     "data": {
      "text/plain": [
       "1813"
      ]
     },
     "execution_count": 113,
     "metadata": {},
     "output_type": "execute_result"
    }
   ],
   "source": [
    "858 + 955"
   ]
  },
  {
   "cell_type": "markdown",
   "metadata": {},
   "source": [
    "# Question 5\n",
    "- given two linked lists, determine if they intersect and return the intersecting node\n",
    "    - intersection is based on reference, not value i.e. two lists intersect if the kth node of list a is the exact same node by reference as the jth node of list b\n",
    "- note not possible for linked lists to have an intersection using the generate method, since all nodes are newly created before being added\n",
    "    - however, it is possible if two linked lists are manually linked to the same node"
   ]
  },
  {
   "cell_type": "code",
   "execution_count": 134,
   "metadata": {},
   "outputs": [],
   "source": [
    "def is_intersection(a, b):\n",
    "    addresses = set()\n",
    "    temp = a.head\n",
    "    while temp != None:\n",
    "        addresses.add(id(temp))\n",
    "        temp = temp.next\n",
    "    \n",
    "    temp = b.head\n",
    "    while temp != None:\n",
    "        if id(temp) in addresses:\n",
    "            return temp\n",
    "        temp = temp.next\n",
    "    \n",
    "    print(\"No intersection.\")\n",
    "    return None\n",
    "    "
   ]
  },
  {
   "cell_type": "code",
   "execution_count": 135,
   "metadata": {},
   "outputs": [
    {
     "name": "stdout",
     "output_type": "stream",
     "text": [
      "5 -> 8 -> 6\n",
      "9 -> 6 -> 6\n",
      "No intersection.\n"
     ]
    }
   ],
   "source": [
    "a = SLL()\n",
    "a.generate(3, 5, 9)\n",
    "print(a)\n",
    "\n",
    "b = SLL()\n",
    "b.generate(3, 5, 9)\n",
    "print(b)\n",
    "\n",
    "is_intersection(a, b)"
   ]
  },
  {
   "cell_type": "code",
   "execution_count": null,
   "metadata": {},
   "outputs": [],
   "source": []
  }
 ],
 "metadata": {
  "kernelspec": {
   "display_name": "Python 3",
   "language": "python",
   "name": "python3"
  },
  "language_info": {
   "codemirror_mode": {
    "name": "ipython",
    "version": 3
   },
   "file_extension": ".py",
   "mimetype": "text/x-python",
   "name": "python",
   "nbconvert_exporter": "python",
   "pygments_lexer": "ipython3",
   "version": "3.7.6"
  }
 },
 "nbformat": 4,
 "nbformat_minor": 4
}
