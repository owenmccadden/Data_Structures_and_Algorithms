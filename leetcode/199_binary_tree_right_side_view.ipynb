{
 "cells": [
  {
   "cell_type": "markdown",
   "metadata": {},
   "source": [
    "# 199 Binary Tree Right Side View\n",
    "- given a binary tree, imagine standing on the right side. return the nodes visible from top to bottom\n",
    "- essentially -- return the rightmost nodes of a binary tree from top to bottom"
   ]
  },
  {
   "cell_type": "code",
   "execution_count": 1,
   "metadata": {},
   "outputs": [],
   "source": [
    "class TreeNode:\n",
    "    def __init__(self, val, left=None, right=None):\n",
    "        self.val = val\n",
    "        self.left = left\n",
    "        self.right = right\n",
    "    \n",
    "    def insert_left(self, data):\n",
    "        self.left = TreeNode(data)\n",
    "        return self.left\n",
    "    \n",
    "    def insert_right(self, data):\n",
    "        self.right = TreeNode(data)\n",
    "        return self.right\n",
    "\n",
    "    def preorder(self):\n",
    "        print(self.val)\n",
    "        if self.left:\n",
    "            self.left.preorder()\n",
    "        if self.right:\n",
    "            self.right.preorder()\n",
    "    \n",
    "    def traverse_right(self):\n",
    "        print(self.val)\n",
    "        if self.right:\n",
    "            self.right.traverse_right()"
   ]
  },
  {
   "cell_type": "code",
   "execution_count": 2,
   "metadata": {},
   "outputs": [],
   "source": [
    "class Solution:\n",
    "    def rightSideView(self, root):\n",
    "        self.rows = []\n",
    "        self.fill_rows(root, 0)\n",
    "        values = []\n",
    "        for row in self.rows:\n",
    "            values.append(row[-1])\n",
    "        return values\n",
    "    \n",
    "    def fill_rows(self, root, level):\n",
    "        if root is None:\n",
    "            return\n",
    "        if len(self.rows) == level:\n",
    "            self.rows.append([])\n",
    "        self.rows[level].append(root.val)\n",
    "        self.fill_rows(root.left, level+1)\n",
    "        self.fill_rows(root.right, level+1)"
   ]
  },
  {
   "cell_type": "code",
   "execution_count": 3,
   "metadata": {},
   "outputs": [],
   "source": [
    "def right_side_view(root):\n",
    "    result = []\n",
    "    if root is None:\n",
    "        return result\n",
    "    q = deque()\n",
    "    q.appendleft(root)\n",
    "    while q:\n",
    "        for i in range(len(q)):\n",
    "            curr = q.pop()\n",
    "            if i == 0:\n",
    "                result.append(curr.val)\n",
    "            if curr.right:\n",
    "                q.appendleft(curr.right)\n",
    "            if curr.left:\n",
    "                q.appendleft(curr.left)\n",
    "    return result"
   ]
  },
  {
   "cell_type": "code",
   "execution_count": null,
   "metadata": {},
   "outputs": [],
   "source": []
  }
 ],
 "metadata": {
  "kernelspec": {
   "display_name": "Python 3",
   "language": "python",
   "name": "python3"
  },
  "language_info": {
   "codemirror_mode": {
    "name": "ipython",
    "version": 3
   },
   "file_extension": ".py",
   "mimetype": "text/x-python",
   "name": "python",
   "nbconvert_exporter": "python",
   "pygments_lexer": "ipython3",
   "version": "3.7.6"
  }
 },
 "nbformat": 4,
 "nbformat_minor": 4
}
