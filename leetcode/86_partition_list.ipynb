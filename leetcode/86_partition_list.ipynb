{
 "cells": [
  {
   "cell_type": "markdown",
   "metadata": {},
   "source": [
    "# 86 Partition List\n",
    "- given head of linked list and value x, partiton linked list such that all values less than x appear before all values greater than x while preversing the original order"
   ]
  },
  {
   "cell_type": "code",
   "execution_count": 19,
   "metadata": {},
   "outputs": [],
   "source": [
    "class Node:\n",
    "    def __init__(self, val=0, next=None):\n",
    "        self.val = val\n",
    "        self.next = next\n",
    "    \n",
    "    def traverse(self):\n",
    "        curr = self\n",
    "        while curr is not None:\n",
    "            print(curr.val)\n",
    "            curr = curr.next "
   ]
  },
  {
   "cell_type": "code",
   "execution_count": 23,
   "metadata": {},
   "outputs": [],
   "source": [
    "def partition(head, x):\n",
    "    before_head = Node(0)\n",
    "    before = before_head\n",
    "    after_head = Node(0)\n",
    "    after = after_head\n",
    "    \n",
    "    while head is not None:\n",
    "        if head.val < x:\n",
    "            before.next = head\n",
    "            before = before.next\n",
    "        else:\n",
    "            after.next = head\n",
    "            after = after.next\n",
    "        head = head.next\n",
    "        \n",
    "    after.next = None\n",
    "    before.next = after_head.next\n",
    "    return before_head.next\n",
    "    "
   ]
  },
  {
   "cell_type": "code",
   "execution_count": 24,
   "metadata": {},
   "outputs": [],
   "source": [
    "example = Node(1)\n",
    "example.next = Node(4)\n",
    "example.next.next = Node(3)\n",
    "example.next.next.next = Node(2)\n",
    "example.next.next.next.next = Node(5)\n",
    "example.next.next.next.next.next = Node(2)\n",
    "# example.traverse()"
   ]
  },
  {
   "cell_type": "code",
   "execution_count": 25,
   "metadata": {},
   "outputs": [],
   "source": [
    "output = partition(example, 3)"
   ]
  },
  {
   "cell_type": "code",
   "execution_count": 26,
   "metadata": {},
   "outputs": [
    {
     "name": "stdout",
     "output_type": "stream",
     "text": [
      "1\n",
      "2\n",
      "2\n",
      "4\n",
      "3\n",
      "5\n"
     ]
    }
   ],
   "source": [
    "output.traverse()"
   ]
  },
  {
   "cell_type": "code",
   "execution_count": null,
   "metadata": {},
   "outputs": [],
   "source": []
  }
 ],
 "metadata": {
  "kernelspec": {
   "display_name": "Python 3",
   "language": "python",
   "name": "python3"
  },
  "language_info": {
   "codemirror_mode": {
    "name": "ipython",
    "version": 3
   },
   "file_extension": ".py",
   "mimetype": "text/x-python",
   "name": "python",
   "nbconvert_exporter": "python",
   "pygments_lexer": "ipython3",
   "version": "3.7.6"
  }
 },
 "nbformat": 4,
 "nbformat_minor": 4
}
