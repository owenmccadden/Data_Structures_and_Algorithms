{
 "cells": [
  {
   "cell_type": "markdown",
   "metadata": {},
   "source": [
    "# 21 Merge Linked List\n",
    "- merge two linked lists sorted in increasing order by splicing together nodes of each list"
   ]
  },
  {
   "cell_type": "code",
   "execution_count": 1,
   "metadata": {},
   "outputs": [],
   "source": [
    "class ListNode:\n",
    "    def __init__(self, val=0, next=None):\n",
    "        self.val = val\n",
    "        self.next = next"
   ]
  },
  {
   "cell_type": "code",
   "execution_count": 2,
   "metadata": {},
   "outputs": [],
   "source": [
    "def merge(l1, l2):\n",
    "    temp = ListNode(0)\n",
    "    curr = temp\n",
    "    \n",
    "    while l1 is not None and l2 is not None:\n",
    "        if l1.val < l2.val:\n",
    "            curr.next = l1\n",
    "            l1 = l1.next\n",
    "        else:\n",
    "            curr.next = l2\n",
    "            l2 = l2.next\n",
    "        \n",
    "        curr = curr.next\n",
    "    \n",
    "    if l1 is not None:\n",
    "        curr.next = l1\n",
    "        l1 = l1.next\n",
    "    \n",
    "    if l2 is not None:\n",
    "        curr.next = l2\n",
    "        l2 = l2.next\n",
    "    \n",
    "    return temp.next"
   ]
  },
  {
   "cell_type": "code",
   "execution_count": 4,
   "metadata": {},
   "outputs": [
    {
     "name": "stdout",
     "output_type": "stream",
     "text": [
      "1\n",
      "2\n",
      "2\n",
      "3\n",
      "3\n",
      "3\n",
      "4\n"
     ]
    }
   ],
   "source": [
    "test1 = ListNode(1, ListNode(2, ListNode(3, ListNode(4))))\n",
    "test2 = ListNode(2, ListNode(3, ListNode(3)))\n",
    "result = merge(test1, test2)\n",
    "while result is not None:\n",
    "    print(result.val)\n",
    "    result = result.next"
   ]
  },
  {
   "cell_type": "code",
   "execution_count": null,
   "metadata": {},
   "outputs": [],
   "source": []
  }
 ],
 "metadata": {
  "kernelspec": {
   "display_name": "Python 3",
   "language": "python",
   "name": "python3"
  },
  "language_info": {
   "codemirror_mode": {
    "name": "ipython",
    "version": 3
   },
   "file_extension": ".py",
   "mimetype": "text/x-python",
   "name": "python",
   "nbconvert_exporter": "python",
   "pygments_lexer": "ipython3",
   "version": "3.7.6"
  }
 },
 "nbformat": 4,
 "nbformat_minor": 4
}
