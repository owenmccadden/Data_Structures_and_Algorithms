{
 "cells": [
  {
   "cell_type": "markdown",
   "metadata": {},
   "source": [
    "# 846 Hand of Straights\n",
    "- given an array of integers representing cards, and a size, groupSize, rearrange the cards into groups in place such that each group is of size groupSize, and each group consists of consecutive cards\n",
    "- return a boolean to indicate if this is possible"
   ]
  },
  {
   "cell_type": "code",
   "execution_count": 49,
   "metadata": {},
   "outputs": [],
   "source": [
    "def is_n_straight_hand(hand, size):\n",
    "    if len(hand) == 0 or size == 0 or len(hand) % size != 0:\n",
    "        return False\n",
    "    \n",
    "    hand.sort()\n",
    "    card_dict = {}\n",
    "    cards = []\n",
    "    for card in hand:\n",
    "        if card not in card_dict:\n",
    "            card_dict[card] = 1\n",
    "            cards.append(card)\n",
    "        else:\n",
    "            card_dict[card] = card_dict[card] + 1\n",
    "\n",
    "    while len(cards) > 0:\n",
    "        first = cards[0]\n",
    "        for i in range(first, first+size):\n",
    "            if i not in cards:\n",
    "                return False\n",
    "            if card_dict[i] == 1:\n",
    "                cards.remove(i)\n",
    "            else:\n",
    "                card_dict[i] = card_dict[i] - 1\n",
    "    \n",
    "    return True\n",
    "    \n",
    "        \n",
    "       \n",
    "        \n",
    "        \n",
    "        \n",
    "    "
   ]
  },
  {
   "cell_type": "code",
   "execution_count": 48,
   "metadata": {},
   "outputs": [
    {
     "name": "stdout",
     "output_type": "stream",
     "text": [
      "[2, 3, 4, 6, 7, 8]\n",
      "{1: 1, 2: 1, 3: 1, 4: 1, 6: 1, 7: 1, 8: 1}\n",
      "[6, 7, 8]\n",
      "{1: 1, 2: 1, 3: 1, 4: 1, 6: 1, 7: 1, 8: 1}\n",
      "[]\n",
      "{1: 1, 2: 1, 3: 1, 4: 1, 6: 1, 7: 1, 8: 1}\n"
     ]
    },
    {
     "data": {
      "text/plain": [
       "True"
      ]
     },
     "execution_count": 48,
     "metadata": {},
     "output_type": "execute_result"
    }
   ],
   "source": [
    "is_n_straight_hand([1,2,3,6,2,3,4,7,8], 3)"
   ]
  },
  {
   "cell_type": "code",
   "execution_count": null,
   "metadata": {},
   "outputs": [],
   "source": []
  }
 ],
 "metadata": {
  "kernelspec": {
   "display_name": "Python 3",
   "language": "python",
   "name": "python3"
  },
  "language_info": {
   "codemirror_mode": {
    "name": "ipython",
    "version": 3
   },
   "file_extension": ".py",
   "mimetype": "text/x-python",
   "name": "python",
   "nbconvert_exporter": "python",
   "pygments_lexer": "ipython3",
   "version": "3.7.6"
  }
 },
 "nbformat": 4,
 "nbformat_minor": 4
}
