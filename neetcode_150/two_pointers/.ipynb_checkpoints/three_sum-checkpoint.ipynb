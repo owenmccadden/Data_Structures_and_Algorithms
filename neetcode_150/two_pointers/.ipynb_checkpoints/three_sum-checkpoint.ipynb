{
 "cells": [
  {
   "cell_type": "markdown",
   "metadata": {},
   "source": [
    "https://leetcode.com/problems/3sum/"
   ]
  },
  {
   "cell_type": "code",
   "execution_count": 1,
   "metadata": {},
   "outputs": [],
   "source": [
    "import itertools"
   ]
  },
  {
   "cell_type": "code",
   "execution_count": 21,
   "metadata": {},
   "outputs": [],
   "source": [
    "\"\"\"\n",
    "\n",
    "brute force: considers all unique combinations using itertools\n",
    "\n",
    "\"\"\"\n",
    "\n",
    "def three_sum(nums):\n",
    "    three_sums = []\n",
    "    unique_sums = set()\n",
    "    indices = [i for i in range(len(nums))]\n",
    "\n",
    "    for comb in itertools.combinations(nums,  r=3):\n",
    "        comb_sum = sum(comb)\n",
    "        if comb_sum == 0:\n",
    "            hash_key = str(sorted(comb))\n",
    "            if hash_key not in unique_sums:\n",
    "                unique_sums.add(hash_key)\n",
    "                three_sums.append(comb)\n",
    "    \n",
    "    return three_sums"
   ]
  },
  {
   "cell_type": "code",
   "execution_count": 22,
   "metadata": {},
   "outputs": [],
   "source": [
    "nums = [-1,0,1,2,-1,-4]"
   ]
  },
  {
   "cell_type": "code",
   "execution_count": 23,
   "metadata": {},
   "outputs": [
    {
     "data": {
      "text/plain": [
       "[(-1, 0, 1), (-1, 2, -1)]"
      ]
     },
     "execution_count": 23,
     "metadata": {},
     "output_type": "execute_result"
    }
   ],
   "source": [
    "three_sum(nums)"
   ]
  },
  {
   "cell_type": "code",
   "execution_count": 51,
   "metadata": {},
   "outputs": [],
   "source": [
    "\"\"\"\n",
    "\n",
    "sort nums, track values in position 0 of the triplet with a set, then solve two sum for positions 1 and 2 using a\n",
    "left pointer and right pointer\n",
    "\n",
    "\"\"\"\n",
    "\n",
    "def three_sum(nums):\n",
    "    three_sums = []\n",
    "    nums.sort()\n",
    "    for i, num in enumerate(nums):\n",
    "        if i > 0 and num == nums[i-1]:\n",
    "            continue\n",
    "            \n",
    "        left = i+1\n",
    "        right = len(nums) - 1\n",
    "        while left < right:\n",
    "            three_sum = num + nums[left] + nums[right]\n",
    "            if three_sum > 0:\n",
    "                right -= 1\n",
    "            elif three_sum < 0:\n",
    "                left += 1\n",
    "            else:\n",
    "                three_sums.append([num, nums[left], nums[right]])\n",
    "                left += 1\n",
    "                while nums[left] == nums[left-1] and left < right:\n",
    "                    left += 1\n",
    "    \n",
    "    return three_sums"
   ]
  },
  {
   "cell_type": "code",
   "execution_count": 52,
   "metadata": {},
   "outputs": [
    {
     "data": {
      "text/plain": [
       "[[-1, -1, 2], [-1, 0, 1]]"
      ]
     },
     "execution_count": 52,
     "metadata": {},
     "output_type": "execute_result"
    }
   ],
   "source": [
    "three_sum(nums)"
   ]
  },
  {
   "cell_type": "code",
   "execution_count": null,
   "metadata": {},
   "outputs": [],
   "source": []
  }
 ],
 "metadata": {
  "kernelspec": {
   "display_name": "Python 3 (ipykernel)",
   "language": "python",
   "name": "python3"
  },
  "language_info": {
   "codemirror_mode": {
    "name": "ipython",
    "version": 3
   },
   "file_extension": ".py",
   "mimetype": "text/x-python",
   "name": "python",
   "nbconvert_exporter": "python",
   "pygments_lexer": "ipython3",
   "version": "3.8.3"
  }
 },
 "nbformat": 4,
 "nbformat_minor": 4
}
