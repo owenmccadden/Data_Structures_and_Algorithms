{
 "cells": [
  {
   "cell_type": "markdown",
   "metadata": {},
   "source": [
    "https://leetcode.com/problems/valid-anagram/"
   ]
  },
  {
   "cell_type": "code",
   "execution_count": 1,
   "metadata": {},
   "outputs": [],
   "source": [
    "from collections import defaultdict"
   ]
  },
  {
   "cell_type": "code",
   "execution_count": 2,
   "metadata": {},
   "outputs": [],
   "source": [
    "def isAnagram(s, t):\n",
    "    s_counts = defaultdict(int)\n",
    "    t_counts = defaultdict(int)\n",
    "    \n",
    "    for char in s:\n",
    "        s_counts[char] += 1\n",
    "    \n",
    "    for char in t:\n",
    "        t_counts[char] += 1\n",
    "        \n",
    "    if len(s_counts) != len(t_counts):\n",
    "        return False  \n",
    "    \n",
    "    for key, value in s_counts.items():\n",
    "        if t_counts[key] != value:\n",
    "            return False\n",
    "    \n",
    "    return True"
   ]
  }
 ],
 "metadata": {
  "kernelspec": {
   "display_name": "Python 3 (ipykernel)",
   "language": "python",
   "name": "python3"
  },
  "language_info": {
   "codemirror_mode": {
    "name": "ipython",
    "version": 3
   },
   "file_extension": ".py",
   "mimetype": "text/x-python",
   "name": "python",
   "nbconvert_exporter": "python",
   "pygments_lexer": "ipython3",
   "version": "3.8.3"
  }
 },
 "nbformat": 4,
 "nbformat_minor": 4
}
