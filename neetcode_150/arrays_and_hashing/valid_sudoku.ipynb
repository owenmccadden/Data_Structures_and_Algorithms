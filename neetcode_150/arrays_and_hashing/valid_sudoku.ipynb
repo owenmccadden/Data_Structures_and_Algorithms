{
 "cells": [
  {
   "cell_type": "markdown",
   "metadata": {},
   "source": [
    "https://leetcode.com/problems/valid-sudoku/"
   ]
  },
  {
   "cell_type": "code",
   "execution_count": 1,
   "metadata": {},
   "outputs": [],
   "source": [
    "from collections import defaultdict"
   ]
  },
  {
   "cell_type": "code",
   "execution_count": 2,
   "metadata": {},
   "outputs": [],
   "source": [
    "board = [[\"5\",\"3\",\".\",\".\",\"7\",\".\",\".\",\".\",\".\"]\n",
    ",[\"6\",\".\",\".\",\"1\",\"9\",\"5\",\".\",\".\",\".\"]\n",
    ",[\".\",\"9\",\"8\",\".\",\".\",\".\",\".\",\"6\",\".\"]\n",
    ",[\"8\",\".\",\".\",\".\",\"6\",\".\",\".\",\".\",\"3\"]\n",
    ",[\"4\",\".\",\".\",\"8\",\".\",\"3\",\".\",\".\",\"1\"]\n",
    ",[\"7\",\".\",\".\",\".\",\"2\",\".\",\".\",\".\",\"6\"]\n",
    ",[\".\",\"6\",\".\",\".\",\".\",\".\",\"2\",\"8\",\".\"]\n",
    ",[\".\",\".\",\".\",\"4\",\"1\",\"9\",\".\",\".\",\"5\"]\n",
    ",[\".\",\".\",\".\",\".\",\"8\",\".\",\".\",\"7\",\"9\"]]"
   ]
  },
  {
   "cell_type": "code",
   "execution_count": 5,
   "metadata": {},
   "outputs": [],
   "source": [
    "def valid_sudoku(board):\n",
    "    cols = defaultdict(set)\n",
    "    valid_cols = True\n",
    "\n",
    "    rows = defaultdict(set)\n",
    "    valid_rows = True\n",
    "    \n",
    "    grids = defaultdict(set)\n",
    "    valid_grid = True\n",
    "\n",
    "    for i in range(len(board)):\n",
    "        for j in range(len(board[0])):\n",
    "            if board[i][j] in cols[j]:\n",
    "                return False\n",
    "            else:\n",
    "                if board[i][j] != '.':\n",
    "                    cols[j].add(board[i][j])\n",
    "\n",
    "            if board[i][j] in rows[i]:\n",
    "                return False\n",
    "            else:\n",
    "                if board[i][j] != '.':\n",
    "                    rows[i].add(board[i][j])\n",
    "                    \n",
    "            if i % 3 == 0 and j % 3 == 0:\n",
    "                grid_index = '{}{}'.format(i, j)\n",
    "                for k in range(i, i+3):\n",
    "                    for l in range(j, j+3):\n",
    "                        if board[k][l] in grids[grid_index]:\n",
    "                            return False\n",
    "                        else:\n",
    "                            if board[k][l] != '.':\n",
    "                                grids[grid_index].add(board[k][l])\n",
    "\n",
    "    return True"
   ]
  },
  {
   "cell_type": "code",
   "execution_count": 6,
   "metadata": {},
   "outputs": [
    {
     "data": {
      "text/plain": [
       "True"
      ]
     },
     "execution_count": 6,
     "metadata": {},
     "output_type": "execute_result"
    }
   ],
   "source": [
    "valid_sudoku(board)"
   ]
  },
  {
   "cell_type": "code",
   "execution_count": 8,
   "metadata": {},
   "outputs": [],
   "source": [
    "\"\"\"\n",
    "this solution checks the rows and columns together, but the grids separately. \n",
    "Provides a faster runtime on leetcode, but this is due to the distribution of test cases\n",
    "i.e. if there was a significantly higher percentage of boards with invalid rows, columns, or grids...\n",
    "could be worth checking one or two of the three first.\n",
    "\n",
    "The above solution assumes an even distribution of the three cases.\n",
    "\"\"\"\n",
    "\n",
    "class Solution:\n",
    "    def isValidSudoku(self, board):\n",
    "        cols = defaultdict(set)\n",
    "        valid_cols = True\n",
    "\n",
    "        rows = defaultdict(set)\n",
    "        valid_rows = True\n",
    "\n",
    "        for i in range(len(board)):\n",
    "            for j in range(len(board[0])):\n",
    "                if board[i][j] in cols[j]:\n",
    "    #                 valid_cols = False\n",
    "                    return False\n",
    "                else:\n",
    "                    if board[i][j] != '.':\n",
    "                        cols[j].add(board[i][j])\n",
    "\n",
    "                if board[i][j] in rows[i]:\n",
    "    #                 valid_rows = False\n",
    "                    return False\n",
    "                else:\n",
    "                    if board[i][j] != '.':\n",
    "                        rows[i].add(board[i][j])\n",
    "                        \n",
    "        grids = defaultdict(set)\n",
    "        valid_grid = True\n",
    "\n",
    "        for i in range(0, len(board), 3):\n",
    "            for j in range(0, len(board), 3):\n",
    "                grid_index = '{}{}'.format(i, j)\n",
    "                for k in range(i, i+3):\n",
    "                    for l in range(j, j+3):\n",
    "                        if board[k][l] in grids[grid_index]:\n",
    "    #                         valid_grid = False\n",
    "                            return False\n",
    "                        else:\n",
    "                            if board[k][l] != '.':\n",
    "                                grids[grid_index].add(board[k][l])\n",
    "        return True"
   ]
  },
  {
   "cell_type": "code",
   "execution_count": null,
   "metadata": {},
   "outputs": [],
   "source": []
  }
 ],
 "metadata": {
  "kernelspec": {
   "display_name": "Python 3 (ipykernel)",
   "language": "python",
   "name": "python3"
  },
  "language_info": {
   "codemirror_mode": {
    "name": "ipython",
    "version": 3
   },
   "file_extension": ".py",
   "mimetype": "text/x-python",
   "name": "python",
   "nbconvert_exporter": "python",
   "pygments_lexer": "ipython3",
   "version": "3.8.3"
  }
 },
 "nbformat": 4,
 "nbformat_minor": 4
}
