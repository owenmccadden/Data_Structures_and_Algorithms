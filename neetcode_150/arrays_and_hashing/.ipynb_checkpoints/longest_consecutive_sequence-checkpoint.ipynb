{
 "cells": [
  {
   "cell_type": "markdown",
   "metadata": {},
   "source": [
    "https://leetcode.com/problems/longest-consecutive-sequence/\n",
    "\n",
    "return the longest consecutive sequence of elemennts in a list of numbers in O(n) time"
   ]
  },
  {
   "cell_type": "code",
   "execution_count": 19,
   "metadata": {},
   "outputs": [],
   "source": [
    "from collections import defaultdict\n",
    "\n",
    "def longest_consecutive(nums):\n",
    "    num_set = set(nums)\n",
    "    max_sequence_length = 0\n",
    "    for num in nums:\n",
    "        current_length = 0\n",
    "        if (num - 1) not in num_set:\n",
    "            temp = num\n",
    "            while temp in num_set:\n",
    "                current_length += 1\n",
    "                temp += 1\n",
    "            max_sequence_length = max(max_sequence_length, current_length)\n",
    "            if max_sequence_length >= len(nums) // 2:\n",
    "                return max_sequence_length\n",
    "    return max_sequence_length"
   ]
  },
  {
   "cell_type": "code",
   "execution_count": 20,
   "metadata": {},
   "outputs": [],
   "source": [
    "nums = [100,4,200,1,3,2]"
   ]
  },
  {
   "cell_type": "code",
   "execution_count": 21,
   "metadata": {},
   "outputs": [
    {
     "data": {
      "text/plain": [
       "4"
      ]
     },
     "execution_count": 21,
     "metadata": {},
     "output_type": "execute_result"
    }
   ],
   "source": [
    "longest_consecutive(nums)        "
   ]
  },
  {
   "cell_type": "code",
   "execution_count": null,
   "metadata": {},
   "outputs": [],
   "source": []
  }
 ],
 "metadata": {
  "kernelspec": {
   "display_name": "Python 3 (ipykernel)",
   "language": "python",
   "name": "python3"
  },
  "language_info": {
   "codemirror_mode": {
    "name": "ipython",
    "version": 3
   },
   "file_extension": ".py",
   "mimetype": "text/x-python",
   "name": "python",
   "nbconvert_exporter": "python",
   "pygments_lexer": "ipython3",
   "version": "3.8.3"
  }
 },
 "nbformat": 4,
 "nbformat_minor": 4
}
