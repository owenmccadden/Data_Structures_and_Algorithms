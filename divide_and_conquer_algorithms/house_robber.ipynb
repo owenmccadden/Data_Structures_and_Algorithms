{
 "cells": [
  {
   "cell_type": "markdown",
   "metadata": {},
   "source": [
    "# House Robber\n",
    "- given n houses along the same street with an arbitrary amount of money\n",
    "- adjacent houses cannot be robbed\n",
    "- find the max amount that can be stolen\n",
    "\n",
    "- divide and conquer approach breaks problem down into many decisions to rob the first house or skip the first house"
   ]
  },
  {
   "cell_type": "code",
   "execution_count": 11,
   "metadata": {},
   "outputs": [],
   "source": [
    "def house_robber(houses, current_index):\n",
    "    if current_index >= len(houses):\n",
    "        return 0\n",
    "    else:\n",
    "        rob_first_house = houses[current_index] + house_robber(houses, current_index + 2)\n",
    "        skip_first_house = house_robber(houses, current_index+1)\n",
    "        return max(rob_first_house, skip_first_house)"
   ]
  },
  {
   "cell_type": "code",
   "execution_count": 13,
   "metadata": {},
   "outputs": [
    {
     "data": {
      "text/plain": [
       "41"
      ]
     },
     "execution_count": 13,
     "metadata": {},
     "output_type": "execute_result"
    }
   ],
   "source": [
    "house_robber([6,7,1,30,8,2,4], 0)"
   ]
  },
  {
   "cell_type": "code",
   "execution_count": null,
   "metadata": {},
   "outputs": [],
   "source": []
  }
 ],
 "metadata": {
  "kernelspec": {
   "display_name": "Python 3",
   "language": "python",
   "name": "python3"
  },
  "language_info": {
   "codemirror_mode": {
    "name": "ipython",
    "version": 3
   },
   "file_extension": ".py",
   "mimetype": "text/x-python",
   "name": "python",
   "nbconvert_exporter": "python",
   "pygments_lexer": "ipython3",
   "version": "3.7.6"
  }
 },
 "nbformat": 4,
 "nbformat_minor": 4
}
