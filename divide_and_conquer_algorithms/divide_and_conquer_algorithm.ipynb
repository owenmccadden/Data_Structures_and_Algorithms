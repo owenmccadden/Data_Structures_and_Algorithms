{
 "cells": [
  {
   "cell_type": "markdown",
   "metadata": {},
   "source": [
    "# Divide and Conquer Algorithms\n",
    "- algorithmic design paradigm where a problem is broken down recursively into smaller subproblems of the same type\n",
    "- eventually the smaller sub problems are able to be solved directly\n",
    "- the solutions to the sub problems are then combined to give a solution to the original problem\n",
    "- downside: divide and conquer often leads to recursive solutions that can have horrible time complexities \n",
    "    - O(2^n), O(3^n), O(n!) etc.\n",
    "- optimal structure:\n",
    "    - solution can be constructed from optimal solutions of its subproblem\n",
    "    - ex_ fib(n) = fib(n-1) + fib(n-2)\n",
    "    - divide and conquer approach works best when solution has optimal structure\n",
    "   \n",
    "- examples:\n",
    "    - mergesort\n",
    "    - quicksort\n",
    "    - binary search\n",
    "    - finding height of BST"
   ]
  },
  {
   "cell_type": "code",
   "execution_count": null,
   "metadata": {},
   "outputs": [],
   "source": []
  }
 ],
 "metadata": {
  "kernelspec": {
   "display_name": "Python 3",
   "language": "python",
   "name": "python3"
  },
  "language_info": {
   "codemirror_mode": {
    "name": "ipython",
    "version": 3
   },
   "file_extension": ".py",
   "mimetype": "text/x-python",
   "name": "python",
   "nbconvert_exporter": "python",
   "pygments_lexer": "ipython3",
   "version": "3.7.6"
  }
 },
 "nbformat": 4,
 "nbformat_minor": 4
}
