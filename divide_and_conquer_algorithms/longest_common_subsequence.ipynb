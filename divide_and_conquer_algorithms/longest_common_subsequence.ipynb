{
 "cells": [
  {
   "cell_type": "markdown",
   "metadata": {},
   "source": [
    "# Longest Common Subsequence\n",
    "- given two strings S1 and S2\n",
    "- find the longest subsequence which is common to both strings\n",
    "- where a subsequence is defined as a sequence that can be derived from another sequence by deleting some elemenets without changing the order of any of them\n",
    "- divide and conquer approach:\n",
    "    - compare character by character\n",
    "    - at each step if the characters do not match, return the max of two recursive calls\n",
    "        - call one: where the first index is incremented\n",
    "        - call two: where the second index is incremented"
   ]
  },
  {
   "cell_type": "code",
   "execution_count": 1,
   "metadata": {},
   "outputs": [],
   "source": [
    "def lcs(s1, s2, index1, index2):\n",
    "    if index1 == len(s1) or index2 == len(s2): # if either index reaches the end of string, return 0\n",
    "        return 0\n",
    "    if s1[index1] == s2[index2]: # if characters match, increment indices and make recursive call\n",
    "        return 1 + lcs(s1, s2, index1+1, index2+1)\n",
    "    else: # otherwise, return the max of the result of recursive calls with each index incremented\n",
    "        op1 = lcs(s1, s2, index1, index2+1)\n",
    "        op2 = lcs(s1, s2, index1+1, index2)\n",
    "        return max(op1, op2)\n",
    "        "
   ]
  },
  {
   "cell_type": "code",
   "execution_count": 3,
   "metadata": {},
   "outputs": [
    {
     "data": {
      "text/plain": [
       "5"
      ]
     },
     "execution_count": 3,
     "metadata": {},
     "output_type": "execute_result"
    }
   ],
   "source": [
    "lcs('elephant', 'eretpat', 0, 0)"
   ]
  },
  {
   "cell_type": "markdown",
   "metadata": {},
   "source": [
    "# Longest Palindromic Subsequence\n",
    "- same setup as previous problem except we are looking for longest palindromic rather than common subsequence\n",
    "- longest sebsequence that is the same forwards and backwards\n",
    "- divide and conquer approach:\n",
    "    - compare character by character\n",
    "    - three cases:\n",
    "        - characters match --> increase result by 2 + recursive call with indexes incremented toward center\n",
    "        - characters do not match: return max of two recursive calls\n",
    "            -  left index incremented toward center\n",
    "            - right index incremented toward center"
   ]
  },
  {
   "cell_type": "code",
   "execution_count": 10,
   "metadata": {},
   "outputs": [],
   "source": [
    "def lps(s, index1, index2):\n",
    "    if index1 > index2:\n",
    "        return 0\n",
    "    elif index1 == index2:\n",
    "        return 1\n",
    "    elif s[index1] == s[index2]:\n",
    "        return 2 + lps(s, index1+1, index2-1)\n",
    "    else:\n",
    "        op1 = lps(s, index1+1, index2)\n",
    "        op2 = lps(s, index1, index2-1)\n",
    "        return max(op1, op2)"
   ]
  },
  {
   "cell_type": "code",
   "execution_count": 11,
   "metadata": {},
   "outputs": [
    {
     "data": {
      "text/plain": [
       "5"
      ]
     },
     "execution_count": 11,
     "metadata": {},
     "output_type": "execute_result"
    }
   ],
   "source": [
    "lps(\"ELRMENMET\", 0, 8)"
   ]
  },
  {
   "cell_type": "code",
   "execution_count": null,
   "metadata": {},
   "outputs": [],
   "source": []
  }
 ],
 "metadata": {
  "kernelspec": {
   "display_name": "Python 3",
   "language": "python",
   "name": "python3"
  },
  "language_info": {
   "codemirror_mode": {
    "name": "ipython",
    "version": 3
   },
   "file_extension": ".py",
   "mimetype": "text/x-python",
   "name": "python",
   "nbconvert_exporter": "python",
   "pygments_lexer": "ipython3",
   "version": "3.7.6"
  }
 },
 "nbformat": 4,
 "nbformat_minor": 4
}
