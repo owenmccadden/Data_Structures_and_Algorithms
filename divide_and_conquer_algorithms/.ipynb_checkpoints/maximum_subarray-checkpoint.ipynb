{
 "cells": [
  {
   "cell_type": "markdown",
   "metadata": {},
   "source": [
    "# Maximum Subarray\n",
    "- select the contiguous subarray with the largest sum"
   ]
  },
  {
   "cell_type": "code",
   "execution_count": 23,
   "metadata": {},
   "outputs": [],
   "source": [
    "import math\n",
    "import numpy as np"
   ]
  },
  {
   "cell_type": "code",
   "execution_count": 20,
   "metadata": {},
   "outputs": [],
   "source": [
    "def brute_force(a):\n",
    "    num_sums = 0\n",
    "    max_sum = 0\n",
    "    n = len(a)\n",
    "    for i in range(n):\n",
    "        for j in range(n):\n",
    "            curr = 0\n",
    "            for k in range(i, j+1):\n",
    "                num_sums += 1\n",
    "                curr = curr + a[k]\n",
    "            max_sum = max(curr, max_sum)\n",
    "    \n",
    "    return [max_sum, num_sums]"
   ]
  },
  {
   "cell_type": "code",
   "execution_count": 21,
   "metadata": {},
   "outputs": [
    {
     "data": {
      "text/plain": [
       "[43, 816]"
      ]
     },
     "execution_count": 21,
     "metadata": {},
     "output_type": "execute_result"
    }
   ],
   "source": [
    "brute_force([13, -3, -25, 20, -3, -16, -23, 18, 20, -7, 12, -5, -22, 15, -4, 7])"
   ]
  },
  {
   "cell_type": "code",
   "execution_count": 26,
   "metadata": {},
   "outputs": [],
   "source": [
    "arrays = [\n",
    "    [1],\n",
    "    [-1,3],\n",
    "    [13,-3,-25],\n",
    "    [20,-7,12,-5],\n",
    "    [12,-5,-22,15,-4],\n",
    "    [13,-3,-25,20,-3,-16,-23,18,20,-7]\n",
    "]"
   ]
  },
  {
   "cell_type": "code",
   "execution_count": 28,
   "metadata": {},
   "outputs": [
    {
     "name": "stdout",
     "output_type": "stream",
     "text": [
      "[[1], [-1, 3], [13, -3, -25], [20, -7, 12, -5], [12, -5, -22, 15, -4], [13, -3, -25, 20, -3, -16, -23, 18, 20, -7], [5, -10, 7, -4, 5, 4, -10, -4, 9, 0, -10, 5, -3, 8, 3, 4, -5, 5, -7, -1, -7, 4, 3, -10, 4, 0, -4, 4, -1, 9, 2, -8, 2, 5, -2, -9, -3, -8, 9, -10, -3, 7, -6, -6, -1, -7, -7, 1, -4, -8, 5, 5, 0, 3, 8, -5, 4, 1, 5, -2, 9, 9, -7, -5, 2, 4, 2, -5, -2, -3, 4, 3, -9, -6, -6, -2, -4, -3, -9, -8, -6, -4, -9, 1, -4, 2, 6, 0, -4, -4, 3, -7, -10, -2, 7, 1, 5, -1, -7, 1]]\n"
     ]
    }
   ],
   "source": [
    "output = []\n",
    "for i in range(100):\n",
    "    output.append(np.random.randint(-10, 10))\n",
    "arrays.append(output)\n",
    "print(arrays)"
   ]
  },
  {
   "cell_type": "code",
   "execution_count": 31,
   "metadata": {},
   "outputs": [
    {
     "name": "stdout",
     "output_type": "stream",
     "text": [
      "[1]\n",
      "[-1, 3]\n",
      "[13, -3, -25]\n",
      "[20, -7, 12, -5]\n",
      "[12, -5, -22, 15, -4]\n",
      "[13, -3, -25, 20, -3, -16, -23, 18, 20, -7]\n",
      "[5, -10, 7, -4, 5, 4, -10, -4, 9, 0, -10, 5, -3, 8, 3, 4, -5, 5, -7, -1, -7, 4, 3, -10, 4, 0, -4, 4, -1, 9, 2, -8, 2, 5, -2, -9, -3, -8, 9, -10, -3, 7, -6, -6, -1, -7, -7, 1, -4, -8, 5, 5, 0, 3, 8, -5, 4, 1, 5, -2, 9, 9, -7, -5, 2, 4, 2, -5, -2, -3, 4, 3, -9, -6, -6, -2, -4, -3, -9, -8, -6, -4, -9, 1, -4, 2, 6, 0, -4, -4, 3, -7, -10, -2, 7, 1, 5, -1, -7, 1]\n"
     ]
    }
   ],
   "source": [
    "for ar in arrays:\n",
    "    print(ar)"
   ]
  },
  {
   "cell_type": "code",
   "execution_count": 14,
   "metadata": {},
   "outputs": [],
   "source": [
    "def max_crossing_subarray(a, low, mid, high):\n",
    "    left_sum = -math.inf\n",
    "    temp_sum = 0\n",
    "    max_left = 0\n",
    "    num_sums = 0\n",
    "    for i in range(mid, low, -1):\n",
    "        temp_sum += a[i]\n",
    "        num_sums += 1\n",
    "        if temp_sum > left_sum:\n",
    "            left_sum = temp_sum\n",
    "            max_left = i\n",
    "            \n",
    "    right_sum = -math.inf\n",
    "    temp_sum = 0\n",
    "    max_right = 0\n",
    "    for j in range(mid+1, high):\n",
    "        temp_sum += a[j]\n",
    "        num_sums += 1\n",
    "        if temp_sum > right_sum:\n",
    "            right_sum = temp_sum\n",
    "            max_right = j\n",
    "    return (max_left, max_right, left_sum+right_sum, num_sums)"
   ]
  },
  {
   "cell_type": "code",
   "execution_count": 15,
   "metadata": {},
   "outputs": [
    {
     "data": {
      "text/plain": [
       "(1, 3, 9, 3)"
      ]
     },
     "execution_count": 15,
     "metadata": {},
     "output_type": "execute_result"
    }
   ],
   "source": [
    "max_crossing_subarray([1,2,3,4,5], 0, 2, 4)"
   ]
  },
  {
   "cell_type": "code",
   "execution_count": 7,
   "metadata": {},
   "outputs": [],
   "source": [
    "def max_subarray(a, low, high):\n",
    "    if low == high:\n",
    "        return (low, high, a[low])\n",
    "    else: \n",
    "        mid = (low+high) // 2\n",
    "        (left_low, left_high, left_sum) = max_subarray(a, low, mid)\n",
    "        (right_low, right_high, right_sum) = max_subarray(a, mid+1, high)\n",
    "        (cross_low, cross_high, cross_sum) = max_crossing_subarray(a, low, mid, high)\n",
    "        if left_sum >= right_sum and left_sum >= cross_sum:\n",
    "            return (left_low, left_high, left_sum)\n",
    "        elif right_sum >= left_sum and right_sum >= cross_sum:\n",
    "            return (right_low, right_high, right_sum)\n",
    "        else:\n",
    "            return (cross_low, cross_high, cross_sum)"
   ]
  },
  {
   "cell_type": "code",
   "execution_count": 8,
   "metadata": {},
   "outputs": [
    {
     "data": {
      "text/plain": [
       "(7, 10, 43)"
      ]
     },
     "execution_count": 8,
     "metadata": {},
     "output_type": "execute_result"
    }
   ],
   "source": [
    "max_subarray([13, -3, -25, 20, -3, -16, -23, 18, 20, -7, 12, -5, -22, 15, -4, 7],0,15)"
   ]
  },
  {
   "cell_type": "code",
   "execution_count": 32,
   "metadata": {},
   "outputs": [],
   "source": [
    "def calc_r(n, c):\n",
    "    return n + c - (2*c*n)"
   ]
  },
  {
   "cell_type": "code",
   "execution_count": 33,
   "metadata": {},
   "outputs": [],
   "source": [
    "cs = [0, 0.5, 0.75, 1, 2]"
   ]
  },
  {
   "cell_type": "code",
   "execution_count": 38,
   "metadata": {},
   "outputs": [
    {
     "name": "stdout",
     "output_type": "stream",
     "text": [
      "(0, 2)\n",
      "(0.5, 0.5)\n",
      "(0.75, -0.25)\n",
      "(1, -1)\n",
      "(2, -4)\n"
     ]
    }
   ],
   "source": [
    "for c in cs:\n",
    "    print((c, calc_r(2, c)))"
   ]
  },
  {
   "cell_type": "code",
   "execution_count": null,
   "metadata": {},
   "outputs": [],
   "source": []
  }
 ],
 "metadata": {
  "kernelspec": {
   "display_name": "Python 3",
   "language": "python",
   "name": "python3"
  },
  "language_info": {
   "codemirror_mode": {
    "name": "ipython",
    "version": 3
   },
   "file_extension": ".py",
   "mimetype": "text/x-python",
   "name": "python",
   "nbconvert_exporter": "python",
   "pygments_lexer": "ipython3",
   "version": "3.7.6"
  }
 },
 "nbformat": 4,
 "nbformat_minor": 4
}
