{
 "cells": [
  {
   "cell_type": "markdown",
   "metadata": {},
   "source": [
    "# Zero One Knapsack\n",
    "- given n items with weight and value\n",
    "- find the maximum value possible subject to a weight constraint \n",
    "- items cannot be broken\n",
    "- divide and conquer approach:\n",
    "    - at each step take the max of the value of the current item + the recursive call with the next item and the recursive call with the next item without the value of the current item"
   ]
  },
  {
   "cell_type": "code",
   "execution_count": 4,
   "metadata": {},
   "outputs": [],
   "source": [
    "class Item:\n",
    "    def __init__(self, value, weight):\n",
    "        self.weight = weight\n",
    "        self.value = value"
   ]
  },
  {
   "cell_type": "code",
   "execution_count": 5,
   "metadata": {},
   "outputs": [],
   "source": [
    "def zero_one_knapsack(items, capacity, current_index):\n",
    "    if capacity < 0 or current_index < 0 or current_index >= len(items):\n",
    "        return 0\n",
    "    elif items[current_index].weight <= capacity:\n",
    "        value1 = items[current_index].value + zero_one_knapsack(items, capacity-items[current_index].weight, current_index + 1)\n",
    "        value2 = zero_one_knapsack(items, capacity, current_index + 1)\n",
    "        return max(value1, value2)\n",
    "    else:\n",
    "        return 0\n",
    "        "
   ]
  },
  {
   "cell_type": "code",
   "execution_count": 7,
   "metadata": {},
   "outputs": [],
   "source": [
    "items = [\n",
    "    Item(31, 3),\n",
    "    Item(26, 1),\n",
    "    Item(17, 2),\n",
    "    Item(72, 5),\n",
    "]"
   ]
  },
  {
   "cell_type": "code",
   "execution_count": 8,
   "metadata": {},
   "outputs": [
    {
     "data": {
      "text/plain": [
       "98"
      ]
     },
     "execution_count": 8,
     "metadata": {},
     "output_type": "execute_result"
    }
   ],
   "source": [
    "zero_one_knapsack(items, 7, 0)"
   ]
  },
  {
   "cell_type": "code",
   "execution_count": null,
   "metadata": {},
   "outputs": [],
   "source": []
  }
 ],
 "metadata": {
  "kernelspec": {
   "display_name": "Python 3",
   "language": "python",
   "name": "python3"
  },
  "language_info": {
   "codemirror_mode": {
    "name": "ipython",
    "version": 3
   },
   "file_extension": ".py",
   "mimetype": "text/x-python",
   "name": "python",
   "nbconvert_exporter": "python",
   "pygments_lexer": "ipython3",
   "version": "3.7.6"
  }
 },
 "nbformat": 4,
 "nbformat_minor": 4
}
