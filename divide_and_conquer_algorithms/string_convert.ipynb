{
 "cells": [
  {
   "cell_type": "markdown",
   "metadata": {},
   "source": [
    "# String Convert\n",
    "- given two strings, s1 and s2\n",
    "- convert s1 to s2 using only insert, delete, or replace operations\n",
    "- find minimum count of edit operations to make conversion\n",
    "- divide and conquer approach\n",
    "    - at each step try insert, delete, replace recursively and return the min of the three"
   ]
  },
  {
   "cell_type": "code",
   "execution_count": 1,
   "metadata": {},
   "outputs": [],
   "source": [
    "def string_convert(s1, s2, index1, index2):\n",
    "    if index1 == len(s1):\n",
    "        return len(s2)-index2\n",
    "    if index2 == len(s2):\n",
    "        return len(s1)-index1\n",
    "    if s1[index1] == s2[index2]:\n",
    "        return string_convert(s1, s2, index1+1, index2+1)\n",
    "    else:\n",
    "        delete_op = 1 + string_convert(s1, s2, index1, index2+1)\n",
    "        insert_op = 1 + string_convert(s1, s2, index1+1, index2)\n",
    "        replace_op = 1 + string_convert(s1, s2, index1+1, index2+1)\n",
    "        return min(delete_op, insert_op, replace_op)\n",
    "        \n"
   ]
  },
  {
   "cell_type": "code",
   "execution_count": 2,
   "metadata": {},
   "outputs": [
    {
     "data": {
      "text/plain": [
       "3"
      ]
     },
     "execution_count": 2,
     "metadata": {},
     "output_type": "execute_result"
    }
   ],
   "source": [
    "string_convert(\"table\", \"tbrles\", 0, 0)"
   ]
  },
  {
   "cell_type": "code",
   "execution_count": null,
   "metadata": {},
   "outputs": [],
   "source": []
  }
 ],
 "metadata": {
  "kernelspec": {
   "display_name": "Python 3",
   "language": "python",
   "name": "python3"
  },
  "language_info": {
   "codemirror_mode": {
    "name": "ipython",
    "version": 3
   },
   "file_extension": ".py",
   "mimetype": "text/x-python",
   "name": "python",
   "nbconvert_exporter": "python",
   "pygments_lexer": "ipython3",
   "version": "3.7.6"
  }
 },
 "nbformat": 4,
 "nbformat_minor": 4
}
