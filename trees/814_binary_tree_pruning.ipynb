{
 "cells": [
  {
   "cell_type": "markdown",
   "metadata": {},
   "source": [
    "# 814 Binary Tree Pruning\n",
    "- given the root of a binary tree, return the same tree where every subtree not containing 1 has been removed"
   ]
  },
  {
   "cell_type": "code",
   "execution_count": 5,
   "metadata": {},
   "outputs": [],
   "source": [
    "class BinaryTreeNode:\n",
    "    def __init__(self, data):\n",
    "        self.data = data\n",
    "        self.left = None\n",
    "        self.right = None\n",
    "\n",
    "    def insert_left(self, data):\n",
    "        self.left = BinaryTreeNode(data)\n",
    "        return self.left\n",
    "    \n",
    "    def insert_right(self, data):\n",
    "        self.right = BinaryTreeNode(data)\n",
    "        return self.right\n",
    "    \n",
    "    # create a method for a bread first search of the tree\n",
    "    def bfs(self):\n",
    "        queue = [self]\n",
    "        while len(queue) > 0:\n",
    "            current = queue.pop(0)\n",
    "            print(current.data)\n",
    "            if current.left:\n",
    "                queue.append(current.left)\n",
    "            if current.right:\n",
    "                queue.append(current.right)"
   ]
  },
  {
   "cell_type": "code",
   "execution_count": 52,
   "metadata": {},
   "outputs": [
    {
     "name": "stdout",
     "output_type": "stream",
     "text": [
      "1\n",
      "0\n",
      "1\n",
      "0\n",
      "0\n",
      "0\n",
      "1\n"
     ]
    }
   ],
   "source": [
    "example_2 = BinaryTreeNode(1)\n",
    "example_2.insert_left(0)\n",
    "example_2.insert_right(1)\n",
    "example_2.right.insert_left(0)\n",
    "example_2.right.insert_right(1)\n",
    "example_2.left.insert_left(0)\n",
    "example_2.left.insert_right(0)\n",
    "example_2.bfs()"
   ]
  },
  {
   "cell_type": "code",
   "execution_count": 54,
   "metadata": {},
   "outputs": [],
   "source": [
    "def prune_tree(root):\n",
    "    if root is None:\n",
    "        return root\n",
    "    if has_one(root.left, {}):\n",
    "        prune_tree(root.left)\n",
    "    else:\n",
    "        root.left = None\n",
    "    if has_one(root.right, {}):\n",
    "        prune_tree(root.right)\n",
    "    else:\n",
    "        root.right = None\n",
    "    if root.left is None and root.right is None and root.data != 1:\n",
    "        return None\n",
    "    return root"
   ]
  },
  {
   "cell_type": "code",
   "execution_count": 50,
   "metadata": {},
   "outputs": [],
   "source": [
    "# def has_one(root):\n",
    "#     if root is None:\n",
    "#         return False\n",
    "#     if root.data == 1:\n",
    "#         return True\n",
    "#     else:\n",
    "#         return has_one(root.left) or has_one(root.right)"
   ]
  },
  {
   "cell_type": "code",
   "execution_count": 57,
   "metadata": {},
   "outputs": [
    {
     "name": "stdout",
     "output_type": "stream",
     "text": [
      "1\n",
      "1\n",
      "1\n"
     ]
    }
   ],
   "source": [
    "prune_tree(example_2).bfs()"
   ]
  },
  {
   "cell_type": "code",
   "execution_count": 56,
   "metadata": {},
   "outputs": [],
   "source": [
    "def has_one(root, cache):\n",
    "    if root is None:\n",
    "        return False\n",
    "    if root not in cache:\n",
    "        if root.data == 1:\n",
    "            cache[root] = True\n",
    "        else:\n",
    "            cache[root] = has_one(root.left, cache) or has_one(root.right, cache)\n",
    "    return cache[root]"
   ]
  },
  {
   "cell_type": "code",
   "execution_count": null,
   "metadata": {},
   "outputs": [],
   "source": []
  }
 ],
 "metadata": {
  "kernelspec": {
   "display_name": "Python 3",
   "language": "python",
   "name": "python3"
  },
  "language_info": {
   "codemirror_mode": {
    "name": "ipython",
    "version": 3
   },
   "file_extension": ".py",
   "mimetype": "text/x-python",
   "name": "python",
   "nbconvert_exporter": "python",
   "pygments_lexer": "ipython3",
   "version": "3.7.6"
  }
 },
 "nbformat": 4,
 "nbformat_minor": 4
}
