{
 "cells": [
  {
   "cell_type": "markdown",
   "metadata": {},
   "source": [
    "# 958 Check Completeness of Binary Tree\n",
    "- return a boolean to indicate if a binary tree is complete"
   ]
  },
  {
   "cell_type": "code",
   "execution_count": 3,
   "metadata": {},
   "outputs": [],
   "source": [
    "from collections import deque"
   ]
  },
  {
   "cell_type": "code",
   "execution_count": 4,
   "metadata": {},
   "outputs": [],
   "source": [
    "class BinaryTreeNode:\n",
    "    def __init__(self, data):\n",
    "        self.data = data\n",
    "        self.left = None\n",
    "        self.right = None\n",
    "\n",
    "    def insert_left(self, data):\n",
    "        self.left = BinaryTreeNode(data)\n",
    "        return self.left\n",
    "    \n",
    "    def insert_right(self, data):\n",
    "        self.right = BinaryTreeNode(data)\n",
    "        return self.right\n",
    "    \n",
    "    # create a method for a bread first search of the tree\n",
    "    def bfs(self):\n",
    "        queue = [self]\n",
    "        while len(queue) > 0:\n",
    "            current = queue.pop(0)\n",
    "            print(current.data)\n",
    "            if current.left:\n",
    "                queue.append(current.left)\n",
    "            if current.right:\n",
    "                queue.append(current.right)"
   ]
  },
  {
   "cell_type": "code",
   "execution_count": 6,
   "metadata": {},
   "outputs": [
    {
     "data": {
      "text/plain": [
       "<__main__.BinaryTreeNode at 0x7f917923c250>"
      ]
     },
     "execution_count": 6,
     "metadata": {},
     "output_type": "execute_result"
    }
   ],
   "source": [
    "ex = BinaryTreeNode(5)\n",
    "ex.insert_left(1)\n",
    "ex.insert_right(1)"
   ]
  },
  {
   "cell_type": "code",
   "execution_count": 5,
   "metadata": {},
   "outputs": [],
   "source": [
    "def is_complete(root):\n",
    "    q = deque()\n",
    "    end = False\n",
    "    q.appendleft(root)\n",
    "    while q:\n",
    "        curr = q.pop()\n",
    "        if curr is None:\n",
    "            end = True\n",
    "        else:\n",
    "            if end:\n",
    "                return False\n",
    "            else:\n",
    "                q.appendleft(curr.left)\n",
    "                q.appendleft(curr.right)\n",
    "    return True\n",
    "    "
   ]
  },
  {
   "cell_type": "code",
   "execution_count": 7,
   "metadata": {},
   "outputs": [
    {
     "data": {
      "text/plain": [
       "True"
      ]
     },
     "execution_count": 7,
     "metadata": {},
     "output_type": "execute_result"
    }
   ],
   "source": [
    "is_complete(ex)"
   ]
  },
  {
   "cell_type": "code",
   "execution_count": null,
   "metadata": {},
   "outputs": [],
   "source": []
  }
 ],
 "metadata": {
  "kernelspec": {
   "display_name": "Python 3",
   "language": "python",
   "name": "python3"
  },
  "language_info": {
   "codemirror_mode": {
    "name": "ipython",
    "version": 3
   },
   "file_extension": ".py",
   "mimetype": "text/x-python",
   "name": "python",
   "nbconvert_exporter": "python",
   "pygments_lexer": "ipython3",
   "version": "3.7.6"
  }
 },
 "nbformat": 4,
 "nbformat_minor": 4
}
