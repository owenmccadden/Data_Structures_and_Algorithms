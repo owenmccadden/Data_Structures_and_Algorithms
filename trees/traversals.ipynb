{
 "cells": [
  {
   "cell_type": "code",
   "execution_count": 1,
   "metadata": {},
   "outputs": [],
   "source": [
    "class TreeNode:\n",
    "    def __init__(self, val=0, left=None, right=None):\n",
    "        self.val = val\n",
    "        self.left = left\n",
    "        self.right = right"
   ]
  },
  {
   "cell_type": "code",
   "execution_count": 5,
   "metadata": {},
   "outputs": [],
   "source": [
    "def preOrder(root):\n",
    "    if root is None:\n",
    "        return\n",
    "    print(root.val)\n",
    "    preOrder(root.left)\n",
    "    preOrder(root.right)"
   ]
  },
  {
   "cell_type": "code",
   "execution_count": 6,
   "metadata": {},
   "outputs": [],
   "source": [
    "def inOrder(root):\n",
    "    if root is None:\n",
    "        return\n",
    "    preOrder(root.left)\n",
    "    print(root.val)\n",
    "    preOrder(root.right)"
   ]
  },
  {
   "cell_type": "code",
   "execution_count": 7,
   "metadata": {},
   "outputs": [],
   "source": [
    "def postOrder(root):\n",
    "    if root is None:\n",
    "        return\n",
    "    preOrder(root.left)\n",
    "    preOrder(root.right)\n",
    "    print(root.val)"
   ]
  },
  {
   "cell_type": "code",
   "execution_count": 27,
   "metadata": {},
   "outputs": [],
   "source": [
    "from collections import deque\n",
    "\n",
    "def levelOrder(root):\n",
    "    q = deque()\n",
    "    visited = []\n",
    "    q.appendleft(root)\n",
    "    while q:\n",
    "        curr = q.pop()\n",
    "        print(curr.val)\n",
    "        visited.append(curr.val)\n",
    "        if curr.left:\n",
    "            q.appendleft(curr.left)\n",
    "        if curr.right:\n",
    "            q.appendleft(curr.right)\n",
    "    return visited"
   ]
  },
  {
   "cell_type": "code",
   "execution_count": 4,
   "metadata": {},
   "outputs": [],
   "source": [
    "test = TreeNode(10, TreeNode(5, TreeNode(3), TreeNode(7)), TreeNode(15, TreeNode(12), TreeNode(17)))"
   ]
  },
  {
   "cell_type": "code",
   "execution_count": 4,
   "metadata": {},
   "outputs": [
    {
     "name": "stdout",
     "output_type": "stream",
     "text": [
      "10\n",
      "5\n",
      "3\n",
      "7\n",
      "15\n",
      "12\n",
      "17\n"
     ]
    }
   ],
   "source": [
    "preOrder(test)"
   ]
  },
  {
   "cell_type": "code",
   "execution_count": 11,
   "metadata": {},
   "outputs": [
    {
     "data": {
      "text/plain": [
       "False"
      ]
     },
     "execution_count": 11,
     "metadata": {},
     "output_type": "execute_result"
    }
   ],
   "source": [
    "[1,2,3] == [12,3,1]"
   ]
  },
  {
   "cell_type": "code",
   "execution_count": 1,
   "metadata": {},
   "outputs": [],
   "source": [
    "class TreeNode:\n",
    "    def __init__(self, val=0, left=None, right=None):\n",
    "        self.val = val\n",
    "        self.left = left\n",
    "        self.right = right"
   ]
  },
  {
   "cell_type": "code",
   "execution_count": 17,
   "metadata": {},
   "outputs": [],
   "source": [
    "test1 = TreeNode(1, TreeNode(1))\n",
    "test2 = TreeNode(1, None, TreeNode(1))"
   ]
  },
  {
   "cell_type": "code",
   "execution_count": 21,
   "metadata": {},
   "outputs": [],
   "source": [
    "def in_order(root):\n",
    "    if root is None:\n",
    "        print('None')\n",
    "        return\n",
    "    if root.left is not None:\n",
    "        in_order(root.left)\n",
    "    print(root.val)\n",
    "    if root.right is not None:\n",
    "        in_order(root.right)"
   ]
  },
  {
   "cell_type": "code",
   "execution_count": 22,
   "metadata": {},
   "outputs": [
    {
     "name": "stdout",
     "output_type": "stream",
     "text": [
      "1\n",
      "1\n"
     ]
    }
   ],
   "source": [
    "in_order(test1)"
   ]
  },
  {
   "cell_type": "code",
   "execution_count": 23,
   "metadata": {},
   "outputs": [
    {
     "name": "stdout",
     "output_type": "stream",
     "text": [
      "1\n",
      "1\n"
     ]
    }
   ],
   "source": [
    "in_order(test2)"
   ]
  },
  {
   "cell_type": "code",
   "execution_count": 24,
   "metadata": {},
   "outputs": [
    {
     "data": {
      "text/plain": [
       "False"
      ]
     },
     "execution_count": 24,
     "metadata": {},
     "output_type": "execute_result"
    }
   ],
   "source": [
    "[1,2] == [2,1]"
   ]
  },
  {
   "cell_type": "code",
   "execution_count": 30,
   "metadata": {},
   "outputs": [],
   "source": [
    "def level_order(root):\n",
    "    q = deque()\n",
    "    visited = []\n",
    "    q.appendleft(root)\n",
    "    while q:\n",
    "        curr = q.pop()\n",
    "        visited.append(curr.val)\n",
    "        if curr.left:\n",
    "            q.appendleft(curr.left)\n",
    "        if curr.right:\n",
    "            q.appendleft(curr.right)\n",
    "    return visited"
   ]
  },
  {
   "cell_type": "code",
   "execution_count": 31,
   "metadata": {},
   "outputs": [
    {
     "data": {
      "text/plain": [
       "[1, 1]"
      ]
     },
     "execution_count": 31,
     "metadata": {},
     "output_type": "execute_result"
    }
   ],
   "source": [
    "level_order(test2)"
   ]
  },
  {
   "cell_type": "code",
   "execution_count": null,
   "metadata": {},
   "outputs": [],
   "source": [
    "def get_levels(root):\n",
    "    levels = []\n",
    "    traverse(root, 0, levels)\n",
    "    return levels\n",
    "\n",
    "def traverse(root, index, levels):\n",
    "    if len(levels) <= index and root:\n",
    "        levels.append([])\n",
    "    if root:\n",
    "        levels[index].append(root.data)\n",
    "        traverse(root.left, index+1, levels)\n",
    "        traverse(root.right, index+1, levels)"
   ]
  }
 ],
 "metadata": {
  "kernelspec": {
   "display_name": "Python 3",
   "language": "python",
   "name": "python3"
  },
  "language_info": {
   "codemirror_mode": {
    "name": "ipython",
    "version": 3
   },
   "file_extension": ".py",
   "mimetype": "text/x-python",
   "name": "python",
   "nbconvert_exporter": "python",
   "pygments_lexer": "ipython3",
   "version": "3.7.6"
  }
 },
 "nbformat": 4,
 "nbformat_minor": 4
}
