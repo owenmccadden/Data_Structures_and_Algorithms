{
 "cells": [
  {
   "cell_type": "code",
   "execution_count": 79,
   "metadata": {},
   "outputs": [],
   "source": [
    "from collections import deque\n",
    "import math"
   ]
  },
  {
   "cell_type": "markdown",
   "metadata": {},
   "source": [
    "### Given a sorted array with unique integer elements, write an algorithm to create a binary search tree with minimal height"
   ]
  },
  {
   "cell_type": "code",
   "execution_count": 3,
   "metadata": {},
   "outputs": [],
   "source": [
    "class BSTNode:\n",
    "    def __init__(self, data=None, left = None, right= None):\n",
    "        self.data = data\n",
    "        self.left = left\n",
    "        self.right = right"
   ]
  },
  {
   "cell_type": "code",
   "execution_count": 32,
   "metadata": {},
   "outputs": [],
   "source": [
    "def in_order_traversal(head):\n",
    "    if head is None:\n",
    "        return\n",
    "    else:\n",
    "        in_order_traversal(head.left)\n",
    "        print(head.data)\n",
    "        in_order_traversal(head.right)"
   ]
  },
  {
   "cell_type": "code",
   "execution_count": 91,
   "metadata": {},
   "outputs": [],
   "source": [
    "def insert(head, value):\n",
    "        if head is None:\n",
    "            head = BSTNode(value)\n",
    "        elif value > head.data:\n",
    "            if head.right is None:\n",
    "                head.right = BSTNode(value)\n",
    "            else:\n",
    "                insert(head.right, value)\n",
    "        else:\n",
    "            if head.left is None:\n",
    "                head.left = BSTNode(value)\n",
    "            else:\n",
    "                insert(head.left, value)"
   ]
  },
  {
   "cell_type": "code",
   "execution_count": 84,
   "metadata": {},
   "outputs": [],
   "source": [
    "def minimal_tree(sorted_list):\n",
    "    if len(sorted_list) == 0:\n",
    "        return None\n",
    "    if len(sorted_list) == 1:\n",
    "        return BSTNode(sorted_list[0])\n",
    "    mid = int(len(sorted_list)/2)\n",
    "    left = minimal_tree(sorted_list[:mid])\n",
    "    right = minimal_tree(sorted_list[mid+1:])\n",
    "    return BSTNode(sorted_list[mid], left, right)\n",
    "        \n",
    "        \n",
    "    "
   ]
  },
  {
   "cell_type": "code",
   "execution_count": 85,
   "metadata": {},
   "outputs": [
    {
     "name": "stdout",
     "output_type": "stream",
     "text": [
      "1\n",
      "2\n",
      "3\n",
      "4\n",
      "5\n",
      "6\n",
      "7\n",
      "8\n",
      "9\n"
     ]
    }
   ],
   "source": [
    "min_tree = minimal_tree([1,2,3,4,5,6,7,8,9])\n",
    "in_order_traversal(min_tree)"
   ]
  },
  {
   "cell_type": "markdown",
   "metadata": {},
   "source": [
    "### Given a BST return a dictionary with each level and the list of the nodes at that level"
   ]
  },
  {
   "cell_type": "code",
   "execution_count": 86,
   "metadata": {},
   "outputs": [],
   "source": [
    "class BSTNode:\n",
    "    def __init__(self, data=None, left = None, right= None):\n",
    "        self.data = data\n",
    "        self.left = left\n",
    "        self.right = right"
   ]
  },
  {
   "cell_type": "code",
   "execution_count": 87,
   "metadata": {},
   "outputs": [],
   "source": [
    "def list_of_depths(head):\n",
    "    levels = {}\n",
    "    count = 0\n",
    "    q = deque()\n",
    "    q.appendleft(head)\n",
    "    while len(q) > 0:\n",
    "        curr = q.pop()\n",
    "        count += 1\n",
    "        level = math.floor(math.log(count, 2))\n",
    "        try: \n",
    "            levels[level].append(curr.data)\n",
    "        except KeyError:\n",
    "            levels[level] = []\n",
    "            levels[level].append(curr.data)\n",
    "        if curr.left is not None:\n",
    "            q.appendleft(curr.left)\n",
    "        if curr.right is not None:\n",
    "            q.appendleft(curr.right)\n",
    "    return levels\n",
    "        "
   ]
  },
  {
   "cell_type": "code",
   "execution_count": 112,
   "metadata": {},
   "outputs": [
    {
     "data": {
      "text/plain": [
       "{0: [5], 1: [4, 8], 2: [1, 7, 9, 1], 3: [4, 9, 0, 1]}"
      ]
     },
     "execution_count": 112,
     "metadata": {},
     "output_type": "execute_result"
    }
   ],
   "source": [
    "head = BSTNode(5)\n",
    "for i in range(10):\n",
    "    insert(head, np.random.randint(0, 10))\n",
    "list_of_depths(head)"
   ]
  },
  {
   "cell_type": "markdown",
   "metadata": {},
   "source": [
    "### Check if a given binary tree is balanced where balanced is defined such that the heights of all subtrees of the binary tree never differ by more than one"
   ]
  },
  {
   "cell_type": "code",
   "execution_count": 114,
   "metadata": {},
   "outputs": [],
   "source": [
    "class BSTNode:\n",
    "    def __init__(self, data=None, left = None, right= None):\n",
    "        self.data = data\n",
    "        self.left = left\n",
    "        self.right = right"
   ]
  },
  {
   "cell_type": "code",
   "execution_count": 115,
   "metadata": {},
   "outputs": [],
   "source": [
    "def get_height(root):\n",
    "    if root is None:\n",
    "        return 0\n",
    "    else:\n",
    "        return 1 + max(get_height(root.left), get_height(root.right))"
   ]
  },
  {
   "cell_type": "code",
   "execution_count": 126,
   "metadata": {},
   "outputs": [],
   "source": [
    "def is_balanced(root):\n",
    "    if math.abs(get_height(root.left) - get_height(root.right)) > 1:\n",
    "        return False\n",
    "    else:\n",
    "        if root.left is not None:\n",
    "            is_balaned(root.left)\n",
    "        if root.right is not None:\n",
    "            is_balanced(root.right)\n",
    "    \n",
    "    return True\n",
    "    "
   ]
  },
  {
   "cell_type": "markdown",
   "metadata": {},
   "source": [
    "### Check if a binary tree is a valid binary search tree"
   ]
  },
  {
   "cell_type": "code",
   "execution_count": 142,
   "metadata": {},
   "outputs": [],
   "source": [
    "def is_valid(root):\n",
    "    \n",
    "    if root.left is None:\n",
    "        pass\n",
    "    elif root.left.data >= root.data:\n",
    "        return False\n",
    "    \n",
    "    if root.right is None:\n",
    "        pass\n",
    "    elif root.right.data < root.data:\n",
    "        return False\n",
    "    \n",
    "    if root.left is not None:\n",
    "        is_valid(root.left)\n",
    "    if root.right is not None:\n",
    "        is_valid(root.right)\n",
    "    \n",
    "    return True\n",
    "        "
   ]
  },
  {
   "cell_type": "code",
   "execution_count": 144,
   "metadata": {},
   "outputs": [
    {
     "data": {
      "text/plain": [
       "True"
      ]
     },
     "execution_count": 144,
     "metadata": {},
     "output_type": "execute_result"
    }
   ],
   "source": [
    "head = BSTNode(5)\n",
    "head.left = BSTNode(4)\n",
    "head.right = BSTNode(5)\n",
    "is_valid(head)"
   ]
  },
  {
   "cell_type": "markdown",
   "metadata": {},
   "source": [
    "### Find the next node after a given node in an in order traversal"
   ]
  },
  {
   "cell_type": "code",
   "execution_count": 148,
   "metadata": {},
   "outputs": [],
   "source": [
    "def in_order_traversal(root, traversal):\n",
    "    if root is None:\n",
    "        return\n",
    "    else:\n",
    "        in_order_traversal(root.left, traversal)\n",
    "        traversal.append(root)\n",
    "        in_order_traversal(root.right, traversal)"
   ]
  },
  {
   "cell_type": "code",
   "execution_count": 157,
   "metadata": {},
   "outputs": [],
   "source": [
    "def in_order_successor(root, value):\n",
    "    order = []\n",
    "    in_order_traversal(root, order)\n",
    "    for i in range(len(order)-1):\n",
    "        if order[i].data == value:\n",
    "            return order[i+1].data\n",
    "        \n",
    "    return None\n",
    "        "
   ]
  },
  {
   "cell_type": "code",
   "execution_count": 163,
   "metadata": {},
   "outputs": [
    {
     "data": {
      "text/plain": [
       "7"
      ]
     },
     "execution_count": 163,
     "metadata": {},
     "output_type": "execute_result"
    }
   ],
   "source": [
    "bst = BSTNode(5)\n",
    "insert(bst, 3)\n",
    "insert(bst, 7)\n",
    "in_order_successor(bst, 5)"
   ]
  },
  {
   "cell_type": "markdown",
   "metadata": {},
   "source": [
    "### Given two values and the root of a binary tree, find the first common ancestor of the two values"
   ]
  },
  {
   "cell_type": "code",
   "execution_count": 36,
   "metadata": {},
   "outputs": [],
   "source": [
    "def find_first_common_ancestor(n1, n2, root):\n",
    "    if root is None:\n",
    "        return\n",
    "    if root.left is None and root.right is None:\n",
    "        return\n",
    "        \n",
    "    if has_value(root, n1) and has_value(root, n2):\n",
    "        if root.left is not None and has_value(root.left, n1) and has_value(root.left, n2):\n",
    "            return find_first_common_ancestor(n1, n2, root.left)\n",
    "        elif root.right is not None and has_value(root.right, n1) and has_value(root.right, n2):\n",
    "            return find_first_common_ancestor(n1, n2, root.right)\n",
    "        else:\n",
    "            return root\n",
    "    else:\n",
    "        return  "
   ]
  },
  {
   "cell_type": "code",
   "execution_count": 37,
   "metadata": {},
   "outputs": [],
   "source": [
    "def has_value(root, value):\n",
    "    if root is None:\n",
    "        return False\n",
    "    elif root.data == value:\n",
    "        return True\n",
    "    else:\n",
    "        return has_value(root.left, value) or has_value(root.right, value)"
   ]
  },
  {
   "cell_type": "code",
   "execution_count": 43,
   "metadata": {},
   "outputs": [
    {
     "data": {
      "text/plain": [
       "7"
      ]
     },
     "execution_count": 43,
     "metadata": {},
     "output_type": "execute_result"
    }
   ],
   "source": [
    "t = BSTNode(5)\n",
    "t.left = BSTNode(3)\n",
    "t.right = BSTNode(7)\n",
    "t.left.left = BSTNode(6)\n",
    "t.left.right = BSTNode(8)\n",
    "t.right.right = BSTNode(9)\n",
    "t.right.left = BSTNode(11)\n",
    "find_first_common_ancestor(11, 9, t).data"
   ]
  },
  {
   "cell_type": "code",
   "execution_count": null,
   "metadata": {},
   "outputs": [],
   "source": []
  }
 ],
 "metadata": {
  "kernelspec": {
   "display_name": "Python 3",
   "language": "python",
   "name": "python3"
  },
  "language_info": {
   "codemirror_mode": {
    "name": "ipython",
    "version": 3
   },
   "file_extension": ".py",
   "mimetype": "text/x-python",
   "name": "python",
   "nbconvert_exporter": "python",
   "pygments_lexer": "ipython3",
   "version": "3.7.6"
  }
 },
 "nbformat": 4,
 "nbformat_minor": 4
}
