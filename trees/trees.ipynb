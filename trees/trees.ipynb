{
 "cells": [
  {
   "cell_type": "markdown",
   "metadata": {},
   "source": [
    "# Tree"
   ]
  },
  {
   "cell_type": "markdown",
   "metadata": {},
   "source": [
    "## Properties\n",
    "- non-linear data structure with hierarchical relationships between its elements\n",
    "- examples:\n",
    "    - tree of life for organism classification KPCOFGS\n",
    "    - file tree on a unix system\n",
    "    - html files\n",
    "    - family trees\n",
    "- all elements have a parent and children elements except:\n",
    "    - root element has no parent\n",
    "    - leaf elements have no children\n",
    "- nodes have two components:\n",
    "    - data\n",
    "    - link(s) to children nodes\n",
    "- trees and tree variants allow us to perform operations like search, sort, etc in O(log(n)) time"
   ]
  },
  {
   "cell_type": "markdown",
   "metadata": {},
   "source": [
    "## Terminology\n",
    "- root: topmost node, no parents, base of entire tree \n",
    "- edge: link between parent and child\n",
    "- leaf: node without any children\n",
    "- sibling: node that shares the same parent as another node\n",
    "- ancestor: parent, grand-parent, etc. of a node\n",
    "- depth: length of path from root to node\n",
    "- height: lenght of path from node to the deepest descendent node in tree\n",
    "- depth of tree: depth of root node = 0\n",
    "- height of tree: height of root node"
   ]
  },
  {
   "cell_type": "markdown",
   "metadata": {},
   "source": [
    "## Basic N-ary Tree Python List Implementation"
   ]
  },
  {
   "cell_type": "code",
   "execution_count": 5,
   "metadata": {},
   "outputs": [],
   "source": [
    "class TreeNode:\n",
    "    def __init__(self, data, children=[]):\n",
    "        self.data = data\n",
    "        self.children = children\n",
    "    \n",
    "    def __str__(self, level=0):\n",
    "        ret = ' ' * level + str(self.data) + '\\n'\n",
    "        for child in self.children:\n",
    "            ret += child.__str__(level+1)\n",
    "        return ret\n",
    "    \n",
    "    def add_child(self, tree_node):\n",
    "        self.children.append(tree_node)\n",
    "        \n",
    "        "
   ]
  },
  {
   "cell_type": "code",
   "execution_count": 10,
   "metadata": {},
   "outputs": [
    {
     "name": "stdout",
     "output_type": "stream",
     "text": [
      "Drinks\n",
      " cold\n",
      "  beer\n",
      "  water\n",
      " hot\n",
      "  coffee\n",
      "  tea\n",
      "\n"
     ]
    }
   ],
   "source": [
    "tree = TreeNode('Drinks', [])\n",
    "cold = TreeNode('cold', [])\n",
    "hot = TreeNode('hot', [])\n",
    "\n",
    "tree.add_child(cold)\n",
    "tree.add_child(hot)\n",
    "\n",
    "cold.add_child(TreeNode('beer', []))\n",
    "cold.add_child(TreeNode('water', []))\n",
    "\n",
    "hot.add_child(TreeNode('coffee', []))\n",
    "hot.add_child(TreeNode('tea', []))\n",
    "\n",
    "print(tree)"
   ]
  },
  {
   "cell_type": "code",
   "execution_count": null,
   "metadata": {},
   "outputs": [],
   "source": []
  }
 ],
 "metadata": {
  "kernelspec": {
   "display_name": "Python 3",
   "language": "python",
   "name": "python3"
  },
  "language_info": {
   "codemirror_mode": {
    "name": "ipython",
    "version": 3
   },
   "file_extension": ".py",
   "mimetype": "text/x-python",
   "name": "python",
   "nbconvert_exporter": "python",
   "pygments_lexer": "ipython3",
   "version": "3.7.6"
  }
 },
 "nbformat": 4,
 "nbformat_minor": 4
}
