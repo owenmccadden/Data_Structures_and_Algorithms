{
 "cells": [
  {
   "cell_type": "markdown",
   "metadata": {},
   "source": [
    "# Min Cost To Reach Last Cell\n",
    "- given a 2d matrix, where eact cell has a cost\n",
    "- start at (0,0) and go to (n-1, n-1) and minimize cost\n",
    "- can only go left or up from current cell\n",
    "- divide and conquer approach:\n",
    "    - at each step select the min of choosing right vs choosing down"
   ]
  },
  {
   "cell_type": "code",
   "execution_count": 25,
   "metadata": {},
   "outputs": [],
   "source": [
    "def min_cost_last_cell(matrix, row, col):\n",
    "    if row == -1 or col == -1:\n",
    "        return float('inf')\n",
    "    if row == 0 and col == 0:\n",
    "        return matrix[0][0]\n",
    "    \n",
    "    else:\n",
    "        right = min_cost_last_cell(matrix, row-1, col)\n",
    "        down = min_cost_last_cell(matrix, row, col-1)\n",
    "        return matrix[row][col] + min(right, down)"
   ]
  },
  {
   "cell_type": "code",
   "execution_count": 26,
   "metadata": {},
   "outputs": [
    {
     "data": {
      "text/plain": [
       "36"
      ]
     },
     "execution_count": 26,
     "metadata": {},
     "output_type": "execute_result"
    }
   ],
   "source": [
    "m = [[4,7,8,6,4],\n",
    "     [6,7,3,9,2],\n",
    "     [3,8,1,2,4],\n",
    "     [7,1,7,3,7],\n",
    "     [2,9,8,9,3]\n",
    "    ]\n",
    "\n",
    "min_cost_last_cell(m, 4, 4)"
   ]
  },
  {
   "cell_type": "markdown",
   "metadata": {},
   "source": [
    "# Number of Ways to Reach Last Cell with Given Cost\n",
    "- given 2d matrix where each cell has a cost\n",
    "- traverse from (0,0) to (n-1, n-1)\n",
    "- can only go right or down\n",
    "- given a total cost, find the number of ways to traverse the matrix with that cost\n",
    "- divide and conquer approach\n",
    "    - at each step return the sum of choosing right and choosing down\n",
    "    - if the current item - cost = 0 then you have a valid path\n",
    "    - if you hit the side of the row or the col, then go straight"
   ]
  },
  {
   "cell_type": "code",
   "execution_count": 29,
   "metadata": {},
   "outputs": [],
   "source": [
    "def number_of_paths(matrix, row, col, cost):\n",
    "    if cost < 0:\n",
    "        return 0\n",
    "    elif row == 0 and col == 0:\n",
    "        if matrix[0][0] - cost == 0:\n",
    "            return 1\n",
    "        else:\n",
    "            return 0\n",
    "    elif row == 0:\n",
    "        return number_of_paths(matrix, row, col-1, cost-matrix[row][col])\n",
    "    elif col == 0:\n",
    "        return number_of_paths(matrix, row-1, col, cost-matrix[row][col])\n",
    "    else:\n",
    "        op1 = number_of_paths(matrix, row-1, col, cost - matrix[row][col])\n",
    "        op2 = number_of_paths(matrix, row, col-1, cost - matrix[row][col])\n",
    "        return op1 + op2"
   ]
  },
  {
   "cell_type": "code",
   "execution_count": 30,
   "metadata": {},
   "outputs": [
    {
     "data": {
      "text/plain": [
       "2"
      ]
     },
     "execution_count": 30,
     "metadata": {},
     "output_type": "execute_result"
    }
   ],
   "source": [
    "m = [\n",
    "    [4,7,1,6],\n",
    "    [5,7,3,9],\n",
    "    [3,2,1,3],\n",
    "    [7,1,6,3]\n",
    "    ]\n",
    "number_of_paths(m, 3, 3, 25)"
   ]
  },
  {
   "cell_type": "code",
   "execution_count": null,
   "metadata": {},
   "outputs": [],
   "source": []
  }
 ],
 "metadata": {
  "kernelspec": {
   "display_name": "Python 3",
   "language": "python",
   "name": "python3"
  },
  "language_info": {
   "codemirror_mode": {
    "name": "ipython",
    "version": 3
   },
   "file_extension": ".py",
   "mimetype": "text/x-python",
   "name": "python",
   "nbconvert_exporter": "python",
   "pygments_lexer": "ipython3",
   "version": "3.7.6"
  }
 },
 "nbformat": 4,
 "nbformat_minor": 4
}
