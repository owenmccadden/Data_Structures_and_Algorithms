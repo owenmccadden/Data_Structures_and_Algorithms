{
 "cells": [
  {
   "cell_type": "markdown",
   "metadata": {},
   "source": [
    "# 965 Univalued Binary Tree\n",
    "- return a boolean to indicate whether all the nodes in a binary tree have the same value"
   ]
  },
  {
   "cell_type": "code",
   "execution_count": 4,
   "metadata": {},
   "outputs": [],
   "source": [
    "class BinaryTreeNode:\n",
    "    def __init__(self, data):\n",
    "        self.data = data\n",
    "        self.left = None\n",
    "        self.right = None\n",
    "\n",
    "    def insert_left(self, data):\n",
    "        self.left = BinaryTreeNode(data)\n",
    "        return self.left\n",
    "    \n",
    "    def insert_right(self, data):\n",
    "        self.right = BinaryTreeNode(data)\n",
    "        return self.right\n",
    "    \n",
    "    # create a method for a bread first search of the tree\n",
    "    def bfs(self):\n",
    "        queue = [self]\n",
    "        while len(queue) > 0:\n",
    "            current = queue.pop(0)\n",
    "            print(current.data)\n",
    "            if current.left:\n",
    "                queue.append(current.left)\n",
    "            if current.right:\n",
    "                queue.append(current.right)"
   ]
  },
  {
   "cell_type": "code",
   "execution_count": 6,
   "metadata": {},
   "outputs": [
    {
     "data": {
      "text/plain": [
       "<__main__.BinaryTreeNode at 0x7fa85afaa850>"
      ]
     },
     "execution_count": 6,
     "metadata": {},
     "output_type": "execute_result"
    }
   ],
   "source": [
    "example_3 = BinaryTreeNode(1)\n",
    "example_3.insert_left(1)\n",
    "example_3.insert_right(1)\n",
    "example_3.right.insert_left(1)\n",
    "example_3.right.insert_right(1)\n",
    "example_3.right.right.insert_left(1)\n",
    "example_3.right.right.insert_right(1)\n",
    "example_3.right.right.right.insert_left(1)\n",
    "example_3.right.right.right.insert_right(1)\n",
    "example_3.right.right.right.right.insert_right(1)\n",
    "example_3.right.right.right.right.right.insert_right(1)\n",
    "example_3.right.right.right.right.right.right.insert_right(1)"
   ]
  },
  {
   "cell_type": "code",
   "execution_count": 7,
   "metadata": {},
   "outputs": [],
   "source": [
    "def isUnivalTree(root):\n",
    "    return unival(root, root.data)\n",
    "    \n",
    "def unival(root, val):\n",
    "    if root is None:\n",
    "        return True\n",
    "    return root.data == val and unival(root.left, val) and unival(root.right, val)"
   ]
  },
  {
   "cell_type": "code",
   "execution_count": 8,
   "metadata": {},
   "outputs": [
    {
     "data": {
      "text/plain": [
       "True"
      ]
     },
     "execution_count": 8,
     "metadata": {},
     "output_type": "execute_result"
    }
   ],
   "source": [
    "isUnivalTree(example_3)"
   ]
  },
  {
   "cell_type": "code",
   "execution_count": null,
   "metadata": {},
   "outputs": [],
   "source": []
  }
 ],
 "metadata": {
  "kernelspec": {
   "display_name": "Python 3",
   "language": "python",
   "name": "python3"
  },
  "language_info": {
   "codemirror_mode": {
    "name": "ipython",
    "version": 3
   },
   "file_extension": ".py",
   "mimetype": "text/x-python",
   "name": "python",
   "nbconvert_exporter": "python",
   "pygments_lexer": "ipython3",
   "version": "3.7.6"
  }
 },
 "nbformat": 4,
 "nbformat_minor": 4
}
