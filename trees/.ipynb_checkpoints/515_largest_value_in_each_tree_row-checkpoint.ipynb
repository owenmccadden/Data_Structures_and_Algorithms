{
 "cells": [
  {
   "cell_type": "markdown",
   "metadata": {},
   "source": [
    "# 515 Largest Value in Each Tree Row\n",
    "- given a root of a binary tree return the largest value in each row (0 indexed)"
   ]
  },
  {
   "cell_type": "code",
   "execution_count": 12,
   "metadata": {},
   "outputs": [],
   "source": [
    "from collections import deque"
   ]
  },
  {
   "cell_type": "code",
   "execution_count": 16,
   "metadata": {},
   "outputs": [],
   "source": [
    "class TreeNode:\n",
    "    def __init__(self, val):\n",
    "        self.val = val\n",
    "        self.left = None\n",
    "        self.right = None\n",
    "\n",
    "    def insert_left(self, val):\n",
    "        self.left = TreeNode(val)\n",
    "        return self.left\n",
    "    \n",
    "    def insert_right(self, val):\n",
    "        self.right = TreeNode(val)\n",
    "        return self.right\n",
    "    \n",
    "    def bfs(self):\n",
    "        queue = [self]\n",
    "        while len(queue) > 0:\n",
    "            current = queue.pop(0)\n",
    "            print(current.val)\n",
    "            if current.left:\n",
    "                queue.append(current.left)\n",
    "            if current.right:\n",
    "                queue.append(current.right)"
   ]
  },
  {
   "cell_type": "code",
   "execution_count": 17,
   "metadata": {},
   "outputs": [
    {
     "name": "stdout",
     "output_type": "stream",
     "text": [
      "1\n",
      "3\n",
      "2\n",
      "5\n",
      "3\n",
      "9\n"
     ]
    }
   ],
   "source": [
    "example = TreeNode(1)\n",
    "example.insert_left(3)\n",
    "example.insert_right(2)\n",
    "example.left.insert_left(5)\n",
    "example.left.insert_right(3)\n",
    "example.right.insert_right(9)\n",
    "example.bfs()"
   ]
  },
  {
   "cell_type": "code",
   "execution_count": 18,
   "metadata": {},
   "outputs": [],
   "source": [
    "def get_largest_values(root):\n",
    "    largest = []\n",
    "    get_largest(root, largest, 0)\n",
    "    return largest"
   ]
  },
  {
   "cell_type": "code",
   "execution_count": 19,
   "metadata": {},
   "outputs": [],
   "source": [
    "def get_largest(root, largest, level):\n",
    "    if root is None:\n",
    "        return\n",
    "    else:\n",
    "        if level == len(largest):\n",
    "            largest.append(root.val)\n",
    "        else:\n",
    "            largest[level] = max(largest[level], root.val)\n",
    "    \n",
    "    get_largest(root.left, largest, level+1)\n",
    "    get_largest(root.right, largest, level+1)"
   ]
  },
  {
   "cell_type": "code",
   "execution_count": 20,
   "metadata": {},
   "outputs": [
    {
     "data": {
      "text/plain": [
       "[1, 3, 9]"
      ]
     },
     "execution_count": 20,
     "metadata": {},
     "output_type": "execute_result"
    }
   ],
   "source": [
    "get_largest_values(example)"
   ]
  },
  {
   "cell_type": "code",
   "execution_count": 26,
   "metadata": {},
   "outputs": [],
   "source": [
    "def get_max_vals(root):\n",
    "    rows = get_rows(root)\n",
    "    max_vals = []\n",
    "    for row in rows:\n",
    "        max_vals.append(max(row))\n",
    "    return max_vals"
   ]
  },
  {
   "cell_type": "code",
   "execution_count": 21,
   "metadata": {},
   "outputs": [],
   "source": [
    "def get_rows(root):\n",
    "    rows = []\n",
    "    fill_rows(root, rows, 0)\n",
    "    return rows"
   ]
  },
  {
   "cell_type": "code",
   "execution_count": 24,
   "metadata": {},
   "outputs": [],
   "source": [
    "def fill_rows(root, rows, level):\n",
    "    if root is None:\n",
    "        return\n",
    "    if level == len(rows):\n",
    "        rows.append([])\n",
    "    rows[level].append(root.val)\n",
    "    fill_rows(root.left, rows, level+1)\n",
    "    fill_rows(root.right, rows, level+1)\n",
    "        "
   ]
  },
  {
   "cell_type": "code",
   "execution_count": 25,
   "metadata": {},
   "outputs": [
    {
     "data": {
      "text/plain": [
       "[[1], [3, 2], [5, 3, 9]]"
      ]
     },
     "execution_count": 25,
     "metadata": {},
     "output_type": "execute_result"
    }
   ],
   "source": [
    "get_rows(example)"
   ]
  },
  {
   "cell_type": "code",
   "execution_count": 27,
   "metadata": {},
   "outputs": [
    {
     "data": {
      "text/plain": [
       "[1, 3, 9]"
      ]
     },
     "execution_count": 27,
     "metadata": {},
     "output_type": "execute_result"
    }
   ],
   "source": [
    "get_max_vals(example)"
   ]
  },
  {
   "cell_type": "code",
   "execution_count": null,
   "metadata": {},
   "outputs": [],
   "source": []
  }
 ],
 "metadata": {
  "kernelspec": {
   "display_name": "Python 3",
   "language": "python",
   "name": "python3"
  },
  "language_info": {
   "codemirror_mode": {
    "name": "ipython",
    "version": 3
   },
   "file_extension": ".py",
   "mimetype": "text/x-python",
   "name": "python",
   "nbconvert_exporter": "python",
   "pygments_lexer": "ipython3",
   "version": "3.7.6"
  }
 },
 "nbformat": 4,
 "nbformat_minor": 4
}
