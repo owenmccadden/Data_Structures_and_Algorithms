{
 "cells": [
  {
   "cell_type": "markdown",
   "metadata": {},
   "source": [
    "https://leetcode.com/problems/perfect-number/"
   ]
  },
  {
   "cell_type": "markdown",
   "metadata": {},
   "source": [
    "# Brute Force Solution\n",
    "- O(n)"
   ]
  },
  {
   "cell_type": "code",
   "execution_count": 9,
   "metadata": {},
   "outputs": [],
   "source": [
    "class Solution:\n",
    "    def checkPerfectNumber(self, num: int) -> bool:\n",
    "        divisors = set()\n",
    "        \n",
    "        for i in range(1, num):\n",
    "            if num % i == 0:\n",
    "                divisors.add(i)\n",
    "                \n",
    "        return sum(divisors) == num\n",
    "    \n",
    "    def perfectNumsInRange(self, upper_bound):\n",
    "        perfect_nums = []\n",
    "        for i in range(upper_bound):\n",
    "            if self.checkPerfectNumber(i):\n",
    "                perfect_nums.append(i)\n",
    "                \n",
    "        return perfect_nums"
   ]
  },
  {
   "cell_type": "code",
   "execution_count": 10,
   "metadata": {},
   "outputs": [
    {
     "name": "stdout",
     "output_type": "stream",
     "text": [
      "CPU times: user 428 µs, sys: 3 µs, total: 431 µs\n",
      "Wall time: 434 µs\n"
     ]
    },
    {
     "data": {
      "text/plain": [
       "[0, 6, 28]"
      ]
     },
     "execution_count": 10,
     "metadata": {},
     "output_type": "execute_result"
    }
   ],
   "source": [
    "s = Solution()\n",
    "%time s.perfectNumsInRange(100)"
   ]
  },
  {
   "cell_type": "code",
   "execution_count": 12,
   "metadata": {},
   "outputs": [
    {
     "name": "stdout",
     "output_type": "stream",
     "text": [
      "CPU times: user 27.6 ms, sys: 1.03 ms, total: 28.7 ms\n",
      "Wall time: 27.8 ms\n"
     ]
    },
    {
     "data": {
      "text/plain": [
       "[0, 6, 28, 496]"
      ]
     },
     "execution_count": 12,
     "metadata": {},
     "output_type": "execute_result"
    }
   ],
   "source": [
    "s = Solution()\n",
    "%time s.perfectNumsInRange(1000)"
   ]
  },
  {
   "cell_type": "code",
   "execution_count": 14,
   "metadata": {},
   "outputs": [
    {
     "name": "stdout",
     "output_type": "stream",
     "text": [
      "CPU times: user 2.41 s, sys: 6.22 ms, total: 2.42 s\n",
      "Wall time: 2.42 s\n"
     ]
    },
    {
     "data": {
      "text/plain": [
       "[0, 6, 28, 496, 8128]"
      ]
     },
     "execution_count": 14,
     "metadata": {},
     "output_type": "execute_result"
    }
   ],
   "source": [
    "s = Solution()\n",
    "%time s.perfectNumsInRange(10000)"
   ]
  },
  {
   "cell_type": "markdown",
   "metadata": {},
   "source": [
    "### Perfect Numbers in range (1 - 100000)\n",
    "- we can see that the runtime starts to grow at an increasing rate as our upper bound scales\n",
    "- it only took 27.8 ms for the first 1000 numbers\n",
    "- it took 4 minutes 12 seconds to scan the first 100000 numbers!\n",
    "- we need a more efficient algorithm to be able to find larger perfect numbers"
   ]
  },
  {
   "cell_type": "code",
   "execution_count": 15,
   "metadata": {},
   "outputs": [
    {
     "name": "stdout",
     "output_type": "stream",
     "text": [
      "CPU times: user 4min 10s, sys: 545 ms, total: 4min 11s\n",
      "Wall time: 4min 12s\n"
     ]
    },
    {
     "data": {
      "text/plain": [
       "[0, 6, 28, 496, 8128]"
      ]
     },
     "execution_count": 15,
     "metadata": {},
     "output_type": "execute_result"
    }
   ],
   "source": [
    "s = Solution()\n",
    "%time s.perfectNumsInRange(100000)"
   ]
  },
  {
   "cell_type": "markdown",
   "metadata": {},
   "source": [
    "# Optimal Solution\n",
    "- O(sqrt(n))"
   ]
  },
  {
   "cell_type": "code",
   "execution_count": 18,
   "metadata": {},
   "outputs": [],
   "source": [
    "class Solution2:\n",
    "    def checkPerfectNumber(self, num: int) -> bool:\n",
    "        if num == 1:\n",
    "            return False\n",
    "        res = 1\n",
    "        for i in range(2,int(num**0.5)+1):\n",
    "            if num%i == 0:\n",
    "                res += i + num//i\n",
    "        return res == num\n",
    "    \n",
    "    def perfectNumsInRange(self, upper_bound):\n",
    "        perfect_nums = []\n",
    "        for i in range(upper_bound):\n",
    "            if self.checkPerfectNumber(i):\n",
    "                perfect_nums.append(i)\n",
    "                \n",
    "        return perfect_nums\n",
    "            "
   ]
  },
  {
   "cell_type": "code",
   "execution_count": 20,
   "metadata": {},
   "outputs": [
    {
     "name": "stdout",
     "output_type": "stream",
     "text": [
      "CPU times: user 869 ms, sys: 4.66 ms, total: 874 ms\n",
      "Wall time: 877 ms\n"
     ]
    },
    {
     "data": {
      "text/plain": [
       "[6, 28, 496, 8128]"
      ]
     },
     "execution_count": 20,
     "metadata": {},
     "output_type": "execute_result"
    }
   ],
   "source": [
    "s = Solution2()\n",
    "\n",
    "%time s.perfectNumsInRange(100000)"
   ]
  },
  {
   "cell_type": "code",
   "execution_count": 24,
   "metadata": {},
   "outputs": [
    {
     "name": "stdout",
     "output_type": "stream",
     "text": [
      "CPU times: user 32.6 s, sys: 113 ms, total: 32.7 s\n",
      "Wall time: 32.9 s\n"
     ]
    },
    {
     "data": {
      "text/plain": [
       "[6, 28, 496, 8128]"
      ]
     },
     "execution_count": 24,
     "metadata": {},
     "output_type": "execute_result"
    }
   ],
   "source": [
    "s = Solution2()\n",
    "\n",
    "%time s.perfectNumsInRange(1000000)"
   ]
  },
  {
   "cell_type": "code",
   "execution_count": null,
   "metadata": {},
   "outputs": [],
   "source": []
  }
 ],
 "metadata": {
  "kernelspec": {
   "display_name": "Python 3",
   "language": "python",
   "name": "python3"
  },
  "language_info": {
   "codemirror_mode": {
    "name": "ipython",
    "version": 3
   },
   "file_extension": ".py",
   "mimetype": "text/x-python",
   "name": "python",
   "nbconvert_exporter": "python",
   "pygments_lexer": "ipython3",
   "version": "3.7.6"
  }
 },
 "nbformat": 4,
 "nbformat_minor": 4
}
