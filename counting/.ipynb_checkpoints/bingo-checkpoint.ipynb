{
 "cells": [
  {
   "cell_type": "code",
   "execution_count": 1,
   "metadata": {},
   "outputs": [],
   "source": [
    "import numpy as np"
   ]
  },
  {
   "cell_type": "code",
   "execution_count": 83,
   "metadata": {},
   "outputs": [],
   "source": [
    "class Game:\n",
    "    def __init__(self, col_range=30):\n",
    "        self.col_range = col_range\n",
    "        self.possible_values = self.col_range * 5\n",
    "        self.board = Board(col_range)\n",
    "        self.draws = ['{}{}'.format(key, i) for key, value in {char : range(int((self.possible_values / 5) * i + 1), int(((self.possible_values / 5) * i) + self.possible_values/5 + 1)) for i, char in enumerate('bingo')}.items() for i in value]\n",
    "        np.random.shuffle(self.draws)\n",
    "        self.played_draws = []\n",
    "        self.draw_count = 0\n",
    "        \n",
    "    def draw(self):\n",
    "        current_draw = self.draws[self.draw_count]\n",
    "        self.draw_count += 1\n",
    "        self.played_draws.append(current_draw)\n",
    "        return current_draw\n",
    "    \n",
    "    def play(self):\n",
    "        has_bingo = False\n",
    "        while not has_bingo:\n",
    "            drawing = self.draw()\n",
    "            match = self.board.find_match(drawing[0], int(drawing[1:]))\n",
    "            if match:\n",
    "                has_bingo = self.board.bingo()\n",
    "            \n",
    "        return (self.board.board, self.board.matches, self.draw_count, self.played_draws)\n",
    "        \n",
    "        "
   ]
  },
  {
   "cell_type": "code",
   "execution_count": 84,
   "metadata": {},
   "outputs": [],
   "source": [
    "class Board:\n",
    "    def __init__(self, col_range):\n",
    "        self.col_range = col_range\n",
    "        self.possible_values = self.col_range * 5\n",
    "        self.col_board = [np.random.choice(range(int((self.possible_values / 5) * i + 1), int(((self.possible_values / 5) * i) + self.possible_values/5 + 1)), 5, replace=False) for i in range(5)]\n",
    "        self.board = [[row[i] for row in self.col_board] for i in range(5)]\n",
    "        self.matches = [[0 for i in range(5)] for i in range(5)]\n",
    "        self.col_index_map = {\n",
    "            'b': 0,\n",
    "            'i': 1,\n",
    "            'n': 2,\n",
    "            'g': 3,\n",
    "            'o': 4\n",
    "        }\n",
    "        \n",
    "        self.row_sums = {i: 0 for i in range(5)}\n",
    "        self.col_sums = {i: 0 for i in range(5)}\n",
    "        \n",
    "    def find_match(self, col, value):\n",
    "        col_index = self.col_index_map[col]\n",
    "        for i, num in enumerate(self.col_board[col_index]):\n",
    "            if num == value:\n",
    "                self.matches[col_index][i] += 1\n",
    "                self.row_sums[i] += 1\n",
    "                self.col_sums[col_index] += 1\n",
    "                return True\n",
    "        return False\n",
    "    \n",
    "    def bingo(self):\n",
    "        for i in range(5):\n",
    "            if self.row_sums[i] == 5:\n",
    "                return True\n",
    "            if self.col_sums[i] == 5:\n",
    "                return True\n",
    "            \n",
    "        diag_sum_se = 0\n",
    "        diag_sum_sw = 0\n",
    "            \n",
    "        for i in range(5):\n",
    "            diag_sum_se += self.board[i][i]\n",
    "            diag_sum_sw += self.board[i][-i-1]\n",
    "        \n",
    "        return diag_sum_se == 5 or diag_sum_sw == 5\n",
    "        \n",
    "        "
   ]
  },
  {
   "cell_type": "code",
   "execution_count": 85,
   "metadata": {},
   "outputs": [
    {
     "data": {
      "text/plain": [
       "([[8, 31, 84, 120, 128],\n",
       "  [6, 48, 78, 94, 124],\n",
       "  [10, 47, 64, 102, 144],\n",
       "  [19, 37, 71, 92, 137],\n",
       "  [7, 53, 62, 100, 148]],\n",
       " [[0, 1, 1, 1, 0],\n",
       "  [1, 1, 0, 0, 0],\n",
       "  [0, 1, 0, 1, 0],\n",
       "  [0, 1, 0, 0, 1],\n",
       "  [1, 1, 0, 0, 1]],\n",
       " 78,\n",
       " ['o143',\n",
       "  'i52',\n",
       "  'o135',\n",
       "  'n69',\n",
       "  'o149',\n",
       "  'i42',\n",
       "  'n70',\n",
       "  'b13',\n",
       "  'o145',\n",
       "  'o125',\n",
       "  'g114',\n",
       "  'g108',\n",
       "  'n71',\n",
       "  'n61',\n",
       "  'b14',\n",
       "  'o122',\n",
       "  'o146',\n",
       "  'o136',\n",
       "  'o128',\n",
       "  'i49',\n",
       "  'o148',\n",
       "  'o127',\n",
       "  'b6',\n",
       "  'n88',\n",
       "  'o124',\n",
       "  'i40',\n",
       "  'g115',\n",
       "  'i43',\n",
       "  'g107',\n",
       "  'b9',\n",
       "  'i36',\n",
       "  'b5',\n",
       "  'o132',\n",
       "  'n68',\n",
       "  'n82',\n",
       "  'o142',\n",
       "  'b2',\n",
       "  'b4',\n",
       "  'i31',\n",
       "  'g112',\n",
       "  'n75',\n",
       "  'n78',\n",
       "  'b29',\n",
       "  'g103',\n",
       "  'g106',\n",
       "  'n74',\n",
       "  'g109',\n",
       "  'i33',\n",
       "  'o147',\n",
       "  'n81',\n",
       "  'g93',\n",
       "  'g105',\n",
       "  'n89',\n",
       "  'b10',\n",
       "  'b21',\n",
       "  'g116',\n",
       "  'g100',\n",
       "  'n80',\n",
       "  'i46',\n",
       "  'b16',\n",
       "  'g99',\n",
       "  'n67',\n",
       "  'i48',\n",
       "  'b17',\n",
       "  'o131',\n",
       "  'n72',\n",
       "  'g96',\n",
       "  'n77',\n",
       "  'n73',\n",
       "  'b22',\n",
       "  'b30',\n",
       "  'b15',\n",
       "  'i57',\n",
       "  'o134',\n",
       "  'n86',\n",
       "  'b19',\n",
       "  'n83',\n",
       "  'g94'])"
      ]
     },
     "execution_count": 85,
     "metadata": {},
     "output_type": "execute_result"
    }
   ],
   "source": [
    "Game().play()"
   ]
  },
  {
   "cell_type": "code",
   "execution_count": 86,
   "metadata": {},
   "outputs": [
    {
     "data": {
      "text/plain": [
       "89.156"
      ]
     },
     "execution_count": 86,
     "metadata": {},
     "output_type": "execute_result"
    }
   ],
   "source": [
    "sum([Game().play()[2] for i in range(1000)]) / 1000"
   ]
  },
  {
   "cell_type": "code",
   "execution_count": null,
   "metadata": {},
   "outputs": [],
   "source": []
  }
 ],
 "metadata": {
  "kernelspec": {
   "display_name": "Python 3 (ipykernel)",
   "language": "python",
   "name": "python3"
  },
  "language_info": {
   "codemirror_mode": {
    "name": "ipython",
    "version": 3
   },
   "file_extension": ".py",
   "mimetype": "text/x-python",
   "name": "python",
   "nbconvert_exporter": "python",
   "pygments_lexer": "ipython3",
   "version": "3.8.3"
  }
 },
 "nbformat": 4,
 "nbformat_minor": 4
}
