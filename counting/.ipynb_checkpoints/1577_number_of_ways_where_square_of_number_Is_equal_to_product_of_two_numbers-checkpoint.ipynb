{
 "cells": [
  {
   "cell_type": "markdown",
   "metadata": {},
   "source": [
    "# 1577_number_of_ways_where_square_of_number_Is_equal_to_product_of_two_numbers\n",
    "https://leetcode.com/problems/number-of-ways-where-square-of-number-is-equal-to-product-of-two-numbers/\n",
    "\n",
    "- return all triples (i, j, k) where:\n",
    "    - nums_1[i] ** 2 == nums_2[j] * nums_2[k] where 0 <= j < k < nums2.length\n",
    "        - OR\n",
    "    - nums_2[i] ** 2 == nums_1[j] * nums_1[k] where 0 <= j < k < nums1.length"
   ]
  },
  {
   "cell_type": "code",
   "execution_count": 61,
   "metadata": {},
   "outputs": [],
   "source": [
    "class Solution:\n",
    "    def numTriplets(self, nums1, nums2):\n",
    "        type_1_indices = [i for i in range(len(nums1))]\n",
    "        type_2_indices = [i for i in range(len(nums2))]\n",
    "        type_1_triplets = [comb for comb in itertools.product(type_1_indices, type_2_indices, type_2_indices) if comb[2] > comb[1]]\n",
    "        type_2_triplets = [comb for comb in itertools.product(type_2_indices, type_1_indices, type_1_indices) if comb[2] > comb[1]]\n",
    "        \n",
    "        type_1 = list()\n",
    "        type_2 = list()\n",
    "        for triplet in type_1_triplets:\n",
    "            i,j,k = triplet[0],triplet[1],triplet[2]\n",
    "            if nums1[i] ** 2 == nums2[j] * nums2[k]:\n",
    "                type_1.append(triplet)\n",
    "\n",
    "        for triplet in type_2_triplets:\n",
    "            i,j,k = triplet[0],triplet[1],triplet[2]\n",
    "            if nums2[i] ** 2 == nums1[j] * nums1[k]:\n",
    "                type_2.append(triplet)\n",
    "        \n",
    "        return len(type_1) + len(type_2)"
   ]
  },
  {
   "cell_type": "code",
   "execution_count": 62,
   "metadata": {},
   "outputs": [],
   "source": [
    "class Solution:\n",
    "    def numTriplets(self, nums1, nums2):\n",
    "        ans = 0\n",
    "        n1 = len(nums1)\n",
    "        n2 = len(nums2)\n",
    "        \n",
    "        nums1_product = defaultdict(int)\n",
    "        nums2_product = defaultdict(int)\n",
    "        \n",
    "        # count pairs for product\n",
    "        for i in range(n1-1):\n",
    "            for j in range(i+1, n1):\n",
    "                nums1_product[(nums1[i] * nums1[j])] += 1\n",
    "        \n",
    "        for i in range(n2-1):\n",
    "            for j in range(i+1, n2):\n",
    "                nums2_product[(nums2[i] * nums2[j])] += 1\n",
    "        \n",
    "        for num1 in nums1:\n",
    "            target = num1 ** 2\n",
    "            \n",
    "            ans += nums2_product[target]\n",
    "        \n",
    "        for num2 in nums2:\n",
    "            target = num2 ** 2\n",
    "            \n",
    "            ans += nums1_product[target]\n",
    "  \n",
    "        return ans"
   ]
  },
  {
   "cell_type": "code",
   "execution_count": null,
   "metadata": {},
   "outputs": [],
   "source": []
  }
 ],
 "metadata": {
  "kernelspec": {
   "display_name": "Python 3 (ipykernel)",
   "language": "python",
   "name": "python3"
  },
  "language_info": {
   "codemirror_mode": {
    "name": "ipython",
    "version": 3
   },
   "file_extension": ".py",
   "mimetype": "text/x-python",
   "name": "python",
   "nbconvert_exporter": "python",
   "pygments_lexer": "ipython3",
   "version": "3.8.3"
  }
 },
 "nbformat": 4,
 "nbformat_minor": 4
}
