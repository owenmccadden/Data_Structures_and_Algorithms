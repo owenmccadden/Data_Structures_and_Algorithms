{
 "cells": [
  {
   "cell_type": "code",
   "execution_count": 14,
   "id": "5ea9c801",
   "metadata": {},
   "outputs": [],
   "source": [
    "import numpy as np"
   ]
  },
  {
   "cell_type": "code",
   "execution_count": 9,
   "id": "58b6f03a",
   "metadata": {},
   "outputs": [],
   "source": [
    "def generate_deck():\n",
    "    deck = {i : 8 for i in range(0,13)}     \n",
    "    deck[-5] = 4    \n",
    "    return deck"
   ]
  },
  {
   "cell_type": "code",
   "execution_count": 58,
   "id": "c7c5496e",
   "metadata": {},
   "outputs": [
    {
     "name": "stdout",
     "output_type": "stream",
     "text": [
      "{0: 8, 1: 8, 2: 8, 3: 8, 4: 8, 5: 8, 6: 8, 7: 8, 8: 8, 9: 8, 10: 8, 11: 8, 12: 8, -5: 4}\n"
     ]
    },
    {
     "data": {
      "text/plain": [
       "5.592592592592592"
      ]
     },
     "execution_count": 58,
     "metadata": {},
     "output_type": "execute_result"
    }
   ],
   "source": [
    "deck = generate_deck()\n",
    "print(deck)\n",
    "get_ev(deck)"
   ]
  },
  {
   "cell_type": "code",
   "execution_count": 34,
   "id": "608f2254",
   "metadata": {},
   "outputs": [],
   "source": [
    "# the expected value of a random face-down card at the start of the game is 5.59\n",
    "# this means you should swap any card below 6 for any face-down card that you have at the start of the game\n",
    "# this value decreases overtime as more cards are flipped and the deck state changes"
   ]
  },
  {
   "cell_type": "code",
   "execution_count": 19,
   "id": "c557d4f6",
   "metadata": {},
   "outputs": [],
   "source": [
    "def get_ev(deck):\n",
    "    ev = 0\n",
    "\n",
    "    for card in deck:\n",
    "        prob = deck[card] / 108\n",
    "        ev += prob * card\n",
    "\n",
    "    return ev"
   ]
  },
  {
   "cell_type": "code",
   "execution_count": 46,
   "id": "991fdaa9",
   "metadata": {},
   "outputs": [],
   "source": [
    "def get_random_deck_state():\n",
    "    deck = {i : np.random.randint(8) for i in range(0,13)} \n",
    "    deck[-5] = np.random.randint(4)\n",
    "    return deck"
   ]
  },
  {
   "cell_type": "code",
   "execution_count": 54,
   "id": "a2cc9802",
   "metadata": {},
   "outputs": [],
   "source": [
    "def simulate(trials):\n",
    "    results = []\n",
    "    for i in range(trials):\n",
    "        deck = get_random_deck_state()\n",
    "        ev = get_ev(deck)\n",
    "        results.append(ev)\n",
    "        if (i % 1000) == 0: # print out every 1000th so we can see some output\n",
    "            print(deck)\n",
    "            print(ev)\n",
    "        \n",
    "    return results"
   ]
  },
  {
   "cell_type": "code",
   "execution_count": 55,
   "id": "24bd334b",
   "metadata": {},
   "outputs": [],
   "source": [
    "def summarize(results):\n",
    "    print(sum(results) / len(results))"
   ]
  },
  {
   "cell_type": "code",
   "execution_count": 56,
   "id": "315ac675",
   "metadata": {},
   "outputs": [
    {
     "name": "stdout",
     "output_type": "stream",
     "text": [
      "{0: 4, 1: 3, 2: 1, 3: 3, 4: 0, 5: 1, 6: 2, 7: 2, 8: 4, 9: 7, 10: 7, 11: 1, 12: 1, -5: 2}\n",
      "2.064814814814815\n",
      "{0: 2, 1: 2, 2: 5, 3: 7, 4: 6, 5: 0, 6: 3, 7: 1, 8: 6, 9: 2, 10: 4, 11: 3, 12: 4, -5: 0}\n",
      "2.4907407407407405\n",
      "{0: 7, 1: 4, 2: 0, 3: 3, 4: 4, 5: 7, 6: 5, 7: 6, 8: 7, 9: 4, 10: 5, 11: 5, 12: 7, -5: 2}\n",
      "3.768518518518518\n",
      "{0: 1, 1: 4, 2: 7, 3: 4, 4: 5, 5: 3, 6: 7, 7: 0, 8: 7, 9: 0, 10: 7, 11: 3, 12: 2, -5: 1}\n",
      "2.638888888888889\n",
      "{0: 4, 1: 7, 2: 6, 3: 7, 4: 1, 5: 3, 6: 7, 7: 1, 8: 2, 9: 5, 10: 5, 11: 4, 12: 2, -5: 0}\n",
      "2.657407407407407\n",
      "{0: 4, 1: 5, 2: 7, 3: 2, 4: 7, 5: 4, 6: 0, 7: 0, 8: 5, 9: 6, 10: 2, 11: 3, 12: 5, -5: 2}\n",
      "2.5\n",
      "{0: 3, 1: 4, 2: 7, 3: 2, 4: 4, 5: 0, 6: 6, 7: 2, 8: 2, 9: 7, 10: 3, 11: 6, 12: 6, -5: 3}\n",
      "2.9814814814814814\n",
      "{0: 5, 1: 6, 2: 7, 3: 3, 4: 3, 5: 6, 6: 1, 7: 5, 8: 0, 9: 4, 10: 2, 11: 1, 12: 3, -5: 3}\n",
      "1.8518518518518519\n",
      "{0: 3, 1: 6, 2: 1, 3: 6, 4: 2, 5: 7, 6: 4, 7: 2, 8: 4, 9: 1, 10: 2, 11: 2, 12: 4, -5: 3}\n",
      "2.0648148148148144\n",
      "{0: 4, 1: 7, 2: 2, 3: 4, 4: 0, 5: 7, 6: 6, 7: 7, 8: 4, 9: 7, 10: 3, 11: 3, 12: 4, -5: 1}\n",
      "3.1851851851851847\n",
      "2.465681481481484\n"
     ]
    }
   ],
   "source": [
    "summarize(simulate(10000))"
   ]
  },
  {
   "cell_type": "code",
   "execution_count": 53,
   "id": "28b6c661",
   "metadata": {},
   "outputs": [],
   "source": [
    "# the ev of an unknown card at any random point in time averages out to 2.45\n",
    "# this means you should almost always swap a 1 or 2 for any face-down card that you have\n",
    "# this is ignoring pairs or cards / 4"
   ]
  }
 ],
 "metadata": {
  "kernelspec": {
   "display_name": "Python 3 (ipykernel)",
   "language": "python",
   "name": "python3"
  },
  "language_info": {
   "codemirror_mode": {
    "name": "ipython",
    "version": 3
   },
   "file_extension": ".py",
   "mimetype": "text/x-python",
   "name": "python",
   "nbconvert_exporter": "python",
   "pygments_lexer": "ipython3",
   "version": "3.8.3"
  }
 },
 "nbformat": 4,
 "nbformat_minor": 5
}
