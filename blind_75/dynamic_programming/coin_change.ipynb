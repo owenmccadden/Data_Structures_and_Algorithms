{
 "cells": [
  {
   "cell_type": "markdown",
   "metadata": {},
   "source": [
    "# Coin Change\n",
    "https://leetcode.com/problems/coin-change/\n",
    "- given an integer array of denominations, and an integer for amount of money\n",
    "    - return the minimum number of coins needed to make up that amount\n",
    "    - if the number cannot be made from the denominations, return -1"
   ]
  },
  {
   "cell_type": "code",
   "execution_count": 6,
   "metadata": {},
   "outputs": [],
   "source": [
    "import heapq"
   ]
  },
  {
   "cell_type": "code",
   "execution_count": 155,
   "metadata": {},
   "outputs": [],
   "source": [
    "class Solution:\n",
    "    def coinChange(self, coins, amount):\n",
    "        return\n",
    "    # greedy solution (not always correct)\n",
    "    def coinChangeGreedy(self, coins, amount):\n",
    "        heap = []\n",
    "        heapq.heapify(heap)\n",
    "        for coin in coins:\n",
    "            heapq.heappush(heap, coin * -1)\n",
    "        coin_count = 0\n",
    "        while amount != 0 and heap:\n",
    "            curr = heap[0] * -1\n",
    "            if amount - curr >= 0:\n",
    "                amount -= curr\n",
    "                coin_count += 1\n",
    "            else:\n",
    "                heapq.heappop(heap)\n",
    "        if amount != 0:\n",
    "            return -1\n",
    "        else:\n",
    "            return coin_count\n",
    "    \n",
    "    # optimized dp solution (always correct)\n",
    "    def coinChangeDP(self, coins, amount):\n",
    "        memo = {0:0}\n",
    "        def dp(coins, amount):\n",
    "            if amount in memo:\n",
    "                return memo[amount]\n",
    "            if amount < 0:\n",
    "                return -1\n",
    "            result = float('inf')\n",
    "            for coin in coins:\n",
    "                if dp(coins, amount-coin) == -1:\n",
    "                    continue\n",
    "                result = min(result, dp(coins, amount-coin)+1)\n",
    "            memo[amount] = result\n",
    "            return result\n",
    "        count = dp(coins, amount)\n",
    "        if count < float('inf'):\n",
    "            return count\n",
    "        else:\n",
    "            return -1\n",
    "        "
   ]
  },
  {
   "cell_type": "code",
   "execution_count": 156,
   "metadata": {},
   "outputs": [
    {
     "data": {
      "text/plain": [
       "56"
      ]
     },
     "execution_count": 156,
     "metadata": {},
     "output_type": "execute_result"
    }
   ],
   "source": [
    "coins = [2,4,1,7,8,3,9]\n",
    "s = Solution()\n",
    "# s.coinChangeGreedy(coins, 10)\n",
    "s.coinChangeDP(coins, 500)"
   ]
  },
  {
   "cell_type": "code",
   "execution_count": null,
   "metadata": {},
   "outputs": [],
   "source": []
  }
 ],
 "metadata": {
  "kernelspec": {
   "display_name": "Python 3",
   "language": "python",
   "name": "python3"
  },
  "language_info": {
   "codemirror_mode": {
    "name": "ipython",
    "version": 3
   },
   "file_extension": ".py",
   "mimetype": "text/x-python",
   "name": "python",
   "nbconvert_exporter": "python",
   "pygments_lexer": "ipython3",
   "version": "3.7.6"
  }
 },
 "nbformat": 4,
 "nbformat_minor": 4
}
