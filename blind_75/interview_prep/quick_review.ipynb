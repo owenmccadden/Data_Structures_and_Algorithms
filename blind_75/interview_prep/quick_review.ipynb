{
 "cells": [
  {
   "cell_type": "markdown",
   "metadata": {},
   "source": [
    "# Trees"
   ]
  },
  {
   "cell_type": "code",
   "execution_count": 38,
   "metadata": {},
   "outputs": [],
   "source": [
    "from collections import defaultdict\n",
    "from collections import deque"
   ]
  },
  {
   "cell_type": "code",
   "execution_count": 3,
   "metadata": {},
   "outputs": [],
   "source": [
    "class TreeNode:\n",
    "    def __init__(self, data=0, left=None, right=None):\n",
    "        self.data = data\n",
    "        self.left = left\n",
    "        self.right = right"
   ]
  },
  {
   "cell_type": "code",
   "execution_count": 4,
   "metadata": {},
   "outputs": [],
   "source": [
    "def pre_order(root):\n",
    "    if not root:\n",
    "        return\n",
    "    else:\n",
    "        print(root.val)\n",
    "        pre_order(root.left)\n",
    "        pre_order(root.right)"
   ]
  },
  {
   "cell_type": "code",
   "execution_count": 5,
   "metadata": {},
   "outputs": [],
   "source": [
    "def in_order(root):\n",
    "    if not root:\n",
    "        return\n",
    "    else:\n",
    "        in_order(root.left)\n",
    "        print(root.val)\n",
    "        in_order(root.right)"
   ]
  },
  {
   "cell_type": "code",
   "execution_count": 6,
   "metadata": {},
   "outputs": [],
   "source": [
    "def post_order(root):\n",
    "    if not root:\n",
    "        return\n",
    "    else:\n",
    "        post_order(root.left)\n",
    "        post_order(root.right)\n",
    "        print(root.value)"
   ]
  },
  {
   "cell_type": "code",
   "execution_count": 9,
   "metadata": {},
   "outputs": [],
   "source": [
    "def level_order(root):\n",
    "    q = deque()\n",
    "    q.appendleft(root)\n",
    "    visited = []\n",
    "    while q:\n",
    "        curr = q.pop()\n",
    "        print(curr.val)\n",
    "        visited.append(curr.val)\n",
    "        if curr.left:\n",
    "            q.appendleft(curr.left)\n",
    "        if curr.right:\n",
    "            q.appendleft(curr.right)\n",
    "    return visited"
   ]
  },
  {
   "cell_type": "code",
   "execution_count": 11,
   "metadata": {},
   "outputs": [],
   "source": [
    "def fill_rows(root, rows, level):\n",
    "    if not root:\n",
    "        return root\n",
    "    if len(rows) == level:\n",
    "        rows[level].append([])\n",
    "    rows[level].append(root.val)\n",
    "    fill_rows(root.left, rows, level+1)\n",
    "    fill_rows(root.right, rows, level+1)\n",
    "        "
   ]
  },
  {
   "cell_type": "code",
   "execution_count": 12,
   "metadata": {},
   "outputs": [],
   "source": [
    "def invert_tree(root):\n",
    "    if not root:\n",
    "        return root\n",
    "    left = invert_tree(root.left)\n",
    "    right = invert_tree(root.right)\n",
    "    root.left = right\n",
    "    root.right = left\n",
    "    \n",
    "    return root"
   ]
  },
  {
   "cell_type": "code",
   "execution_count": 14,
   "metadata": {},
   "outputs": [],
   "source": [
    "def maximum_height(root):\n",
    "    if not root:\n",
    "        return 0\n",
    "    return 1 + max(maximum_height(root.left), maximum_height(root.right))"
   ]
  },
  {
   "cell_type": "markdown",
   "metadata": {},
   "source": [
    "# Graphs"
   ]
  },
  {
   "cell_type": "code",
   "execution_count": 42,
   "metadata": {},
   "outputs": [],
   "source": [
    "class Graph:\n",
    "    def __init__(self, graph=None):\n",
    "        if not graph:\n",
    "            graph = defaultdict(list)\n",
    "        self.graph = graph\n",
    "    def bfs(self, start):\n",
    "        q = deque()\n",
    "        q.appendleft(start)\n",
    "        visited = []\n",
    "        \n",
    "        while q:\n",
    "            curr = q.pop()\n",
    "            print(curr)\n",
    "            if curr not in visited:\n",
    "                visited.append(curr)\n",
    "                for neighbor in self.graph[curr]:\n",
    "                    if neighbor not in visited:\n",
    "                        q.appendleft(neighbor)\n",
    "        return visited\n",
    "    \n",
    "    def dfs(self, start):\n",
    "        stack = deque()\n",
    "        stack.append(start)\n",
    "        visited = []\n",
    "        while stack:\n",
    "            curr = stack.pop()\n",
    "            print(curr)\n",
    "            if curr not in visited:\n",
    "                visited.append(curr)\n",
    "                for neighbor in self.graph[curr]:\n",
    "                    if neighbor not in visited:\n",
    "                        stack.append(neighbor)\n",
    "        return visited"
   ]
  },
  {
   "cell_type": "code",
   "execution_count": 46,
   "metadata": {},
   "outputs": [],
   "source": [
    "g = Graph({\n",
    "    'a': ['d', 'b', 'k'], \n",
    "    'd': ['j'], \n",
    "    'k': ['j'], \n",
    "    'b': ['k', 'e'], \n",
    "    'e': ['k'],\n",
    "    'j': []\n",
    "})"
   ]
  },
  {
   "cell_type": "code",
   "execution_count": 47,
   "metadata": {},
   "outputs": [
    {
     "name": "stdout",
     "output_type": "stream",
     "text": [
      "a\n",
      "k\n",
      "j\n",
      "b\n",
      "e\n",
      "d\n"
     ]
    },
    {
     "data": {
      "text/plain": [
       "['a', 'k', 'j', 'b', 'e', 'd']"
      ]
     },
     "execution_count": 47,
     "metadata": {},
     "output_type": "execute_result"
    }
   ],
   "source": [
    "g.dfs('a')"
   ]
  },
  {
   "cell_type": "code",
   "execution_count": 48,
   "metadata": {},
   "outputs": [
    {
     "name": "stdout",
     "output_type": "stream",
     "text": [
      "a\n",
      "d\n",
      "b\n",
      "k\n",
      "j\n",
      "k\n",
      "e\n",
      "j\n"
     ]
    },
    {
     "data": {
      "text/plain": [
       "['a', 'd', 'b', 'k', 'j', 'e']"
      ]
     },
     "execution_count": 48,
     "metadata": {},
     "output_type": "execute_result"
    }
   ],
   "source": [
    "g.bfs('a')"
   ]
  },
  {
   "cell_type": "code",
   "execution_count": null,
   "metadata": {},
   "outputs": [],
   "source": []
  }
 ],
 "metadata": {
  "kernelspec": {
   "display_name": "Python 3",
   "language": "python",
   "name": "python3"
  },
  "language_info": {
   "codemirror_mode": {
    "name": "ipython",
    "version": 3
   },
   "file_extension": ".py",
   "mimetype": "text/x-python",
   "name": "python",
   "nbconvert_exporter": "python",
   "pygments_lexer": "ipython3",
   "version": "3.7.6"
  }
 },
 "nbformat": 4,
 "nbformat_minor": 4
}
