{
 "cells": [
  {
   "cell_type": "code",
   "execution_count": 3,
   "metadata": {},
   "outputs": [],
   "source": [
    "class TreeNode:\n",
    "    def __init__(self, data=0, left=None, right=None):\n",
    "        self.data = data\n",
    "        self.left = left\n",
    "        self.right = right"
   ]
  },
  {
   "cell_type": "code",
   "execution_count": 4,
   "metadata": {},
   "outputs": [],
   "source": [
    "def pre_order(root):\n",
    "    if not root:\n",
    "        return\n",
    "    else:\n",
    "        print(root.val)\n",
    "        pre_order(root.left)\n",
    "        pre_order(root.right)"
   ]
  },
  {
   "cell_type": "code",
   "execution_count": 5,
   "metadata": {},
   "outputs": [],
   "source": [
    "def in_order(root):\n",
    "    if not root:\n",
    "        return\n",
    "    else:\n",
    "        in_order(root.left)\n",
    "        print(root.val)\n",
    "        in_order(root.right)"
   ]
  },
  {
   "cell_type": "code",
   "execution_count": 6,
   "metadata": {},
   "outputs": [],
   "source": [
    "def post_order(root):\n",
    "    if not root:\n",
    "        return\n",
    "    else:\n",
    "        post_order(root.left)\n",
    "        post_order(root.right)\n",
    "        print(root.value)"
   ]
  },
  {
   "cell_type": "code",
   "execution_count": 9,
   "metadata": {},
   "outputs": [],
   "source": [
    "from collections import deque\n",
    "\n",
    "def level_order(root):\n",
    "    q = deque()\n",
    "    q.appendleft(root)\n",
    "    visited = []\n",
    "    while q:\n",
    "        curr = q.pop()\n",
    "        print(curr.val)\n",
    "        visited.append(curr.val)\n",
    "        if curr.left:\n",
    "            q.appendleft(curr.left)\n",
    "        if curr.right:\n",
    "            q.appendleft(curr.right)\n",
    "    return visited"
   ]
  },
  {
   "cell_type": "code",
   "execution_count": 11,
   "metadata": {},
   "outputs": [],
   "source": [
    "def fill_rows(root, rows, level):\n",
    "    if not root:\n",
    "        return root\n",
    "    if len(rows) == level:\n",
    "        rows[level].append([])\n",
    "    rows[level].append(root.val)\n",
    "    fill_rows(root.left, rows, level+1)\n",
    "    fill_rows(root.right, rows, level+1)\n",
    "        "
   ]
  },
  {
   "cell_type": "code",
   "execution_count": 12,
   "metadata": {},
   "outputs": [],
   "source": [
    "def invert_tree(root):\n",
    "    if not root:\n",
    "        return root\n",
    "    left = invert_tree(root.left)\n",
    "    right = invert_tree(root.right)\n",
    "    root.left = right\n",
    "    root.right = left\n",
    "    \n",
    "    return root"
   ]
  },
  {
   "cell_type": "code",
   "execution_count": 13,
   "metadata": {},
   "outputs": [],
   "source": [
    "def maximum_height(root):\n",
    "    if not root:\n",
    "        return 0\n",
    "    return 1 + max(maximum_height(root.left), maximum_height(root.right))"
   ]
  },
  {
   "cell_type": "code",
   "execution_count": null,
   "metadata": {},
   "outputs": [],
   "source": []
  }
 ],
 "metadata": {
  "kernelspec": {
   "display_name": "Python 3",
   "language": "python",
   "name": "python3"
  },
  "language_info": {
   "codemirror_mode": {
    "name": "ipython",
    "version": 3
   },
   "file_extension": ".py",
   "mimetype": "text/x-python",
   "name": "python",
   "nbconvert_exporter": "python",
   "pygments_lexer": "ipython3",
   "version": "3.7.6"
  }
 },
 "nbformat": 4,
 "nbformat_minor": 4
}
