{
 "cells": [
  {
   "cell_type": "markdown",
   "metadata": {},
   "source": [
    "https://leetcode.com/problems/subtree-of-another-tree/"
   ]
  },
  {
   "cell_type": "code",
   "execution_count": 1,
   "metadata": {},
   "outputs": [],
   "source": [
    "def __init__(self, val=0, left=None, right=None):\n",
    "    self.val = val\n",
    "    self.left = left\n",
    "    self.right = right"
   ]
  },
  {
   "cell_type": "code",
   "execution_count": 3,
   "metadata": {},
   "outputs": [],
   "source": [
    "class Solution:\n",
    "    def isSubtree(self, root, subRoot):\n",
    "        return self.traverse(root, subRoot)\n",
    "        \n",
    "    def traverse(self, root, subRoot):\n",
    "        if root is None:\n",
    "            return False\n",
    "        if self.sameTree(root, subRoot):\n",
    "            return True\n",
    "        return self.traverse(root.left, subRoot) or self.traverse(root.right, subRoot)\n",
    "    \n",
    "    def sameTree(self, root1, root2):\n",
    "        if not root1 and not root2:\n",
    "            return True\n",
    "        if not root1:\n",
    "            return False\n",
    "        if not root2:\n",
    "            return False\n",
    "        if root1.val != root2.val:\n",
    "            return False\n",
    "        left, right = True, True\n",
    "        left = self.sameTree(root1.left, root2.left)\n",
    "        right = self.sameTree(root1.right, root2.right)\n",
    "        return left and right"
   ]
  },
  {
   "cell_type": "markdown",
   "metadata": {},
   "source": [
    "### optimized solution with serialization"
   ]
  },
  {
   "cell_type": "code",
   "execution_count": 6,
   "metadata": {},
   "outputs": [],
   "source": [
    "class Solution:\n",
    "    def isSubtree(self, root, subRoot):\n",
    "        str1 = self.serialize(root)\n",
    "        str2 = self.serialize(subRoot)\n",
    "        return str2 in str1\n",
    "    \n",
    "    def serialize(self, root):\n",
    "        result = []\n",
    "        self.dfs(root, result)\n",
    "        return ',' + ','.join(result) + ','\n",
    "    \n",
    "    def dfs(self, root, result):\n",
    "        if not root:\n",
    "            result.append('N')\n",
    "            return\n",
    "        result.append(str(root.val))\n",
    "        self.dfs(root.left, result)\n",
    "        self.dfs(root.right, result)\n",
    "        "
   ]
  },
  {
   "cell_type": "code",
   "execution_count": null,
   "metadata": {},
   "outputs": [],
   "source": []
  }
 ],
 "metadata": {
  "kernelspec": {
   "display_name": "Python 3",
   "language": "python",
   "name": "python3"
  },
  "language_info": {
   "codemirror_mode": {
    "name": "ipython",
    "version": 3
   },
   "file_extension": ".py",
   "mimetype": "text/x-python",
   "name": "python",
   "nbconvert_exporter": "python",
   "pygments_lexer": "ipython3",
   "version": "3.7.6"
  }
 },
 "nbformat": 4,
 "nbformat_minor": 4
}
