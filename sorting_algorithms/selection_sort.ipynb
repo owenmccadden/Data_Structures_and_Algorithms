{
 "cells": [
  {
   "cell_type": "markdown",
   "metadata": {},
   "source": [
    "# Selection Sort\n",
    "- divide the array into two parts, sorted and unsorted\n",
    "- repeatedly find the minimum element of the unsorted part and move it to the sorted part\n",
    "    - swaps the min element with the left most element until the list is sorted\n",
    "    - ascending by default\n",
    "\n",
    "- time complexity: O(n^2)\n",
    "- space complexity: O(1)\n",
    "- in-place\n",
    "- unstable\n",
    "\n",
    "- when to use:\n",
    "    - similar to bubble sort, only use when space is more of a concern than time"
   ]
  },
  {
   "cell_type": "code",
   "execution_count": 13,
   "metadata": {},
   "outputs": [],
   "source": [
    "def selection_sort(_list):\n",
    "    for i in range(len(_list)):\n",
    "        min_index = i\n",
    "        for j in range(i+1, len(_list)):\n",
    "            if _list[j] < _list[min_index]:\n",
    "                min_index = j\n",
    "        _list[i], _list[min_index] = _list[min_index], _list[i]\n",
    "    return _list"
   ]
  },
  {
   "cell_type": "code",
   "execution_count": 22,
   "metadata": {},
   "outputs": [
    {
     "data": {
      "text/plain": [
       "[3, 4, 6, 6, 7, 43]"
      ]
     },
     "execution_count": 22,
     "metadata": {},
     "output_type": "execute_result"
    }
   ],
   "source": [
    "selection_sort([7,3,6,4,43,6])"
   ]
  },
  {
   "cell_type": "code",
   "execution_count": 23,
   "metadata": {},
   "outputs": [],
   "source": [
    "def selection_sort_descending(_list):\n",
    "    for i in range(len(_list)):\n",
    "        max_index = i\n",
    "        for j in range(i+1, len(_list)):\n",
    "            if _list[j] > _list[max_index]:\n",
    "                max_index = j\n",
    "        _list[i], _list[max_index] = _list[max_index], _list[i]\n",
    "    return _list"
   ]
  },
  {
   "cell_type": "code",
   "execution_count": 24,
   "metadata": {},
   "outputs": [
    {
     "data": {
      "text/plain": [
       "[43, 7, 6, 6, 4, 3]"
      ]
     },
     "execution_count": 24,
     "metadata": {},
     "output_type": "execute_result"
    }
   ],
   "source": [
    "selection_sort_descending([7,3,6,4,43,6])"
   ]
  },
  {
   "cell_type": "code",
   "execution_count": 25,
   "metadata": {},
   "outputs": [],
   "source": [
    "def selectionSort(_list):\n",
    "    for i in range(len(_list)):\n",
    "        min_index = i\n",
    "        for j in range(i+1, len(_list)):\n",
    "            if _list[j] < _list[min_index]:\n",
    "                min_index = j\n",
    "        _list[i], _list[min_index] = _list[min_index], _list[i]\n",
    "        print(_list)\n",
    "    return _list"
   ]
  },
  {
   "cell_type": "code",
   "execution_count": 27,
   "metadata": {},
   "outputs": [
    {
     "name": "stdout",
     "output_type": "stream",
     "text": [
      "[3, 7, 6, 4, 43, 6]\n",
      "[3, 4, 6, 7, 43, 6]\n",
      "[3, 4, 6, 7, 43, 6]\n",
      "[3, 4, 6, 6, 43, 7]\n",
      "[3, 4, 6, 6, 7, 43]\n",
      "[3, 4, 6, 6, 7, 43]\n"
     ]
    },
    {
     "data": {
      "text/plain": [
       "[3, 4, 6, 6, 7, 43]"
      ]
     },
     "execution_count": 27,
     "metadata": {},
     "output_type": "execute_result"
    }
   ],
   "source": [
    "selectionSort([7,3,6,4,43,6])"
   ]
  },
  {
   "cell_type": "code",
   "execution_count": null,
   "metadata": {},
   "outputs": [],
   "source": []
  },
  {
   "cell_type": "code",
   "execution_count": null,
   "metadata": {},
   "outputs": [],
   "source": []
  }
 ],
 "metadata": {
  "kernelspec": {
   "display_name": "Python 3",
   "language": "python",
   "name": "python3"
  },
  "language_info": {
   "codemirror_mode": {
    "name": "ipython",
    "version": 3
   },
   "file_extension": ".py",
   "mimetype": "text/x-python",
   "name": "python",
   "nbconvert_exporter": "python",
   "pygments_lexer": "ipython3",
   "version": "3.7.6"
  }
 },
 "nbformat": 4,
 "nbformat_minor": 4
}
