{
 "cells": [
  {
   "cell_type": "markdown",
   "metadata": {},
   "source": [
    "# Insertion Sort\n",
    "- divide array into two parts: sorted and unsorted\n",
    "- take first element from unsorted array and put into correct position in sorted array\n",
    "- repeat until unsorted array is empty and array is sorted\n",
    "- ascending by default\n",
    "\n",
    "- time complexity: O(n^2)\n",
    "- space complexity: O(1)\n",
    "- in place\n",
    "- stable\n",
    "\n",
    "- when to use:\n",
    "    - when space is more important than time\n",
    "    - when elements are continuously being added to a list\n"
   ]
  },
  {
   "cell_type": "code",
   "execution_count": 4,
   "metadata": {},
   "outputs": [],
   "source": [
    "def insertion_sort(_list):\n",
    "    for i in range(1, len(_list)):\n",
    "        curr = _list[i]\n",
    "        j = i - 1\n",
    "        while j >= 0 and curr < _list[j]:\n",
    "            _list[j+1] = _list[j]\n",
    "            j -= 1\n",
    "        _list[j+1] = curr\n",
    "    return _list"
   ]
  },
  {
   "cell_type": "code",
   "execution_count": 5,
   "metadata": {},
   "outputs": [
    {
     "data": {
      "text/plain": [
       "[3, 12, 13, 43, 54, 56, 67]"
      ]
     },
     "execution_count": 5,
     "metadata": {},
     "output_type": "execute_result"
    }
   ],
   "source": [
    "insertion_sort([3,56,43,12,67,54,13])"
   ]
  },
  {
   "cell_type": "code",
   "execution_count": 6,
   "metadata": {},
   "outputs": [],
   "source": [
    "def insertion_sort_descending(_list):\n",
    "    for i in range(1, len(_list)):\n",
    "        curr = _list[i]\n",
    "        j = i - 1\n",
    "        while j >= 0 and curr > _list[j]:\n",
    "            _list[j+1] = _list[j]\n",
    "            j -= 1\n",
    "        _list[j+1] = curr\n",
    "    return _list"
   ]
  },
  {
   "cell_type": "code",
   "execution_count": 7,
   "metadata": {},
   "outputs": [
    {
     "data": {
      "text/plain": [
       "[67, 56, 54, 43, 13, 12, 3]"
      ]
     },
     "execution_count": 7,
     "metadata": {},
     "output_type": "execute_result"
    }
   ],
   "source": [
    "insertion_sort_descending([3,56,43,12,67,54,13])"
   ]
  },
  {
   "cell_type": "code",
   "execution_count": 8,
   "metadata": {},
   "outputs": [],
   "source": [
    "def insertionSort(_list):\n",
    "    for i in range(1, len(_list)):\n",
    "        curr = _list[i]\n",
    "        j = i - 1\n",
    "        while j >= 0 and curr < _list[j]:\n",
    "            _list[j+1] = _list[j]\n",
    "            j -= 1\n",
    "        _list[j+1] = curr\n",
    "        print(_list)\n",
    "    return _list"
   ]
  },
  {
   "cell_type": "code",
   "execution_count": 9,
   "metadata": {},
   "outputs": [
    {
     "name": "stdout",
     "output_type": "stream",
     "text": [
      "[3, 56, 43, 12, 67, 54, 13]\n",
      "[3, 43, 56, 12, 67, 54, 13]\n",
      "[3, 12, 43, 56, 67, 54, 13]\n",
      "[3, 12, 43, 56, 67, 54, 13]\n",
      "[3, 12, 43, 54, 56, 67, 13]\n",
      "[3, 12, 13, 43, 54, 56, 67]\n"
     ]
    },
    {
     "data": {
      "text/plain": [
       "[3, 12, 13, 43, 54, 56, 67]"
      ]
     },
     "execution_count": 9,
     "metadata": {},
     "output_type": "execute_result"
    }
   ],
   "source": [
    "insertionSort([3,56,43,12,67,54,13])"
   ]
  },
  {
   "cell_type": "code",
   "execution_count": null,
   "metadata": {},
   "outputs": [],
   "source": []
  },
  {
   "cell_type": "code",
   "execution_count": null,
   "metadata": {},
   "outputs": [],
   "source": []
  },
  {
   "cell_type": "code",
   "execution_count": null,
   "metadata": {},
   "outputs": [],
   "source": []
  }
 ],
 "metadata": {
  "kernelspec": {
   "display_name": "Python 3",
   "language": "python",
   "name": "python3"
  },
  "language_info": {
   "codemirror_mode": {
    "name": "ipython",
    "version": 3
   },
   "file_extension": ".py",
   "mimetype": "text/x-python",
   "name": "python",
   "nbconvert_exporter": "python",
   "pygments_lexer": "ipython3",
   "version": "3.7.6"
  }
 },
 "nbformat": 4,
 "nbformat_minor": 4
}
