{
 "cells": [
  {
   "cell_type": "markdown",
   "metadata": {},
   "source": [
    "# Quick Sort\n",
    "- divide and conquer algorithm\n",
    "- finds a pivot number and ensures smaller numbers go to the left of the pivot, larger numbers to the right of the pivot and repeats recursively until list is sorted\n",
    "\n",
    "- time complexity: O(NlogN)\n",
    "- space complexity: O(N)\n",
    "- in place\n",
    "- unstable\n",
    "\n",
    "- when to use:\n",
    "    - when you prioritize time over space\n",
    "    - when stability is not important"
   ]
  },
  {
   "cell_type": "code",
   "execution_count": 1,
   "metadata": {},
   "outputs": [],
   "source": [
    "def partition(_list, low, high):\n",
    "    i = low - 1\n",
    "    pivot = _list[high]\n",
    "    for j in range(low, high):\n",
    "        if _list[j] <= pivot:\n",
    "            i += 1\n",
    "            _list[i], _list[j] = _list[j], _list[i]\n",
    "    _list[i+1], _list[high] = _list[high], _list[i+1]\n",
    "    return i+1"
   ]
  },
  {
   "cell_type": "code",
   "execution_count": 2,
   "metadata": {},
   "outputs": [],
   "source": [
    "def quick_sort(_list, low, high):\n",
    "    if low < high:\n",
    "        pi = partition(_list, low, high)\n",
    "        quick_sort(_list, low, pi-1)\n",
    "        quick_sort(_list, pi+1, high)\n",
    "    return _list"
   ]
  },
  {
   "cell_type": "code",
   "execution_count": 4,
   "metadata": {},
   "outputs": [
    {
     "data": {
      "text/plain": [
       "[1, 2, 3, 4, 5, 6, 7, 8, 9]"
      ]
     },
     "execution_count": 4,
     "metadata": {},
     "output_type": "execute_result"
    }
   ],
   "source": [
    "quick_sort([2,1,7,6,5,4,3,9,8], 0, 8)"
   ]
  },
  {
   "cell_type": "code",
   "execution_count": null,
   "metadata": {},
   "outputs": [],
   "source": []
  }
 ],
 "metadata": {
  "kernelspec": {
   "display_name": "Python 3",
   "language": "python",
   "name": "python3"
  },
  "language_info": {
   "codemirror_mode": {
    "name": "ipython",
    "version": 3
   },
   "file_extension": ".py",
   "mimetype": "text/x-python",
   "name": "python",
   "nbconvert_exporter": "python",
   "pygments_lexer": "ipython3",
   "version": "3.7.6"
  }
 },
 "nbformat": 4,
 "nbformat_minor": 4
}
