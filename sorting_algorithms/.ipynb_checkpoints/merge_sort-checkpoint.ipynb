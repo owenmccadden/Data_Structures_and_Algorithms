{
 "cells": [
  {
   "cell_type": "markdown",
   "metadata": {},
   "source": [
    "# Merge Sort\n",
    "- divide and conquer algorithm\n",
    "- divide the array in halves recursively until they cannot be broken down further\n",
    "- reverse each array division, sorting at each step, until the whole array is sorted\n",
    "\n",
    "- time complexity: O(NlogN)\n",
    "- space complexity: O(N)\n",
    "- not in-place\n",
    "- stable\n",
    "\n",
    "- when to use:\n",
    "    - when time is more of a priority than space\n",
    "    - when you need a quick, stable sort"
   ]
  },
  {
   "cell_type": "code",
   "execution_count": 22,
   "metadata": {},
   "outputs": [],
   "source": [
    "def merge(_list, left, middle, right):\n",
    "    # splits list into left and right sublists\n",
    "    \n",
    "    left_list_num = middle - left + 1\n",
    "    right_list_num = right - middle\n",
    "    \n",
    "    left_list = [0] * (left_list_num)\n",
    "    right_list = [0] * (right_list_num)\n",
    "    \n",
    "    for i in range(left_list_num):\n",
    "        left_list[i] = _list[left + i]\n",
    "    \n",
    "    for j in range(right_list_num):\n",
    "        right_list[j] = _list[middle + 1 + j]\n",
    "    \n",
    "    i = 0\n",
    "    j = 0\n",
    "    k = left\n",
    "    \n",
    "    # merges and left and right sublists in sorted order\n",
    "    \n",
    "    while i < left_list_num  and j < right_list_num:\n",
    "        if left_list[i] <= right_list[j]:\n",
    "            _list[k] = left_list[i]\n",
    "            i += 1\n",
    "        else:\n",
    "            _list[k] = right_list[j]\n",
    "            j += 1\n",
    "        k += 1\n",
    "    \n",
    "    while i < left_list_num:\n",
    "        _list[k] = left_list[i]\n",
    "        k += 1\n",
    "        i += 1\n",
    "        \n",
    "    while j < right_list_num:\n",
    "        _list[k] = right_list[j]\n",
    "        j += 1\n",
    "        k += 1\n",
    "    "
   ]
  },
  {
   "cell_type": "code",
   "execution_count": 23,
   "metadata": {},
   "outputs": [],
   "source": [
    "def merge_sort(_list, l, r):\n",
    "    if l < r:\n",
    "        m = (l+(r-1))//2 # calculates midpoint, m between l and r\n",
    "        merge_sort(_list, l, m) # recursively calls merge_sort on left sub-list\n",
    "        merge_sort(_list, m+1, r) # recursively calls merge_sort on right sub-list\n",
    "        merge(_list, l, m, r) # merges left and right sublists\n",
    "    return _list"
   ]
  },
  {
   "cell_type": "code",
   "execution_count": 24,
   "metadata": {},
   "outputs": [
    {
     "data": {
      "text/plain": [
       "[1, 2, 3, 4, 5, 6, 7, 8, 9]"
      ]
     },
     "execution_count": 24,
     "metadata": {},
     "output_type": "execute_result"
    }
   ],
   "source": [
    "merge_sort([2,1,7,6,5,3,4,9,8], 0, 8)"
   ]
  },
  {
   "cell_type": "code",
   "execution_count": 25,
   "metadata": {},
   "outputs": [
    {
     "data": {
      "text/plain": [
       "[1, 2, 3, 4, 5, 6]"
      ]
     },
     "execution_count": 25,
     "metadata": {},
     "output_type": "execute_result"
    }
   ],
   "source": [
    "merge_sort([6,5,4,3,2,1], 0, 5)"
   ]
  },
  {
   "cell_type": "code",
   "execution_count": null,
   "metadata": {},
   "outputs": [],
   "source": []
  }
 ],
 "metadata": {
  "kernelspec": {
   "display_name": "Python 3",
   "language": "python",
   "name": "python3"
  },
  "language_info": {
   "codemirror_mode": {
    "name": "ipython",
    "version": 3
   },
   "file_extension": ".py",
   "mimetype": "text/x-python",
   "name": "python",
   "nbconvert_exporter": "python",
   "pygments_lexer": "ipython3",
   "version": "3.7.6"
  }
 },
 "nbformat": 4,
 "nbformat_minor": 4
}
