{
 "cells": [
  {
   "cell_type": "markdown",
   "metadata": {},
   "source": [
    "# Bucket Sort\n",
    "- create buckets and distribute array elements into buckets\n",
    "- create n buckets where n = √len(list)\n",
    "- assign buckets using: ind = ceil(value * len(list) / max(list))\n",
    "- sort individual buckets using any sorting algorithm\n",
    "- merge buckets together\n",
    "\n",
    "- time complexity: O(NlogN)\n",
    "    - depends on the sorting algorithm you use for each bucket\n",
    "    - can reduce time complexity to O(log(n)) if sort the buckets using quicksort\n",
    "- space complexity: O(N)\n",
    "- not in-place\n",
    "- stability depends on the underlying sort used for the buckets\n",
    "\n",
    "- when to use: \n",
    "    - when data is uniformly distributed\n",
    "    - when space is not a concern"
   ]
  },
  {
   "cell_type": "code",
   "execution_count": 1,
   "metadata": {},
   "outputs": [],
   "source": [
    "import math"
   ]
  },
  {
   "cell_type": "code",
   "execution_count": 26,
   "metadata": {},
   "outputs": [],
   "source": [
    "def bucket_sort(_list):\n",
    "    num_buckets = round(math.sqrt(len(_list)))\n",
    "    max_value = max(_list)\n",
    "    arr = []\n",
    "    \n",
    "    for i in range(num_buckets):\n",
    "        arr.append([])\n",
    "    \n",
    "    for j in _list:\n",
    "        index = math.ceil(j * num_buckets / max_value)\n",
    "        arr[index-1].append(j)\n",
    "    \n",
    "    for i in arr:\n",
    "        i.sort()\n",
    "    \n",
    "    k=0\n",
    "    for i in range(num_buckets):\n",
    "        for j in range(len(arr[i])):\n",
    "            _list[k] = arr[i][j]\n",
    "            k += 1\n",
    "    return _list\n",
    "        "
   ]
  },
  {
   "cell_type": "code",
   "execution_count": 27,
   "metadata": {},
   "outputs": [
    {
     "data": {
      "text/plain": [
       "[3, 4, 4, 5, 6, 7, 10]"
      ]
     },
     "execution_count": 27,
     "metadata": {},
     "output_type": "execute_result"
    }
   ],
   "source": [
    "bucket_sort([10,4,3,5,4,7,6])"
   ]
  },
  {
   "cell_type": "code",
   "execution_count": 83,
   "metadata": {},
   "outputs": [],
   "source": [
    "def bucket_sort_descending(_list):\n",
    "    num_buckets = round(math.sqrt(len(_list)))\n",
    "    max_value = max(_list)\n",
    "    arr = []\n",
    "    \n",
    "    for i in range(num_buckets):\n",
    "        arr.append([])\n",
    "    \n",
    "    for j in _list:\n",
    "        index = math.ceil(j * num_buckets / max_value)\n",
    "        arr[index-1].append(j)\n",
    "    \n",
    "    for i in arr:\n",
    "        i.sort()\n",
    "        i.reverse()\n",
    "    \n",
    "    k=0\n",
    "    for i in range(num_buckets)[::-1]:\n",
    "        for j in range(len(arr[i])):\n",
    "            _list[k] = arr[i][j]\n",
    "            k += 1\n",
    "    return _list"
   ]
  },
  {
   "cell_type": "code",
   "execution_count": 84,
   "metadata": {},
   "outputs": [
    {
     "data": {
      "text/plain": [
       "[10, 7, 6, 5, 4, 4, 3]"
      ]
     },
     "execution_count": 84,
     "metadata": {},
     "output_type": "execute_result"
    }
   ],
   "source": [
    "bucket_sort_descending([10,4,3,5,4,7,6])"
   ]
  },
  {
   "cell_type": "code",
   "execution_count": null,
   "metadata": {},
   "outputs": [],
   "source": []
  },
  {
   "cell_type": "code",
   "execution_count": null,
   "metadata": {},
   "outputs": [],
   "source": []
  }
 ],
 "metadata": {
  "kernelspec": {
   "display_name": "Python 3",
   "language": "python",
   "name": "python3"
  },
  "language_info": {
   "codemirror_mode": {
    "name": "ipython",
    "version": 3
   },
   "file_extension": ".py",
   "mimetype": "text/x-python",
   "name": "python",
   "nbconvert_exporter": "python",
   "pygments_lexer": "ipython3",
   "version": "3.7.6"
  }
 },
 "nbformat": 4,
 "nbformat_minor": 4
}
