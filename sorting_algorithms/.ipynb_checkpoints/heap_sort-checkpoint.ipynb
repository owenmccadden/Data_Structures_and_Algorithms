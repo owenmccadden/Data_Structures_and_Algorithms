{
 "cells": [
  {
   "cell_type": "markdown",
   "metadata": {},
   "source": [
    "# Heap Sort\n",
    "- insert all elements into a binary heap\n",
    "- create a new list to store sorted output\n",
    "- repeat following steps until new list is populated with sorted list\n",
    "    - extract root and add to sorted list\n",
    "    - heapify\n",
    "\n",
    "- time complexity: O(NlogN)\n",
    "- space complexity: O(1) (assuming the heap is already built)\n",
    "- in place\n",
    "- not stable\n",
    "\n",
    "- when to use:\n",
    "    - when you are already using a binary heap and need to sort components\n",
    "    - if a binary heap could be useful and you also want to sort data quickly"
   ]
  },
  {
   "cell_type": "code",
   "execution_count": 5,
   "metadata": {},
   "outputs": [],
   "source": [
    "def heapify(_list, n, i):\n",
    "    _min = i\n",
    "    l = 2*i + 1\n",
    "    r = 2*1 + 2\n",
    "    if l < n and _list[l] < _list[_min]:\n",
    "        _min = l\n",
    "    \n",
    "    if r < n and _list[r] < _list[_min]:\n",
    "        _min = r\n",
    "    \n",
    "    if _min != i:\n",
    "        _list[i], _list[_min] = _list[_min], _list[i]\n",
    "        heapify(_list, n, _min)"
   ]
  },
  {
   "cell_type": "code",
   "execution_count": 8,
   "metadata": {},
   "outputs": [],
   "source": [
    "def heap_sort(_list):\n",
    "    n = len(_list)\n",
    "    for i in range(int(n/2)-1, -1, -1):\n",
    "        heapify(_list, n, i)\n",
    "    \n",
    "    for i in range(n-1, 0, -1):\n",
    "        _list[i], _list[0] = _list[0], _list[i]\n",
    "        heapify(_list, i, 0)\n",
    "    _list.reverse()\n",
    "    return(_list)"
   ]
  },
  {
   "cell_type": "code",
   "execution_count": 12,
   "metadata": {},
   "outputs": [
    {
     "data": {
      "text/plain": [
       "[1, 3, 4, 5, 7]"
      ]
     },
     "execution_count": 12,
     "metadata": {},
     "output_type": "execute_result"
    }
   ],
   "source": [
    "heap_sort([1,5,7,4,3])"
   ]
  },
  {
   "cell_type": "code",
   "execution_count": null,
   "metadata": {},
   "outputs": [],
   "source": []
  }
 ],
 "metadata": {
  "kernelspec": {
   "display_name": "Python 3",
   "language": "python",
   "name": "python3"
  },
  "language_info": {
   "codemirror_mode": {
    "name": "ipython",
    "version": 3
   },
   "file_extension": ".py",
   "mimetype": "text/x-python",
   "name": "python",
   "nbconvert_exporter": "python",
   "pygments_lexer": "ipython3",
   "version": "3.7.6"
  }
 },
 "nbformat": 4,
 "nbformat_minor": 4
}
