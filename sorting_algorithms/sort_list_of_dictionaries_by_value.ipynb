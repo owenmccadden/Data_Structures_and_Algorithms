{
 "cells": [
  {
   "cell_type": "code",
   "execution_count": 1,
   "metadata": {},
   "outputs": [],
   "source": [
    "items = [\n",
    "    {\n",
    "      \"score\": 50,\n",
    "      \"user_name\": \"Owen\"\n",
    "    },\n",
    "    {\n",
    "      \"score\": 500,\n",
    "      \"user_name\": \"test1\"\n",
    "    },\n",
    "    {\n",
    "      \"score\": 540,\n",
    "      \"user_name\": \"test2\"\n",
    "    },\n",
    "    {\n",
    "      \"score\": 5100,\n",
    "      \"user_name\": \"test3\"\n",
    "    },\n",
    "    {\n",
    "      \"score\": 5,\n",
    "      \"user_name\": \"test4\"\n",
    "    }\n",
    "  ]"
   ]
  },
  {
   "cell_type": "code",
   "execution_count": 2,
   "metadata": {},
   "outputs": [
    {
     "name": "stdout",
     "output_type": "stream",
     "text": [
      "{'score': 50, 'user_name': 'Owen'}\n",
      "{'score': 500, 'user_name': 'test1'}\n",
      "{'score': 540, 'user_name': 'test2'}\n",
      "{'score': 5100, 'user_name': 'test3'}\n",
      "{'score': 5, 'user_name': 'test4'}\n"
     ]
    }
   ],
   "source": [
    "for i in items:\n",
    "    print(i)"
   ]
  },
  {
   "cell_type": "code",
   "execution_count": 4,
   "metadata": {},
   "outputs": [],
   "source": [
    "sorted_items = sorted(items, key=lambda x: x['score'], reverse=True)"
   ]
  },
  {
   "cell_type": "code",
   "execution_count": 5,
   "metadata": {},
   "outputs": [
    {
     "data": {
      "text/plain": [
       "[{'score': 5100, 'user_name': 'test3'},\n",
       " {'score': 540, 'user_name': 'test2'},\n",
       " {'score': 500, 'user_name': 'test1'},\n",
       " {'score': 50, 'user_name': 'Owen'},\n",
       " {'score': 5, 'user_name': 'test4'}]"
      ]
     },
     "execution_count": 5,
     "metadata": {},
     "output_type": "execute_result"
    }
   ],
   "source": [
    "sorted_items"
   ]
  },
  {
   "cell_type": "code",
   "execution_count": 6,
   "metadata": {},
   "outputs": [],
   "source": [
    "import json"
   ]
  },
  {
   "cell_type": "code",
   "execution_count": 7,
   "metadata": {},
   "outputs": [
    {
     "data": {
      "text/plain": [
       "'[{\"score\": 5100, \"user_name\": \"test3\"}, {\"score\": 540, \"user_name\": \"test2\"}, {\"score\": 500, \"user_name\": \"test1\"}, {\"score\": 50, \"user_name\": \"Owen\"}, {\"score\": 5, \"user_name\": \"test4\"}]'"
      ]
     },
     "execution_count": 7,
     "metadata": {},
     "output_type": "execute_result"
    }
   ],
   "source": [
    "json.dumps(sorted_items)"
   ]
  },
  {
   "cell_type": "code",
   "execution_count": null,
   "metadata": {},
   "outputs": [],
   "source": []
  }
 ],
 "metadata": {
  "kernelspec": {
   "display_name": "Python 3",
   "language": "python",
   "name": "python3"
  },
  "language_info": {
   "codemirror_mode": {
    "name": "ipython",
    "version": 3
   },
   "file_extension": ".py",
   "mimetype": "text/x-python",
   "name": "python",
   "nbconvert_exporter": "python",
   "pygments_lexer": "ipython3",
   "version": "3.7.6"
  }
 },
 "nbformat": 4,
 "nbformat_minor": 4
}
