{
 "cells": [
  {
   "cell_type": "markdown",
   "metadata": {},
   "source": [
    "# Bubble Sort\n",
    "- compare each pair of adjacent items and swap if they are out of order\n",
    "- repeat until list is fully sorted\n",
    "    - pushes greatest values to the end on each iteration of inner loop until all values are sorted\n",
    "    - default example is ascending\n",
    "- time complexity: O(n^2)\n",
    "- space complexity: O(1)\n",
    "- in-place\n",
    "- stable\n",
    "\n",
    "\n",
    "- when to use:\n",
    "    - when most of the list is already sorted\n",
    "    - when space is more of a concern than time"
   ]
  },
  {
   "cell_type": "code",
   "execution_count": 8,
   "metadata": {},
   "outputs": [],
   "source": [
    "def bubble_sort(_list):\n",
    "    for i in range(len(_list)-1):\n",
    "        for j in range(len(_list)-i-1):\n",
    "            if _list[j] > _list[j+1]:\n",
    "                _list[j], _list[j+1] = _list[j+1], _list[j]\n",
    "    return _list"
   ]
  },
  {
   "cell_type": "code",
   "execution_count": 9,
   "metadata": {},
   "outputs": [
    {
     "data": {
      "text/plain": [
       "[1, 2, 2, 3, 4, 26, 46, 67, 443]"
      ]
     },
     "execution_count": 9,
     "metadata": {},
     "output_type": "execute_result"
    }
   ],
   "source": [
    "bubble_sort([1,443,46,2,26,4,67,2,3])"
   ]
  },
  {
   "cell_type": "code",
   "execution_count": 10,
   "metadata": {},
   "outputs": [],
   "source": [
    "def bubble_sort_descending(_list):\n",
    "    for i in range(len(_list) - 1):\n",
    "        for j in range(len(_list) - 1 - i):\n",
    "            if _list[j] < _list[j+1]:\n",
    "                _list[j], _list[j+1] = _list[j+1], _list[j]\n",
    "    return _list"
   ]
  },
  {
   "cell_type": "code",
   "execution_count": 11,
   "metadata": {},
   "outputs": [
    {
     "data": {
      "text/plain": [
       "[443, 67, 46, 26, 4, 3, 2, 2, 1]"
      ]
     },
     "execution_count": 11,
     "metadata": {},
     "output_type": "execute_result"
    }
   ],
   "source": [
    "bubble_sort_descending([1,443,46,2,26,4,67,2,3])"
   ]
  },
  {
   "cell_type": "code",
   "execution_count": 12,
   "metadata": {},
   "outputs": [],
   "source": [
    "def bubbleSort(_list):\n",
    "    for i in range(len(_list)-1):\n",
    "        for j in range(len(_list)-i-1):\n",
    "            print(_list)\n",
    "            if _list[j] > _list[j+1]:\n",
    "#                 _list[j], _list[j+1] = _list[j+1], _list[j]\n",
    "                temp = _list[j]\n",
    "                _list[j] = _list[j+1]\n",
    "                _list[j+1] = temp\n",
    "    return _list"
   ]
  },
  {
   "cell_type": "code",
   "execution_count": 13,
   "metadata": {},
   "outputs": [
    {
     "name": "stdout",
     "output_type": "stream",
     "text": [
      "[1, 443, 46, 2, 26, 4, 67, 2, 3]\n",
      "[1, 443, 46, 2, 26, 4, 67, 2, 3]\n",
      "[1, 46, 443, 2, 26, 4, 67, 2, 3]\n",
      "[1, 46, 2, 443, 26, 4, 67, 2, 3]\n",
      "[1, 46, 2, 26, 443, 4, 67, 2, 3]\n",
      "[1, 46, 2, 26, 4, 443, 67, 2, 3]\n",
      "[1, 46, 2, 26, 4, 67, 443, 2, 3]\n",
      "[1, 46, 2, 26, 4, 67, 2, 443, 3]\n",
      "[1, 46, 2, 26, 4, 67, 2, 3, 443]\n",
      "[1, 46, 2, 26, 4, 67, 2, 3, 443]\n",
      "[1, 2, 46, 26, 4, 67, 2, 3, 443]\n",
      "[1, 2, 26, 46, 4, 67, 2, 3, 443]\n",
      "[1, 2, 26, 4, 46, 67, 2, 3, 443]\n",
      "[1, 2, 26, 4, 46, 67, 2, 3, 443]\n",
      "[1, 2, 26, 4, 46, 2, 67, 3, 443]\n",
      "[1, 2, 26, 4, 46, 2, 3, 67, 443]\n",
      "[1, 2, 26, 4, 46, 2, 3, 67, 443]\n",
      "[1, 2, 26, 4, 46, 2, 3, 67, 443]\n",
      "[1, 2, 4, 26, 46, 2, 3, 67, 443]\n",
      "[1, 2, 4, 26, 46, 2, 3, 67, 443]\n",
      "[1, 2, 4, 26, 2, 46, 3, 67, 443]\n",
      "[1, 2, 4, 26, 2, 3, 46, 67, 443]\n",
      "[1, 2, 4, 26, 2, 3, 46, 67, 443]\n",
      "[1, 2, 4, 26, 2, 3, 46, 67, 443]\n",
      "[1, 2, 4, 26, 2, 3, 46, 67, 443]\n",
      "[1, 2, 4, 2, 26, 3, 46, 67, 443]\n",
      "[1, 2, 4, 2, 3, 26, 46, 67, 443]\n",
      "[1, 2, 4, 2, 3, 26, 46, 67, 443]\n",
      "[1, 2, 4, 2, 3, 26, 46, 67, 443]\n",
      "[1, 2, 2, 4, 3, 26, 46, 67, 443]\n",
      "[1, 2, 2, 3, 4, 26, 46, 67, 443]\n",
      "[1, 2, 2, 3, 4, 26, 46, 67, 443]\n",
      "[1, 2, 2, 3, 4, 26, 46, 67, 443]\n",
      "[1, 2, 2, 3, 4, 26, 46, 67, 443]\n",
      "[1, 2, 2, 3, 4, 26, 46, 67, 443]\n",
      "[1, 2, 2, 3, 4, 26, 46, 67, 443]\n"
     ]
    },
    {
     "data": {
      "text/plain": [
       "[1, 2, 2, 3, 4, 26, 46, 67, 443]"
      ]
     },
     "execution_count": 13,
     "metadata": {},
     "output_type": "execute_result"
    }
   ],
   "source": [
    "bubbleSort([1,443,46,2,26,4,67,2,3])"
   ]
  },
  {
   "cell_type": "code",
   "execution_count": null,
   "metadata": {},
   "outputs": [],
   "source": []
  }
 ],
 "metadata": {
  "kernelspec": {
   "display_name": "Python 3",
   "language": "python",
   "name": "python3"
  },
  "language_info": {
   "codemirror_mode": {
    "name": "ipython",
    "version": 3
   },
   "file_extension": ".py",
   "mimetype": "text/x-python",
   "name": "python",
   "nbconvert_exporter": "python",
   "pygments_lexer": "ipython3",
   "version": "3.7.6"
  }
 },
 "nbformat": 4,
 "nbformat_minor": 4
}
