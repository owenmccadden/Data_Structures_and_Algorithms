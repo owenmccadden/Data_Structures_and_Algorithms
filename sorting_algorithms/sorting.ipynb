{
 "cells": [
  {
   "cell_type": "markdown",
   "metadata": {},
   "source": [
    "## Types of Sorting Algorithms:\n",
    "\n",
    "- Space Used:\n",
    "    -  in place sorting: algorithm does not require any extra space for sorting\n",
    "        - bubble sort\n",
    "    - out place sorting: algorithm that requires extra space for sorting\n",
    "        - merge sort\n",
    "- Stability:\n",
    "    - stable sorting: sorting does not change the sequence of identical items. i.e. if you have a repeat value in the list you are sorting, the sorted list will contain the values in the original order\n",
    "        - insertion sort\n",
    "    - unstable sorting: sorting changes the sequence of identical items\n",
    "        - quicksort\n",
    "        \n",
    "- increasing order: each element is greater than the previous\n",
    "- decreasing order: each element is less than the previous\n",
    "- non-increasing order: each element is less than or equal to the previous element\n",
    "- non-decreasing order: each element is greater than or equal to the previous"
   ]
  },
  {
   "cell_type": "code",
   "execution_count": null,
   "metadata": {},
   "outputs": [],
   "source": []
  }
 ],
 "metadata": {
  "kernelspec": {
   "display_name": "Python 3",
   "language": "python",
   "name": "python3"
  },
  "language_info": {
   "codemirror_mode": {
    "name": "ipython",
    "version": 3
   },
   "file_extension": ".py",
   "mimetype": "text/x-python",
   "name": "python",
   "nbconvert_exporter": "python",
   "pygments_lexer": "ipython3",
   "version": "3.7.6"
  }
 },
 "nbformat": 4,
 "nbformat_minor": 4
}
