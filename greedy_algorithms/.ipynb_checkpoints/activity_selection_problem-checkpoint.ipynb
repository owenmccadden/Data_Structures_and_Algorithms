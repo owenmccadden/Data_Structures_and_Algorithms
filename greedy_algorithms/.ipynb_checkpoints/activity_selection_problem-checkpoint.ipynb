{
 "cells": [
  {
   "cell_type": "markdown",
   "metadata": {},
   "source": [
    "### Activity Selection Problem\n",
    "- given N activities with their start and end times,\n",
    "- select the maximum number of activities that can be performed by a single person\n",
    "- assume the person can only work on once activity at a time\n",
    "\n",
    "- solution:\n",
    "    - sort the activities by finish time\n",
    "    - select first activity\n",
    "    - for all remaining activities select the activities where the start time is greater than or equal to the finish time of the previously selected activity\n",
    "    - this is a greedy algorithm bc at each step we choose the activity with the earliest finishing time, and this locally optimally solution leads us to globally optimal solution\n",
    "\n",
    "- time complexity: O(NlogN)\n",
    "- space complexity: O(1)"
   ]
  },
  {
   "cell_type": "code",
   "execution_count": 2,
   "metadata": {},
   "outputs": [],
   "source": [
    "activities = [['a1', 0, 6],\n",
    "              ['a2', 3, 4],\n",
    "              ['a3', 1, 2],\n",
    "              ['a4', 5, 8],\n",
    "              ['a5', 5, 7],\n",
    "              ['a6', 8, 9]\n",
    "             ]"
   ]
  },
  {
   "cell_type": "code",
   "execution_count": 5,
   "metadata": {},
   "outputs": [],
   "source": [
    "def select_activities(activities):\n",
    "    output = []\n",
    "    activities.sort(key=lambda x: x[2])\n",
    "    start = 0\n",
    "    output.append(activities[start][0])\n",
    "    \n",
    "    for j in range(len(activities)):\n",
    "        if activities[j][1] > activities[start][2]:\n",
    "            output.append(activities[j][0])\n",
    "            start = j\n",
    "    \n",
    "    return output"
   ]
  },
  {
   "cell_type": "code",
   "execution_count": 6,
   "metadata": {},
   "outputs": [
    {
     "data": {
      "text/plain": [
       "['a3', 'a2', 'a5', 'a6']"
      ]
     },
     "execution_count": 6,
     "metadata": {},
     "output_type": "execute_result"
    }
   ],
   "source": [
    "select_activities(activities)"
   ]
  },
  {
   "cell_type": "code",
   "execution_count": null,
   "metadata": {},
   "outputs": [],
   "source": []
  }
 ],
 "metadata": {
  "kernelspec": {
   "display_name": "Python 3",
   "language": "python",
   "name": "python3"
  },
  "language_info": {
   "codemirror_mode": {
    "name": "ipython",
    "version": 3
   },
   "file_extension": ".py",
   "mimetype": "text/x-python",
   "name": "python",
   "nbconvert_exporter": "python",
   "pygments_lexer": "ipython3",
   "version": "3.7.6"
  }
 },
 "nbformat": 4,
 "nbformat_minor": 4
}
