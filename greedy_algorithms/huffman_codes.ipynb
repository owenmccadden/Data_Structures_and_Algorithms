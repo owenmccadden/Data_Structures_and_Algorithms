{
 "cells": [
  {
   "cell_type": "markdown",
   "metadata": {},
   "source": [
    "# Huffman Codes\n",
    "\n",
    "    - given a dict of characters and frequencies, generate huffman codes for each character\n",
    "    - create a binary tree out of the frequencies, and traverse the binary tree to each character to generate the code"
   ]
  },
  {
   "cell_type": "code",
   "execution_count": 2,
   "metadata": {},
   "outputs": [
    {
     "data": {
      "text/plain": [
       "\"\\nshould return:\\n\\n{\\n    'A': 01,\\n    'B': 110,\\n    'C': 111,\\n    'D': 001,\\n    'E': 000,\\n    'F': 10 \\n}\\n\\n\""
      ]
     },
     "execution_count": 2,
     "metadata": {},
     "output_type": "execute_result"
    }
   ],
   "source": [
    "test = {\n",
    "    'A': 25,\n",
    "    'B': 15,\n",
    "    'C': 17,\n",
    "    'D': 13,\n",
    "    'E': 11,\n",
    "    'F': 30\n",
    "}\n",
    "\n",
    "\"\"\"\n",
    "should return:\n",
    "\n",
    "{\n",
    "    'A': 01,\n",
    "    'B': 110,\n",
    "    'C': 111,\n",
    "    'D': 001,\n",
    "    'E': 000,\n",
    "    'F': 10 \n",
    "}\n",
    "\n",
    "\"\"\""
   ]
  },
  {
   "cell_type": "code",
   "execution_count": 16,
   "metadata": {},
   "outputs": [],
   "source": [
    "# A Huffman Tree Node\n",
    "class node:\n",
    "    def __init__(self, freq, symbol, left=None, right=None):\n",
    "        # frequency of symbol\n",
    "        self.freq = freq\n",
    " \n",
    "        # symbol name (character)\n",
    "        self.symbol = symbol\n",
    " \n",
    "        # node left of current node\n",
    "        self.left = left\n",
    " \n",
    "        # node right of current node\n",
    "        self.right = right\n",
    " \n",
    "        # tree direction (0/1)\n",
    "        self.huff = ''"
   ]
  },
  {
   "cell_type": "code",
   "execution_count": 17,
   "metadata": {},
   "outputs": [],
   "source": [
    "def printNodes(node, val=''):\n",
    "    # huffman code for current node\n",
    "    newVal = val + str(node.huff)\n",
    " \n",
    "    # if node is not an edge node\n",
    "    # then traverse inside it\n",
    "    if(node.left):\n",
    "        printNodes(node.left, newVal)\n",
    "    if(node.right):\n",
    "        printNodes(node.right, newVal)\n",
    " \n",
    "        # if node is edge node then\n",
    "        # display its huffman code\n",
    "    if(not node.left and not node.right):\n",
    "        print(f\"{node.symbol} -> {newVal}\")"
   ]
  },
  {
   "cell_type": "code",
   "execution_count": 25,
   "metadata": {},
   "outputs": [],
   "source": [
    "def huffman(chars, freq, nodes):\n",
    "    \n",
    "    for x in range(len(chars)):\n",
    "        nodes.append(node(freq[x], chars[x]))\n",
    "    \n",
    "    while len(nodes) > 1:\n",
    "        # sort all the nodes in ascending order\n",
    "        # based on theri frequency\n",
    "        nodes = sorted(nodes, key=lambda x: x.freq)\n",
    "\n",
    "        # pick 2 smallest nodes\n",
    "        left = nodes[0]\n",
    "        right = nodes[1]\n",
    "\n",
    "        # assign directional value to these nodes\n",
    "        left.huff = 0\n",
    "        right.huff = 1\n",
    "\n",
    "        # combine the 2 smallest nodes to create\n",
    "        # new node as their parent\n",
    "        newNode = node(left.freq+right.freq, left.symbol+right.symbol, left, right)\n",
    "\n",
    "        # remove the 2 nodes and add their\n",
    "        # parent as new node among others\n",
    "        nodes.remove(left)\n",
    "        nodes.remove(right)\n",
    "        nodes.append(newNode)\n",
    " \n",
    "    # Huffman Tree is ready!\n",
    "    printNodes(nodes[0])"
   ]
  },
  {
   "cell_type": "code",
   "execution_count": 28,
   "metadata": {},
   "outputs": [],
   "source": [
    "# characters for huffman tree\n",
    "chars = ['a', 'b', 'c', 'd', 'e', 'f']\n",
    " \n",
    "# frequency of characters\n",
    "freq = [ 5, 9, 12, 13, 16, 45]\n",
    " \n",
    "# list containing unused nodes\n",
    "nodes = []"
   ]
  },
  {
   "cell_type": "code",
   "execution_count": 29,
   "metadata": {},
   "outputs": [
    {
     "name": "stdout",
     "output_type": "stream",
     "text": [
      "f -> 0\n",
      "c -> 100\n",
      "d -> 101\n",
      "a -> 1100\n",
      "b -> 1101\n",
      "e -> 111\n"
     ]
    }
   ],
   "source": [
    "huffman(chars, freq, nodes)"
   ]
  },
  {
   "cell_type": "code",
   "execution_count": null,
   "metadata": {},
   "outputs": [],
   "source": []
  }
 ],
 "metadata": {
  "kernelspec": {
   "display_name": "Python 3",
   "language": "python",
   "name": "python3"
  },
  "language_info": {
   "codemirror_mode": {
    "name": "ipython",
    "version": 3
   },
   "file_extension": ".py",
   "mimetype": "text/x-python",
   "name": "python",
   "nbconvert_exporter": "python",
   "pygments_lexer": "ipython3",
   "version": "3.7.6"
  }
 },
 "nbformat": 4,
 "nbformat_minor": 4
}
