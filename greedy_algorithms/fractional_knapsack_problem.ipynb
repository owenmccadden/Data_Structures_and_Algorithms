{
 "cells": [
  {
   "cell_type": "markdown",
   "metadata": {},
   "source": [
    "# Fractional Knapsack Problem\n",
    "- given a set of items with a weight and value, find the number of each item to include in the collection such that the total wights is less than or equal to a given limit and the total value is as large as possible\n",
    "- maximize value\n",
    "- minimize weight subject to constraint of limit\n",
    "- optimize value density, or value / unit of weight\n",
    "\n",
    "- solution:\n",
    "    - sort items by density ratio\n",
    "    - select items with largest ratio until we reach limit\n",
    "    \n",
    "- time complexity: O(NLogN)\n",
    "- space complexity: O(1)"
   ]
  },
  {
   "cell_type": "code",
   "execution_count": 11,
   "metadata": {},
   "outputs": [],
   "source": [
    "class Item:\n",
    "    def __init__(self, weight, value):\n",
    "        self.weight = weight\n",
    "        self.value = value\n",
    "        self.ratio = value / weight"
   ]
  },
  {
   "cell_type": "code",
   "execution_count": 12,
   "metadata": {},
   "outputs": [],
   "source": [
    "def fractional_knapsack(items, capacity):\n",
    "    items.sort(key=lambda x: x.ratio, reverse=True)\n",
    "    used_capacity = 0\n",
    "    total_value = 0\n",
    "    for i in items:\n",
    "        if used_capacity + i.weight <= capacity:\n",
    "            used_capacity += i.weight\n",
    "            total_value += i.value\n",
    "        else:\n",
    "            unused_weight = capacity - used_capacity\n",
    "            value = i.ratio * unused_weight\n",
    "            used_capacity += unused_weight\n",
    "            total_value += value\n",
    "        \n",
    "        if used_capacity == capacity:\n",
    "            break\n",
    "            \n",
    "    return total_value\n",
    "            "
   ]
  },
  {
   "cell_type": "code",
   "execution_count": 13,
   "metadata": {},
   "outputs": [
    {
     "data": {
      "text/plain": [
       "240.0"
      ]
     },
     "execution_count": 13,
     "metadata": {},
     "output_type": "execute_result"
    }
   ],
   "source": [
    "items = [Item(20, 100), Item(30, 120), Item(10, 60)]\n",
    "fractional_knapsack(items, 50)"
   ]
  },
  {
   "cell_type": "code",
   "execution_count": null,
   "metadata": {},
   "outputs": [],
   "source": []
  }
 ],
 "metadata": {
  "kernelspec": {
   "display_name": "Python 3",
   "language": "python",
   "name": "python3"
  },
  "language_info": {
   "codemirror_mode": {
    "name": "ipython",
    "version": 3
   },
   "file_extension": ".py",
   "mimetype": "text/x-python",
   "name": "python",
   "nbconvert_exporter": "python",
   "pygments_lexer": "ipython3",
   "version": "3.7.6"
  }
 },
 "nbformat": 4,
 "nbformat_minor": 4
}
