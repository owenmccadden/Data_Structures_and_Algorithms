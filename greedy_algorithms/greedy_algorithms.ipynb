{
 "cells": [
  {
   "cell_type": "markdown",
   "metadata": {},
   "source": [
    "# Greedy Algorithms\n",
    "- algorithmic paradigm that builds the solution piece by piece\n",
    "- at each step of the algorithm, select the best step available at the time that offers the most obvious and immediate benefit\n",
    "- fits where the local optimal solution leads to the global solution\n",
    "\n",
    "### Examples:\n",
    "- insertion sort\n",
    "    - divide array into two parts: sorted and unsorted\n",
    "    - in each step we grab the next element from the unsorted portion and put it into the correct position in the sorted section\n",
    "    - in each step we are finding the local optimal step, which ultimately leads to the global optimal solution\n",
    "- selection sort\n",
    "    - likewise we divide the array into an unsorted section and a sorted section\n",
    "    - at each step we find the minimum value and swap it with the first value in the sorted section\n",
    "    - find the locally optimal step which leads us to globally optimal solution\n",
    "- topological sort\n",
    "- prim's algorithm\n",
    "- kruskal algorithm\n",
    "\n",
    "- each of these algorithms perform the locally optimal step which leads to the globally optimal solution to the problem"
   ]
  },
  {
   "cell_type": "code",
   "execution_count": null,
   "metadata": {},
   "outputs": [],
   "source": []
  }
 ],
 "metadata": {
  "kernelspec": {
   "display_name": "Python 3",
   "language": "python",
   "name": "python3"
  },
  "language_info": {
   "codemirror_mode": {
    "name": "ipython",
    "version": 3
   },
   "file_extension": ".py",
   "mimetype": "text/x-python",
   "name": "python",
   "nbconvert_exporter": "python",
   "pygments_lexer": "ipython3",
   "version": "3.7.6"
  }
 },
 "nbformat": 4,
 "nbformat_minor": 4
}
