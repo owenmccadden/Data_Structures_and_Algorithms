{
 "cells": [
  {
   "cell_type": "markdown",
   "metadata": {},
   "source": [
    "# Two Sum (Find all pairs with two lists)\n",
    "- given two arrays a, b of integers and a value x\n",
    "- return a list of all pairs a[i], b[j] such that a[i] + b[j] = x\n",
    "- must be O(n) time and space\n",
    "- part of an example problem on two sigma assessment"
   ]
  },
  {
   "cell_type": "code",
   "execution_count": 1,
   "metadata": {},
   "outputs": [],
   "source": [
    "def find_all_pairs(arr1, arr2, x):\n",
    "    pairs = []\n",
    "    s = set()\n",
    "    for num in arr1:\n",
    "        s.add(num)\n",
    "    \n",
    "    for num in arr2:\n",
    "        if x-num in s:\n",
    "            pairs.append((x-num, num))\n",
    "    \n",
    "    return pairs"
   ]
  },
  {
   "cell_type": "markdown",
   "metadata": {},
   "source": [
    "### Tests"
   ]
  },
  {
   "cell_type": "code",
   "execution_count": 2,
   "metadata": {},
   "outputs": [],
   "source": [
    "arr1 = [1, 0, -4, 7, 6, 4]\n",
    "arr2 = [0, 2, 4, -3, 2, 1]\n",
    "x = 8"
   ]
  },
  {
   "cell_type": "code",
   "execution_count": 3,
   "metadata": {},
   "outputs": [
    {
     "data": {
      "text/plain": [
       "[(6, 2), (4, 4), (6, 2), (7, 1)]"
      ]
     },
     "execution_count": 3,
     "metadata": {},
     "output_type": "execute_result"
    }
   ],
   "source": [
    "find_all_pairs(arr1, arr2, x)"
   ]
  },
  {
   "cell_type": "code",
   "execution_count": null,
   "metadata": {},
   "outputs": [],
   "source": []
  }
 ],
 "metadata": {
  "kernelspec": {
   "display_name": "Python 3",
   "language": "python",
   "name": "python3"
  },
  "language_info": {
   "codemirror_mode": {
    "name": "ipython",
    "version": 3
   },
   "file_extension": ".py",
   "mimetype": "text/x-python",
   "name": "python",
   "nbconvert_exporter": "python",
   "pygments_lexer": "ipython3",
   "version": "3.7.6"
  }
 },
 "nbformat": 4,
 "nbformat_minor": 4
}
