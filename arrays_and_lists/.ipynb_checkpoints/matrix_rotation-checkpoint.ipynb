{
 "cells": [
  {
   "cell_type": "code",
   "execution_count": 1,
   "metadata": {},
   "outputs": [],
   "source": [
    "matrix = [\n",
    "    [1,2,3],\n",
    "    [4,5,6],\n",
    "    [7,8,9]\n",
    "]"
   ]
  },
  {
   "cell_type": "markdown",
   "metadata": {},
   "source": [
    "# Python One-Liners to Return a Rotated Matrix"
   ]
  },
  {
   "cell_type": "markdown",
   "metadata": {},
   "source": [
    "## Counter Clockwise Rotation 90 Degrees"
   ]
  },
  {
   "cell_type": "code",
   "execution_count": 3,
   "metadata": {},
   "outputs": [
    {
     "data": {
      "text/plain": [
       "[(3, 6, 9), (2, 5, 8), (1, 4, 7)]"
      ]
     },
     "execution_count": 3,
     "metadata": {},
     "output_type": "execute_result"
    }
   ],
   "source": [
    "[*zip(*matrix)][::-1]"
   ]
  },
  {
   "cell_type": "markdown",
   "metadata": {},
   "source": [
    "## Clockwise Rotation 90 Degrees"
   ]
  },
  {
   "cell_type": "code",
   "execution_count": 5,
   "metadata": {},
   "outputs": [
    {
     "data": {
      "text/plain": [
       "[(7, 4, 1), (8, 5, 2), (9, 6, 3)]"
      ]
     },
     "execution_count": 5,
     "metadata": {},
     "output_type": "execute_result"
    }
   ],
   "source": [
    "[*zip(*matrix[::-1])]"
   ]
  },
  {
   "cell_type": "markdown",
   "metadata": {},
   "source": [
    "## 180 Degree Rotation"
   ]
  },
  {
   "cell_type": "code",
   "execution_count": 10,
   "metadata": {},
   "outputs": [
    {
     "data": {
      "text/plain": [
       "[(9, 8, 7), (6, 5, 4), (3, 2, 1)]"
      ]
     },
     "execution_count": 10,
     "metadata": {},
     "output_type": "execute_result"
    }
   ],
   "source": [
    "[*zip(*[*zip(*matrix)][::-1])][::-1]"
   ]
  },
  {
   "cell_type": "code",
   "execution_count": 15,
   "metadata": {},
   "outputs": [],
   "source": [
    "matrix = [\n",
    "    [1,2,3],\n",
    "    [4,5,6],\n",
    "    [7,8,9]\n",
    "]"
   ]
  },
  {
   "cell_type": "code",
   "execution_count": 16,
   "metadata": {},
   "outputs": [],
   "source": [
    "rotated_ccw = [\n",
    "    [3,6,9],\n",
    "    [2,5,8],\n",
    "    [1,4,7]\n",
    "]"
   ]
  },
  {
   "cell_type": "code",
   "execution_count": 17,
   "metadata": {},
   "outputs": [],
   "source": [
    "rotated_cw = [\n",
    "    [7,4,1],\n",
    "    [8,5,2],\n",
    "    [9,6,3]\n",
    "]"
   ]
  },
  {
   "cell_type": "markdown",
   "metadata": {},
   "source": [
    "# Algorithms to Rotate a Matrix In-Place"
   ]
  },
  {
   "cell_type": "code",
   "execution_count": 136,
   "metadata": {},
   "outputs": [],
   "source": [
    "matrix = [\n",
    "    [1,2],\n",
    "    [3,4]\n",
    "]"
   ]
  },
  {
   "cell_type": "code",
   "execution_count": 137,
   "metadata": {},
   "outputs": [],
   "source": [
    "def rotate_counterclockwise(matrix):\n",
    "    n = len(matrix)\n",
    "    for i in range(int(n/2)):\n",
    "        first = i\n",
    "        last = n-i-1\n",
    "        for j in range(first, last):\n",
    "            # store current cell in temp variable\n",
    "            temp = matrix[i][j]\n",
    " \n",
    "            # move values from right to top\n",
    "            matrix[i][j] = matrix[j][n-i-1]\n",
    " \n",
    "            # move values from bottom to right\n",
    "            matrix[j][n-i-1] = matrix[n-i-1][n-i-1]\n",
    " \n",
    "            # move values from left to bottom\n",
    "            matrix[n-i-1][n-i-1] = matrix[n-i-1][i]\n",
    " \n",
    "            # assign temp to left\n",
    "            matrix[n-i-1][i] = temp\n",
    "    \n",
    "            "
   ]
  },
  {
   "cell_type": "code",
   "execution_count": 138,
   "metadata": {},
   "outputs": [],
   "source": [
    "rotate_counterclockwise(matrix)"
   ]
  },
  {
   "cell_type": "code",
   "execution_count": 139,
   "metadata": {},
   "outputs": [
    {
     "data": {
      "text/plain": [
       "[[2, 4], [1, 3]]"
      ]
     },
     "execution_count": 139,
     "metadata": {},
     "output_type": "execute_result"
    }
   ],
   "source": [
    "matrix"
   ]
  },
  {
   "cell_type": "code",
   "execution_count": 128,
   "metadata": {},
   "outputs": [],
   "source": [
    "matrix = [\n",
    "    [1,2,3],\n",
    "    [4,5,6],\n",
    "    [7,8,9]\n",
    "]"
   ]
  },
  {
   "cell_type": "code",
   "execution_count": 115,
   "metadata": {},
   "outputs": [],
   "source": [
    "def rotate_clockwise(matrix):\n",
    "    n = len(matrix)\n",
    "    for i in range(int(n/2)):\n",
    "        first = i\n",
    "        last = n-i-1\n",
    "        for j in range(first, last):\n",
    "            # store current cell in temp variable\n",
    "            temp = matrix[i][j]\n",
    "            # move left to top\n",
    "            matrix[i][j] = matrix[-j-1][i]\n",
    "            # move bottom to left\n",
    "            matrix[-j-1][i] = matrix[-i-1][-j-1]\n",
    "            # move right to bottom\n",
    "            matrix[-i-1][-j-1] = matrix[j][-i-1]\n",
    "            # move temp to right\n",
    "            matrix[j][-i-1] = temp"
   ]
  },
  {
   "cell_type": "code",
   "execution_count": 116,
   "metadata": {},
   "outputs": [],
   "source": [
    "rotate_clockwise(matrix)"
   ]
  },
  {
   "cell_type": "code",
   "execution_count": 117,
   "metadata": {},
   "outputs": [
    {
     "data": {
      "text/plain": [
       "[[7, 4, 1], [8, 5, 2], [9, 6, 3]]"
      ]
     },
     "execution_count": 117,
     "metadata": {},
     "output_type": "execute_result"
    }
   ],
   "source": [
    "matrix"
   ]
  },
  {
   "cell_type": "code",
   "execution_count": 152,
   "metadata": {},
   "outputs": [],
   "source": [
    "test = [\n",
    "    [1,2],\n",
    "    [3,4]\n",
    "]"
   ]
  },
  {
   "cell_type": "code",
   "execution_count": 119,
   "metadata": {},
   "outputs": [],
   "source": [
    "def rotate_single_ccw(matrix):\n",
    "    temp = matrix[0][0]\n",
    "    matrix[0][0] = matrix[0][1]\n",
    "    matrix[0][1] = matrix[1][1]\n",
    "    matrix[1][1] = matrix[1][0]\n",
    "    matrix[1][0] = temp"
   ]
  },
  {
   "cell_type": "code",
   "execution_count": 120,
   "metadata": {},
   "outputs": [],
   "source": [
    "rotate_single_ccw(test)"
   ]
  },
  {
   "cell_type": "code",
   "execution_count": 140,
   "metadata": {},
   "outputs": [
    {
     "data": {
      "text/plain": [
       "[[3, 1], [4, 2]]"
      ]
     },
     "execution_count": 140,
     "metadata": {},
     "output_type": "execute_result"
    }
   ],
   "source": [
    "test"
   ]
  },
  {
   "cell_type": "code",
   "execution_count": 122,
   "metadata": {},
   "outputs": [],
   "source": [
    "def rotate_single_cw(matrix):\n",
    "    temp = matrix[0][0]\n",
    "    matrix[0][0] = matrix[1][0]\n",
    "    matrix[1][0] = matrix[1][1]\n",
    "    matrix[1][1] = matrix[0][1]\n",
    "    matrix[0][1] = temp"
   ]
  },
  {
   "cell_type": "code",
   "execution_count": 125,
   "metadata": {},
   "outputs": [],
   "source": [
    "rotate_single_cw(test)"
   ]
  },
  {
   "cell_type": "code",
   "execution_count": 126,
   "metadata": {},
   "outputs": [
    {
     "data": {
      "text/plain": [
       "[[3, 1], [4, 2]]"
      ]
     },
     "execution_count": 126,
     "metadata": {},
     "output_type": "execute_result"
    }
   ],
   "source": [
    "test"
   ]
  },
  {
   "cell_type": "code",
   "execution_count": 143,
   "metadata": {},
   "outputs": [],
   "source": [
    "def rotate_ccw(matrix):\n",
    "    n = len(matrix)\n",
    "    for i in range(n):\n",
    "        for j in range(n, n-i-1):\n",
    "            temp = matrix[i][j]\n",
    "            matrix[i][j] = matrix[j][n-i-1]\n",
    "            matrix[j][n-i-1] = matrix[n-i-1][n-i-1]\n",
    "            matrix[n-i-1][n-i-1] = matrix[n-i-1][i]\n",
    "            matrix[n-i-1][i] = temp"
   ]
  },
  {
   "cell_type": "code",
   "execution_count": 144,
   "metadata": {},
   "outputs": [],
   "source": [
    "rotate_ccw(test)"
   ]
  },
  {
   "cell_type": "code",
   "execution_count": 145,
   "metadata": {},
   "outputs": [
    {
     "data": {
      "text/plain": [
       "[[3, 1], [4, 2]]"
      ]
     },
     "execution_count": 145,
     "metadata": {},
     "output_type": "execute_result"
    }
   ],
   "source": [
    "test"
   ]
  },
  {
   "cell_type": "code",
   "execution_count": 162,
   "metadata": {},
   "outputs": [],
   "source": [
    "def rotate_cw(matrix):\n",
    "    n = len(matrix)\n",
    "    for i in range(n//2):\n",
    "        for j in range(n, n-i-1):\n",
    "            print(matrix[-j-1][i])\n",
    "            temp = matrix[i][j]\n",
    "            matrix[i][j] = matrix[n-i-1][i]\n",
    "            matrix[n-i-1][i] = matrix[n-i-1][n-i-1]\n",
    "            matrix[n-i-1][n-i-1] = matrix[j][n-i-1]\n",
    "            matrix[j][n-i-1] = temp"
   ]
  },
  {
   "cell_type": "code",
   "execution_count": 165,
   "metadata": {},
   "outputs": [],
   "source": [
    "rotate_cw(test)"
   ]
  },
  {
   "cell_type": "code",
   "execution_count": 166,
   "metadata": {},
   "outputs": [
    {
     "data": {
      "text/plain": [
       "[[1, 2], [3, 4]]"
      ]
     },
     "execution_count": 166,
     "metadata": {},
     "output_type": "execute_result"
    }
   ],
   "source": [
    "test"
   ]
  },
  {
   "cell_type": "code",
   "execution_count": null,
   "metadata": {},
   "outputs": [],
   "source": [
    "# store current cell in temp variable\n",
    "            temp = matrix[i][j]\n",
    "            # move left to top\n",
    "            matrix[i][j] = matrix[-j-1][i]\n",
    "            # move bottom to left\n",
    "            matrix[-j-1][i] = matrix[-i-1][-j-1]\n",
    "            # move right to bottom\n",
    "            matrix[-i-1][-j-1] = matrix[j][-i-1]\n",
    "            # move temp to right\n",
    "            matrix[j][-i-1] = temp"
   ]
  }
 ],
 "metadata": {
  "kernelspec": {
   "display_name": "Python 3",
   "language": "python",
   "name": "python3"
  },
  "language_info": {
   "codemirror_mode": {
    "name": "ipython",
    "version": 3
   },
   "file_extension": ".py",
   "mimetype": "text/x-python",
   "name": "python",
   "nbconvert_exporter": "python",
   "pygments_lexer": "ipython3",
   "version": "3.7.6"
  }
 },
 "nbformat": 4,
 "nbformat_minor": 4
}
