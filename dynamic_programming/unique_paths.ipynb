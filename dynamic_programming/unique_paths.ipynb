{
 "cells": [
  {
   "cell_type": "code",
   "execution_count": 1,
   "metadata": {},
   "outputs": [],
   "source": [
    "import numpy as np"
   ]
  },
  {
   "cell_type": "markdown",
   "metadata": {},
   "source": [
    "# Unique Paths\n",
    "https://leetcode.com/problems/unique-paths/\n",
    "- given an m by n grid:\n",
    "    - return the total number of possible paths from the top left corner to the bottom right corner\n",
    "    - you can only move up and right\n",
    "    - dp solution should be O(mn)"
   ]
  },
  {
   "cell_type": "code",
   "execution_count": 217,
   "metadata": {},
   "outputs": [],
   "source": [
    "class Solution:\n",
    "    def __init__(self, m, n):\n",
    "        self.m = m\n",
    "        self.n = n\n",
    "        self.grid = []\n",
    "        temp = 0\n",
    "        for i in range(m*n):\n",
    "            if i % n == 0:\n",
    "                if i != 0:\n",
    "                    temp += 1\n",
    "                self.grid.append([])\n",
    "            self.grid[temp].append(i)\n",
    "    \n",
    "    # naive divide and conquer solution\n",
    "    def countPaths(self, i, j):\n",
    "        if i > self.m-1 or j > self.n-1:\n",
    "            return 0\n",
    "        elif i == self.m-1 and j == self.n-1:\n",
    "            return 1\n",
    "        else:\n",
    "            return self.countPaths(i, j+1) + self.countPaths(i+1,j)\n",
    "    \n",
    "    # optimized dynamic programming solution\n",
    "    def countPathsDP(self, i, j, memo):\n",
    "        if (i,j) in memo:\n",
    "            return memo[(i,j)]\n",
    "        else:\n",
    "            if i > self.m-1 or j > self.n-1:\n",
    "                return 0\n",
    "            elif i == self.m-1 and j == self.n-1:\n",
    "                return 1\n",
    "            else:\n",
    "                memo[(i,j)] = self.countPathsDP(i, j+1, memo) + self.countPathsDP(i+1,j, memo)\n",
    "                return memo[(i,j)]\n",
    "        "
   ]
  },
  {
   "cell_type": "code",
   "execution_count": 218,
   "metadata": {},
   "outputs": [
    {
     "name": "stdout",
     "output_type": "stream",
     "text": [
      "5\n",
      "5\n"
     ]
    }
   ],
   "source": [
    "s = Solution(2,5)\n",
    "print(s.countPaths(0,0))\n",
    "print(s.countPathsDP(0,0,{}))"
   ]
  },
  {
   "cell_type": "markdown",
   "metadata": {},
   "source": [
    "# Unique Paths with Obstacles\n",
    "https://leetcode.com/problems/unique-paths-ii/\n",
    "- given an m by n grid of zeros and ones:\n",
    "    - zeroes represent free space, ones represent obstacles\n",
    "    - return the number of unique paths from the top left corner to the bottom right corner without hitting any obstacles"
   ]
  },
  {
   "cell_type": "code",
   "execution_count": 224,
   "metadata": {},
   "outputs": [],
   "source": [
    "class Solution:\n",
    "    def __init__(self, grid):\n",
    "        self.grid = grid\n",
    "        self.m = len(self.grid)\n",
    "        self.n = len(self.grid[0])\n",
    "    \n",
    "    # naive divide and conquer solution\n",
    "    def countPaths(self, i, j):\n",
    "        if i > self.m-1 or j > self.n-1:\n",
    "            return 0\n",
    "        elif self.grid[i][j] == 1:\n",
    "            return 0\n",
    "        elif i == self.m-1 and j == self.n-1:\n",
    "            return 1\n",
    "        else:\n",
    "            return self.countPaths(i, j+1) + self.countPaths(i+1, j)\n",
    "    \n",
    "    # optimized dynamic programming solution\n",
    "    def countPathsDP(self, i, j, memo):\n",
    "        if (i,j) in memo:\n",
    "            return memo[(i,j)]\n",
    "        else:\n",
    "            if i > self.m-1 or j > self.n-1:\n",
    "                return 0\n",
    "            elif self.grid[i][j] == 1:\n",
    "                return 0\n",
    "            elif i == self.m-1 and j == self.n-1:\n",
    "                return 1\n",
    "            else:\n",
    "                memo[(i,j)] = self.countPathsDP(i, j+1, memo) + self.countPathsDP(i+1, j, memo)\n",
    "                return memo[(i,j)]"
   ]
  },
  {
   "cell_type": "code",
   "execution_count": 225,
   "metadata": {},
   "outputs": [
    {
     "name": "stdout",
     "output_type": "stream",
     "text": [
      "2\n",
      "2\n"
     ]
    }
   ],
   "source": [
    "s = Solution([[0,0,0],[0,1,0],[0,0,0]])\n",
    "print(s.countPaths(0,0))\n",
    "print(s.countPathsDP(0,0, {}))"
   ]
  },
  {
   "cell_type": "code",
   "execution_count": null,
   "metadata": {},
   "outputs": [],
   "source": []
  }
 ],
 "metadata": {
  "kernelspec": {
   "display_name": "Python 3",
   "language": "python",
   "name": "python3"
  },
  "language_info": {
   "codemirror_mode": {
    "name": "ipython",
    "version": 3
   },
   "file_extension": ".py",
   "mimetype": "text/x-python",
   "name": "python",
   "nbconvert_exporter": "python",
   "pygments_lexer": "ipython3",
   "version": "3.7.6"
  }
 },
 "nbformat": 4,
 "nbformat_minor": 4
}
