{
 "cells": [
  {
   "cell_type": "markdown",
   "metadata": {},
   "source": [
    "# Number Factor\n",
    "- given n, find number of ways to express n as a sum of 1,3, and 4"
   ]
  },
  {
   "cell_type": "markdown",
   "metadata": {},
   "source": [
    "# Divide and Conquer"
   ]
  },
  {
   "cell_type": "code",
   "execution_count": 2,
   "metadata": {},
   "outputs": [],
   "source": [
    "def number_factor(n):\n",
    "    if n in (0, 1, 2):\n",
    "        return 1\n",
    "    elif n == 3:\n",
    "        return 2\n",
    "    else:\n",
    "        sub1 = number_factor(n-1)\n",
    "        sub2 = number_factor(n-3)\n",
    "        sub3 = number_factor(n-4)\n",
    "        return sub1 + sub2 + sub3"
   ]
  },
  {
   "cell_type": "code",
   "execution_count": 7,
   "metadata": {},
   "outputs": [
    {
     "data": {
      "text/plain": [
       "6"
      ]
     },
     "execution_count": 7,
     "metadata": {},
     "output_type": "execute_result"
    }
   ],
   "source": [
    "number_factor(5)"
   ]
  },
  {
   "cell_type": "markdown",
   "metadata": {},
   "source": [
    "# Top Down Approach"
   ]
  },
  {
   "cell_type": "code",
   "execution_count": 10,
   "metadata": {},
   "outputs": [],
   "source": [
    "def number_factor_top_down(n, cache):\n",
    "    if n in (0,1,2):\n",
    "        return 1\n",
    "    elif n == 3:\n",
    "        return 2\n",
    "    elif n in cache:\n",
    "        return cache[n]\n",
    "    else:\n",
    "        sub1 = number_factor_top_down(n-1, cache)\n",
    "        sub2 = number_factor_top_down(n-3, cache)        \n",
    "        sub3 = number_factor_top_down(n-4, cache)\n",
    "        cache[n] = sub1 + sub2 + sub3\n",
    "        return cache[n]"
   ]
  },
  {
   "cell_type": "code",
   "execution_count": 11,
   "metadata": {},
   "outputs": [
    {
     "data": {
      "text/plain": [
       "6"
      ]
     },
     "execution_count": 11,
     "metadata": {},
     "output_type": "execute_result"
    }
   ],
   "source": [
    "number_factor_top_down(5, {})"
   ]
  },
  {
   "cell_type": "markdown",
   "metadata": {},
   "source": [
    "# Bottom Up Approach"
   ]
  },
  {
   "cell_type": "code",
   "execution_count": 1,
   "metadata": {},
   "outputs": [],
   "source": [
    "def number_factor_bottom_up(n):\n",
    "    tb = [1,1,1,2]\n",
    "    for i in range(4, n+1):\n",
    "        tb.append(tb[i-1]+tb[i-3]+tb[i-4])\n",
    "    return tb[n]"
   ]
  },
  {
   "cell_type": "code",
   "execution_count": 2,
   "metadata": {},
   "outputs": [
    {
     "name": "stdout",
     "output_type": "stream",
     "text": [
      "1\n",
      "1\n",
      "1\n",
      "2\n",
      "4\n",
      "6\n",
      "9\n",
      "15\n",
      "25\n",
      "40\n",
      "64\n",
      "104\n",
      "169\n",
      "273\n",
      "441\n",
      "714\n",
      "1156\n",
      "1870\n",
      "3025\n",
      "4895\n",
      "7921\n",
      "12816\n",
      "20736\n",
      "33552\n",
      "54289\n",
      "87841\n",
      "142129\n",
      "229970\n",
      "372100\n",
      "602070\n",
      "974169\n",
      "1576239\n",
      "2550409\n",
      "4126648\n",
      "6677056\n",
      "10803704\n",
      "17480761\n",
      "28284465\n",
      "45765225\n",
      "74049690\n",
      "119814916\n",
      "193864606\n",
      "313679521\n",
      "507544127\n",
      "821223649\n",
      "1328767776\n",
      "2149991424\n",
      "3478759200\n",
      "5628750625\n",
      "9107509825\n"
     ]
    }
   ],
   "source": [
    "for i in range(50):\n",
    "    print(number_factor_bottom_up(i))"
   ]
  },
  {
   "cell_type": "code",
   "execution_count": null,
   "metadata": {},
   "outputs": [],
   "source": []
  }
 ],
 "metadata": {
  "kernelspec": {
   "display_name": "Python 3",
   "language": "python",
   "name": "python3"
  },
  "language_info": {
   "codemirror_mode": {
    "name": "ipython",
    "version": 3
   },
   "file_extension": ".py",
   "mimetype": "text/x-python",
   "name": "python",
   "nbconvert_exporter": "python",
   "pygments_lexer": "ipython3",
   "version": "3.7.6"
  }
 },
 "nbformat": 4,
 "nbformat_minor": 4
}
