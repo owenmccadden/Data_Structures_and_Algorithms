{
 "cells": [
  {
   "cell_type": "markdown",
   "metadata": {},
   "source": [
    "# House Robber"
   ]
  },
  {
   "cell_type": "markdown",
   "metadata": {},
   "source": [
    "# Divide and Conquer"
   ]
  },
  {
   "cell_type": "code",
   "execution_count": 1,
   "metadata": {},
   "outputs": [],
   "source": [
    "def house_robber(houses, current_index):\n",
    "    if current_index >= len(houses):\n",
    "        return 0\n",
    "    else:\n",
    "        rob_first_house = houses[current_index] + house_robber(houses, current_index + 2)\n",
    "        skip_first_house = house_robber(houses, current_index+1)\n",
    "        return max(rob_first_house, skip_first_house)"
   ]
  },
  {
   "cell_type": "code",
   "execution_count": 3,
   "metadata": {},
   "outputs": [
    {
     "data": {
      "text/plain": [
       "41"
      ]
     },
     "execution_count": 3,
     "metadata": {},
     "output_type": "execute_result"
    }
   ],
   "source": [
    "house_robber([6,7,1,30,8,2, 4], 0)"
   ]
  },
  {
   "cell_type": "markdown",
   "metadata": {},
   "source": [
    "# Top Down"
   ]
  },
  {
   "cell_type": "code",
   "execution_count": 12,
   "metadata": {},
   "outputs": [],
   "source": [
    "def house_robber_top_down(houses, current_index, cache):\n",
    "    if current_index >= len(houses):\n",
    "        return 0\n",
    "    else:\n",
    "        if current_index not in cache:\n",
    "            rob_first_house = houses[current_index] + house_robber_top_down(houses, current_index + 2, cache)\n",
    "            skip_first_house = house_robber_top_down(houses, current_index+1, cache)\n",
    "            cache[current_index] = max(rob_first_house, skip_first_house)\n",
    "        return cache[current_index]"
   ]
  },
  {
   "cell_type": "code",
   "execution_count": 13,
   "metadata": {},
   "outputs": [
    {
     "data": {
      "text/plain": [
       "41"
      ]
     },
     "execution_count": 13,
     "metadata": {},
     "output_type": "execute_result"
    }
   ],
   "source": [
    "house_robber_top_down([6,7,1,30,8,2, 4], 0, {})"
   ]
  },
  {
   "cell_type": "markdown",
   "metadata": {},
   "source": [
    "# Bottom Up"
   ]
  },
  {
   "cell_type": "code",
   "execution_count": 17,
   "metadata": {},
   "outputs": [],
   "source": [
    "def house_robber_bottom_up(houses, current_index):\n",
    "    tb = [0] * (len(houses)+2)\n",
    "    for i in range(len(houses)-1, -1, -1):\n",
    "        tb[i] = max(houses[i] + tb[i+2], tb[i+1])\n",
    "    return tb[0]"
   ]
  },
  {
   "cell_type": "code",
   "execution_count": 18,
   "metadata": {},
   "outputs": [
    {
     "data": {
      "text/plain": [
       "41"
      ]
     },
     "execution_count": 18,
     "metadata": {},
     "output_type": "execute_result"
    }
   ],
   "source": [
    "house_robber_bottom_up([6,7,1,30,8,2, 4], 0)"
   ]
  },
  {
   "cell_type": "code",
   "execution_count": null,
   "metadata": {},
   "outputs": [],
   "source": []
  }
 ],
 "metadata": {
  "kernelspec": {
   "display_name": "Python 3",
   "language": "python",
   "name": "python3"
  },
  "language_info": {
   "codemirror_mode": {
    "name": "ipython",
    "version": 3
   },
   "file_extension": ".py",
   "mimetype": "text/x-python",
   "name": "python",
   "nbconvert_exporter": "python",
   "pygments_lexer": "ipython3",
   "version": "3.7.6"
  }
 },
 "nbformat": 4,
 "nbformat_minor": 4
}
