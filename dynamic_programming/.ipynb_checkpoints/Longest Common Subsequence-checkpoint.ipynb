{
 "cells": [
  {
   "cell_type": "code",
   "execution_count": 24,
   "metadata": {},
   "outputs": [
    {
     "name": "stdout",
     "output_type": "stream",
     "text": [
      "Length of LCS is (4, [[0, 0, 0, 0, 0, 0, 0, 0], [0, 0, 0, 0, 0, 1, 1, 1], [0, 1, 1, 1, 1, 1, 1, 1], [0, 1, 1, 1, 1, 1, 1, 1], [0, 1, 1, 2, 2, 2, 2, 2], [0, 1, 1, 2, 2, 3, 3, 3], [0, 1, 1, 2, 2, 3, 3, 4]])\n"
     ]
    }
   ],
   "source": [
    "# Dynamic Programming implementation of LCS problem\n",
    " \n",
    "def lcs(X , Y):\n",
    "    # find the length of the strings\n",
    "    m = len(X)\n",
    "    n = len(Y)\n",
    " \n",
    "    # declaring the array for storing the dp values\n",
    "    L = [[None]*(n+1) for i in range(m+1)]\n",
    " \n",
    "    \"\"\"Following steps build L[m+1][n+1] in bottom up fashion\n",
    "    Note: L[i][j] contains length of LCS of X[0..i-1]\n",
    "    and Y[0..j-1]\"\"\"\n",
    "    for i in range(m+1):\n",
    "        for j in range(n+1):\n",
    "            if i == 0 or j == 0 :\n",
    "                L[i][j] = 0\n",
    "            elif X[i-1] == Y[j-1]:\n",
    "                L[i][j] = L[i-1][j-1]+1\n",
    "            else:\n",
    "                L[i][j] = max(L[i-1][j] , L[i][j-1])\n",
    " \n",
    "    # L[m][n] contains the length of LCS of X[0..n-1] & Y[0..m-1]\n",
    "    return L[m][n], L\n",
    "#end of function lcs\n",
    " \n",
    " \n",
    "# Driver program to test the above function\n",
    "X = \"AGGTAB\"\n",
    "Y = \"GXTXAYB\"\n",
    "print(\"Length of LCS is {}\".format(lcs(X, Y)))\n",
    " \n",
    "# This code is contributed by Nikhil Kumar Singh(nickzuck_007)"
   ]
  },
  {
   "cell_type": "code",
   "execution_count": 25,
   "metadata": {},
   "outputs": [
    {
     "data": {
      "text/plain": [
       "(5,\n",
       " [[0, 0, 0, 0, 0, 0, 0],\n",
       "  [0, 1, 1, 1, 1, 1, 1],\n",
       "  [0, 1, 2, 2, 2, 2, 2],\n",
       "  [0, 1, 2, 2, 2, 3, 3],\n",
       "  [0, 1, 2, 3, 3, 3, 3],\n",
       "  [0, 1, 2, 3, 3, 4, 4],\n",
       "  [0, 1, 2, 3, 3, 4, 4],\n",
       "  [0, 1, 2, 3, 3, 4, 5]])"
      ]
     },
     "execution_count": 25,
     "metadata": {},
     "output_type": "execute_result"
    }
   ],
   "source": [
    "x = \"ATCACCT\"\n",
    "y = \"ATAACT\"\n",
    "lcs(x,y)"
   ]
  },
  {
   "cell_type": "code",
   "execution_count": 26,
   "metadata": {},
   "outputs": [
    {
     "data": {
      "text/plain": [
       "(4,\n",
       " [[0, 0, 0, 0, 0, 0, 0],\n",
       "  [0, 0, 0, 0, 1, 1, 1],\n",
       "  [0, 1, 1, 1, 1, 2, 2],\n",
       "  [0, 1, 1, 2, 2, 2, 2],\n",
       "  [0, 1, 1, 2, 2, 3, 3],\n",
       "  [0, 1, 2, 2, 2, 3, 3],\n",
       "  [0, 1, 2, 2, 3, 3, 4],\n",
       "  [0, 1, 2, 2, 3, 4, 4]])"
      ]
     },
     "execution_count": 26,
     "metadata": {},
     "output_type": "execute_result"
    }
   ],
   "source": [
    "X= [\"A\",\"B\",\"C\",\"B\",\"D\",\"A\",\"B\"] \n",
    "Y= [\"B\",\"D\",\"C\",\"A\",\"B\",\"A\"]\n",
    "lcs(X,Y)\n",
    "#LCS_LENGTH(X, Y)= 4"
   ]
  },
  {
   "cell_type": "code",
   "execution_count": 27,
   "metadata": {},
   "outputs": [
    {
     "data": {
      "text/plain": [
       "(5,\n",
       " [[0, 0, 0, 0, 0, 0, 0],\n",
       "  [0, 1, 1, 1, 1, 1, 1],\n",
       "  [0, 1, 2, 2, 2, 2, 2],\n",
       "  [0, 1, 2, 2, 2, 3, 3],\n",
       "  [0, 1, 2, 3, 3, 3, 3],\n",
       "  [0, 1, 2, 3, 3, 4, 4],\n",
       "  [0, 1, 2, 3, 3, 4, 4],\n",
       "  [0, 1, 2, 3, 3, 4, 5]])"
      ]
     },
     "execution_count": 27,
     "metadata": {},
     "output_type": "execute_result"
    }
   ],
   "source": [
    "X= [\"A\",\"T\",\"C\",\"A\",\"C\",\"C\",\"T\"] \n",
    "Y= [\"A\",\"T\",\"A\",\"A\",\"C\",\"T\"]\n",
    "lcs(X,Y)\n",
    "#LCS_LENGTH(X, Y)= 5"
   ]
  },
  {
   "cell_type": "code",
   "execution_count": 28,
   "metadata": {},
   "outputs": [
    {
     "data": {
      "text/plain": [
       "(10,\n",
       " [[0, 0, 0, 0, 0, 0, 0, 0, 0, 0, 0, 0, 0],\n",
       "  [0, 1, 1, 1, 1, 1, 1, 1, 1, 1, 1, 1, 1],\n",
       "  [0, 1, 2, 2, 2, 2, 2, 2, 2, 2, 2, 2, 2],\n",
       "  [0, 1, 2, 2, 2, 3, 3, 3, 3, 3, 3, 3, 3],\n",
       "  [0, 1, 2, 3, 3, 3, 3, 4, 4, 4, 4, 4, 4],\n",
       "  [0, 1, 2, 3, 3, 4, 4, 4, 4, 4, 4, 5, 5],\n",
       "  [0, 1, 2, 3, 3, 4, 4, 4, 4, 4, 4, 5, 5],\n",
       "  [0, 1, 2, 3, 3, 4, 5, 5, 5, 5, 5, 5, 6],\n",
       "  [0, 1, 2, 3, 4, 4, 5, 6, 6, 6, 6, 6, 6],\n",
       "  [0, 1, 2, 3, 4, 4, 5, 6, 7, 7, 7, 7, 7],\n",
       "  [0, 1, 2, 3, 4, 5, 5, 6, 7, 7, 7, 8, 8],\n",
       "  [0, 1, 2, 3, 4, 5, 5, 6, 7, 8, 8, 8, 8],\n",
       "  [0, 1, 2, 3, 4, 5, 5, 6, 7, 8, 8, 9, 9],\n",
       "  [0, 1, 2, 3, 4, 5, 5, 6, 7, 8, 8, 9, 9],\n",
       "  [0, 1, 2, 3, 4, 5, 6, 6, 7, 8, 8, 9, 10]])"
      ]
     },
     "execution_count": 28,
     "metadata": {},
     "output_type": "execute_result"
    }
   ],
   "source": [
    "X= [\"A\",\"T\",\"C\",\"A\",\"C\",\"C\",\"T\",\"A\",\"T\",\"C\",\"A\",\"C\",\"C\",\"T\"] \n",
    "Y= [\"A\",\"T\",\"A\",\"A\",\"C\",\"T\",\"A\",\"T\",\"A\",\"A\",\"C\",\"T\"]\n",
    "lcs(X,Y)\n",
    "#LCS_LENGTH(X, Y)= 10"
   ]
  },
  {
   "cell_type": "code",
   "execution_count": 50,
   "metadata": {},
   "outputs": [],
   "source": [
    "def lcs_with_arrows(x,y):\n",
    "    m = len(x)\n",
    "    n = len(y)\n",
    "    \n",
    "    c = [[None]*(n+1) for i in range(m+1)]\n",
    "    b = [[None]*(n+1) for i in range(m+1)]\n",
    "    \n",
    "    for i in range(m+1):\n",
    "        for j in range(n+1):\n",
    "                if i==0 or j==0:\n",
    "                    c[i][j] = 0\n",
    "                    b[i][j] = 0\n",
    "                elif x[i-1] == y[j-1]:\n",
    "                    c[i][j] = c[i-1][j-1] + 1\n",
    "                    b[i][j] = \"{}DIAG\".format(c[i][j])\n",
    "                elif c[i-1][j] >= c[i][j-1]:\n",
    "                    c[i][j] = c[i-1][j]\n",
    "                    b[i][j] = \"{}UP\".format(c[i][j])\n",
    "                else:\n",
    "                    c[i][j] = c[i][j-1]\n",
    "                    b[i][j] = \"{}LEFT\".format(c[i][j])\n",
    "    return c, b\n",
    "    "
   ]
  },
  {
   "cell_type": "code",
   "execution_count": 52,
   "metadata": {},
   "outputs": [
    {
     "data": {
      "text/plain": [
       "([[0, 0, 0, 0, 0, 0, 0],\n",
       "  [0, 0, 0, 0, 1, 1, 1],\n",
       "  [0, 1, 1, 1, 1, 2, 2],\n",
       "  [0, 1, 1, 2, 2, 2, 2],\n",
       "  [0, 1, 1, 2, 2, 3, 3],\n",
       "  [0, 1, 2, 2, 2, 3, 3],\n",
       "  [0, 1, 2, 2, 3, 3, 4],\n",
       "  [0, 1, 2, 2, 3, 4, 4]],\n",
       " [[0, 0, 0, 0, 0, 0, 0],\n",
       "  [0, '0UP', '0UP', '0UP', '1DIAG', '1LEFT', '1DIAG'],\n",
       "  [0, '1DIAG', '1LEFT', '1LEFT', '1UP', '2DIAG', '2LEFT'],\n",
       "  [0, '1UP', '1UP', '2DIAG', '2LEFT', '2UP', '2UP'],\n",
       "  [0, '1DIAG', '1UP', '2UP', '2UP', '3DIAG', '3LEFT'],\n",
       "  [0, '1UP', '2DIAG', '2UP', '2UP', '3UP', '3UP'],\n",
       "  [0, '1UP', '2UP', '2UP', '3DIAG', '3UP', '4DIAG'],\n",
       "  [0, '1DIAG', '2UP', '2UP', '3UP', '4DIAG', '4UP']])"
      ]
     },
     "execution_count": 52,
     "metadata": {},
     "output_type": "execute_result"
    }
   ],
   "source": [
    "x = ['A','B','C','B','D','A','B']\n",
    "y = ['B','D','C','A','B','A']\n",
    "\n",
    "lcs_with_arrows(x,y)"
   ]
  },
  {
   "cell_type": "code",
   "execution_count": 46,
   "metadata": {},
   "outputs": [
    {
     "data": {
      "text/plain": [
       "([[0, 0, 0, 0, 0, 0, 0],\n",
       "  [0, 1, 1, 1, 1, 1, 1],\n",
       "  [0, 1, 2, 2, 2, 2, 2],\n",
       "  [0, 1, 2, 2, 2, 3, 3],\n",
       "  [0, 1, 2, 3, 3, 3, 3],\n",
       "  [0, 1, 2, 3, 3, 4, 4],\n",
       "  [0, 1, 2, 3, 3, 4, 4],\n",
       "  [0, 1, 2, 3, 3, 4, 5]],\n",
       " [[0, 0, 0, 0, 0, 0, 0],\n",
       "  [0, '1DIAG', '1LEFT', '1DIAG', '1DIAG', '1LEFT', '1LEFT'],\n",
       "  [0, '1UP', '2DIAG', '2LEFT', '2LEFT', '2LEFT', '2DIAG'],\n",
       "  [0, '1UP', '2UP', '2UP', '2UP', '3DIAG', '3LEFT'],\n",
       "  [0, '1DIAG', '2UP', '3DIAG', '3DIAG', '3UP', '3UP'],\n",
       "  [0, '1UP', '2UP', '3UP', '3UP', '4DIAG', '4LEFT'],\n",
       "  [0, '1UP', '2UP', '3UP', '3UP', '4DIAG', '4UP'],\n",
       "  [0, '1UP', '2DIAG', '3UP', '3UP', '4UP', '5DIAG']])"
      ]
     },
     "execution_count": 46,
     "metadata": {},
     "output_type": "execute_result"
    }
   ],
   "source": [
    "x = ['A','T','C','A','C','C','T']\n",
    "y = ['A','T','A','A','C','T']\n",
    "\n",
    "lcs_with_arrows(x,y)"
   ]
  },
  {
   "cell_type": "code",
   "execution_count": null,
   "metadata": {},
   "outputs": [],
   "source": []
  }
 ],
 "metadata": {
  "kernelspec": {
   "display_name": "Python 3",
   "language": "python",
   "name": "python3"
  },
  "language_info": {
   "codemirror_mode": {
    "name": "ipython",
    "version": 3
   },
   "file_extension": ".py",
   "mimetype": "text/x-python",
   "name": "python",
   "nbconvert_exporter": "python",
   "pygments_lexer": "ipython3",
   "version": "3.7.6"
  }
 },
 "nbformat": 4,
 "nbformat_minor": 4
}
