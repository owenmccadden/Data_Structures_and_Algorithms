{
 "cells": [
  {
   "cell_type": "markdown",
   "metadata": {},
   "source": [
    "# Zero One Knapsack"
   ]
  },
  {
   "cell_type": "code",
   "execution_count": 2,
   "metadata": {},
   "outputs": [],
   "source": [
    "class Item:\n",
    "    def __init__(self, value, weight):\n",
    "        self.weight = weight\n",
    "        self.value = value"
   ]
  },
  {
   "cell_type": "code",
   "execution_count": 3,
   "metadata": {},
   "outputs": [],
   "source": [
    "items = [\n",
    "    Item(31, 3),\n",
    "    Item(26, 1),\n",
    "    Item(17, 2),\n",
    "    Item(72, 5),\n",
    "]"
   ]
  },
  {
   "cell_type": "markdown",
   "metadata": {},
   "source": [
    "# Divide and Conquer"
   ]
  },
  {
   "cell_type": "code",
   "execution_count": 1,
   "metadata": {},
   "outputs": [],
   "source": [
    "def zero_one_knapsack(items, capacity, current_index):\n",
    "    if capacity < 0 or current_index < 0 or current_index >= len(items):\n",
    "        return 0\n",
    "    elif items[current_index].weight <= capacity:\n",
    "        value1 = items[current_index].value + zero_one_knapsack(items, capacity-items[current_index].weight, current_index + 1)\n",
    "        value2 = zero_one_knapsack(items, capacity, current_index + 1)\n",
    "        return max(value1, value2)\n",
    "    else:\n",
    "        return 0\n",
    "        "
   ]
  },
  {
   "cell_type": "code",
   "execution_count": 4,
   "metadata": {},
   "outputs": [
    {
     "data": {
      "text/plain": [
       "98"
      ]
     },
     "execution_count": 4,
     "metadata": {},
     "output_type": "execute_result"
    }
   ],
   "source": [
    "zero_one_knapsack(items, 7, 0)"
   ]
  },
  {
   "cell_type": "markdown",
   "metadata": {},
   "source": [
    "# Top Down"
   ]
  },
  {
   "cell_type": "code",
   "execution_count": 6,
   "metadata": {},
   "outputs": [],
   "source": [
    "def zero_one_knapsack_top_down(items, capacity, current_index, cache):\n",
    "    key = str(current_index) + str(capacity)\n",
    "    if capacity < 0 or current_index < 0 or current_index >= len(items):\n",
    "        return 0\n",
    "    elif key in cache:\n",
    "        return cache[key]\n",
    "    elif items[current_index].weight <= capacity:\n",
    "        value1 = items[current_index].value + zero_one_knapsack_top_down(items, capacity-items[current_index].weight, current_index + 1, cache)\n",
    "        value2 = zero_one_knapsack_top_down(items, capacity, current_index + 1, cache)\n",
    "        cache[key] = max(value1, value2)\n",
    "        return cache[key]\n",
    "    else:\n",
    "        return 0"
   ]
  },
  {
   "cell_type": "code",
   "execution_count": 8,
   "metadata": {},
   "outputs": [
    {
     "data": {
      "text/plain": [
       "98"
      ]
     },
     "execution_count": 8,
     "metadata": {},
     "output_type": "execute_result"
    }
   ],
   "source": [
    "zero_one_knapsack_top_down(items, 7, 0, {})"
   ]
  },
  {
   "cell_type": "markdown",
   "metadata": {},
   "source": [
    "# Bottom Up"
   ]
  },
  {
   "cell_type": "code",
   "execution_count": 12,
   "metadata": {},
   "outputs": [],
   "source": [
    "def zero_one_knapsack_bottom_up(profits, weights, capacity):\n",
    "    if capacity <=0 or len(profits) == 0 or len(weights) != len(profits):\n",
    "        return 0\n",
    "    rows = len(profits) + 1\n",
    "    dp = [[0 for i in range(capacity+2)] for j in range(rows)]\n",
    "    for row in range(rows-2, -1, -1):\n",
    "        for column in range(1, capacity+1):\n",
    "            profit1 = 0\n",
    "            profit2 = 0\n",
    "            if weights[row] <= column:\n",
    "                profit1 = profits[row] + dp[row+1][column-weights[row]]\n",
    "            profit2 = dp[row+1][column]\n",
    "            dp[row][column] = max(profit1, profit2)\n",
    "    return dp[0][capacity]"
   ]
  },
  {
   "cell_type": "code",
   "execution_count": 13,
   "metadata": {},
   "outputs": [
    {
     "data": {
      "text/plain": [
       "98"
      ]
     },
     "execution_count": 13,
     "metadata": {},
     "output_type": "execute_result"
    }
   ],
   "source": [
    "zero_one_knapsack_bottom_up([31,26,17,72], [3,1,2,5], 7)"
   ]
  },
  {
   "cell_type": "code",
   "execution_count": null,
   "metadata": {},
   "outputs": [],
   "source": [
    "     "
   ]
  }
 ],
 "metadata": {
  "kernelspec": {
   "display_name": "Python 3",
   "language": "python",
   "name": "python3"
  },
  "language_info": {
   "codemirror_mode": {
    "name": "ipython",
    "version": 3
   },
   "file_extension": ".py",
   "mimetype": "text/x-python",
   "name": "python",
   "nbconvert_exporter": "python",
   "pygments_lexer": "ipython3",
   "version": "3.7.6"
  }
 },
 "nbformat": 4,
 "nbformat_minor": 4
}
