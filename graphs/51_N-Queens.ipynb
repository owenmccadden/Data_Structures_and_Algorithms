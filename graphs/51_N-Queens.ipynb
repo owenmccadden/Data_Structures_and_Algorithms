{
 "cells": [
  {
   "cell_type": "markdown",
   "metadata": {},
   "source": [
    "# 51: N-Queens\n",
    "- place n queens on an NxN chessboard such that no two queens attack one another\n",
    "- return all possible solutions\n",
    "- Q represents a queen and . represents an empty space"
   ]
  },
  {
   "cell_type": "code",
   "execution_count": 4,
   "metadata": {},
   "outputs": [],
   "source": [
    "class Solution:\n",
    "    def solveNQueens(self, n):\n",
    "        board = []\n",
    "        for i in range(n):\n",
    "            board.append([])\n",
    "            for j in range(n):\n",
    "                board[i].append('.')\n",
    "        result = []\n",
    "        self.dfs(board, 0, result)\n",
    "        return result\n",
    "    \n",
    "    def dfs(self, board, index, result):\n",
    "        if index == len(board):\n",
    "            result.append(self.reformat(board))\n",
    "            return\n",
    "        \n",
    "        for i in range(len(board)):\n",
    "            if self.validate(board, i, index):\n",
    "                board[i][index] = 'Q'\n",
    "                self.dfs(board, index+1, result)\n",
    "                board[i][index] = '.'\n",
    "    \n",
    "    def validate(self, board, x, y):\n",
    "        for i in range(len(board)):\n",
    "            for j in range(y):\n",
    "                if board[i][j] == 'Q' and (x+j == y+i or x+y == i+j or x == i):\n",
    "                    return False\n",
    "        return True\n",
    "    \n",
    "    def reformat(self, board):\n",
    "        output = []\n",
    "        for row in board:\n",
    "            temp = ''\n",
    "            for col in row:\n",
    "                temp += col\n",
    "            output.append(temp)\n",
    "        return output"
   ]
  },
  {
   "cell_type": "code",
   "execution_count": null,
   "metadata": {},
   "outputs": [],
   "source": []
  }
 ],
 "metadata": {
  "kernelspec": {
   "display_name": "Python 3",
   "language": "python",
   "name": "python3"
  },
  "language_info": {
   "codemirror_mode": {
    "name": "ipython",
    "version": 3
   },
   "file_extension": ".py",
   "mimetype": "text/x-python",
   "name": "python",
   "nbconvert_exporter": "python",
   "pygments_lexer": "ipython3",
   "version": "3.7.6"
  }
 },
 "nbformat": 4,
 "nbformat_minor": 4
}
