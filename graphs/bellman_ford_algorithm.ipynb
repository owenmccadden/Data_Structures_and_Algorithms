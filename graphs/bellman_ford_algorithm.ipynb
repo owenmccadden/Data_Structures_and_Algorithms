{
 "cells": [
  {
   "cell_type": "markdown",
   "metadata": {},
   "source": [
    "# Bellman Ford Algorithm\n",
    "- algorithm that solves the single source shortest path problem\n",
    "- can handle the case of a negative cycle\n",
    "- works mostly the same way as dijkstra's algorithm\n",
    "\n",
    "- time complexity: O(EV)\n",
    "- space complexity: O(V)"
   ]
  },
  {
   "cell_type": "markdown",
   "metadata": {},
   "source": [
    "## List Implementation"
   ]
  },
  {
   "cell_type": "code",
   "execution_count": 4,
   "metadata": {},
   "outputs": [],
   "source": [
    "class Graph:\n",
    "    def __init__(self, vertices):\n",
    "        self.v = vertices\n",
    "        self.graph = []\n",
    "        self.nodes = []\n",
    "    \n",
    "    def add_edge(self, s, d, w): # source, destination, weight\n",
    "        self.graph.append([s,d,w])\n",
    "    \n",
    "    def add_node(self, value):\n",
    "        self.nodes.append(value)\n",
    "    \n",
    "    def print_solution(self, dist):\n",
    "        print(\"Vertex Distance from Source\")\n",
    "        for key, value in dist.items():\n",
    "            print(' ' + key, ' :  ', value)\n",
    "    \n",
    "    def bellman_ford(self, src):\n",
    "        dist = {i : float('inf') for i in self.nodes}\n",
    "        dist[src] = 0\n",
    "        \n",
    "        for i in range(self.v - 1):\n",
    "            for s, d, w in self.graph:\n",
    "                if dist[s] != float('inf') and dist[s] + w < dist[d]:\n",
    "                    dist[d] = dist[s] + w\n",
    "        \n",
    "        for s, d, w in self.graph:\n",
    "            if dist[s] != float('inf') and dist[s] + w < dist[d]:\n",
    "                print('graph contains negative cycle')\n",
    "                return\n",
    "        \n",
    "        self.print_solution(dist)"
   ]
  },
  {
   "cell_type": "code",
   "execution_count": 6,
   "metadata": {},
   "outputs": [
    {
     "name": "stdout",
     "output_type": "stream",
     "text": [
      "Vertex Distance from Source\n",
      " a  :   6\n",
      " b  :   3\n",
      " c  :   4\n",
      " d  :   2\n",
      " e  :   0\n"
     ]
    }
   ],
   "source": [
    "g = Graph(5)\n",
    "g.add_node(\"a\")\n",
    "g.add_node(\"b\")\n",
    "g.add_node(\"c\")\n",
    "g.add_node(\"d\")\n",
    "g.add_node(\"e\")\n",
    "\n",
    "g.add_edge('a', 'c', 6)\n",
    "g.add_edge('a', 'd', 6)\n",
    "g.add_edge('b', 'a', 3)\n",
    "g.add_edge('c', 'd', 1)\n",
    "g.add_edge('d', 'c', 2)\n",
    "g.add_edge('d', 'b', 1)\n",
    "g.add_edge('e', 'b', 4)\n",
    "g.add_edge('e', 'd', 2)\n",
    "g.bellman_ford('e')"
   ]
  },
  {
   "cell_type": "code",
   "execution_count": null,
   "metadata": {},
   "outputs": [],
   "source": []
  }
 ],
 "metadata": {
  "kernelspec": {
   "display_name": "Python 3",
   "language": "python",
   "name": "python3"
  },
  "language_info": {
   "codemirror_mode": {
    "name": "ipython",
    "version": 3
   },
   "file_extension": ".py",
   "mimetype": "text/x-python",
   "name": "python",
   "nbconvert_exporter": "python",
   "pygments_lexer": "ipython3",
   "version": "3.7.6"
  }
 },
 "nbformat": 4,
 "nbformat_minor": 4
}
