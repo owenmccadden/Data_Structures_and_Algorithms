{
 "cells": [
  {
   "cell_type": "markdown",
   "metadata": {},
   "source": [
    "# Single Source Shortest Path with BFS\n",
    "- single source shortest path:\n",
    "    - find a path from a given source vertex to any other vertex in the graph such that the distance between the two is minimized\n",
    "- Modified BFS is one algorithm that works as a solution to single source shortest path problem\n",
    "- use BFS when dealing with an unweighted graph (directed or undirected)\n",
    "    - algorithm:\n",
    "        - create queue and enqueue starting vertex\n",
    "        - while the queue is not empty\n",
    "            - dequeue and check if vertex is not visited\n",
    "                - mark value as visited\n",
    "                - enqueue all adjacent unvisted vertices\n",
    "                - update parent to current vertex\n",
    "\n",
    "- e is the number of edges\n",
    "- time complexity: O(e)\n",
    "- space complexity: O(e)"
   ]
  },
  {
   "cell_type": "code",
   "execution_count": 3,
   "metadata": {},
   "outputs": [],
   "source": [
    "from collections import deque"
   ]
  },
  {
   "cell_type": "code",
   "execution_count": 42,
   "metadata": {},
   "outputs": [],
   "source": [
    "class Graph:\n",
    "    def __init__(self, g_dict=None):\n",
    "        self.g_dict = g_dict\n",
    "    \n",
    "    def bfs(self, start, stop):\n",
    "        q = deque()\n",
    "        q.appendleft([start])\n",
    "        while len(q) > 0:\n",
    "            print(q)\n",
    "            path = q.pop()\n",
    "            node = path[-1]\n",
    "            if node == stop:\n",
    "                return path\n",
    "            for adjacent in self.g_dict.get(node, []):\n",
    "                new_path = list(path)\n",
    "                new_path.append(adjacent)\n",
    "                q.appendleft(new_path)\n",
    "        return None\n",
    "        "
   ]
  },
  {
   "cell_type": "code",
   "execution_count": 43,
   "metadata": {},
   "outputs": [
    {
     "name": "stdout",
     "output_type": "stream",
     "text": [
      "deque([['a']])\n",
      "deque([['a', 'c'], ['a', 'b']])\n",
      "deque([['a', 'b', 'g'], ['a', 'b', 'd'], ['a', 'c']])\n",
      "deque([['a', 'c', 'e'], ['a', 'c', 'd'], ['a', 'b', 'g'], ['a', 'b', 'd']])\n",
      "deque([['a', 'b', 'd', 'f'], ['a', 'c', 'e'], ['a', 'c', 'd'], ['a', 'b', 'g']])\n",
      "deque([['a', 'b', 'g', 'f'], ['a', 'b', 'd', 'f'], ['a', 'c', 'e'], ['a', 'c', 'd']])\n",
      "deque([['a', 'c', 'd', 'f'], ['a', 'b', 'g', 'f'], ['a', 'b', 'd', 'f'], ['a', 'c', 'e']])\n",
      "deque([['a', 'c', 'e', 'f'], ['a', 'c', 'd', 'f'], ['a', 'b', 'g', 'f'], ['a', 'b', 'd', 'f']])\n",
      "deque([['a', 'c', 'e', 'f'], ['a', 'c', 'd', 'f'], ['a', 'b', 'g', 'f']])\n",
      "deque([['a', 'c', 'e', 'f'], ['a', 'c', 'd', 'f']])\n",
      "deque([['a', 'c', 'e', 'f']])\n"
     ]
    }
   ],
   "source": [
    "a = Graph({\n",
    "    'a': ['b', 'c'],\n",
    "    'b': ['d', 'g'],\n",
    "    'c': ['d', 'e'],\n",
    "    'd': ['f'],\n",
    "    'e': ['f'],\n",
    "    'g': ['f']\n",
    "})\n",
    "a.bfs('a', 'x')"
   ]
  },
  {
   "cell_type": "code",
   "execution_count": 38,
   "metadata": {},
   "outputs": [
    {
     "name": "stdout",
     "output_type": "stream",
     "text": [
      "deque([['a']])\n",
      "deque([['a', 'c'], ['a', 'b']])\n",
      "deque([['a', 'b', 'g'], ['a', 'b', 'd'], ['a', 'c']])\n",
      "deque([['a', 'c', 'e'], ['a', 'c', 'd'], ['a', 'b', 'g'], ['a', 'b', 'd']])\n",
      "deque([['a', 'b', 'd', 'f'], ['a', 'c', 'e'], ['a', 'c', 'd'], ['a', 'b', 'g']])\n",
      "deque([['a', 'b', 'g', 'f'], ['a', 'b', 'd', 'f'], ['a', 'c', 'e'], ['a', 'c', 'd']])\n",
      "deque([['a', 'c', 'd', 'f'], ['a', 'b', 'g', 'f'], ['a', 'b', 'd', 'f'], ['a', 'c', 'e']])\n"
     ]
    },
    {
     "data": {
      "text/plain": [
       "['a', 'c', 'e']"
      ]
     },
     "execution_count": 38,
     "metadata": {},
     "output_type": "execute_result"
    }
   ],
   "source": [
    "a.bfs('a', 'e')"
   ]
  },
  {
   "cell_type": "code",
   "execution_count": null,
   "metadata": {},
   "outputs": [],
   "source": []
  }
 ],
 "metadata": {
  "kernelspec": {
   "display_name": "Python 3",
   "language": "python",
   "name": "python3"
  },
  "language_info": {
   "codemirror_mode": {
    "name": "ipython",
    "version": 3
   },
   "file_extension": ".py",
   "mimetype": "text/x-python",
   "name": "python",
   "nbconvert_exporter": "python",
   "pygments_lexer": "ipython3",
   "version": "3.7.6"
  }
 },
 "nbformat": 4,
 "nbformat_minor": 4
}
