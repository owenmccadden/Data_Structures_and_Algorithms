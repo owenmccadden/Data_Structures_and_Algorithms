{
 "cells": [
  {
   "cell_type": "markdown",
   "metadata": {},
   "source": [
    "# Dijkstra's Algorithm\n",
    "- Dijkstra's algorithm can be used to solve single source shortest path for weighted graphs\n",
    "- used to find shortest path between points on a weighted graph\n",
    "- algorithm:\n",
    "    - start at initial node and set to current\n",
    "    - mark all nodes unvisited and create a set to store unvisited nodes\n",
    "    - assign each node a distance value\n",
    "        - 0 for starting node\n",
    "        - infinity for all other nodes\n",
    "    - consider all unvisited neighbor nodes\n",
    "        - calculate tentative distances thought current node (sum of current node and edge connecting to next node)\n",
    "        - compare to current distance value to the newly calculated, assign smaller one\n",
    "        - remove current node from unvisited set\n",
    "    - if the destination is marked visited, or the smallest tentative distance is infinity, stop\n",
    "    - otherwise select the unvistited node with the smallest tentative distance, set as current node, and repeat process of considering all unvistied neighbor nodes\n",
    "-  node cannot process any negative weights\n",
    "\n",
    "\n",
    "- time complexity: O(vlogv + eloge) with the priority queue implementation\n",
    "- space complexity: O(e)"
   ]
  },
  {
   "cell_type": "markdown",
   "metadata": {},
   "source": [
    "## Adjacency List Implementation"
   ]
  },
  {
   "cell_type": "code",
   "execution_count": 3,
   "metadata": {},
   "outputs": [],
   "source": [
    "from collections import defaultdict, deque"
   ]
  },
  {
   "cell_type": "code",
   "execution_count": 16,
   "metadata": {},
   "outputs": [],
   "source": [
    "class Graph:\n",
    "    def __init__(self):\n",
    "        self.nodes = set()\n",
    "        self.edges = defaultdict(list)\n",
    "        self.distances = {}\n",
    "    \n",
    "    def add_node(self, value):\n",
    "        self.nodes.add(value)\n",
    "    \n",
    "    def add_edge(self, from_node, to_node, distance):\n",
    "        self.edges[from_node].append(to_node)\n",
    "        self.distances[(from_node, to_node)] = distance\n",
    "    \n",
    "\n",
    "def dijkstra(graph, initial):\n",
    "    visited = {initial: 0}\n",
    "    path = defaultdict(list)\n",
    "    nodes = set(graph.nodes)\n",
    "    \n",
    "    while nodes:\n",
    "        min_node = None\n",
    "        for node in nodes:\n",
    "            if node in visited:\n",
    "                if min_node is None:\n",
    "                    min_node = node\n",
    "                elif visited[node] < visited[min_node]:\n",
    "                    min_node = node\n",
    "        if min_node is None:\n",
    "            break\n",
    "        \n",
    "        nodes.remove(min_node)\n",
    "        current_weight = visited[min_node]\n",
    "        \n",
    "        for edge in graph.edges[min_node]:\n",
    "            weight = current_weight + graph.distances[(min_node, edge)]\n",
    "            if edge not in visited or weight < visited[edge]:\n",
    "                visited[edge] = weight\n",
    "                path[edge].append(min_node)\n",
    "    return visited, path"
   ]
  },
  {
   "cell_type": "code",
   "execution_count": 17,
   "metadata": {},
   "outputs": [
    {
     "data": {
      "text/plain": [
       "({'a': 0, 'b': 2, 'c': 5, 'd': 3, 'e': 5, 'f': 13, 'g': 14},\n",
       " defaultdict(list,\n",
       "             {'b': ['a'],\n",
       "              'c': ['a'],\n",
       "              'd': ['b'],\n",
       "              'e': ['b'],\n",
       "              'f': ['c'],\n",
       "              'g': ['e']}))"
      ]
     },
     "execution_count": 17,
     "metadata": {},
     "output_type": "execute_result"
    }
   ],
   "source": [
    "g = Graph()\n",
    "for i in ['a', 'b', 'c', 'd', 'e', 'g', 'f']:\n",
    "    g.add_node(i)\n",
    "\n",
    "from_ = ['a', 'a', 'b', 'b', 'b', 'c', 'd', 'e', 'f']\n",
    "to_ = ['b', 'c', 'c', 'd', 'e', 'f', 'e', 'g', 'g']\n",
    "dist = [2,5,6,1,3,8,4,9,7]\n",
    "\n",
    "for i in zip(from_, to_, dist):\n",
    "    g.add_edge(i[0], i[1], i[2])\n",
    "\n",
    "dijkstra(g, 'a')"
   ]
  },
  {
   "cell_type": "code",
   "execution_count": 5,
   "metadata": {},
   "outputs": [
    {
     "data": {
      "text/plain": [
       "{('a', 'b'): 4}"
      ]
     },
     "execution_count": 5,
     "metadata": {},
     "output_type": "execute_result"
    }
   ],
   "source": [
    "distances = {}\n",
    "distances[('a', 'b')] = 4\n",
    "distances"
   ]
  },
  {
   "cell_type": "code",
   "execution_count": 7,
   "metadata": {},
   "outputs": [
    {
     "data": {
      "text/plain": [
       "defaultdict(list, {'a': ['b']})"
      ]
     },
     "execution_count": 7,
     "metadata": {},
     "output_type": "execute_result"
    }
   ],
   "source": [
    "edges = defaultdict(list)\n",
    "edges['a'].append('b')\n",
    "edges"
   ]
  },
  {
   "cell_type": "code",
   "execution_count": 28,
   "metadata": {},
   "outputs": [
    {
     "name": "stdout",
     "output_type": "stream",
     "text": [
      "('test1', 1)\n",
      "('test2', 2)\n"
     ]
    }
   ],
   "source": [
    "test= [\n",
    "    {'test1': 1},\n",
    "    {'test2': 2}\n",
    "]\n",
    "\n",
    "test1 = {\n",
    "    'test1': 1,\n",
    "    'test2': 2\n",
    "}\n",
    "\n",
    "for key in test1.keys():\n",
    "    print((key, test1[key]))"
   ]
  },
  {
   "cell_type": "markdown",
   "metadata": {},
   "source": [
    "## Adjacency Matrix Implementation"
   ]
  },
  {
   "cell_type": "code",
   "execution_count": 4,
   "metadata": {},
   "outputs": [],
   "source": [
    "import sys\n",
    "import heapq"
   ]
  },
  {
   "cell_type": "code",
   "execution_count": 12,
   "metadata": {},
   "outputs": [],
   "source": [
    "class Graph():\n",
    "    def __init__(self, vertices):\n",
    "        self.v = vertices\n",
    "        self.graph = [[0 for column in range(vertices)] for row in range(vertices)]\n",
    "    \n",
    "    def print_solution(self, dist):\n",
    "        print('vertex \\tDistance from Source')\n",
    "        for node in range(self.v):\n",
    "            print(node, \"\\t\", dist[node])\n",
    "        \n",
    "    # method to find vertex with minimum distance from set of vertices\n",
    "    \n",
    "    def min_distance(self, dist, spt_set):\n",
    "        min = float('inf')\n",
    "        \n",
    "        for v in range(self.v):\n",
    "            if dist[v] < min and spt_set[v] == False:\n",
    "                min = dist[v]\n",
    "                min_index = v\n",
    "            \n",
    "        return min_index\n",
    "\n",
    "    def dijkstra(self, src):\n",
    "        \n",
    "        dist = [float('inf')]* self.v\n",
    "        dist[src] = 0\n",
    "        spt_set = [False] * self.v\n",
    "        \n",
    "        for cout in range(self.v):\n",
    "            u = self.min_distance(dist, spt_set)\n",
    "            spt_set[u] = True\n",
    "            \n",
    "            for v in range(self.v):\n",
    "                if self.graph[u][v] > 0 and spt_set[v] == False and dist[v] > dist[u] + self.graph[u][v]:\n",
    "                    dist[v] = dist[u] + self.graph[u][v]\n",
    "        \n",
    "        self.print_solution(dist)"
   ]
  },
  {
   "cell_type": "code",
   "execution_count": 13,
   "metadata": {},
   "outputs": [
    {
     "name": "stdout",
     "output_type": "stream",
     "text": [
      "vertex \tDistance from Source\n",
      "0 \t 0\n",
      "1 \t 4\n",
      "2 \t 12\n",
      "3 \t 19\n",
      "4 \t 21\n",
      "5 \t 11\n",
      "6 \t 9\n",
      "7 \t 8\n",
      "8 \t 14\n"
     ]
    }
   ],
   "source": [
    "g = Graph(9)\n",
    "g.graph = [[0, 4, 0, 0, 0, 0, 0, 8, 0],\n",
    "        [4, 0, 8, 0, 0, 0, 0, 11, 0],\n",
    "        [0, 8, 0, 7, 0, 4, 0, 0, 2],\n",
    "        [0, 0, 7, 0, 9, 14, 0, 0, 0],\n",
    "        [0, 0, 0, 9, 0, 10, 0, 0, 0],\n",
    "        [0, 0, 4, 14, 10, 0, 2, 0, 0],\n",
    "        [0, 0, 0, 0, 0, 2, 0, 1, 6],\n",
    "        [8, 11, 0, 0, 0, 0, 1, 0, 7],\n",
    "        [0, 0, 2, 0, 0, 0, 6, 7, 0]\n",
    "        ];\n",
    "  \n",
    "g.dijkstra(0);"
   ]
  },
  {
   "cell_type": "markdown",
   "metadata": {},
   "source": [
    "## Priority Queue Implementation"
   ]
  },
  {
   "cell_type": "code",
   "execution_count": 14,
   "metadata": {},
   "outputs": [],
   "source": [
    "import heapq"
   ]
  },
  {
   "cell_type": "code",
   "execution_count": 17,
   "metadata": {},
   "outputs": [],
   "source": [
    "def calculate_distances(graph, starting_vertex):\n",
    "    distances = {vertex:  float('inf') for vertex in graph}\n",
    "    distances[starting_vertex]  = 0\n",
    "    \n",
    "    pq = [(0, starting_vertex)]\n",
    "    while len(pq) > 0:\n",
    "        current_distance, current_vertex = heapq.heappop(pq)\n",
    "        \n",
    "        if current_distance > distances[current_vertex]:\n",
    "            continue\n",
    "        \n",
    "        for neighbor, weight in graph[current_vertex].items():\n",
    "            distance = current_distance + weight\n",
    "            \n",
    "            if distance < distances[neighbor]:\n",
    "                distances[neighbor] = distance\n",
    "                heapq.heappush(pq, (distance, neighbor))\n",
    "                \n",
    "    return distances"
   ]
  },
  {
   "cell_type": "code",
   "execution_count": 16,
   "metadata": {},
   "outputs": [
    {
     "name": "stdout",
     "output_type": "stream",
     "text": [
      "{'U': 1, 'V': 2, 'W': 2, 'X': 0, 'Y': 1, 'Z': 2}\n"
     ]
    }
   ],
   "source": [
    "example_graph = {\n",
    "    'U': {'V': 2, 'W': 5, 'X': 1},\n",
    "    'V': {'U': 2, 'X': 2, 'W': 3},\n",
    "    'W': {'V': 3, 'U': 5, 'X': 3, 'Y': 1, 'Z': 5},\n",
    "    'X': {'U': 1, 'V': 2, 'W': 3, 'Y': 1},\n",
    "    'Y': {'X': 1, 'W': 1, 'Z': 1},\n",
    "    'Z': {'W': 5, 'Y': 1},\n",
    "}\n",
    "\n",
    "print(calculate_distances(example_graph, 'X'))"
   ]
  },
  {
   "cell_type": "code",
   "execution_count": 21,
   "metadata": {},
   "outputs": [],
   "source": [
    "def dijkstras(graph, start, stop):\n",
    "    return calculate_distances(graph, start)[stop]"
   ]
  },
  {
   "cell_type": "code",
   "execution_count": 22,
   "metadata": {},
   "outputs": [
    {
     "data": {
      "text/plain": [
       "2"
      ]
     },
     "execution_count": 22,
     "metadata": {},
     "output_type": "execute_result"
    }
   ],
   "source": [
    "dijkstras(example_graph, 'X', 'Z')"
   ]
  },
  {
   "cell_type": "code",
   "execution_count": null,
   "metadata": {},
   "outputs": [],
   "source": []
  }
 ],
 "metadata": {
  "kernelspec": {
   "display_name": "Python 3",
   "language": "python",
   "name": "python3"
  },
  "language_info": {
   "codemirror_mode": {
    "name": "ipython",
    "version": 3
   },
   "file_extension": ".py",
   "mimetype": "text/x-python",
   "name": "python",
   "nbconvert_exporter": "python",
   "pygments_lexer": "ipython3",
   "version": "3.7.6"
  }
 },
 "nbformat": 4,
 "nbformat_minor": 4
}
