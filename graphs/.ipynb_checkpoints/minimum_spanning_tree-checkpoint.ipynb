{
 "cells": [
  {
   "cell_type": "markdown",
   "metadata": {},
   "source": [
    "# Minimum Spanning Tree\n",
    "- subset of edges of connected, weighted, undirected graph which:\n",
    "    - connects all vertices\n",
    "    - no cycle\n",
    "    - minimum total edge\n",
    "- real life example:\n",
    "    - constructing bridges between five islands where the cost is minimized and no cycles exist\n",
    "\n",
    "### disjoint set:\n",
    "- data structure that tracks set of elements that are partitioned into a number of disjoint and non overlapping sets\n",
    "- each set has represntative to identify the set\n",
    "    - standard operations\n",
    "        - make set: create initial set\n",
    "            - time complexity: O(n)\n",
    "            - space complexity: O(n)\n",
    "        - union: merge two given sets\n",
    "            - time complexity: O(1)\n",
    "            - space complexity: O(1)\n",
    "        - find: find a value in a set\n",
    "            - time complexity: O(1)\n",
    "            - space complexity: O(1)\n"
   ]
  },
  {
   "cell_type": "markdown",
   "metadata": {},
   "source": [
    "## Implementation"
   ]
  },
  {
   "cell_type": "code",
   "execution_count": 14,
   "metadata": {},
   "outputs": [],
   "source": [
    "class DisjointSet:\n",
    "    def __init__(self, vertices):\n",
    "        self.vertices = vertices\n",
    "        self.parent = {}\n",
    "        for v in vertices:\n",
    "            self.parent[v] = v\n",
    "        self.rank = dict.fromkeys(vertices, 0)\n",
    "    \n",
    "    def find(self, item):\n",
    "        if self.parent[item] == item:\n",
    "            return item\n",
    "        else:\n",
    "            return self.find(self.parent[item])\n",
    "    \n",
    "    def union(self, x, y):\n",
    "        x_root = self.find(x)\n",
    "        y_root = self.find(y)\n",
    "        if self.rank[x_root] < self.rank[y_root]:\n",
    "            self.parent[x_root] = y_root\n",
    "        elif self.rank[x_root] > self.rank[y_root]:\n",
    "            self.parent[y_root] = x_root\n",
    "        else:\n",
    "            self.parent[y_root] = x_root\n",
    "            self.rank[x_root] += 1"
   ]
  },
  {
   "cell_type": "code",
   "execution_count": 15,
   "metadata": {},
   "outputs": [
    {
     "name": "stdout",
     "output_type": "stream",
     "text": [
      "a\n"
     ]
    }
   ],
   "source": [
    "vertices = ['a','b','c','d','e']\n",
    "ds = DisjointSet(vertices)\n",
    "ds.union('a', 'b')\n",
    "ds.union('a', 'c')\n",
    "print(ds.find('a'))"
   ]
  },
  {
   "cell_type": "markdown",
   "metadata": {},
   "source": [
    "## Kruskal's Algorithm\n",
    "- greedy algorithm\n",
    "- finds minimum spanning tree for weighted undirected graphs\n",
    "    - add increasing cost edges at each step\n",
    "    - avoid any cycle at each step\n",
    "- O(eloge) time complexity"
   ]
  },
  {
   "cell_type": "markdown",
   "metadata": {},
   "source": [
    "## Prim's Algorithm:\n",
    "- greedy algoirhtm that finds minimum spanning tree for weighted undirected graphs\n",
    "- takes any vertex as source\n",
    "    - sets weight to 0\n",
    "    - sets all others' weight to infinity\n",
    "- if the current weight is more than the current edge, set it to the current edge\n",
    "- mark the current vertex as visited\n",
    "- repeat steps for all vertices in order of increasing weight\n",
    "- time complexity: O(V^3)\n",
    "- space complexity: O(V)"
   ]
  },
  {
   "cell_type": "code",
   "execution_count": 28,
   "metadata": {},
   "outputs": [],
   "source": [
    "class Graph:\n",
    "    def __init__(self, vertices):\n",
    "        self.v = vertices\n",
    "        self.graph = []\n",
    "        self.nodes = []\n",
    "        self.mst = []\n",
    "    \n",
    "    def add_edge(self, s, d, w):\n",
    "        self.graph.append([s, d, w])\n",
    "    \n",
    "    def add_node(self, value):\n",
    "        self.nodes.append(value)\n",
    "    \n",
    "    def print_solution(self):\n",
    "        for s, d, w in self.mst:\n",
    "            print(\"%s - %s: %s\" % (s,d,w))\n",
    "    \n",
    "    def kruskal(self):\n",
    "        i, e = 0, 0\n",
    "        ds = DisjointSet(self.nodes)\n",
    "        self.graph = sorted(self.graph, key=lambda item: item[2])\n",
    "        while e < self.v - 1:\n",
    "            s,d,w = self.graph[i]\n",
    "            i += 1\n",
    "            x = ds.find(s)\n",
    "            y = ds.find(d)\n",
    "            if x != y:\n",
    "                e += 1\n",
    "                self.mst.append([s,d,w])\n",
    "                ds.union(x,y)\n",
    "        self.print_solution()\n",
    "    \n",
    "    def prims(self):\n",
    "        visited = [0] * self.v\n",
    "        edge_num = 0\n",
    "        visited[0] = True\n",
    "        while edge_num < self.v - 1:\n",
    "            min = float('inf')\n",
    "            for i in range(self.v):\n",
    "                if visited[i]:\n",
    "                    for j in range(self.v):\n",
    "                        if ((not visited[j]) and self.edges[i][j]):\n",
    "                            if min > self.edges[i][j]:\n",
    "                                min = self.edges[i][j]\n",
    "                                s = i\n",
    "                                d = j\n",
    "            self.mst.append([self.nodes[s], self.nodes[d], self.edges[s][d]])\n",
    "            visited[d] = True\n",
    "            edge_num += 1\n",
    "    \n",
    "        self.print_solution()\n",
    "        "
   ]
  },
  {
   "cell_type": "code",
   "execution_count": 29,
   "metadata": {},
   "outputs": [
    {
     "name": "stdout",
     "output_type": "stream",
     "text": [
      "a - b: 5\n",
      "c - d: 6\n",
      "b - d: 8\n",
      "a - e: 15\n"
     ]
    }
   ],
   "source": [
    "g = Graph(5)\n",
    "g.add_node('a')\n",
    "g.add_node('b')\n",
    "g.add_node('c')\n",
    "g.add_node('d')\n",
    "g.add_node('e')\n",
    "g.add_edge('a','b',5)\n",
    "g.add_edge('a', 'c', 13)\n",
    "g.add_edge('a', 'e', 15)\n",
    "g.add_edge('b', 'a', 5)\n",
    "g.add_edge('b', 'c', 10)\n",
    "g.add_edge('b', 'd', 8)\n",
    "g.add_edge('c', 'a', 13)\n",
    "g.add_edge('c', 'b', 10)\n",
    "g.add_edge('c', 'e', 20)\n",
    "g.add_edge('c', 'd', 6)\n",
    "g.add_edge('d', 'b', 8)\n",
    "g.add_edge('d', 'c', 6)\n",
    "g.add_edge('e', 'a', 15)\n",
    "g.add_edge('e', 'c', 20)\n",
    "\n",
    "g.kruskal()\n",
    "\n",
    "\n",
    "\n",
    "\n",
    "\n",
    "\n",
    "\n",
    "\n"
   ]
  },
  {
   "cell_type": "code",
   "execution_count": 30,
   "metadata": {},
   "outputs": [
    {
     "name": "stdout",
     "output_type": "stream",
     "text": [
      "a - b: 10\n",
      "b - d: 5\n",
      "d - e: 8\n",
      "e - c: 6\n"
     ]
    }
   ],
   "source": [
    "edges = [[0,10,20,0,0],\n",
    "        [10,0,30,5,0],\n",
    "        [20,30,0,15,6],\n",
    "        [0,5,15,0,8],\n",
    "        [0,0,6,8,0]]\n",
    "nodes = ['a','b','c','d','e']\n",
    "g = Graph(5)\n",
    "g.edges = edges\n",
    "g.nodes = nodes\n",
    "g.prims()"
   ]
  },
  {
   "cell_type": "code",
   "execution_count": null,
   "metadata": {},
   "outputs": [],
   "source": []
  }
 ],
 "metadata": {
  "kernelspec": {
   "display_name": "Python 3",
   "language": "python",
   "name": "python3"
  },
  "language_info": {
   "codemirror_mode": {
    "name": "ipython",
    "version": 3
   },
   "file_extension": ".py",
   "mimetype": "text/x-python",
   "name": "python",
   "nbconvert_exporter": "python",
   "pygments_lexer": "ipython3",
   "version": "3.7.6"
  }
 },
 "nbformat": 4,
 "nbformat_minor": 4
}
