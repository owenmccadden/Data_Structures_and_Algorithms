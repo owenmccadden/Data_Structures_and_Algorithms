{
 "cells": [
  {
   "cell_type": "markdown",
   "metadata": {},
   "source": [
    "# 1020: Number of Enclaves\n",
    "- given NxM grid of cells where a 0 represents sea and 1 represents land\n",
    "- a move is defined as walking from one land cell to another (adjacent only) or walking off the grid\n",
    "- return the number of land cells in the grid for which we cannot walk off the boundary in any num of moves"
   ]
  },
  {
   "cell_type": "code",
   "execution_count": 33,
   "metadata": {},
   "outputs": [],
   "source": [
    "class Solution:\n",
    "    def numEnclaves(self, A):\n",
    "        self.count = 0\n",
    "        def help(A,i,j):\n",
    "            if i < 0 or j < 0 or i >= len(A) or j >= len(A[0]):\n",
    "                return False\n",
    "            if A[i][j] == 0: return True\n",
    "            self.count += 1\n",
    "            A[i][j] = 0\n",
    "            a = help(A,i+1,j)\n",
    "            b = help(A,i-1,j)\n",
    "            c = help(A,i,j+1)\n",
    "            d = help(A,i,j-1)\n",
    "            return a and b and c and d\n",
    "        count = 0\n",
    "        for i in range(len(A)):\n",
    "            for j in range(len(A[0])):\n",
    "                if A[i][j] == 1 and help(A,i,j):\n",
    "                    count += self.count\n",
    "                self.count = 0\n",
    "        return count"
   ]
  },
  {
   "cell_type": "code",
   "execution_count": 34,
   "metadata": {},
   "outputs": [
    {
     "data": {
      "text/plain": [
       "3"
      ]
     },
     "execution_count": 34,
     "metadata": {},
     "output_type": "execute_result"
    }
   ],
   "source": [
    "test = Solution()\n",
    "test.numEnclaves([[0,0,0,0],[1,0,1,0],[0,1,1,0],[0,0,0,0]])"
   ]
  },
  {
   "cell_type": "code",
   "execution_count": null,
   "metadata": {},
   "outputs": [],
   "source": []
  }
 ],
 "metadata": {
  "kernelspec": {
   "display_name": "Python 3",
   "language": "python",
   "name": "python3"
  },
  "language_info": {
   "codemirror_mode": {
    "name": "ipython",
    "version": 3
   },
   "file_extension": ".py",
   "mimetype": "text/x-python",
   "name": "python",
   "nbconvert_exporter": "python",
   "pygments_lexer": "ipython3",
   "version": "3.7.6"
  }
 },
 "nbformat": 4,
 "nbformat_minor": 4
}
