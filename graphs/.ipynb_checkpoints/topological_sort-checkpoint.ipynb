{
 "cells": [
  {
   "cell_type": "markdown",
   "metadata": {},
   "source": [
    "## Topological Sort\n",
    "- sorts actions such that order-dependent actions always come in the proper order\n",
    "    - i.e. if there is a dependency of one action on another, the dependent action always comes later than its parent action\n",
    "- algorithm:\n",
    "    - if a vertex dependson current vertex:\n",
    "        - visit that vertex then return to current\n",
    "    - else\n",
    "        - push current vertex to stack\n",
    "\n",
    "- time complexity: O(v + e)\n",
    "- space complexity: O(v + e)"
   ]
  },
  {
   "cell_type": "code",
   "execution_count": 2,
   "metadata": {},
   "outputs": [],
   "source": [
    "from collections import defaultdict, deque"
   ]
  },
  {
   "cell_type": "code",
   "execution_count": 1,
   "metadata": {},
   "outputs": [],
   "source": [
    "class Graph:\n",
    "    def __init__(self, num_vertices):\n",
    "        self.graph = defaultdict(list)\n",
    "        self.num_vertices = num_vertices\n",
    "    \n",
    "    def add_edge(self, vertex, edge):\n",
    "        self.graph[vertex].append(edge)\n",
    "        \n",
    "    def topological_sort_r(self, v, visited, stack):\n",
    "        visited.append(v)\n",
    "        for i in self.graph[v]:\n",
    "            if i not in visited:\n",
    "                self.topological_sort_r(i, visited, stack)\n",
    "        \n",
    "        stack.appendleft(v)\n",
    "    \n",
    "    def topo_sort(self):\n",
    "        visited = []\n",
    "        stack = deque()\n",
    "        for k in list(self.graph):\n",
    "            if k not in visited:\n",
    "                self.topological_sort_r(k, visited, stack)\n",
    "        \n",
    "        return stack"
   ]
  },
  {
   "cell_type": "code",
   "execution_count": 3,
   "metadata": {},
   "outputs": [
    {
     "name": "stdout",
     "output_type": "stream",
     "text": [
      "deque(['b', 'd', 'a', 'c', 'e', 'f', 'g', 'h'])\n"
     ]
    }
   ],
   "source": [
    "gg = Graph(8)\n",
    "gg.add_edge('a', 'c')\n",
    "gg.add_edge('c', 'e')\n",
    "gg.add_edge('e', 'h')\n",
    "gg.add_edge('e', 'f')\n",
    "gg.add_edge('f', 'g')\n",
    "gg.add_edge('b', 'd')\n",
    "gg.add_edge('b', 'c')\n",
    "gg.add_edge('d', 'f')\n",
    "\n",
    "print(gg.topo_sort())"
   ]
  },
  {
   "cell_type": "code",
   "execution_count": null,
   "metadata": {},
   "outputs": [],
   "source": []
  }
 ],
 "metadata": {
  "kernelspec": {
   "display_name": "Python 3",
   "language": "python",
   "name": "python3"
  },
  "language_info": {
   "codemirror_mode": {
    "name": "ipython",
    "version": 3
   },
   "file_extension": ".py",
   "mimetype": "text/x-python",
   "name": "python",
   "nbconvert_exporter": "python",
   "pygments_lexer": "ipython3",
   "version": "3.7.6"
  }
 },
 "nbformat": 4,
 "nbformat_minor": 4
}
