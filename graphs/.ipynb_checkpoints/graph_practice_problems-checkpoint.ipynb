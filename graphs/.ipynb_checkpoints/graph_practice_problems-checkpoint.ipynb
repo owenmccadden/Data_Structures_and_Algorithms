{
 "cells": [
  {
   "cell_type": "code",
   "execution_count": 13,
   "metadata": {},
   "outputs": [],
   "source": [
    "from collections import deque"
   ]
  },
  {
   "cell_type": "markdown",
   "metadata": {},
   "source": [
    "### Given an unweighted directed graph and two nodes (S and E) design an algorithm to find out if there is a route from S to E"
   ]
  },
  {
   "cell_type": "code",
   "execution_count": 2,
   "metadata": {},
   "outputs": [],
   "source": [
    "class Graph:\n",
    "    def __init__(self, gdict=None):\n",
    "        if gdict is None:\n",
    "            gdict = {}\n",
    "        self.gdict = gdict\n",
    "    \n",
    "    def addEdge(self, vertex, edge):\n",
    "        self.gdict[vertex].append(edge)\n",
    "    \n",
    "    def checkRoute(self, startNode, endNode):\n",
    "        q = deque()\n",
    "        visited = [startNode]\n",
    "        q.appendleft(startNode)\n",
    "        while len(q) > 0:\n",
    "            curr = q.pop()\n",
    "            if curr == endNode:\n",
    "                return True\n",
    "            for node in self.gdict[curr]:\n",
    "                if node not in visited:\n",
    "                    q.appendleft(node)\n",
    "                    visited.append(node)\n",
    "                \n",
    "        return False"
   ]
  },
  {
   "cell_type": "code",
   "execution_count": 3,
   "metadata": {},
   "outputs": [],
   "source": [
    "g = Graph({\n",
    "    'a': ['c','d','b'],\n",
    "    'b': ['j'],\n",
    "    'c': ['g'],\n",
    "    'd': [],\n",
    "    'e': ['f', 'a'],\n",
    "    'f': ['i'],\n",
    "    'g': ['d', 'h'],\n",
    "    'h': [],\n",
    "    'i': [],\n",
    "    'j': []\n",
    "})"
   ]
  },
  {
   "cell_type": "code",
   "execution_count": 4,
   "metadata": {},
   "outputs": [
    {
     "data": {
      "text/plain": [
       "{'a': ['c', 'd', 'b'],\n",
       " 'b': ['j'],\n",
       " 'c': ['g'],\n",
       " 'd': [],\n",
       " 'e': ['f', 'a'],\n",
       " 'f': ['i'],\n",
       " 'g': ['d', 'h'],\n",
       " 'h': [],\n",
       " 'i': [],\n",
       " 'j': []}"
      ]
     },
     "execution_count": 4,
     "metadata": {},
     "output_type": "execute_result"
    }
   ],
   "source": [
    "g.gdict"
   ]
  },
  {
   "cell_type": "code",
   "execution_count": 5,
   "metadata": {},
   "outputs": [
    {
     "data": {
      "text/plain": [
       "True"
      ]
     },
     "execution_count": 5,
     "metadata": {},
     "output_type": "execute_result"
    }
   ],
   "source": [
    "g.checkRoute('a', 'j')"
   ]
  },
  {
   "cell_type": "markdown",
   "metadata": {},
   "source": [
    "### Given a list of jobs and a list of dependencies (a list of pairs of jobs where the second job is dependent on the first job) find a build order that will allow the jobs to be completed where all of a job's dependencies are completed before the job is. If no such path exists raise an error."
   ]
  },
  {
   "cell_type": "code",
   "execution_count": 83,
   "metadata": {},
   "outputs": [],
   "source": [
    "def createGraph(projects, dependencies):\n",
    "    projectGraph = {}\n",
    "    for project in projects:\n",
    "        projectGraph[project] = []\n",
    "    for pairs in dependencies:\n",
    "        projectGraph[pairs[0]].extend(pairs[1])\n",
    "    return projectGraph\n",
    "\n",
    "project = ['a', 'b', 'c', 'd', 'e', 'f']\n",
    "dependencies = [('a','d'), ('f','b'), ('b','d'), ('f','a'), ('d','c')]"
   ]
  },
  {
   "cell_type": "code",
   "execution_count": 84,
   "metadata": {},
   "outputs": [
    {
     "data": {
      "text/plain": [
       "{'a': ['d'], 'b': ['d'], 'c': [], 'd': ['c'], 'e': [], 'f': ['b', 'a']}"
      ]
     },
     "execution_count": 84,
     "metadata": {},
     "output_type": "execute_result"
    }
   ],
   "source": [
    "createGraph(project, dependencies)"
   ]
  },
  {
   "cell_type": "code",
   "execution_count": 89,
   "metadata": {},
   "outputs": [],
   "source": [
    "def get_dependencies(graph, start):\n",
    "        job = start\n",
    "        visited = [job]\n",
    "        stack = deque()\n",
    "        stack.append(job)\n",
    "        while len(stack) > 0:\n",
    "            curr = stack.pop()\n",
    "            for dependency in graph[curr]:\n",
    "                if dependency not in visited:\n",
    "                    stack.append(dependency)\n",
    "                    visited.append(dependency)\n",
    "        return visited[1:]"
   ]
  },
  {
   "cell_type": "code",
   "execution_count": 90,
   "metadata": {},
   "outputs": [
    {
     "name": "stdout",
     "output_type": "stream",
     "text": [
      "['d', 'c']\n",
      "['d', 'c']\n",
      "[]\n",
      "['c']\n",
      "[]\n",
      "['b', 'a', 'd', 'c']\n"
     ]
    }
   ],
   "source": [
    "graph = createGraph(project, dependencies)\n",
    "for job in project:\n",
    "    print(get_dependencies(graph, job))"
   ]
  },
  {
   "cell_type": "code",
   "execution_count": 87,
   "metadata": {},
   "outputs": [],
   "source": [
    "def findBuildOrder(projects, dependencies):\n",
    "    graph = createGraph(projects, dependencies)\n",
    "    jobs = list(graph.keys())\n",
    "    max_count = len(jobs)\n",
    "    completed = []\n",
    "    count = 0\n",
    "    \n",
    "    while count <= max_count:\n",
    "        for node in jobs:\n",
    "            has_uncompleted_dependency = False\n",
    "            for dependency in get_dependencies(graph, node):\n",
    "                if dependency not in completed:\n",
    "                    has_uncompleted_dependency = True\n",
    "\n",
    "            if not has_uncompleted_dependency:\n",
    "                completed.append(node)\n",
    "                jobs.remove(node)\n",
    "        count += 1\n",
    "    if len(completed) == max_count:\n",
    "        return completed\n",
    "    else:\n",
    "        raise ValueError(\"No valid build path exists.\")"
   ]
  },
  {
   "cell_type": "code",
   "execution_count": 88,
   "metadata": {},
   "outputs": [
    {
     "data": {
      "text/plain": [
       "['c', 'e', 'd', 'a', 'b', 'f']"
      ]
     },
     "execution_count": 88,
     "metadata": {},
     "output_type": "execute_result"
    }
   ],
   "source": [
    "g = createGraph(project, dependencies)\n",
    "findBuildOrder(project, dependencies)"
   ]
  },
  {
   "cell_type": "code",
   "execution_count": null,
   "metadata": {},
   "outputs": [],
   "source": []
  },
  {
   "cell_type": "code",
   "execution_count": null,
   "metadata": {},
   "outputs": [],
   "source": []
  }
 ],
 "metadata": {
  "kernelspec": {
   "display_name": "Python 3",
   "language": "python",
   "name": "python3"
  },
  "language_info": {
   "codemirror_mode": {
    "name": "ipython",
    "version": 3
   },
   "file_extension": ".py",
   "mimetype": "text/x-python",
   "name": "python",
   "nbconvert_exporter": "python",
   "pygments_lexer": "ipython3",
   "version": "3.7.6"
  }
 },
 "nbformat": 4,
 "nbformat_minor": 4
}
