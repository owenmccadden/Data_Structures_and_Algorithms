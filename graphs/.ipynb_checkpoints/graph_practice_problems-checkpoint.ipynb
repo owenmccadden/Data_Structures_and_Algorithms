{
 "cells": [
  {
   "cell_type": "code",
   "execution_count": 1,
   "metadata": {},
   "outputs": [],
   "source": [
    "from collections import deque"
   ]
  },
  {
   "cell_type": "markdown",
   "metadata": {},
   "source": [
    "### Given an unweighted directed graph and two nodes (S and E) design an algorithm to find out if there is a route from S to E"
   ]
  },
  {
   "cell_type": "code",
   "execution_count": 2,
   "metadata": {},
   "outputs": [],
   "source": [
    "class Graph:\n",
    "    def __init__(self, gdict=None):\n",
    "        if gdict is None:\n",
    "            gdict = {}\n",
    "        self.gdict = gdict\n",
    "    \n",
    "    def addEdge(self, vertex, edge):\n",
    "        self.gdict[vertex].append(edge)\n",
    "    \n",
    "    def checkRoute(self, startNode, endNode):\n",
    "        q = deque()\n",
    "        visited = [startNode]\n",
    "        q.appendleft(startNode)\n",
    "        while len(q) > 0:\n",
    "            curr = q.pop()\n",
    "            if curr == endNode:\n",
    "                return True\n",
    "            for node in self.gdict[curr]:\n",
    "                if node not in visited:\n",
    "                    q.appendleft(node)\n",
    "                    visited.append(node)\n",
    "                \n",
    "        return False"
   ]
  },
  {
   "cell_type": "code",
   "execution_count": 3,
   "metadata": {},
   "outputs": [],
   "source": [
    "g = Graph({\n",
    "    'a': ['c','d','b'],\n",
    "    'b': ['j'],\n",
    "    'c': ['g'],\n",
    "    'd': [],\n",
    "    'e': ['f', 'a'],\n",
    "    'f': ['i'],\n",
    "    'g': ['d', 'h'],\n",
    "    'h': [],\n",
    "    'i': [],\n",
    "    'j': []\n",
    "})"
   ]
  },
  {
   "cell_type": "code",
   "execution_count": 4,
   "metadata": {},
   "outputs": [
    {
     "data": {
      "text/plain": [
       "{'a': ['c', 'd', 'b'],\n",
       " 'b': ['j'],\n",
       " 'c': ['g'],\n",
       " 'd': [],\n",
       " 'e': ['f', 'a'],\n",
       " 'f': ['i'],\n",
       " 'g': ['d', 'h'],\n",
       " 'h': [],\n",
       " 'i': [],\n",
       " 'j': []}"
      ]
     },
     "execution_count": 4,
     "metadata": {},
     "output_type": "execute_result"
    }
   ],
   "source": [
    "g.gdict"
   ]
  },
  {
   "cell_type": "code",
   "execution_count": 5,
   "metadata": {},
   "outputs": [
    {
     "data": {
      "text/plain": [
       "True"
      ]
     },
     "execution_count": 5,
     "metadata": {},
     "output_type": "execute_result"
    }
   ],
   "source": [
    "g.checkRoute('a', 'j')"
   ]
  },
  {
   "cell_type": "markdown",
   "metadata": {},
   "source": [
    "### Given a list of jobs and a list of dependencies (a list of pairs of jobs where the second job is dependent on the first job) find a build order that will allow the jobs to be completed where all of a job's dependencies are completed before the job is. If no such path exists raise an error."
   ]
  },
  {
   "cell_type": "code",
   "execution_count": null,
   "metadata": {},
   "outputs": [],
   "source": []
  }
 ],
 "metadata": {
  "kernelspec": {
   "display_name": "Python 3",
   "language": "python",
   "name": "python3"
  },
  "language_info": {
   "codemirror_mode": {
    "name": "ipython",
    "version": 3
   },
   "file_extension": ".py",
   "mimetype": "text/x-python",
   "name": "python",
   "nbconvert_exporter": "python",
   "pygments_lexer": "ipython3",
   "version": "3.7.6"
  }
 },
 "nbformat": 4,
 "nbformat_minor": 4
}
