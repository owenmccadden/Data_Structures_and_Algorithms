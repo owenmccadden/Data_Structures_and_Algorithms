{
 "cells": [
  {
   "cell_type": "code",
   "execution_count": 1,
   "metadata": {},
   "outputs": [],
   "source": [
    "from collections import deque"
   ]
  },
  {
   "cell_type": "code",
   "execution_count": 69,
   "metadata": {},
   "outputs": [],
   "source": [
    "class Graph:\n",
    "    def __init__(self, graph_dict):\n",
    "        self.graph_dict = graph_dict\n",
    "        \n",
    "    def has_cycle_util(self, curr, visited, stack):\n",
    "        visited.add(curr)\n",
    "        stack.add(curr)\n",
    "        for adjacent in self.graph_dict[curr]:\n",
    "            if adjacent[0] not in visited:\n",
    "                if self.has_cycle_util(adjacent[0], visited, stack):\n",
    "                    return True\n",
    "            elif adjacent[0] in stack:\n",
    "                return True\n",
    "        \n",
    "        stack.remove(curr)\n",
    "        return False\n",
    "    \n",
    "    def has_cycle(self):\n",
    "        visited = set()\n",
    "        stack = set()\n",
    "        for node in self.graph_dict:\n",
    "            if node not in visited:\n",
    "                return self.has_cycle_util(node, visited, stack)\n",
    "                    "
   ]
  },
  {
   "cell_type": "code",
   "execution_count": 70,
   "metadata": {},
   "outputs": [],
   "source": [
    "test3 = Graph({\n",
    "    'a': [['b', 3], ['c', 1.3]],\n",
    "    'b': [],\n",
    "    'c': [['d', 2]],\n",
    "    'd': [['b',  1.5]]\n",
    "})"
   ]
  },
  {
   "cell_type": "code",
   "execution_count": 71,
   "metadata": {},
   "outputs": [
    {
     "data": {
      "text/plain": [
       "False"
      ]
     },
     "execution_count": 71,
     "metadata": {},
     "output_type": "execute_result"
    }
   ],
   "source": [
    "test3.has_cycle()"
   ]
  },
  {
   "cell_type": "code",
   "execution_count": 55,
   "metadata": {},
   "outputs": [],
   "source": [
    "test = Graph({\n",
    "    1: [2],\n",
    "    2: [0, 3],\n",
    "    3: [1],\n",
    "    0: [1, 2]\n",
    "})"
   ]
  },
  {
   "cell_type": "code",
   "execution_count": 56,
   "metadata": {},
   "outputs": [
    {
     "name": "stdout",
     "output_type": "stream",
     "text": [
      "2\n",
      "0\n",
      "1\n"
     ]
    },
    {
     "data": {
      "text/plain": [
       "True"
      ]
     },
     "execution_count": 56,
     "metadata": {},
     "output_type": "execute_result"
    }
   ],
   "source": [
    "test.has_cycle()"
   ]
  },
  {
   "cell_type": "code",
   "execution_count": 57,
   "metadata": {},
   "outputs": [],
   "source": [
    "test2 = Graph({\n",
    "    1: [2],\n",
    "    2: [3],\n",
    "    3: [4],\n",
    "    4: []\n",
    "})"
   ]
  },
  {
   "cell_type": "code",
   "execution_count": 40,
   "metadata": {},
   "outputs": [
    {
     "name": "stdout",
     "output_type": "stream",
     "text": [
      "2\n",
      "3\n",
      "4\n"
     ]
    },
    {
     "data": {
      "text/plain": [
       "False"
      ]
     },
     "execution_count": 40,
     "metadata": {},
     "output_type": "execute_result"
    }
   ],
   "source": [
    "test2.has_cycle()"
   ]
  },
  {
   "cell_type": "code",
   "execution_count": null,
   "metadata": {},
   "outputs": [],
   "source": []
  }
 ],
 "metadata": {
  "kernelspec": {
   "display_name": "Python 3",
   "language": "python",
   "name": "python3"
  },
  "language_info": {
   "codemirror_mode": {
    "name": "ipython",
    "version": 3
   },
   "file_extension": ".py",
   "mimetype": "text/x-python",
   "name": "python",
   "nbconvert_exporter": "python",
   "pygments_lexer": "ipython3",
   "version": "3.7.6"
  }
 },
 "nbformat": 4,
 "nbformat_minor": 4
}
