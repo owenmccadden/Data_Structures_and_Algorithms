{
 "cells": [
  {
   "cell_type": "markdown",
   "metadata": {},
   "source": [
    "# Floyd Warshal Algorithm\n",
    "- all pairs shortest path algorithm\n",
    "- for each vertex, iterate through adjacency matrix and set values to the minimum between the current value and the sum of the distances from the current vertex\n",
    "- returns adjacency matrix with minimum distance from every source node to every destination node\n",
    "\n",
    "- time complexity: O(V^3)\n",
    "- space complexity: O(V^2)"
   ]
  },
  {
   "cell_type": "markdown",
   "metadata": {},
   "source": [
    "## Adjacency Matrix Implementation"
   ]
  },
  {
   "cell_type": "code",
   "execution_count": 6,
   "metadata": {},
   "outputs": [],
   "source": [
    "inf = 999999\n",
    "\n",
    "def print_solution(nv, distance):\n",
    "    for i in range(nv):\n",
    "        for j in range(nv):\n",
    "            if distance[i][j] == inf:\n",
    "                print(\"inf\", end=\" \")\n",
    "            else:\n",
    "                print(distance[i][j], end=\" \")\n",
    "        print(\" \")"
   ]
  },
  {
   "cell_type": "code",
   "execution_count": 11,
   "metadata": {},
   "outputs": [],
   "source": [
    "def floyd_warshall(g):\n",
    "    distance = g\n",
    "    nv = len(g)\n",
    "    for k in range(nv):\n",
    "        for i in range(nv):\n",
    "            for j in range(nv):\n",
    "                distance[i][j] = min(distance[i][j], distance[i][k] + distance[k][j])\n",
    "    \n",
    "    print_solution(nv, distance)"
   ]
  },
  {
   "cell_type": "code",
   "execution_count": 12,
   "metadata": {},
   "outputs": [
    {
     "name": "stdout",
     "output_type": "stream",
     "text": [
      "0 3 4 1  \n",
      "5 0 1 6  \n",
      "4 7 0 5  \n",
      "7 2 3 1  \n"
     ]
    }
   ],
   "source": [
    "G = [[0,8,inf,1],\n",
    "     [inf, 0, 1, inf],\n",
    "     [4, inf, 0, inf],\n",
    "     [inf, 2, 9, 1]]\n",
    "\n",
    "floyd_warshall(G)"
   ]
  },
  {
   "cell_type": "code",
   "execution_count": null,
   "metadata": {},
   "outputs": [],
   "source": []
  }
 ],
 "metadata": {
  "kernelspec": {
   "display_name": "Python 3",
   "language": "python",
   "name": "python3"
  },
  "language_info": {
   "codemirror_mode": {
    "name": "ipython",
    "version": 3
   },
   "file_extension": ".py",
   "mimetype": "text/x-python",
   "name": "python",
   "nbconvert_exporter": "python",
   "pygments_lexer": "ipython3",
   "version": "3.7.6"
  }
 },
 "nbformat": 4,
 "nbformat_minor": 4
}
