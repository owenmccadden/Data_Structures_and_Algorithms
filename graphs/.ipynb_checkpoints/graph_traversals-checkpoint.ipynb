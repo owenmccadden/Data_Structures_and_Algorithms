{
 "cells": [
  {
   "cell_type": "markdown",
   "metadata": {},
   "source": [
    "## Traversals:\n",
    "- breadth first search:\n",
    "    - starts at arbitrary node and visits nodes on same level first before moving to next level\n",
    "    - similar to level order traversal in a binary search tree\n",
    "    - algorithm:\n",
    "        - create queue and enqueue starting vertex\n",
    "        - loop while the queue is not empty\n",
    "        - dequeue from the queue and check if item is unvisited\n",
    "            - mark as visited\n",
    "            - enqueue all unvisited adjacent vertices\n",
    "\n",
    "    - let v = number of vertices, e = number of edges\n",
    "    - time complexity O(v + e)\n",
    "    - space complexity O(v + e)\n",
    "\n",
    "- depth first search:\n",
    "    - start at arbitrary node and visits each node as far as possible along each edge before backtracking\n",
    "    - algorithm:\n",
    "        - create stack and push starting vertex\n",
    "        - while stack is not empty\n",
    "        - pop from stack and check if item is unvisited\n",
    "            - mark as visited\n",
    "            - push all adjacent vertices to the stack\n",
    "    - same algorithm as bfs but uses stack rather than queue\n",
    "\n",
    "    - time complexity O(v + e)\n",
    "    - space complexity O(v + e)"
   ]
  },
  {
   "cell_type": "markdown",
   "metadata": {},
   "source": [
    "from collections import deque"
   ]
  },
  {
   "cell_type": "code",
   "execution_count": 2,
   "metadata": {},
   "outputs": [],
   "source": [
    "class graph:\n",
    "    def __init__(self, graph_dict=None):\n",
    "        if graph_dict is None:\n",
    "            self.graph_dict = {}\n",
    "        else:\n",
    "            self.graph_dict = graph_dict\n",
    "    \n",
    "    def add_edge(self, vertex, edge):\n",
    "        self.graph_dict[vertex].append(edge)\n",
    "    \n",
    "    def add_edges(self, vertex, edges):\n",
    "        for i in edges:\n",
    "            self.add_edge(vertex, i)\n",
    "        \n",
    "    def add_vertex(self, name):\n",
    "        self.graph_dict[name] = []\n",
    "        \n",
    "    def breadth_first_search(self, start):\n",
    "        visited = []\n",
    "        q = deque()\n",
    "        q.appendleft(start)\n",
    "        while len(q) > 0:\n",
    "            curr = q.pop()\n",
    "            if curr not in visited:\n",
    "                visited.append(curr)\n",
    "                for i in self.graph_dict[curr]:\n",
    "                    if i not in visited:\n",
    "                        q.appendleft(i)\n",
    "        return visited\n",
    "\n",
    "    def depth_first_search(self, start):\n",
    "        visited = []\n",
    "        stack = deque()\n",
    "        stack.append(start)\n",
    "        while len(stack) > 0:\n",
    "            curr = stack.pop()\n",
    "            if curr not in visited:\n",
    "                visited.append(curr)\n",
    "                for i in self.graph_dict[curr]:\n",
    "                    if i not in visited:\n",
    "                        stack.append(i)\n",
    "        return visited"
   ]
  },
  {
   "cell_type": "code",
   "execution_count": 3,
   "metadata": {},
   "outputs": [
    {
     "name": "stdout",
     "output_type": "stream",
     "text": [
      "{'a': ['b', 'c'], 'b': ['a', 'd', 'g'], 'c': ['a', 'd', 'e'], 'd': ['c', 'f', 'b'], 'g': ['b', 'f'], 'e': ['c', 'f'], 'f': ['e', 'g', 'd']}\n"
     ]
    }
   ],
   "source": [
    "my_graph = graph({\n",
    "    'a': ['b', 'c'],\n",
    "    'b': ['a', 'd', 'g'],\n",
    "    'c': ['a', 'd', 'e'],\n",
    "    'd': ['c', 'f', 'b'],\n",
    "    'g': ['b', 'f'],\n",
    "    'e': ['c', 'f'],\n",
    "    'f': ['e', 'g', 'd']\n",
    "#     'a': ['b', 'c'],\n",
    "#     'b': ['a', 'd', 'e'],\n",
    "#     'c': ['a', 'e'],\n",
    "#     'd': ['b', 'e', 'f'],\n",
    "#     'e': ['d', 'f', 'c'],\n",
    "#     'f': ['d', 'e']\n",
    "})\n",
    "print(my_graph.graph_dict)"
   ]
  },
  {
   "cell_type": "code",
   "execution_count": 4,
   "metadata": {},
   "outputs": [
    {
     "data": {
      "text/plain": [
       "['a', 'b', 'c', 'd', 'g', 'e', 'f']"
      ]
     },
     "execution_count": 4,
     "metadata": {},
     "output_type": "execute_result"
    }
   ],
   "source": [
    "my_graph.breadth_first_search('a')"
   ]
  },
  {
   "cell_type": "code",
   "execution_count": 5,
   "metadata": {},
   "outputs": [
    {
     "data": {
      "text/plain": [
       "['a', 'c', 'e', 'f', 'd', 'b', 'g']"
      ]
     },
     "execution_count": 5,
     "metadata": {},
     "output_type": "execute_result"
    }
   ],
   "source": [
    "my_graph.depth_first_search('a')"
   ]
  },
  {
   "cell_type": "code",
   "execution_count": null,
   "metadata": {},
   "outputs": [],
   "source": []
  }
 ],
 "metadata": {
  "kernelspec": {
   "display_name": "Python 3",
   "language": "python",
   "name": "python3"
  },
  "language_info": {
   "codemirror_mode": {
    "name": "ipython",
    "version": 3
   },
   "file_extension": ".py",
   "mimetype": "text/x-python",
   "name": "python",
   "nbconvert_exporter": "python",
   "pygments_lexer": "ipython3",
   "version": "3.7.6"
  }
 },
 "nbformat": 4,
 "nbformat_minor": 4
}
