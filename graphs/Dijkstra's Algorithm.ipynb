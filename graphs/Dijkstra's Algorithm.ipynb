{
 "cells": [
  {
   "cell_type": "markdown",
   "metadata": {},
   "source": [
    "# Dijkstra's Algorithm\n",
    "- Dijkstra's algorithm can be used to solve single source shortest path for weighted graphs\n",
    "- used to find shortest path between points on a weighted graph\n",
    "- algorithm:\n",
    "    - start at initial node and set to current\n",
    "    - mark all nodes unvisited and create a set to store unvisited nodes\n",
    "    - assign each node a distance value\n",
    "        - 0 for starting node\n",
    "        - infinity for all other nodes\n",
    "    - consider all unvisited neighbor nodes\n",
    "        - calculate tentative distances thought current node (sum of current node and edge connecting to next node)\n",
    "        - compare to current distance value to the newly calculated, assign smaller one\n",
    "        - remove current node from unvisited set\n",
    "    - if the destination is marked visited, or the smallest tentative distance is infinity, stop\n",
    "    - otherwise select the unvistited node with the smallest tentative distance, set as current node, and repeat process of considering all unvistied neighbor nodes\n",
    "-  node cannot process any negative weights\n",
    "\n",
    "\n",
    "- time complexity: O(v^2)\n",
    "- space complexity: O(e)"
   ]
  },
  {
   "cell_type": "code",
   "execution_count": 3,
   "metadata": {},
   "outputs": [],
   "source": [
    "from collections import defaultdict, deque"
   ]
  },
  {
   "cell_type": "code",
   "execution_count": 16,
   "metadata": {},
   "outputs": [],
   "source": [
    "class Graph:\n",
    "    def __init__(self):\n",
    "        self.nodes = set()\n",
    "        self.edges = defaultdict(list)\n",
    "        self.distances = {}\n",
    "    \n",
    "    def add_node(self, value):\n",
    "        self.nodes.add(value)\n",
    "    \n",
    "    def add_edge(self, from_node, to_node, distance):\n",
    "        self.edges[from_node].append(to_node)\n",
    "        self.distances[(from_node, to_node)] = distance\n",
    "    \n",
    "\n",
    "def dijkstra(graph, initial):\n",
    "    visited = {initial: 0}\n",
    "    path = defaultdict(list)\n",
    "    nodes = set(graph.nodes)\n",
    "    \n",
    "    while nodes:\n",
    "        min_node = None\n",
    "        for node in nodes:\n",
    "            if node in visited:\n",
    "                if min_node is None:\n",
    "                    min_node = node\n",
    "                elif visited[node] < visited[min_node]:\n",
    "                    min_node = node\n",
    "        if min_node is None:\n",
    "            break\n",
    "        \n",
    "        nodes.remove(min_node)\n",
    "        current_weight = visited[min_node]\n",
    "        \n",
    "        for edge in graph.edges[min_node]:\n",
    "            weight = current_weight + graph.distances[(min_node, edge)]\n",
    "            if edge not in visited or weight < visited[edge]:\n",
    "                visited[edge] = weight\n",
    "                path[edge].append(min_node)\n",
    "    return visited, path"
   ]
  },
  {
   "cell_type": "code",
   "execution_count": 17,
   "metadata": {},
   "outputs": [
    {
     "data": {
      "text/plain": [
       "({'a': 0, 'b': 2, 'c': 5, 'd': 3, 'e': 5, 'f': 13, 'g': 14},\n",
       " defaultdict(list,\n",
       "             {'b': ['a'],\n",
       "              'c': ['a'],\n",
       "              'd': ['b'],\n",
       "              'e': ['b'],\n",
       "              'f': ['c'],\n",
       "              'g': ['e']}))"
      ]
     },
     "execution_count": 17,
     "metadata": {},
     "output_type": "execute_result"
    }
   ],
   "source": [
    "g = Graph()\n",
    "for i in ['a', 'b', 'c', 'd', 'e', 'g', 'f']:\n",
    "    g.add_node(i)\n",
    "\n",
    "from_ = ['a', 'a', 'b', 'b', 'b', 'c', 'd', 'e', 'f']\n",
    "to_ = ['b', 'c', 'c', 'd', 'e', 'f', 'e', 'g', 'g']\n",
    "dist = [2,5,6,1,3,8,4,9,7]\n",
    "\n",
    "for i in zip(from_, to_, dist):\n",
    "    g.add_edge(i[0], i[1], i[2])\n",
    "\n",
    "dijkstra(g, 'a')"
   ]
  },
  {
   "cell_type": "code",
   "execution_count": 5,
   "metadata": {},
   "outputs": [
    {
     "data": {
      "text/plain": [
       "{('a', 'b'): 4}"
      ]
     },
     "execution_count": 5,
     "metadata": {},
     "output_type": "execute_result"
    }
   ],
   "source": [
    "distances = {}\n",
    "distances[('a', 'b')] = 4\n",
    "distances"
   ]
  },
  {
   "cell_type": "code",
   "execution_count": 7,
   "metadata": {},
   "outputs": [
    {
     "data": {
      "text/plain": [
       "defaultdict(list, {'a': ['b']})"
      ]
     },
     "execution_count": 7,
     "metadata": {},
     "output_type": "execute_result"
    }
   ],
   "source": [
    "edges = defaultdict(list)\n",
    "edges['a'].append('b')\n",
    "edges"
   ]
  },
  {
   "cell_type": "code",
   "execution_count": null,
   "metadata": {},
   "outputs": [],
   "source": []
  }
 ],
 "metadata": {
  "kernelspec": {
   "display_name": "Python 3",
   "language": "python",
   "name": "python3"
  },
  "language_info": {
   "codemirror_mode": {
    "name": "ipython",
    "version": 3
   },
   "file_extension": ".py",
   "mimetype": "text/x-python",
   "name": "python",
   "nbconvert_exporter": "python",
   "pygments_lexer": "ipython3",
   "version": "3.7.6"
  }
 },
 "nbformat": 4,
 "nbformat_minor": 4
}
