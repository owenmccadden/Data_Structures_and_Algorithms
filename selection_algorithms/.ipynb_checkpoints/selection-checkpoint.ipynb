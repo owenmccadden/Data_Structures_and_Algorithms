{
 "cells": [
  {
   "cell_type": "code",
   "execution_count": 4,
   "metadata": {},
   "outputs": [],
   "source": [
    "import numpy as np\n",
    "import math"
   ]
  },
  {
   "cell_type": "markdown",
   "metadata": {},
   "source": [
    "### Finding min and max in O(2n)"
   ]
  },
  {
   "cell_type": "code",
   "execution_count": 1,
   "metadata": {},
   "outputs": [],
   "source": [
    "def min_and_max(a):\n",
    "    min_val = a[0]\n",
    "    max_val = a[0]\n",
    "    for i in range(1,len(a)):\n",
    "        if a[i] > max_val:\n",
    "            max_val = a[i]\n",
    "        if a[i] < min_val:\n",
    "            min_val = a[i]\n",
    "    return (min_val, max_val)"
   ]
  },
  {
   "cell_type": "code",
   "execution_count": 7,
   "metadata": {},
   "outputs": [
    {
     "data": {
      "text/plain": [
       "(-1, 99)"
      ]
     },
     "execution_count": 7,
     "metadata": {},
     "output_type": "execute_result"
    }
   ],
   "source": [
    "min_and_max([2,3,6,16,99, -1])"
   ]
  },
  {
   "cell_type": "markdown",
   "metadata": {},
   "source": [
    "### Finding min and max in O(3n/2) by Pair Sorting"
   ]
  },
  {
   "cell_type": "code",
   "execution_count": 23,
   "metadata": {},
   "outputs": [],
   "source": [
    "def pair_sort(a):\n",
    "    min_val = a[0\n",
    "    max_val = a[0]\n",
    "    for i in range(1, len(a)-1):\n",
    "        if a[i] > a[i+1]:\n",
    "            if a[i] > max_val:\n",
    "                max_val = a[i]\n",
    "            if a[i+1] < min_val:\n",
    "                min_val = a[i+1]\n",
    "        if a[i+1] > a[i]:\n",
    "            if a[i+1] > max_val:\n",
    "                max_val = a[i+1]\n",
    "            if a[i] < min_val:\n",
    "                min_val = a[i]\n",
    "    return (min_val, max_val)"
   ]
  },
  {
   "cell_type": "code",
   "execution_count": 25,
   "metadata": {},
   "outputs": [
    {
     "data": {
      "text/plain": [
       "(-1, 99)"
      ]
     },
     "execution_count": 25,
     "metadata": {},
     "output_type": "execute_result"
    }
   ],
   "source": [
    "pair_sort([2,3,6,16,99,-1])"
   ]
  },
  {
   "cell_type": "markdown",
   "metadata": {},
   "source": [
    "### Randomized Select"
   ]
  },
  {
   "cell_type": "code",
   "execution_count": 55,
   "metadata": {},
   "outputs": [],
   "source": [
    "def partition(A, p, r):\n",
    "    x = A[r]\n",
    "    i = p-1\n",
    "    for j in range(p, r-1):\n",
    "        if A[j] <= x:\n",
    "            i += 1\n",
    "            A[i], A[j] = A[j], A[i]\n",
    "    A[i+1], A[r] = A[r], A[i+1]\n",
    "    return i"
   ]
  },
  {
   "cell_type": "code",
   "execution_count": 56,
   "metadata": {},
   "outputs": [
    {
     "data": {
      "text/plain": [
       "2"
      ]
     },
     "execution_count": 56,
     "metadata": {},
     "output_type": "execute_result"
    }
   ],
   "source": [
    "partition([2,8,7,1,3,5,6,4], 0, 7)"
   ]
  },
  {
   "cell_type": "code",
   "execution_count": 59,
   "metadata": {},
   "outputs": [],
   "source": [
    "def randomized_partition(A, p, r):\n",
    "    i = np.random.randint(p,r)\n",
    "    A[i], A[r] = A[r], A[i]\n",
    "    return partition(A, p, r)"
   ]
  },
  {
   "cell_type": "code",
   "execution_count": 78,
   "metadata": {},
   "outputs": [],
   "source": [
    "def randomized_select(A, p, r, i):\n",
    "    if p == r:\n",
    "        return A[p]\n",
    "    q = randomized_partition(A, p, r)\n",
    "    k = q-p+1\n",
    "    if i == k:\n",
    "        return A[q]\n",
    "    elif i < k:\n",
    "        return randomized_select(A, p, q-1, i)\n",
    "    else:\n",
    "        return randomized_select(A, q+1, r, i-k)"
   ]
  },
  {
   "cell_type": "code",
   "execution_count": 79,
   "metadata": {},
   "outputs": [
    {
     "data": {
      "text/plain": [
       "4"
      ]
     },
     "execution_count": 79,
     "metadata": {},
     "output_type": "execute_result"
    }
   ],
   "source": [
    "A = [8,1,5,3,4]\n",
    "p = 0\n",
    "r = 4\n",
    "i = 3\n",
    "randomized_select(A, p, r, i)"
   ]
  },
  {
   "cell_type": "markdown",
   "metadata": {},
   "source": [
    "### Median of two sorted arrays, Divide and Conquer, O(lg(n))"
   ]
  },
  {
   "cell_type": "code",
   "execution_count": 106,
   "metadata": {},
   "outputs": [],
   "source": [
    "def median(x, lb_x, y, lb_y, n):\n",
    "    if n == 1:\n",
    "        return min(x[lb_x], y[lb_y])\n",
    "    \n",
    "    mid = math.floor((n-1)/2)\n",
    "    kx = mid + lb_x\n",
    "    ky = mid + lb_y\n",
    "    \n",
    "    if x[kx] < y[ky]:\n",
    "        return median(x, lb_x + math.floor(n/2), y, lb_y, mid+1)\n",
    "    else:\n",
    "        return median(x, lb_x, y, lb_y + math.floor(n/2), mid+1)"
   ]
  },
  {
   "cell_type": "code",
   "execution_count": 105,
   "metadata": {},
   "outputs": [
    {
     "name": "stdout",
     "output_type": "stream",
     "text": [
      "0 0 0\n"
     ]
    },
    {
     "data": {
      "text/plain": [
       "2"
      ]
     },
     "execution_count": 105,
     "metadata": {},
     "output_type": "execute_result"
    }
   ],
   "source": [
    "median([2,3], 0, [1,4], 0, 2)"
   ]
  },
  {
   "cell_type": "code",
   "execution_count": 6,
   "metadata": {},
   "outputs": [
    {
     "data": {
      "text/plain": [
       "4"
      ]
     },
     "execution_count": 6,
     "metadata": {},
     "output_type": "execute_result"
    }
   ],
   "source": [
    "np.argmin([4,6,7,88,-5])"
   ]
  },
  {
   "cell_type": "code",
   "execution_count": null,
   "metadata": {},
   "outputs": [],
   "source": []
  }
 ],
 "metadata": {
  "kernelspec": {
   "display_name": "Python 3",
   "language": "python",
   "name": "python3"
  },
  "language_info": {
   "codemirror_mode": {
    "name": "ipython",
    "version": 3
   },
   "file_extension": ".py",
   "mimetype": "text/x-python",
   "name": "python",
   "nbconvert_exporter": "python",
   "pygments_lexer": "ipython3",
   "version": "3.7.6"
  }
 },
 "nbformat": 4,
 "nbformat_minor": 4
}
