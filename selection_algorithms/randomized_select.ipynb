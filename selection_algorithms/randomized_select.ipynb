{
 "cells": [
  {
   "cell_type": "markdown",
   "metadata": {},
   "source": [
    "### Sort and Select\n",
    "    - O(nlogn)"
   ]
  },
  {
   "cell_type": "code",
   "execution_count": 10,
   "metadata": {},
   "outputs": [],
   "source": [
    "def sort_and_select(L, k):\n",
    "    return sorted(L)[-(k+1)]"
   ]
  },
  {
   "cell_type": "code",
   "execution_count": 11,
   "metadata": {},
   "outputs": [
    {
     "name": "stdout",
     "output_type": "stream",
     "text": [
      "4\n"
     ]
    }
   ],
   "source": [
    "test = [6, 3, 2, 8, 4, 5, 1, 7, 0, 9]\n",
    "print(sort_and_select(test, 5))"
   ]
  },
  {
   "cell_type": "markdown",
   "metadata": {},
   "source": [
    "### Recursive Select\n",
    "    - Ω(n)\n",
    "    - O(n**2)\n",
    "    - risk of running worse case of n**2, worse than simple sort and select"
   ]
  },
  {
   "cell_type": "code",
   "execution_count": 3,
   "metadata": {},
   "outputs": [],
   "source": [
    "def select(L, k):\n",
    "    value = L[0]\n",
    "    Llo = [t for t in L if t < value]\n",
    "    Lhi = [t for t in L if t > value]\n",
    "    below = len(Llo) + 1\n",
    "    if (len(Llo) >= k):\n",
    "        return select(Llo, k)\n",
    "    elif (k > below):\n",
    "        return select(Lhi, k - below)\n",
    "    else:\n",
    "        return value"
   ]
  },
  {
   "cell_type": "code",
   "execution_count": 4,
   "metadata": {},
   "outputs": [
    {
     "name": "stdout",
     "output_type": "stream",
     "text": [
      "4\n"
     ]
    }
   ],
   "source": [
    "test = [6, 3, 2, 8, 4, 5, 1, 7, 0, 9]\n",
    "print(select(test, 5))"
   ]
  },
  {
   "cell_type": "markdown",
   "metadata": {},
   "source": [
    "### Randomized Select\n",
    "    - O(n**2) (only if every randomly selected value of m is the largest value. Less likely than recursive select)\n",
    "    - average expected case O(n)"
   ]
  },
  {
   "cell_type": "code",
   "execution_count": 12,
   "metadata": {},
   "outputs": [],
   "source": [
    "import random\n",
    "\n",
    "def randomized_select(L, k):\n",
    "    value = random.choice(L)\n",
    "    Llo = [t for t in L if t < value]\n",
    "    Lhi = [t for t in L if t > value]\n",
    "    below = len(Llo) + 1\n",
    "    if (len(Llo) >= k):\n",
    "        return select(Llo, k)\n",
    "    elif (k > below):\n",
    "        return select(Lhi, k - below)\n",
    "    else:\n",
    "        return value"
   ]
  },
  {
   "cell_type": "code",
   "execution_count": 14,
   "metadata": {},
   "outputs": [
    {
     "name": "stdout",
     "output_type": "stream",
     "text": [
      "4\n"
     ]
    }
   ],
   "source": [
    "test = [6, 3, 2, 8, 4, 5, 1, 7, 0, 9]\n",
    "print(randomized_select(test, 5))"
   ]
  },
  {
   "cell_type": "code",
   "execution_count": null,
   "metadata": {},
   "outputs": [],
   "source": []
  }
 ],
 "metadata": {
  "kernelspec": {
   "display_name": "Python 3",
   "language": "python",
   "name": "python3"
  },
  "language_info": {
   "codemirror_mode": {
    "name": "ipython",
    "version": 3
   },
   "file_extension": ".py",
   "mimetype": "text/x-python",
   "name": "python",
   "nbconvert_exporter": "python",
   "pygments_lexer": "ipython3",
   "version": "3.7.6"
  }
 },
 "nbformat": 4,
 "nbformat_minor": 4
}
