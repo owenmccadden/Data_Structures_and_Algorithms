{
 "cells": [
  {
   "cell_type": "markdown",
   "metadata": {},
   "source": [
    "# Binary Search\n",
    "- repeatedly divide array in half until arriving at search term\n",
    "- eliminates half of values at a time\n",
    "- only works for sorted arrays, however\n",
    "- time complexity: O(logN)\n",
    "- space complexity: O(logN) for recursive implementation, O(1) for iterative implementation"
   ]
  },
  {
   "cell_type": "code",
   "execution_count": 22,
   "metadata": {},
   "outputs": [],
   "source": [
    "def binary_search(_list, val): # this implementation only returns a boolean if the list contains the search value\n",
    "    if len(_list) == 1:\n",
    "        if _list[0] == val:\n",
    "            return True\n",
    "        else:\n",
    "            return False\n",
    "    else:\n",
    "        mid = (len(_list) // 2)\n",
    "        if _list[mid] > val:\n",
    "            return binary_search(_list[:mid], val)\n",
    "        elif _list[mid] < val:\n",
    "            return binary_search(_list[mid:], val)\n",
    "        else:\n",
    "            return True\n",
    "    \n",
    "    "
   ]
  },
  {
   "cell_type": "code",
   "execution_count": 27,
   "metadata": {},
   "outputs": [
    {
     "data": {
      "text/plain": [
       "True"
      ]
     },
     "execution_count": 27,
     "metadata": {},
     "output_type": "execute_result"
    }
   ],
   "source": [
    "binary_search([2,3,4,5,6,7,8,9], 5)"
   ]
  },
  {
   "cell_type": "code",
   "execution_count": 51,
   "metadata": {},
   "outputs": [],
   "source": [
    "def binary_search_index(arr, low, high, n):\n",
    "    if high >= low:\n",
    "        mid = int((high + low) / 2)\n",
    "        if n > arr[mid]:\n",
    "            return binary_search_index(arr, mid+1, high, n)\n",
    "        elif n < arr[mid]:\n",
    "            return binary_search_index(arr, low, mid-1, n)\n",
    "        else:\n",
    "            return mid\n",
    "    else:\n",
    "        return -1"
   ]
  },
  {
   "cell_type": "code",
   "execution_count": 55,
   "metadata": {},
   "outputs": [
    {
     "data": {
      "text/plain": [
       "7"
      ]
     },
     "execution_count": 55,
     "metadata": {},
     "output_type": "execute_result"
    }
   ],
   "source": [
    "binary_search_index([2,3,4,5,6,7,8,9], 0, 8, 9)"
   ]
  },
  {
   "cell_type": "code",
   "execution_count": null,
   "metadata": {},
   "outputs": [],
   "source": [
    "    "
   ]
  }
 ],
 "metadata": {
  "kernelspec": {
   "display_name": "Python 3",
   "language": "python",
   "name": "python3"
  },
  "language_info": {
   "codemirror_mode": {
    "name": "ipython",
    "version": 3
   },
   "file_extension": ".py",
   "mimetype": "text/x-python",
   "name": "python",
   "nbconvert_exporter": "python",
   "pygments_lexer": "ipython3",
   "version": "3.7.6"
  }
 },
 "nbformat": 4,
 "nbformat_minor": 4
}
